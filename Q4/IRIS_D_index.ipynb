{
 "cells": [
  {
   "cell_type": "code",
   "execution_count": 1,
   "id": "296d8bcc",
   "metadata": {},
   "outputs": [],
   "source": [
    "import numpy as np\n",
    "import matplotlib.pyplot as plt\n",
    "import pandas as pd\n",
    "from sklearn.decomposition import PCA\n",
    "from sklearn import svm\n",
    "import seaborn as sns\n",
    "from matplotlib.colors import ListedColormap\n",
    "from sklearn import neighbors\n",
    "import matplotlib.pyplot as plt\n",
    "from pandas.plotting import parallel_coordinates\n",
    "from sklearn.preprocessing import StandardScaler\n",
    "from sklearn import decomposition\n",
    "import scipy\n",
    "from sklearn.manifold import TSNE\n",
    "from pandas.plotting import parallel_coordinates\n",
    "from sklearn import decomposition\n",
    "import numpy as np\n",
    "import matplotlib.pyplot as plt\n",
    "import pandas as pd\n",
    "from sklearn.decomposition import PCA\n",
    "from sklearn import svm\n",
    "import seaborn as sns\n",
    "from matplotlib.colors import ListedColormap\n",
    "from sklearn import neighbors\n",
    "import matplotlib.pyplot as plt\n",
    "from pandas.plotting import parallel_coordinates\n",
    "from sklearn.preprocessing import StandardScaler\n",
    "from sklearn import decomposition\n",
    "import scipy\n",
    "from sklearn.manifold import TSNE\n",
    "import seaborn as sn\n",
    "from sklearn.datasets import make_friedman1\n",
    "from sklearn.decomposition import SparsePCA"
   ]
  },
  {
   "cell_type": "code",
   "execution_count": 15,
   "id": "1caf10d7",
   "metadata": {},
   "outputs": [],
   "source": [
    "from sklearn.datasets import load_iris\n",
    "iris = load_iris()\n",
    "y =  iris.data[:70] \n",
    "x =  iris.data[100:150]\n",
    "data = np.concatenate((x,y), axis=0)\n",
    "label = []\n",
    "y =  iris.target[:70] \n",
    "x =  iris.target[100:150]  \n",
    "label = np.concatenate((x,y), axis=0)"
   ]
  },
  {
   "cell_type": "code",
   "execution_count": 102,
   "id": "8c639b9d",
   "metadata": {},
   "outputs": [],
   "source": [
    "from sklearn.metrics import confusion_matrix\n",
    "from sklearn.metrics import accuracy_score\n",
    "from sklearn.metrics import precision_recall_fscore_support\n",
    "from sklearn.metrics import precision_recall_fscore_support\n",
    "\n",
    "\n",
    "import math\n",
    "\n",
    "def metric(pred,true):\n",
    "    \n",
    "    acc = accuracy_score(true, pred)\n",
    "    y = precision_recall_fscore_support(true, pred)\n",
    "    \n",
    "    sen = np.mean(y[2])\n",
    "\n",
    "    spc = np.mean(y[1])\n",
    "    \n",
    "    cal = math.log2(1+acc) + math.log2(1 + ( (sen+spc) /2 ) ) \n",
    "    \n",
    "    D_index = cal * (-1)\n",
    "    \n",
    "    \n",
    "    return D_index\n"
   ]
  },
  {
   "cell_type": "code",
   "execution_count": 125,
   "id": "bc00960d",
   "metadata": {},
   "outputs": [],
   "source": [
    "from sklearn.metrics import confusion_matrix\n",
    "from sklearn.metrics import accuracy_score\n",
    "from sklearn.metrics import precision_recall_fscore_support\n",
    "from sklearn.metrics import precision_recall_fscore_support\n",
    "\n",
    "\n",
    "import math\n",
    "\n",
    "def metric(predicted_label,true_label):\n",
    "    t_idx=(predicted_label==true_label) # truely predicted\n",
    "    f_idx=np.logical_not(t_idx)  #falsely predicted\n",
    "\n",
    "    p_idx=(true_label==0) #Positive target\n",
    "    n_idx=np.logical_not(p_idx)  #negative target\n",
    "    tp=np.sum(np.logical_and(t_idx,p_idx)) #TP\n",
    "    tn=np.sum(np.logical_and(t_idx,n_idx)) #TN\n",
    "    fp=np.sum(n_idx)-tn\n",
    "    fn=np.sum(p_idx)-tp\n",
    "    tp_fp_tn_fn_list=[]\n",
    "    tp_fp_tn_fn_list.append(tp)\n",
    "    tp_fp_tn_fn_list.append(fp)\n",
    "    tp_fp_tn_fn_list.append(tn)\n",
    "    tp_fp_tn_fn_list.append(fn)\n",
    "    tp_fp_tn_fn_list=np.array(tp_fp_tn_fn_list)\n",
    "    tp=tp_fp_tn_fn_list[0]\n",
    "    fp=tp_fp_tn_fn_list[1]\n",
    "    tn=tp_fp_tn_fn_list[2]\n",
    "    fn=tp_fp_tn_fn_list[3]\n",
    "    with np.errstate(divide='ignore'):\n",
    "        sen=(1.0*tp)/(tp+fn)\n",
    "\n",
    "    with np.errstate(divide='ignore'):\n",
    "        spc=(1.0*tn)/(tn+fp)\n",
    "\n",
    "    with np.errstate(divide='ignore'):\n",
    "        ppr=(1.0*tp)/(tp+fp)\n",
    "\n",
    "    with np.errstate(divide='ignore'):\n",
    "        npr=(1.0*tn)/(tn+fn)\n",
    "\n",
    "    acc=(tp+tn)*1.0/(tp+fp+tn+fn)\n",
    "    \n",
    "    D_index = math.log2(1+acc) + math.log2(1 + ( (sen+spc) /2 ) )\n",
    "    \n",
    "    return D_index\n",
    "\n"
   ]
  },
  {
   "cell_type": "code",
   "execution_count": 79,
   "id": "6a9cec6e",
   "metadata": {},
   "outputs": [
    {
     "name": "stdout",
     "output_type": "stream",
     "text": [
      "[2 2 2 2 2 2 2 2 2 2 2 2 2 2 2 2 2 2 2 2 2 2 2 2 2 2 2 2 2 2 2 2 2 2 2 2 2\n",
      " 2 2 2 2 2 2 2 2 2 2 2 2 2 0 0 0 0 0 0 0 0 0 0 0 0 0 0 0 0 0 0 0 0 0 0 0 0\n",
      " 0 0 0 0 0 0 0 0 0 0 0 0 0 0 0 0 0 0 0 0 0 0 0 0 0 0 1 1 1 1 1 1 1 1 1 1 1\n",
      " 1 1 1 1 1 1 1 1 1]\n"
     ]
    }
   ],
   "source": [
    "print(label)"
   ]
  },
  {
   "cell_type": "code",
   "execution_count": 126,
   "id": "7ba94abf",
   "metadata": {},
   "outputs": [
    {
     "data": {
      "text/plain": [
       "GridSearchCV(estimator=SVC(),\n",
       "             param_grid={'C': [10, 1, 0.1, 0.001],\n",
       "                         'kernel': ['rbf', 'linear', 'poly', 'sigmoid']},\n",
       "             scoring=make_scorer(metric2, greater_is_better=False))"
      ]
     },
     "execution_count": 126,
     "metadata": {},
     "output_type": "execute_result"
    }
   ],
   "source": [
    "from sklearn.model_selection import GridSearchCV\n",
    "from sklearn.svm import SVC\n",
    "\n",
    "from sklearn.metrics import make_scorer\n",
    "my_func = make_scorer(metric2, greater_is_better=False)\n",
    "\n",
    "param = {\n",
    "        'C': [10,1,.1,.001],\n",
    "        'kernel' : ['rbf','linear','poly','sigmoid']\n",
    "        }\n",
    "\n",
    "rs = []\n",
    "import warnings\n",
    "warnings.filterwarnings('ignore')\n",
    "clf = GridSearchCV(SVC(),param,scoring = my_func)\n",
    "clf.fit(data,label)"
   ]
  },
  {
   "cell_type": "code",
   "execution_count": 128,
   "id": "d9fde6da",
   "metadata": {},
   "outputs": [
    {
     "data": {
      "text/plain": [
       "{'C': 10, 'kernel': 'poly'}"
      ]
     },
     "execution_count": 128,
     "metadata": {},
     "output_type": "execute_result"
    }
   ],
   "source": [
    "clf.best_params_"
   ]
  },
  {
   "cell_type": "code",
   "execution_count": 127,
   "id": "589b1cdf",
   "metadata": {},
   "outputs": [
    {
     "data": {
      "text/plain": [
       "2.0"
      ]
     },
     "execution_count": 127,
     "metadata": {},
     "output_type": "execute_result"
    }
   ],
   "source": [
    "clf.best_score_"
   ]
  },
  {
   "cell_type": "code",
   "execution_count": 39,
   "id": "e81bf9ef",
   "metadata": {},
   "outputs": [
    {
     "data": {
      "text/plain": [
       "1.0"
      ]
     },
     "execution_count": 39,
     "metadata": {},
     "output_type": "execute_result"
    }
   ],
   "source": []
  },
  {
   "cell_type": "code",
   "execution_count": null,
   "id": "5e881bf7",
   "metadata": {},
   "outputs": [],
   "source": []
  },
  {
   "cell_type": "code",
   "execution_count": null,
   "id": "6a4cd0a7",
   "metadata": {},
   "outputs": [],
   "source": []
  },
  {
   "cell_type": "code",
   "execution_count": null,
   "id": "29f6831d",
   "metadata": {},
   "outputs": [],
   "source": []
  },
  {
   "cell_type": "code",
   "execution_count": null,
   "id": "d72b7e73",
   "metadata": {},
   "outputs": [],
   "source": []
  },
  {
   "cell_type": "code",
   "execution_count": null,
   "id": "e4bda9c7",
   "metadata": {},
   "outputs": [],
   "source": []
  },
  {
   "cell_type": "code",
   "execution_count": null,
   "id": "0f8ce4d5",
   "metadata": {},
   "outputs": [],
   "source": []
  },
  {
   "cell_type": "code",
   "execution_count": null,
   "id": "70f76139",
   "metadata": {},
   "outputs": [],
   "source": []
  },
  {
   "cell_type": "code",
   "execution_count": null,
   "id": "6e9a95bb",
   "metadata": {},
   "outputs": [],
   "source": []
  }
 ],
 "metadata": {
  "kernelspec": {
   "display_name": "Python 3 (ipykernel)",
   "language": "python",
   "name": "python3"
  },
  "language_info": {
   "codemirror_mode": {
    "name": "ipython",
    "version": 3
   },
   "file_extension": ".py",
   "mimetype": "text/x-python",
   "name": "python",
   "nbconvert_exporter": "python",
   "pygments_lexer": "ipython3",
   "version": "3.9.7"
  }
 },
 "nbformat": 4,
 "nbformat_minor": 5
}
