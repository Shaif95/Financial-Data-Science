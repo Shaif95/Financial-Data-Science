{
 "cells": [
  {
   "cell_type": "code",
   "execution_count": 1,
   "id": "5772b149",
   "metadata": {},
   "outputs": [],
   "source": [
    "import numpy as np\n",
    "import matplotlib.pyplot as plt\n",
    "import pandas as pd\n",
    "from sklearn.decomposition import PCA\n",
    "from sklearn import svm\n",
    "import seaborn as sns\n",
    "from matplotlib.colors import ListedColormap\n",
    "from sklearn import neighbors\n",
    "import pandas_datareader.data as web\n",
    "import matplotlib.pyplot as plt\n",
    "from pandas.plotting import parallel_coordinates\n",
    "from sklearn.preprocessing import StandardScaler\n",
    "from sklearn import decomposition\n",
    "import scipy\n",
    "from sklearn.manifold import TSNE\n",
    "import seaborn as sn\n",
    "from sklearn.datasets import make_friedman1\n",
    "from sklearn.decomposition import SparsePCA\n",
    "from sklearn.metrics.pairwise import euclidean_distances\n",
    "from sklearn.neighbors import NearestNeighbors"
   ]
  },
  {
   "cell_type": "code",
   "execution_count": null,
   "id": "1e83ae95",
   "metadata": {},
   "outputs": [],
   "source": []
  },
  {
   "cell_type": "code",
   "execution_count": 132,
   "id": "38dd2179",
   "metadata": {},
   "outputs": [],
   "source": [
    "#dataread\n",
    "\n",
    "VC_df = pd.read_csv('Q3/vehicles.csv')\n",
    "#dataread\n",
    "\n",
    "AAPL_df = pd.read_csv('Q3/AAPL_n.csv')\n",
    "AAPL_df = AAPL_df.drop(['Date'], axis = 1)\n",
    "OTM_df = pd.read_csv('Q3/OptionDataOTM_data.csv')"
   ]
  },
  {
   "cell_type": "code",
   "execution_count": 119,
   "id": "225c31c5",
   "metadata": {},
   "outputs": [],
   "source": [
    "VC_df = AAPL_df"
   ]
  },
  {
   "cell_type": "code",
   "execution_count": 134,
   "id": "854c4088",
   "metadata": {},
   "outputs": [],
   "source": [
    "from sklearn.preprocessing import StandardScaler\n",
    "from sklearn.decomposition import PCA\n",
    "\n",
    "def doPCA(data):\n",
    "  #data = data.drop(['Date'], axis = 1)\n",
    "  norm = StandardScaler().fit_transform(data)\n",
    "  pca = PCA(n_components=3)\n",
    "  newdata = pca.fit_transform(norm)\n",
    "  return newdata,pca\n",
    "\n",
    "npca, pc = doPCA(VC_df)"
   ]
  },
  {
   "cell_type": "code",
   "execution_count": 135,
   "id": "53a75cac",
   "metadata": {},
   "outputs": [],
   "source": [
    "from sklearn.preprocessing import StandardScaler\n",
    "from sklearn.decomposition import PCA\n",
    "\n",
    "def doPCA1(data):\n",
    "\n",
    "  norm = StandardScaler().fit_transform(data)\n",
    "  pca = PCA()\n",
    "  newdata = pca.fit_transform(norm)\n",
    "  return newdata,pca\n",
    "\n",
    "npca1, pc1 = doPCA1(VC_df)"
   ]
  },
  {
   "cell_type": "code",
   "execution_count": 136,
   "id": "d5962191",
   "metadata": {},
   "outputs": [],
   "source": [
    "def doTSNE(data,k):\n",
    "    \n",
    "    l = data.index\n",
    "    \n",
    "    s_data = StandardScaler().fit_transform(data)\n",
    "\n",
    "    model = TSNE(n_components = 3 , perplexity=k, random_state = 0)\n",
    "\n",
    "    tsne_data = model.fit_transform(s_data)\n",
    "\n",
    "    \n",
    "    return tsne_data\n",
    "\n",
    "ntsne = doTSNE(VC_df,10)\n",
    "data = StandardScaler().fit_transform ( VC_df.to_numpy()  )"
   ]
  },
  {
   "cell_type": "code",
   "execution_count": 137,
   "id": "d3a9c81b",
   "metadata": {},
   "outputs": [],
   "source": [
    "def doTSNE1(data,k):\n",
    "\n",
    "    l = data.index\n",
    "    s_data = StandardScaler().fit_transform(data)\n",
    "\n",
    "    model = TSNE( perplexity=k, random_state = 0)\n",
    "\n",
    "    tsne_data = model.fit_transform(s_data)\n",
    "\n",
    "    #tsne_data = np.vstack((tsne_data.T, l)).T\n",
    "    \n",
    "    return tsne_data\n",
    "\n",
    "ntsne1 = doTSNE1(VC_df,30)"
   ]
  },
  {
   "cell_type": "code",
   "execution_count": 16,
   "id": "0d37e94e",
   "metadata": {},
   "outputs": [
    {
     "data": {
      "text/plain": [
       "array([-0.36273813, -0.42412032, -0.27927483, -0.23953507,  0.        ,\n",
       "       -0.50242132, -0.56640896,  0.5342275 ,  0.47954631,  0.36782701,\n",
       "        0.16320723,  0.15042407, -0.44004349, -0.57980621,  0.49290474,\n",
       "        1.10042148,  0.91058658,  0.21507724])"
      ]
     },
     "execution_count": 16,
     "metadata": {},
     "output_type": "execute_result"
    }
   ],
   "source": [
    "data[0]"
   ]
  },
  {
   "cell_type": "code",
   "execution_count": null,
   "id": "7001868c",
   "metadata": {},
   "outputs": [],
   "source": [
    "def get10NN(X):\n",
    "    \n",
    "    nbrs = NearestNeighbors(n_neighbors=10, algorithm='ball_tree').fit(X)\n",
    "    distances, indices = nbrs.kneighbors(X)\n",
    "    return indices\n",
    "\n",
    "ind = get10NN(data)\n",
    "ind"
   ]
  },
  {
   "cell_type": "code",
   "execution_count": 121,
   "id": "e30614a3",
   "metadata": {},
   "outputs": [
    {
     "data": {
      "text/plain": [
       "array([[   0,  390, 2730, ..., 2687, 5460, 4680],\n",
       "       [   1,    6,   20, ...,  387,   11,  386],\n",
       "       [   2,   20,   29, ...,  387,    1,    4],\n",
       "       ...,\n",
       "       [5847, 5835, 5844, ..., 5503, 5467, 5842],\n",
       "       [5848, 5846, 5543, ..., 5507, 5074, 5490],\n",
       "       [5849, 3119, 5845, ..., 5460, 3577, 1949]], dtype=int64)"
      ]
     },
     "execution_count": 121,
     "metadata": {},
     "output_type": "execute_result"
    }
   ],
   "source": [
    "def get10NN(X):\n",
    "    \n",
    "    nbrs = NearestNeighbors(n_neighbors=10, algorithm='ball_tree').fit(X)\n",
    "    distances, indices = nbrs.kneighbors(X)\n",
    "    return indices\n",
    "\n",
    "ind = get10NN(data)\n",
    "ind"
   ]
  },
  {
   "cell_type": "code",
   "execution_count": 122,
   "id": "bfb298a6",
   "metadata": {},
   "outputs": [
    {
     "data": {
      "text/plain": [
       "5850"
      ]
     },
     "execution_count": 122,
     "metadata": {},
     "output_type": "execute_result"
    }
   ],
   "source": [
    "len(ind)"
   ]
  },
  {
   "cell_type": "code",
   "execution_count": 123,
   "id": "9870885e",
   "metadata": {},
   "outputs": [
    {
     "data": {
      "text/plain": [
       "array([[   0,  389,  390, ..., 1949, 3509,  429],\n",
       "       [   1,    6,   20, ...,    2,  387,   11],\n",
       "       [   2,   29,  226, ...,    5,    6,  386],\n",
       "       ...,\n",
       "       [5847, 1202, 1218, ..., 1215, 5844, 1212],\n",
       "       [5848, 5846, 1201, ..., 1198, 1213, 4835],\n",
       "       [5849, 1398, 5460, ..., 4680, 3119, 2730]], dtype=int64)"
      ]
     },
     "execution_count": 123,
     "metadata": {},
     "output_type": "execute_result"
    }
   ],
   "source": [
    "def get10NN(X):\n",
    "    \n",
    "    nbrs = NearestNeighbors(n_neighbors=10, algorithm='ball_tree').fit(X)\n",
    "    distances, indices = nbrs.kneighbors(X)\n",
    "    return indices\n",
    "\n",
    "pcaind = get10NN(npca)\n",
    "pcaind"
   ]
  },
  {
   "cell_type": "code",
   "execution_count": 124,
   "id": "1d28da4c",
   "metadata": {},
   "outputs": [
    {
     "data": {
      "text/plain": [
       "array([[   0,  390, 2730, ..., 5460, 4290, 5070],\n",
       "       [   1,    6,   20, ...,  363,  297,   29],\n",
       "       [   2,   20,    6, ...,   29,   21,  363],\n",
       "       ...,\n",
       "       [5847, 5844, 5835, ..., 5503, 5836, 5492],\n",
       "       [5848, 5846, 5507, ..., 4835, 5055, 4738],\n",
       "       [5849, 1169, 3119, ..., 1949, 2339, 3577]], dtype=int64)"
      ]
     },
     "execution_count": 124,
     "metadata": {},
     "output_type": "execute_result"
    }
   ],
   "source": [
    "def get10NN(X):\n",
    "    \n",
    "    nbrs = NearestNeighbors(n_neighbors=10, algorithm='ball_tree').fit(X)\n",
    "    distances, indices = nbrs.kneighbors(X)\n",
    "    return indices\n",
    "\n",
    "tsneind = get10NN(ntsne)\n",
    "tsneind"
   ]
  },
  {
   "cell_type": "code",
   "execution_count": 125,
   "id": "2163510a",
   "metadata": {},
   "outputs": [
    {
     "data": {
      "text/plain": [
       "24.102564102564102"
      ]
     },
     "execution_count": 125,
     "metadata": {},
     "output_type": "execute_result"
    }
   ],
   "source": [
    "def comp(x,y):\n",
    "    s = 0\n",
    "    \n",
    "    for i in range(0,len(x)):\n",
    "        c = np.count_nonzero(x[i]==y[i])\n",
    "        s = s+c\n",
    "        \n",
    "    return s\n",
    "    \n",
    "s = comp(ind,pcaind)\n",
    "per = (s/(5850*10))*100\n",
    "per"
   ]
  },
  {
   "cell_type": "code",
   "execution_count": null,
   "id": "9f03cc60",
   "metadata": {},
   "outputs": [],
   "source": []
  },
  {
   "cell_type": "code",
   "execution_count": 126,
   "id": "4e38945e",
   "metadata": {},
   "outputs": [
    {
     "data": {
      "text/plain": [
       "32.72991452991453"
      ]
     },
     "execution_count": 126,
     "metadata": {},
     "output_type": "execute_result"
    }
   ],
   "source": [
    "def comp(x,y):\n",
    "    s = 0\n",
    "    \n",
    "    for i in range(0,len(x)):\n",
    "        c = np.count_nonzero(x[i]==y[i])\n",
    "        s = s+c\n",
    "        \n",
    "    return s\n",
    "    \n",
    "s = comp(ind,tsneind)\n",
    "per = (s/(5850*10))*100\n",
    "per"
   ]
  },
  {
   "cell_type": "code",
   "execution_count": 127,
   "id": "fbbbfb08",
   "metadata": {},
   "outputs": [
    {
     "data": {
      "text/plain": [
       "70.76923076923077"
      ]
     },
     "execution_count": 127,
     "metadata": {},
     "output_type": "execute_result"
    }
   ],
   "source": [
    "def comp(x,y):\n",
    "    s = 0\n",
    "    \n",
    "    for i in range(0,len(x)):\n",
    "        c = len(set(x[i]) & set(y[i]) )\n",
    "        s = s+c\n",
    "        \n",
    "    return s\n",
    "    \n",
    "s = comp(ind,pcaind)\n",
    "per = (s/(5850*10))*100\n",
    "per"
   ]
  },
  {
   "cell_type": "code",
   "execution_count": null,
   "id": "d5c4156e",
   "metadata": {},
   "outputs": [],
   "source": [
    "per = (s/(387*10))*100\n",
    "per"
   ]
  },
  {
   "cell_type": "code",
   "execution_count": 128,
   "id": "d127f5ee",
   "metadata": {},
   "outputs": [
    {
     "data": {
      "text/plain": [
       "77.82564102564102"
      ]
     },
     "execution_count": 128,
     "metadata": {},
     "output_type": "execute_result"
    }
   ],
   "source": [
    "def comp(x,y):\n",
    "    s = 0\n",
    "    \n",
    "    for i in range(0,len(x)):\n",
    "        c = len(set(x[i]) & set(y[i]) )\n",
    "        s = s+c\n",
    "        \n",
    "    return s\n",
    "    \n",
    "s = comp(ind,tsneind)\n",
    "per = (s/(5850*10))*100\n",
    "per"
   ]
  },
  {
   "cell_type": "code",
   "execution_count": null,
   "id": "a2f03433",
   "metadata": {},
   "outputs": [],
   "source": []
  },
  {
   "cell_type": "code",
   "execution_count": null,
   "id": "14dca912",
   "metadata": {},
   "outputs": [],
   "source": [
    "\n",
    "euclidean_distances(data[0].reshape(1, -1),data[100].reshape(1, -1))"
   ]
  },
  {
   "cell_type": "code",
   "execution_count": 148,
   "id": "c684c33f",
   "metadata": {},
   "outputs": [
    {
     "data": {
      "text/plain": [
       "array([[5.38484959]])"
      ]
     },
     "execution_count": 148,
     "metadata": {},
     "output_type": "execute_result"
    }
   ],
   "source": [
    "def comp(x):\n",
    "    s = 0\n",
    "    \n",
    "    for i in range(0,len(x)):\n",
    "        for j in range(0,len(x)):\n",
    "            c = euclidean_distances(x[i].reshape(1, -1),x[j].reshape(1, -1))\n",
    "            s = s+c\n",
    "        \n",
    "    return s/(len(x)*len(x))\n",
    "    \n",
    "s = comp(npca1)\n",
    "s"
   ]
  },
  {
   "cell_type": "code",
   "execution_count": 138,
   "id": "bced727b",
   "metadata": {},
   "outputs": [
    {
     "data": {
      "text/plain": [
       "array([[2083.93679122]])"
      ]
     },
     "execution_count": 138,
     "metadata": {},
     "output_type": "execute_result"
    }
   ],
   "source": [
    "def comp(x):\n",
    "    s = 0\n",
    "    \n",
    "    for i in range(0,len(x)):\n",
    "        for j in range(0,len(x)):\n",
    "            c = euclidean_distances(data[i].reshape(1, -1),data[j].reshape(1, -1))\n",
    "            s = s+c\n",
    "        \n",
    "    return s/len(x)\n",
    "    \n",
    "s = comp(npca)\n",
    "s"
   ]
  },
  {
   "cell_type": "code",
   "execution_count": null,
   "id": "1034dbc5",
   "metadata": {},
   "outputs": [],
   "source": []
  },
  {
   "cell_type": "code",
   "execution_count": null,
   "id": "b40d8390",
   "metadata": {},
   "outputs": [],
   "source": []
  },
  {
   "cell_type": "code",
   "execution_count": null,
   "id": "d5278784",
   "metadata": {},
   "outputs": [],
   "source": []
  }
 ],
 "metadata": {
  "kernelspec": {
   "display_name": "Python 3 (ipykernel)",
   "language": "python",
   "name": "python3"
  },
  "language_info": {
   "codemirror_mode": {
    "name": "ipython",
    "version": 3
   },
   "file_extension": ".py",
   "mimetype": "text/x-python",
   "name": "python",
   "nbconvert_exporter": "python",
   "pygments_lexer": "ipython3",
   "version": "3.9.7"
  }
 },
 "nbformat": 4,
 "nbformat_minor": 5
}
