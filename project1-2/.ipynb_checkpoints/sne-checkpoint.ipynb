{
 "cells": [
  {
   "cell_type": "code",
   "execution_count": 1,
   "id": "a05abf39",
   "metadata": {},
   "outputs": [],
   "source": [
    "\n",
    "import matplotlib.pyplot as plt\n",
    "import numpy as np\n",
    "import pandas as pd\n",
    "import numpy as np\n",
    "import matplotlib.pyplot as plt\n",
    "import pandas as pd\n",
    "from sklearn.decomposition import PCA\n",
    "from sklearn import svm\n",
    "import seaborn as sns\n",
    "from matplotlib.colors import ListedColormap\n",
    "from sklearn import neighbors\n",
    "import pandas_datareader.data as web\n",
    "import matplotlib.pyplot as plt\n",
    "from pandas.plotting import parallel_coordinates\n",
    "from sklearn.preprocessing import StandardScaler\n",
    "from sklearn import decomposition\n",
    "import scipy\n",
    "from sklearn.manifold import TSNE\n",
    "from pandas.plotting import parallel_coordinates\n",
    "from sklearn import decomposition\n",
    "import numpy as np\n",
    "import matplotlib.pyplot as plt\n",
    "import pandas as pd\n",
    "from sklearn.decomposition import PCA\n",
    "from sklearn import svm\n",
    "import seaborn as sns\n",
    "from matplotlib.colors import ListedColormap\n",
    "from sklearn import neighbors\n",
    "import pandas_datareader.data as web\n",
    "import matplotlib.pyplot as plt\n",
    "from pandas.plotting import parallel_coordinates\n",
    "from sklearn.preprocessing import StandardScaler\n",
    "from sklearn import decomposition\n",
    "import scipy\n",
    "from sklearn.manifold import TSNE\n",
    "import seaborn as sn\n",
    "from sklearn.datasets import make_friedman1\n",
    "from sklearn.decomposition import SparsePCA"
   ]
  },
  {
   "cell_type": "code",
   "execution_count": null,
   "id": "6cf54fa3",
   "metadata": {},
   "outputs": [],
   "source": []
  },
  {
   "cell_type": "code",
   "execution_count": null,
   "id": "e8e5000f",
   "metadata": {},
   "outputs": [],
   "source": [
    "#  Use Github Code ::  https://github.com/beaupletga/t-SNE"
   ]
  },
  {
   "cell_type": "code",
   "execution_count": 78,
   "id": "796da8cf",
   "metadata": {},
   "outputs": [],
   "source": [
    "#dataread\n",
    "\n",
    "AAPL_df = pd.read_csv('project1/AAPL_n.csv')\n",
    "BAC_df = pd.read_csv('project1/BAC_n.csv')\n",
    "WMT_df = pd.read_csv('project1/WMT_n.csv')\n",
    "AEO_df = pd.read_csv('project1/AEO_n.csv')\n",
    "ETH_df = pd.read_csv('project1/ETHUSD-5m-data.csv')"
   ]
  },
  {
   "cell_type": "code",
   "execution_count": null,
   "id": "f6539bc1",
   "metadata": {},
   "outputs": [],
   "source": []
  },
  {
   "cell_type": "code",
   "execution_count": 3,
   "id": "1a74095d",
   "metadata": {},
   "outputs": [],
   "source": [
    "from sklearn.cluster import DBSCAN\n",
    "from sklearn import metrics\n",
    "from sklearn.datasets import make_blobs\n",
    "from sklearn.preprocessing import StandardScaler\n",
    "import numpy as np \n",
    "from sklearn.cluster import DBSCAN\n",
    "from sklearn.preprocessing import StandardScaler\n",
    "import matplotlib\n",
    "import matplotlib.pyplot as plt\n",
    "import matplotlib\n",
    "from PIL import Image\n",
    "import matplotlib.pyplot as plt\n",
    "#print (matplotlib.__version__)\n",
    "from pylab import rcParams"
   ]
  },
  {
   "cell_type": "code",
   "execution_count": 4,
   "id": "0ccd7d4e",
   "metadata": {},
   "outputs": [],
   "source": [
    "import numpy as np\n",
    "import matplotlib.pyplot as plt\n",
    "from mpl_toolkits.mplot3d import Axes3D\n",
    "import seaborn as sns"
   ]
  },
  {
   "cell_type": "code",
   "execution_count": 5,
   "id": "4f533068",
   "metadata": {},
   "outputs": [],
   "source": [
    "\n",
    "PERPLEXITY=5\n",
    "g_kernel=1\n",
    "EPOCHS=2000\n",
    "LR=200\n",
    "MOMENTUM=0.99"
   ]
  },
  {
   "cell_type": "code",
   "execution_count": 6,
   "id": "aca4f223",
   "metadata": {},
   "outputs": [],
   "source": [
    "def getKey(item):\n",
    "    return item[1]\n",
    "\n",
    "def k_neighbours(x,index,p_or_q='p'):\n",
    "    x1=x[index]\n",
    "    list_k_neighbours=[]\n",
    "    for i in range(x.shape[0]):\n",
    "        if i!=index:\n",
    "            xi=x[i]\n",
    "            if p_or_q=='p':\n",
    "                distance=np.exp(-np.linalg.norm(x1-xi)**2/(2*g_kernel**2))\n",
    "            else:\n",
    "                distance=(1+np.linalg.norm(x1-xi)**2)**-1\n",
    "            list_k_neighbours.append([i,distance])\n",
    "    \n",
    "    list_k_neighbours=sorted(list_k_neighbours,key=getKey)\n",
    "    return list_k_neighbours[:PERPLEXITY]"
   ]
  },
  {
   "cell_type": "code",
   "execution_count": 7,
   "id": "66eb3a06",
   "metadata": {},
   "outputs": [],
   "source": [
    "#compute the similarity pij between two xi,xj in the original space\n",
    "#divide the distance between xi,xj by the sum of the distances of the k_neightbours where k is the complexity\n",
    "def compute_pij(x,index,x2_in):\n",
    "    x1=x[index]\n",
    "    x2=x[x2_in]\n",
    "    # num=(1+np.linalg.norm(x1-x2)**2)**(-1)/(2*g_kernel**2))\n",
    "    num=np.exp(-np.linalg.norm(x1-x2)**2)/(2*g_kernel**2)\n",
    "    denom=0\n",
    "    list_k_neighbours=k_neighbours(x,x1_index,'p')\n",
    "    for i in list_k_neighbours:\n",
    "        denom+=i[1]\n",
    "    return num/denom"
   ]
  },
  {
   "cell_type": "code",
   "execution_count": null,
   "id": "d8bc3326",
   "metadata": {},
   "outputs": [],
   "source": []
  },
  {
   "cell_type": "code",
   "execution_count": 8,
   "id": "dfdaa2b0",
   "metadata": {},
   "outputs": [],
   "source": [
    "#compute the table p of the xij in the original space\n",
    "def compute_p(x):\n",
    "    table=np.zeros((x.shape[0],x.shape[0]))\n",
    "    for i in range(x.shape[0]):\n",
    "        for j in range(x.shape[0]):\n",
    "            if i!=j:\n",
    "                pij=compute_pij(x,i,j)\n",
    "                pji=compute_pij(x,j,i)\n",
    "                table[i,j]=(pij+pji)/(2*x.shape[0])\n",
    "                # table[i,j]=pij\n",
    "    return table"
   ]
  },
  {
   "cell_type": "code",
   "execution_count": null,
   "id": "72eec271",
   "metadata": {},
   "outputs": [],
   "source": []
  },
  {
   "cell_type": "code",
   "execution_count": 9,
   "id": "bd2aa1f2",
   "metadata": {},
   "outputs": [],
   "source": [
    "#compute the similarity qij between two yi,yj in the new space\n",
    "#divide the distance between yi,yj by the sum of the distances of the k_neightbours where k is the complexity\n",
    "def compute_qij(y,y1_index,y2_index):\n",
    "    y1=y[y1_index]\n",
    "    y2=y[y2_index]\n",
    "    num=(1+np.linalg.norm(y1-y2)**2)**(-1)\n",
    "    denom=0\n",
    "    for i in k_neighbours(y,y1_index,'q'):\n",
    "        denom+=i[1]\n",
    "    return num/denom\n"
   ]
  },
  {
   "cell_type": "code",
   "execution_count": null,
   "id": "d714e2ad",
   "metadata": {},
   "outputs": [],
   "source": []
  },
  {
   "cell_type": "code",
   "execution_count": 10,
   "id": "6e8145ef",
   "metadata": {},
   "outputs": [],
   "source": [
    "#compute the table q of the yij in the new space\n",
    "def compute_q(y):\n",
    "    table=np.zeros((y.shape[0],y.shape[0]))\n",
    "    for i in range(y.shape[0]):\n",
    "        for j in range(y.shape[0]):\n",
    "            if i!=j:\n",
    "                qij=compute_qij(y,i,j)\n",
    "                table[i,j]=qij\n",
    "    return table\n"
   ]
  },
  {
   "cell_type": "code",
   "execution_count": null,
   "id": "793a7db6",
   "metadata": {},
   "outputs": [],
   "source": []
  },
  {
   "cell_type": "code",
   "execution_count": 11,
   "id": "c8001596",
   "metadata": {},
   "outputs": [],
   "source": [
    "#compute the erros between the 2 distributions using the KL-divergence\n",
    "def kl_divergence(p,q):\n",
    "    total=0\n",
    "    for i in range(p.shape[0]):\n",
    "        for j in range(q.shape[0]):\n",
    "            if q[i,j]!=0 and p[i,j]!=0:\n",
    "                total+=p[i,j]*np.log(p[i,j]/q[i,j])\n",
    "    return total\n"
   ]
  },
  {
   "cell_type": "code",
   "execution_count": null,
   "id": "6b4e7e4f",
   "metadata": {},
   "outputs": [],
   "source": []
  },
  {
   "cell_type": "code",
   "execution_count": 12,
   "id": "ae62cf15",
   "metadata": {},
   "outputs": [],
   "source": [
    "#apply gradient descent to lower the KL-divergence\n",
    "#added momentum increase the speed\n",
    "def gradient_descent(p,q,y):\n",
    "    history=np.zeros((p.shape[0],2,y.shape[1]))\n",
    "    for iter in range(EPOCHS):\n",
    "        for i in range(y.shape[0]):\n",
    "            sum_value=0\n",
    "            for j in range(y.shape[0]):\n",
    "                sum_value+=((y[i]-y[j])*(p[i,j]-q[i,j])*(1+np.linalg.norm(y[i]-y[j]**2))**-1)\n",
    "            y[i]-=4*LR*sum_value+MOMENTUM*(history[i,1]-history[i,0])\n",
    "            history[i,0]=history[i,1]\n",
    "            history[i,1]=y[i]\n",
    "        if iter%100==0:\n",
    "            q=compute_q(y)\n",
    "            print(kl_divergence(p,q)) \n",
    "    y-=np.mean(y)\n",
    "    y/=np.std(y)\n",
    "    return y"
   ]
  },
  {
   "cell_type": "code",
   "execution_count": 73,
   "id": "b43d2398",
   "metadata": {},
   "outputs": [],
   "source": [
    "AAPL_df = AEO_df"
   ]
  },
  {
   "cell_type": "code",
   "execution_count": 82,
   "id": "c0c76f5f",
   "metadata": {},
   "outputs": [
    {
     "data": {
      "text/plain": [
       "80"
      ]
     },
     "execution_count": 82,
     "metadata": {},
     "output_type": "execute_result"
    }
   ],
   "source": [
    "data = AAPL_df[200:360]\n",
    "data = data.drop(['Date'], axis = 1)\n",
    "data = data.round()\n",
    "data = data[[\"marketClose\",\"marketHigh\",\"marketAverage\"]]\n",
    "data = data.dropna()\n",
    "x = np.array(data[:80])\n",
    "y = np.array(data[80:])\n",
    "len(y)"
   ]
  },
  {
   "cell_type": "code",
   "execution_count": 68,
   "id": "213b0fb6",
   "metadata": {},
   "outputs": [
    {
     "data": {
      "text/plain": [
       "10"
      ]
     },
     "execution_count": 68,
     "metadata": {},
     "output_type": "execute_result"
    }
   ],
   "source": []
  },
  {
   "cell_type": "code",
   "execution_count": null,
   "id": "f744359f",
   "metadata": {},
   "outputs": [],
   "source": []
  },
  {
   "cell_type": "code",
   "execution_count": 88,
   "id": "8c008f67",
   "metadata": {},
   "outputs": [
    {
     "name": "stdout",
     "output_type": "stream",
     "text": [
      "-11.566561168287963\n",
      "-17.020056071715373\n",
      "-11.17545444950591\n",
      "-10.908955386980317\n",
      "-10.901329051373011\n",
      "-10.896073799863618\n",
      "-10.89207121712191\n",
      "-10.89025687234508\n",
      "-10.88918401286737\n",
      "-10.888490014498048\n",
      "-10.888260587447135\n",
      "-10.888343491096236\n",
      "-10.888620797636559\n",
      "-10.889066601118591\n",
      "-10.889905837674874\n",
      "-10.891202772931942\n",
      "-10.892577158513959\n",
      "-10.894021652307348\n",
      "-10.8956767315038\n",
      "-10.897424919368092\n"
     ]
    },
    {
     "data": {
      "image/png": "[encoded data removed]",
      "text/plain": [
       "<Figure size 432x288 with 1 Axes>"
      ]
     },
     "metadata": {
      "needs_background": "light"
     },
     "output_type": "display_data"
    }
   ],
   "source": [
    "#I choose a dataset with two well separated part\n",
    "x=np.random.rand(10,3)\n",
    "x=np.tile(x,(2,1))\n",
    "x[:10]*=0.1\n",
    "color=['blue']*10+['red']*10\n",
    "table_p=compute_p(x)\n",
    "\n",
    "#Probably not the right way to initialize the new space y\n",
    "y=x.dot(np.random.rand(x.shape[1],2))\n",
    "y-=np.mean(y)\n",
    "y/=np.std(y)\n",
    "table_q=compute_q(y)\n",
    "y=gradient_descent(table_p,table_q,y)\n",
    "\n",
    "plt.scatter(y[:,0],y[:,1],color=color)\n",
    "plt.show()"
   ]
  },
  {
   "cell_type": "code",
   "execution_count": null,
   "id": "020ad888",
   "metadata": {},
   "outputs": [],
   "source": []
  },
  {
   "cell_type": "code",
   "execution_count": 14,
   "id": "d04734d1",
   "metadata": {},
   "outputs": [
    {
     "data": {
      "image/png": "[encoded data removed]",
      "text/plain": [
       "<Figure size 432x288 with 1 Axes>"
      ]
     },
     "metadata": {
      "needs_background": "light"
     },
     "output_type": "display_data"
    },
    {
     "name": "stdout",
     "output_type": "stream",
     "text": [
      "-1.1577163737345948\n"
     ]
    },
    {
     "data": {
      "image/png": "[encoded data removed]",
      "text/plain": [
       "<Figure size 432x288 with 1 Axes>"
      ]
     },
     "metadata": {
      "needs_background": "light"
     },
     "output_type": "display_data"
    }
   ],
   "source": [
    "main()"
   ]
  },
  {
   "cell_type": "code",
   "execution_count": null,
   "id": "399709a6",
   "metadata": {},
   "outputs": [],
   "source": []
  },
  {
   "cell_type": "code",
   "execution_count": null,
   "id": "e56577c3",
   "metadata": {},
   "outputs": [],
   "source": []
  },
  {
   "cell_type": "code",
   "execution_count": null,
   "id": "0dff76e7",
   "metadata": {},
   "outputs": [],
   "source": []
  }
 ],
 "metadata": {
  "kernelspec": {
   "display_name": "Python 3",
   "language": "python",
   "name": "python3"
  },
  "language_info": {
   "codemirror_mode": {
    "name": "ipython",
    "version": 3
   },
   "file_extension": ".py",
   "mimetype": "text/x-python",
   "name": "python",
   "nbconvert_exporter": "python",
   "pygments_lexer": "ipython3",
   "version": "3.8.8"
  }
 },
 "nbformat": 4,
 "nbformat_minor": 5
}
