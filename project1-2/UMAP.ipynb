{
 "cells": [
  {
   "cell_type": "code",
   "execution_count": 1,
   "id": "129dbd98",
   "metadata": {},
   "outputs": [],
   "source": [
    "\n",
    "import matplotlib.pyplot as plt\n",
    "import numpy as np\n",
    "import pandas as pd\n",
    "import numpy as np\n",
    "import matplotlib.pyplot as plt\n",
    "import pandas as pd\n",
    "from sklearn.decomposition import PCA\n",
    "from sklearn import svm\n",
    "import seaborn as sns\n",
    "from matplotlib.colors import ListedColormap\n",
    "from sklearn import neighbors\n",
    "import pandas_datareader.data as web\n",
    "import matplotlib.pyplot as plt\n",
    "from pandas.plotting import parallel_coordinates\n",
    "from sklearn.preprocessing import StandardScaler\n",
    "from sklearn import decomposition\n",
    "import scipy\n",
    "from sklearn.manifold import TSNE\n",
    "from pandas.plotting import parallel_coordinates\n",
    "from sklearn import decomposition\n",
    "import numpy as np\n",
    "import matplotlib.pyplot as plt\n",
    "from umap import UMAP\n",
    "import pandas as pd\n",
    "from sklearn.decomposition import PCA\n",
    "from sklearn import svm\n",
    "import seaborn as sns\n",
    "from matplotlib.colors import ListedColormap\n",
    "from sklearn import neighbors\n",
    "import pandas_datareader.data as web\n",
    "import matplotlib.pyplot as plt\n",
    "from pandas.plotting import parallel_coordinates\n",
    "from sklearn.preprocessing import StandardScaler\n",
    "from sklearn import decomposition\n",
    "import scipy\n",
    "from sklearn.manifold import TSNE\n",
    "import seaborn as sn\n",
    "from sklearn.datasets import make_friedman1\n",
    "from sklearn.decomposition import SparsePCA\n",
    "from umap import UMAP"
   ]
  },
  {
   "cell_type": "code",
   "execution_count": 2,
   "id": "e91cb651",
   "metadata": {},
   "outputs": [],
   "source": [
    "#dataread\n",
    "\n",
    "AAPL_df = pd.read_csv('project1/AAPL_n.csv')\n",
    "BAC_df = pd.read_csv('project1/BAC_n.csv')\n",
    "WMT_df = pd.read_csv('project1/WMT_n.csv')\n",
    "AEO_df = pd.read_csv('project1/AEO_n.csv')\n",
    "ETH_df = pd.read_csv('project1/ETHUSD-5m-data.csv')"
   ]
  },
  {
   "cell_type": "code",
   "execution_count": 23,
   "id": "03f6b44f",
   "metadata": {},
   "outputs": [],
   "source": [
    "\n",
    "data = BAC_df\n",
    "data = data.drop(['Date'], axis = 1)"
   ]
  },
  {
   "cell_type": "code",
   "execution_count": 24,
   "id": "28bbbd01",
   "metadata": {},
   "outputs": [
    {
     "name": "stdout",
     "output_type": "stream",
     "text": [
      "UMAP(min_dist=0.3, n_neighbors=35, random_state=420, verbose=True)\n",
      "Sun Mar 20 23:15:25 2022 Construct fuzzy simplicial set\n",
      "Sun Mar 20 23:15:25 2022 Finding Nearest Neighbors\n",
      "Sun Mar 20 23:15:25 2022 Building RP forest with 9 trees\n",
      "Sun Mar 20 23:15:25 2022 NN descent for 13 iterations\n",
      "\t 1  /  13\n",
      "\t 2  /  13\n",
      "\tStopping threshold met -- exiting after 2 iterations\n",
      "Sun Mar 20 23:15:26 2022 Finished Nearest Neighbor Search\n",
      "Sun Mar 20 23:15:26 2022 Construct embedding\n"
     ]
    },
    {
     "data": {
      "application/vnd.jupyter.widget-view+json": {
       "model_id": "465f5e95f90141d4b24c81ca6c58390e",
       "version_major": 2,
       "version_minor": 0
      },
      "text/plain": [
       "Epochs completed:   0%|            0/500 [00:00]"
      ]
     },
     "metadata": {},
     "output_type": "display_data"
    },
    {
     "name": "stdout",
     "output_type": "stream",
     "text": [
      "Sun Mar 20 23:15:49 2022 Finished embedding\n"
     ]
    }
   ],
   "source": [
    "ump = UMAP(n_neighbors=35, min_dist=0.3, random_state=420, verbose=True)\n",
    "Xumap = ump.fit_transform(data,data.marketClose.round())"
   ]
  },
  {
   "cell_type": "code",
   "execution_count": 25,
   "id": "526389a1",
   "metadata": {},
   "outputs": [],
   "source": [
    "np.shape(Xumap)\n",
    "n = Xumap"
   ]
  },
  {
   "cell_type": "code",
   "execution_count": 26,
   "id": "a8fd6ede",
   "metadata": {},
   "outputs": [
    {
     "data": {
      "image/png": "[encoded data removed]",
      "text/plain": [
       "<Figure size 432x288 with 1 Axes>"
      ]
     },
     "metadata": {},
     "output_type": "display_data"
    }
   ],
   "source": [
    "import matplotlib.pyplot as plt\n",
    "plt.scatter(n[:, 0], n[:, 1])\n",
    "plt.show()"
   ]
  },
  {
   "cell_type": "code",
   "execution_count": null,
   "id": "32271d98",
   "metadata": {},
   "outputs": [],
   "source": []
  },
  {
   "cell_type": "code",
   "execution_count": null,
   "id": "7f960364",
   "metadata": {},
   "outputs": [],
   "source": []
  },
  {
   "cell_type": "code",
   "execution_count": null,
   "id": "ff79b54b",
   "metadata": {},
   "outputs": [],
   "source": []
  },
  {
   "cell_type": "code",
   "execution_count": null,
   "id": "69e72401",
   "metadata": {},
   "outputs": [],
   "source": []
  }
 ],
 "metadata": {
  "kernelspec": {
   "display_name": "Python 3",
   "language": "python",
   "name": "python3"
  },
  "language_info": {
   "codemirror_mode": {
    "name": "ipython",
    "version": 3
   },
   "file_extension": ".py",
   "mimetype": "text/x-python",
   "name": "python",
   "nbconvert_exporter": "python",
   "pygments_lexer": "ipython3",
   "version": "3.8.8"
  }
 },
 "nbformat": 4,
 "nbformat_minor": 5
}
