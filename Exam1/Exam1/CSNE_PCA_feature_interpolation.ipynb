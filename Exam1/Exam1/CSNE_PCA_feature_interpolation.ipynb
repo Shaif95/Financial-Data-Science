{
 "cells": [
  {
   "cell_type": "code",
   "execution_count": 1,
   "id": "8ed8ded1",
   "metadata": {},
   "outputs": [],
   "source": [
    "import numpy as np\n",
    "import matplotlib.pyplot as plt\n",
    "import pandas as pd\n",
    "from sklearn.decomposition import PCA\n",
    "from sklearn import svm\n",
    "import seaborn as sns\n",
    "from matplotlib.colors import ListedColormap\n",
    "from sklearn import neighbors\n",
    "import matplotlib.pyplot as plt\n",
    "from pandas.plotting import parallel_coordinates\n",
    "from sklearn.preprocessing import StandardScaler\n",
    "from sklearn import decomposition\n",
    "import scipy\n",
    "from sklearn.manifold import TSNE\n",
    "from pandas.plotting import parallel_coordinates\n",
    "from sklearn import decomposition\n",
    "import numpy as np\n",
    "import matplotlib.pyplot as plt\n",
    "import pandas as pd\n",
    "from sklearn.decomposition import PCA\n",
    "from sklearn import svm\n",
    "import seaborn as sns\n",
    "from matplotlib.colors import ListedColormap\n",
    "from sklearn import neighbors\n",
    "import matplotlib.pyplot as plt\n",
    "from pandas.plotting import parallel_coordinates\n",
    "from sklearn.preprocessing import StandardScaler\n",
    "from sklearn import decomposition\n",
    "import scipy\n",
    "from sklearn.manifold import TSNE\n",
    "import seaborn as sn\n",
    "from sklearn.datasets import make_friedman1\n",
    "from sklearn.decomposition import SparsePCA\n",
    "from scipy.stats import cauchy"
   ]
  },
  {
   "cell_type": "code",
   "execution_count": 47,
   "id": "9417dea0",
   "metadata": {},
   "outputs": [
    {
     "data": {
      "text/plain": [
       "numpy.ndarray"
      ]
     },
     "execution_count": 47,
     "metadata": {},
     "output_type": "execute_result"
    }
   ],
   "source": [
    "x = cauchy.rvs(loc=0, scale=1, size=1000) \n",
    "y = (x.astype('int32'))\n",
    "type(y)"
   ]
  },
  {
   "cell_type": "code",
   "execution_count": 5,
   "id": "dacdd863",
   "metadata": {},
   "outputs": [],
   "source": [
    "import numpy as np\n",
    "import pylab\n",
    "\n",
    "\n",
    "def Hbeta(D=np.array([]), beta=1.0):\n",
    "    \"\"\"\n",
    "        Compute the perplexity and the P-row for a specific value of the\n",
    "        precision of a Gaussian distribution.\n",
    "    \"\"\"\n",
    "\n",
    "    # Compute P-row and corresponding perplexity\n",
    "    P = 1 / ( 1 +  np.square( (D.copy() * beta - 1 )/10 )) * np.pi*10\n",
    "    sumP = sum(P)\n",
    "    H = np.log(sumP) + beta * np.sum(D * P) / sumP\n",
    "    P = P / sumP\n",
    "    return H, P\n",
    "\n",
    "\n",
    "def x2p(X=np.array([]), tol=1e-5, perplexity=30.0):\n",
    "    \"\"\"\n",
    "        Performs a binary search to get P-values in such a way that each\n",
    "        conditional Gaussian has the same perplexity.\n",
    "    \"\"\"\n",
    "\n",
    "    # Initialize some variables\n",
    "    print(\"Computing pairwise distances...\")\n",
    "    (n, d) = X.shape\n",
    "    sum_X = np.sum(np.square(X), 1)\n",
    "    D = np.add(np.add(-2 * np.dot(X, X.T), sum_X).T, sum_X)\n",
    "    P = np.zeros((n, n))\n",
    "    beta = np.ones((n, 1))\n",
    "    logU = np.log(perplexity)\n",
    "\n",
    "    # Loop over all datapoints\n",
    "    for i in range(n):\n",
    "\n",
    "        # Print progress\n",
    "        if i % 500 == 0:\n",
    "            print(\"Computing P-values for point %d of %d...\" % (i, n))\n",
    "\n",
    "        # Compute the Gaussian kernel and entropy for the current precision\n",
    "        betamin = -np.inf\n",
    "        betamax = np.inf\n",
    "        Di = D[i, np.concatenate((np.r_[0:i], np.r_[i+1:n]))]\n",
    "        (H, thisP) = Hbeta(Di, beta[i])\n",
    "\n",
    "        # Evaluate whether the perplexity is within tolerance\n",
    "        Hdiff = H - logU\n",
    "        tries = 0\n",
    "        while np.abs(Hdiff) > tol and tries < 50:\n",
    "\n",
    "            # If not, increase or decrease precision\n",
    "            if Hdiff > 0:\n",
    "                betamin = beta[i].copy()\n",
    "                if betamax == np.inf or betamax == -np.inf:\n",
    "                    beta[i] = beta[i] * 2.\n",
    "                else:\n",
    "                    beta[i] = (beta[i] + betamax) / 2.\n",
    "            else:\n",
    "                betamax = beta[i].copy()\n",
    "                if betamin == np.inf or betamin == -np.inf:\n",
    "                    beta[i] = beta[i] / 2.\n",
    "                else:\n",
    "                    beta[i] = (beta[i] + betamin) / 2.\n",
    "\n",
    "            # Recompute the values\n",
    "            (H, thisP) = Hbeta(Di, beta[i])\n",
    "            Hdiff = H - logU\n",
    "            tries += 1\n",
    "\n",
    "        # Set the final row of P\n",
    "        P[i, np.concatenate((np.r_[0:i], np.r_[i+1:n]))] = thisP\n",
    "\n",
    "    # Return final P-matrix\n",
    "    print(\"Mean value of sigma: %f\" % np.mean(np.sqrt(1 / beta)))\n",
    "    return P\n",
    "\n",
    "\n",
    "def pca(X=np.array([]), no_dims=50):\n",
    "    \"\"\"\n",
    "        Runs PCA on the NxD array X in order to reduce its dimensionality to\n",
    "        no_dims dimensions.\n",
    "    \"\"\"\n",
    "\n",
    "    print(\"Preprocessing the data using PCA...\")\n",
    "    (n, d) = X.shape\n",
    "    X = X - np.tile(np.mean(X, 0), (n, 1))\n",
    "    (l, M) = np.linalg.eig(np.dot(X.T, X))\n",
    "    Y = np.dot(X, M[:, 0:no_dims])\n",
    "    return Y\n",
    "\n",
    "\n",
    "\n",
    "def tsne(X=np.array([]), no_dims=2, initial_dims=50, perplexity=30.0):\n",
    "    \"\"\"\n",
    "        Runs t-SNE on the dataset in the NxD array X to reduce its\n",
    "        dimensionality to no_dims dimensions. The syntaxis of the function is\n",
    "        `Y = tsne.tsne(X, no_dims, perplexity), where X is an NxD NumPy array.\n",
    "    \"\"\"\n",
    "\n",
    "    # Check inputs\n",
    "    if isinstance(no_dims, float):\n",
    "        print(\"Error: array X should have type float.\")\n",
    "        return -1\n",
    "    if round(no_dims) != no_dims:\n",
    "        print(\"Error: number of dimensions should be an integer.\")\n",
    "        return -1\n",
    "\n",
    "    # Initialize variables\n",
    "    X = pca(X, initial_dims).real\n",
    "    (n, d) = X.shape\n",
    "    max_iter = 1000\n",
    "    initial_momentum = 0.5\n",
    "    final_momentum = 0.8\n",
    "    eta = 500\n",
    "    min_gain = 0.01\n",
    "    Y = np.random.randn(n, no_dims)\n",
    "    dY = np.zeros((n, no_dims))\n",
    "    iY = np.zeros((n, no_dims))\n",
    "    gains = np.ones((n, no_dims))\n",
    "\n",
    "    # Compute P-values\n",
    "    P = x2p(X, 1e-5, perplexity)\n",
    "    #P = P[~np.isnan(P)]\n",
    "    P = P + np.transpose(P)\n",
    "    P = P / np.sum(P)\n",
    "    P = P * 4.\t\t\t\t\t\t\t\t\t# early exaggeration\n",
    "    P = np.maximum(P, 1e-12)\n",
    "\n",
    "    # Run iterations\n",
    "    for iter in range(max_iter):\n",
    "\n",
    "        # Compute pairwise affinities\n",
    "        sum_Y = np.sum(np.square(Y), 1)\n",
    "        num = -2. * np.dot(Y, Y.T)\n",
    "        num = 1. / (1. + np.add(np.add(num, sum_Y).T, sum_Y))\n",
    "        num[range(n), range(n)] = 0.\n",
    "        Q = num / np.sum(num)\n",
    "        Q = np.maximum(Q, 1e-12)\n",
    "\n",
    "        # Compute gradient\n",
    "        PQ = P - Q\n",
    "        for i in range(n):\n",
    "            dY[i, :] = np.sum(np.tile(PQ[:, i] * num[:, i], (no_dims, 1)).T * (Y[i, :] - Y), 0)\n",
    "\n",
    "        # Perform the update\n",
    "        if iter < 20:\n",
    "            momentum = initial_momentum\n",
    "        else:\n",
    "            momentum = final_momentum\n",
    "        gains = (gains + 0.2) * ((dY > 0.) != (iY > 0.)) + \\\n",
    "                (gains * 0.8) * ((dY > 0.) == (iY > 0.))\n",
    "        gains[gains < min_gain] = min_gain\n",
    "        iY = momentum * iY - eta * (gains * dY)\n",
    "        Y = Y + iY\n",
    "        Y = Y - np.tile(np.mean(Y, 0), (n, 1))\n",
    "\n",
    "        # Compute current value of cost function\n",
    "        if (iter + 1) % 10 == 0:\n",
    "            C = np.sum(P * np.log(P / Q))\n",
    "            print(\"Iteration %d: error is %f\" % (iter + 1, C))\n",
    "\n",
    "        # Stop lying about P-values\n",
    "        if iter == 100:\n",
    "            P = P / 4.\n",
    "\n",
    "    # Return solution\n",
    "    return Y\n"
   ]
  },
  {
   "cell_type": "code",
   "execution_count": 6,
   "id": "bea7fac9",
   "metadata": {},
   "outputs": [
    {
     "name": "stderr",
     "output_type": "stream",
     "text": [
      "C:\\Users\\chsha\\AppData\\Local\\Temp/ipykernel_11404/926807002.py:27: SettingWithCopyWarning: \n",
      "A value is trying to be set on a copy of a slice from a DataFrame.\n",
      "Try using .loc[row_indexer,col_indexer] = value instead\n",
      "\n",
      "See the caveats in the documentation: https://pandas.pydata.org/pandas-docs/stable/user_guide/indexing.html#returning-a-view-versus-a-copy\n",
      "  COP_df['Type'] = COP_df['Pdiff'].apply(func)\n",
      "C:\\Users\\chsha\\AppData\\Local\\Temp/ipykernel_11404/926807002.py:28: SettingWithCopyWarning: \n",
      "A value is trying to be set on a copy of a slice from a DataFrame.\n",
      "Try using .loc[row_indexer,col_indexer] = value instead\n",
      "\n",
      "See the caveats in the documentation: https://pandas.pydata.org/pandas-docs/stable/user_guide/indexing.html#returning-a-view-versus-a-copy\n",
      "  POP_df['Type'] = POP_df['Pdiff'].apply(pfunc)\n"
     ]
    },
    {
     "data": {
      "text/html": [
       "<div>\n",
       "<style scoped>\n",
       "    .dataframe tbody tr th:only-of-type {\n",
       "        vertical-align: middle;\n",
       "    }\n",
       "\n",
       "    .dataframe tbody tr th {\n",
       "        vertical-align: top;\n",
       "    }\n",
       "\n",
       "    .dataframe thead th {\n",
       "        text-align: right;\n",
       "    }\n",
       "</style>\n",
       "<table border=\"1\" class=\"dataframe\">\n",
       "  <thead>\n",
       "    <tr style=\"text-align: right;\">\n",
       "      <th></th>\n",
       "      <th>Unnamed: 0</th>\n",
       "      <th>Option_type</th>\n",
       "      <th>Ask</th>\n",
       "      <th>Bid</th>\n",
       "      <th>Option_price</th>\n",
       "      <th>Stock_price</th>\n",
       "      <th>Strike_price</th>\n",
       "      <th>Volatility</th>\n",
       "      <th>Volume</th>\n",
       "      <th>Time_to_maturity</th>\n",
       "      <th>Implied_volatility</th>\n",
       "      <th>Type</th>\n",
       "    </tr>\n",
       "  </thead>\n",
       "  <tbody>\n",
       "    <tr>\n",
       "      <th>0</th>\n",
       "      <td>0</td>\n",
       "      <td>1</td>\n",
       "      <td>0.2</td>\n",
       "      <td>0.0</td>\n",
       "      <td>0.09</td>\n",
       "      <td>79.54</td>\n",
       "      <td>45.0</td>\n",
       "      <td>0.286563</td>\n",
       "      <td>4</td>\n",
       "      <td>0.123288</td>\n",
       "      <td>0.763674</td>\n",
       "      <td>ITM</td>\n",
       "    </tr>\n",
       "  </tbody>\n",
       "</table>\n",
       "</div>"
      ],
      "text/plain": [
       "   Unnamed: 0  Option_type  Ask  Bid  Option_price  Stock_price  Strike_price  \\\n",
       "0           0            1  0.2  0.0          0.09        79.54          45.0   \n",
       "\n",
       "   Volatility  Volume  Time_to_maturity  Implied_volatility Type  \n",
       "0    0.286563       4          0.123288            0.763674  ITM  "
      ]
     },
     "execution_count": 6,
     "metadata": {},
     "output_type": "execute_result"
    }
   ],
   "source": [
    "#dataread\n",
    "\n",
    "OP_df = pd.read_csv('OptionData12110.csv')\n",
    "OP_df=OP_df.dropna()\n",
    "OP_df['Pdiff'] =  OP_df['Strike_price'] - OP_df['Stock_price'] \n",
    "OP_df.head(1)\n",
    "COP_df = OP_df. loc[OP_df['Option_type'] == 1]\n",
    "POP_df = OP_df.loc[OP_df['Option_type'] == 0]\n",
    "\n",
    "#OP_df['Pdiff'] = OP_df.apply(lambda x: int(x['Stock_price']) - int(x['Stock_price']), axis=1)\n",
    "def func(x):\n",
    "    if x > 0 :\n",
    "        return 'OTM'\n",
    "    elif x < 0 :\n",
    "        return 'ITM'\n",
    "    else:\n",
    "        return 'ATM'\n",
    "    \n",
    "def pfunc(x):\n",
    "    if x > 0 :\n",
    "        return 'PUT_ITM'\n",
    "    elif x < 0 :\n",
    "        return 'PUT_OTM'\n",
    "    else:\n",
    "        return 'PUT_ATM'\n",
    "\n",
    "COP_df['Type'] = COP_df['Pdiff'].apply(func)\n",
    "POP_df['Type'] = POP_df['Pdiff'].apply(pfunc)\n",
    "\n",
    "COP_df = COP_df.drop(['Pdiff'], axis = 1)\n",
    "POP_df = POP_df.drop(['Pdiff'], axis = 1)\n",
    "\n",
    "frames = [COP_df, POP_df]\n",
    "\n",
    "df = pd.concat(frames)\n",
    "df.head(1)"
   ]
  },
  {
   "cell_type": "code",
   "execution_count": 3,
   "id": "87c10d72",
   "metadata": {},
   "outputs": [],
   "source": []
  },
  {
   "cell_type": "code",
   "execution_count": 79,
   "id": "4698cd04",
   "metadata": {},
   "outputs": [],
   "source": [
    "POP_df = POP_df[:100]"
   ]
  },
  {
   "cell_type": "code",
   "execution_count": 7,
   "id": "f79a63e9",
   "metadata": {},
   "outputs": [
    {
     "name": "stdout",
     "output_type": "stream",
     "text": [
      "Preprocessing the data using PCA...\n",
      "Computing pairwise distances...\n",
      "Computing P-values for point 0 of 6069...\n",
      "Computing P-values for point 500 of 6069...\n",
      "Computing P-values for point 1000 of 6069...\n",
      "Computing P-values for point 1500 of 6069...\n",
      "Computing P-values for point 2000 of 6069...\n",
      "Computing P-values for point 2500 of 6069...\n",
      "Computing P-values for point 3000 of 6069...\n",
      "Computing P-values for point 3500 of 6069...\n",
      "Computing P-values for point 4000 of 6069...\n",
      "Computing P-values for point 4500 of 6069...\n",
      "Computing P-values for point 5000 of 6069...\n",
      "Computing P-values for point 5500 of 6069...\n",
      "Computing P-values for point 6000 of 6069...\n",
      "Mean value of sigma: 0.000000\n",
      "Iteration 10: error is 25.298886\n",
      "Iteration 20: error is 25.212727\n",
      "Iteration 30: error is 23.614167\n",
      "Iteration 40: error is 21.538850\n",
      "Iteration 50: error is 20.442980\n",
      "Iteration 60: error is 19.873339\n",
      "Iteration 70: error is 19.536234\n",
      "Iteration 80: error is 19.303146\n",
      "Iteration 90: error is 19.130899\n",
      "Iteration 100: error is 18.998870\n",
      "Iteration 110: error is 3.051575\n",
      "Iteration 120: error is 2.712698\n",
      "Iteration 130: error is 2.466410\n",
      "Iteration 140: error is 2.276803\n",
      "Iteration 150: error is 2.123466\n",
      "Iteration 160: error is 1.995284\n",
      "Iteration 170: error is 1.885458\n",
      "Iteration 180: error is 1.789979\n",
      "Iteration 190: error is 1.705821\n",
      "Iteration 200: error is 1.630732\n",
      "Iteration 210: error is 1.563627\n",
      "Iteration 220: error is 1.504598\n",
      "Iteration 230: error is 1.454194\n",
      "Iteration 240: error is 1.410903\n",
      "Iteration 250: error is 1.372030\n",
      "Iteration 260: error is 1.335559\n",
      "Iteration 270: error is 1.300813\n",
      "Iteration 280: error is 1.267921\n",
      "Iteration 290: error is 1.237045\n",
      "Iteration 300: error is 1.208202\n",
      "Iteration 310: error is 1.181565\n",
      "Iteration 320: error is 1.156960\n",
      "Iteration 330: error is 1.133953\n",
      "Iteration 340: error is 1.112300\n",
      "Iteration 350: error is 1.091753\n",
      "Iteration 360: error is 1.072214\n",
      "Iteration 370: error is 1.053643\n",
      "Iteration 380: error is 1.036026\n",
      "Iteration 390: error is 1.019384\n",
      "Iteration 400: error is 1.003590\n",
      "Iteration 410: error is 0.988548\n",
      "Iteration 420: error is 0.974225\n",
      "Iteration 430: error is 0.960543\n",
      "Iteration 440: error is 0.947392\n",
      "Iteration 450: error is 0.934791\n",
      "Iteration 460: error is 0.922691\n",
      "Iteration 470: error is 0.911083\n",
      "Iteration 480: error is 0.899992\n",
      "Iteration 490: error is 0.889307\n",
      "Iteration 500: error is 0.879028\n",
      "Iteration 510: error is 0.869107\n",
      "Iteration 520: error is 0.859507\n",
      "Iteration 530: error is 0.850243\n",
      "Iteration 540: error is 0.841296\n",
      "Iteration 550: error is 0.832648\n",
      "Iteration 560: error is 0.824289\n",
      "Iteration 570: error is 0.816175\n",
      "Iteration 580: error is 0.808303\n",
      "Iteration 590: error is 0.800665\n",
      "Iteration 600: error is 0.793276\n",
      "Iteration 610: error is 0.786113\n",
      "Iteration 620: error is 0.779160\n",
      "Iteration 630: error is 0.772389\n",
      "Iteration 640: error is 0.765787\n",
      "Iteration 650: error is 0.759353\n",
      "Iteration 660: error is 0.753089\n",
      "Iteration 670: error is 0.746999\n",
      "Iteration 680: error is 0.741075\n",
      "Iteration 690: error is 0.735328\n",
      "Iteration 700: error is 0.729724\n",
      "Iteration 710: error is 0.724252\n",
      "Iteration 720: error is 0.718911\n",
      "Iteration 730: error is 0.713701\n",
      "Iteration 740: error is 0.708602\n",
      "Iteration 750: error is 0.703630\n",
      "Iteration 760: error is 0.698757\n",
      "Iteration 770: error is 0.693991\n",
      "Iteration 780: error is 0.689343\n",
      "Iteration 790: error is 0.684796\n",
      "Iteration 800: error is 0.680350\n",
      "Iteration 810: error is 0.675989\n",
      "Iteration 820: error is 0.671718\n",
      "Iteration 830: error is 0.667542\n",
      "Iteration 840: error is 0.663457\n",
      "Iteration 850: error is 0.659474\n",
      "Iteration 860: error is 0.655574\n",
      "Iteration 870: error is 0.651735\n",
      "Iteration 880: error is 0.647962\n",
      "Iteration 890: error is 0.644258\n",
      "Iteration 900: error is 0.640635\n",
      "Iteration 910: error is 0.637075\n",
      "Iteration 920: error is 0.633569\n",
      "Iteration 930: error is 0.630138\n",
      "Iteration 940: error is 0.626792\n",
      "Iteration 950: error is 0.623514\n",
      "Iteration 960: error is 0.620281\n",
      "Iteration 970: error is 0.617095\n",
      "Iteration 980: error is 0.613961\n",
      "Iteration 990: error is 0.610882\n",
      "Iteration 1000: error is 0.607860\n"
     ]
    },
    {
     "name": "stderr",
     "output_type": "stream",
     "text": [
      "C:\\Users\\chsha\\anaconda3\\lib\\site-packages\\seaborn\\axisgrid.py:337: UserWarning: The `size` parameter has been renamed to `height`; please update your code.\n",
      "  warnings.warn(msg, UserWarning)\n"
     ]
    },
    {
     "data": {
      "image/png": "[encoded data removed]",
      "text/plain": [
       "<Figure size 514.75x432 with 1 Axes>"
      ]
     },
     "metadata": {
      "needs_background": "light"
     },
     "output_type": "display_data"
    }
   ],
   "source": [
    "#TSNE\n",
    "from sklearn import preprocessing\n",
    "\n",
    "le = preprocessing.LabelEncoder()\n",
    "le.fit(POP_df.Type)\n",
    "POP_df['cat'] = le.transform(POP_df.Type)\n",
    "\n",
    "l = POP_df.Type\n",
    "\n",
    "data = POP_df.drop(['Type'], axis = 1)\n",
    "\n",
    "s_data = StandardScaler().fit_transform(data)\n",
    "\n",
    "X = s_data\n",
    "\n",
    "\n",
    "Y = tsne(X, 2, 90, 10.0)\n",
    "\n",
    "\n",
    "\n",
    "tsne_data = Y\n",
    "\n",
    "tsne_data = np.vstack((tsne_data.T, l)).T\n",
    "\n",
    "tsne_df = pd.DataFrame(data = tsne_data,columns =(\"TSNE_1\", \"TSNE_2\", \"label\"))\n",
    " \n",
    "# Ploting the result of tsne\n",
    "sn.FacetGrid(tsne_df, hue =\"label\", size = 6).map(plt.scatter, 'TSNE_1', 'TSNE_2').add_legend()\n",
    " \n",
    "plt.show()"
   ]
  },
  {
   "cell_type": "code",
   "execution_count": 8,
   "id": "c555d16c",
   "metadata": {},
   "outputs": [
    {
     "name": "stderr",
     "output_type": "stream",
     "text": [
      "C:\\Users\\chsha\\anaconda3\\lib\\site-packages\\seaborn\\axisgrid.py:337: UserWarning: The `size` parameter has been renamed to `height`; please update your code.\n",
      "  warnings.warn(msg, UserWarning)\n"
     ]
    },
    {
     "data": {
      "image/png": "[encoded data removed]",
      "text/plain": [
       "<Figure size 514.75x432 with 1 Axes>"
      ]
     },
     "metadata": {
      "needs_background": "light"
     },
     "output_type": "display_data"
    }
   ],
   "source": [
    "\n",
    "tsne_data = Y\n",
    "\n",
    "tsne_data = np.vstack((tsne_data.T, l)).T\n",
    "\n",
    "tsne_df = pd.DataFrame(data = tsne_data,columns =(\"TSNE_1\", \"TSNE_2\", \"label\"))\n",
    " \n",
    "# Ploting the result of tsne\n",
    "sn.FacetGrid(tsne_df, hue =\"label\", size = 6).map(plt.scatter, 'TSNE_1', 'TSNE_2').add_legend()\n",
    " \n",
    "plt.show()"
   ]
  },
  {
   "cell_type": "code",
   "execution_count": null,
   "id": "96175cce",
   "metadata": {},
   "outputs": [],
   "source": []
  },
  {
   "cell_type": "code",
   "execution_count": null,
   "id": "30bfeaed",
   "metadata": {},
   "outputs": [],
   "source": []
  },
  {
   "cell_type": "code",
   "execution_count": 11,
   "id": "040a67a2",
   "metadata": {},
   "outputs": [
    {
     "data": {
      "text/html": [
       "<div>\n",
       "<style scoped>\n",
       "    .dataframe tbody tr th:only-of-type {\n",
       "        vertical-align: middle;\n",
       "    }\n",
       "\n",
       "    .dataframe tbody tr th {\n",
       "        vertical-align: top;\n",
       "    }\n",
       "\n",
       "    .dataframe thead th {\n",
       "        text-align: right;\n",
       "    }\n",
       "</style>\n",
       "<table border=\"1\" class=\"dataframe\">\n",
       "  <thead>\n",
       "    <tr style=\"text-align: right;\">\n",
       "      <th></th>\n",
       "      <th>Unnamed: 0</th>\n",
       "      <th>Option_type</th>\n",
       "      <th>Ask</th>\n",
       "      <th>Bid</th>\n",
       "      <th>Option_price</th>\n",
       "      <th>Stock_price</th>\n",
       "      <th>Strike_price</th>\n",
       "      <th>Volatility</th>\n",
       "      <th>Volume</th>\n",
       "      <th>Time_to_maturity</th>\n",
       "      <th>Implied_volatility</th>\n",
       "      <th>Type</th>\n",
       "    </tr>\n",
       "  </thead>\n",
       "  <tbody>\n",
       "    <tr>\n",
       "      <th>0</th>\n",
       "      <td>0</td>\n",
       "      <td>1</td>\n",
       "      <td>0.2</td>\n",
       "      <td>0.0</td>\n",
       "      <td>0.09</td>\n",
       "      <td>79.54</td>\n",
       "      <td>45.0</td>\n",
       "      <td>0.286563</td>\n",
       "      <td>4</td>\n",
       "      <td>0.123288</td>\n",
       "      <td>0.763674</td>\n",
       "      <td>ITM</td>\n",
       "    </tr>\n",
       "  </tbody>\n",
       "</table>\n",
       "</div>"
      ],
      "text/plain": [
       "   Unnamed: 0  Option_type  Ask  Bid  Option_price  Stock_price  Strike_price  \\\n",
       "0           0            1  0.2  0.0          0.09        79.54          45.0   \n",
       "\n",
       "   Volatility  Volume  Time_to_maturity  Implied_volatility Type  \n",
       "0    0.286563       4          0.123288            0.763674  ITM  "
      ]
     },
     "execution_count": 11,
     "metadata": {},
     "output_type": "execute_result"
    }
   ],
   "source": [
    "COP_df.head(1)"
   ]
  },
  {
   "cell_type": "code",
   "execution_count": 23,
   "id": "27707e62",
   "metadata": {},
   "outputs": [
    {
     "name": "stderr",
     "output_type": "stream",
     "text": [
      "C:\\Users\\chsha\\anaconda3\\lib\\site-packages\\seaborn\\axisgrid.py:316: UserWarning: The `size` parameter has been renamed to `height`; please update your code.\n",
      "  warnings.warn(msg, UserWarning)\n"
     ]
    },
    {
     "data": {
      "image/png": "[encoded data removed]",
      "text/plain": [
       "<Figure size 514.75x432 with 1 Axes>"
      ]
     },
     "metadata": {
      "needs_background": "light"
     },
     "output_type": "display_data"
    }
   ],
   "source": [
    "from sklearn import preprocessing\n",
    "\n",
    "le = preprocessing.LabelEncoder()\n",
    "le.fit(POP_df.Type)\n",
    "POP_df['cat'] = le.transform(POP_df.Type)\n",
    "d = POP_df\n",
    "d = d.drop(['Type'], axis = 1)\n",
    "\n",
    "norm = StandardScaler().fit_transform(d)\n",
    "pca = PCA(n_components = 2)\n",
    "n = pca.fit_transform(norm)\n",
    "\n",
    "np.shape(n)\n",
    "\n",
    "tsne_data = n\n",
    "\n",
    "tsne_data = np.vstack((tsne_data.T, POP_df.Type)).T\n",
    "\n",
    "tsne_df = pd.DataFrame(data = tsne_data,columns =(\"PC_2\", \"PC_1\", \"label\"))\n",
    " \n",
    "# Ploting the result of tsne\n",
    "sn.FacetGrid(tsne_df, hue =\"label\", size = 6).map(plt.scatter,\"PC_2\", \"PC_1\").add_legend()\n",
    " \n",
    "plt.show()"
   ]
  },
  {
   "cell_type": "code",
   "execution_count": null,
   "id": "50dbfdae",
   "metadata": {},
   "outputs": [],
   "source": []
  },
  {
   "cell_type": "code",
   "execution_count": null,
   "id": "0911e949",
   "metadata": {},
   "outputs": [],
   "source": []
  },
  {
   "cell_type": "code",
   "execution_count": 5,
   "id": "f7fbdb25",
   "metadata": {},
   "outputs": [],
   "source": [
    "from sklearn.metrics import mean_squared_error\n",
    "from sklearn.metrics import r2_score\n",
    "from sklearn.metrics import balanced_accuracy_score\n",
    "    \n",
    "def metric(p,t):\n",
    "    mse = mean_squared_error(t,p)\n",
    "    \n",
    "    r = r2_score( t , p ,  multioutput='variance_weighted')\n",
    "    \n",
    "    return mse,r"
   ]
  },
  {
   "cell_type": "code",
   "execution_count": 7,
   "id": "04a8a03c",
   "metadata": {},
   "outputs": [],
   "source": [
    "from sklearn.model_selection import train_test_split\n",
    "df = df.drop(['Type'], axis = 1)\n",
    "data = np.array(StandardScaler().fit_transform(df))\n",
    "label = np.array(df.Implied_volatility)\n",
    "\n",
    "X_train, X_test, Y_train, Y_test = train_test_split(data, label, test_size=0.20, random_state=42)"
   ]
  },
  {
   "cell_type": "code",
   "execution_count": 8,
   "id": "8779b2cf",
   "metadata": {},
   "outputs": [
    {
     "data": {
      "text/plain": [
       "Pipeline(steps=[('standardscaler', StandardScaler()),\n",
       "                ('svr', SVR(epsilon=0.2))])"
      ]
     },
     "execution_count": 8,
     "metadata": {},
     "output_type": "execute_result"
    }
   ],
   "source": [
    "from sklearn.model_selection import GridSearchCV\n",
    "from sklearn.svm import SVR\n",
    "from sklearn.pipeline import make_pipeline\n",
    " \n",
    "# defining parameter range\n",
    "regr = make_pipeline(StandardScaler(), SVR(C=1.0, epsilon=0.2))\n",
    "\n",
    "regr.fit(X_train, Y_train)"
   ]
  },
  {
   "cell_type": "code",
   "execution_count": null,
   "id": "6440e16f",
   "metadata": {},
   "outputs": [],
   "source": [
    "\n",
    "\n",
    "pred = regr.predict(X_test)\n",
    "mse_svm,r2_svm = metric(pred,Y_test)\n",
    "print(\"SVM 1. MSE 2. R2  : \" , mse_svm,r2_svm)"
   ]
  },
  {
   "cell_type": "code",
   "execution_count": null,
   "id": "1fa300d4",
   "metadata": {},
   "outputs": [],
   "source": [
    "# print best parameter after tuning\n",
    "print(grid.best_params_)\n",
    " \n",
    "# print how our model looks after hyper-parameter tuning\n",
    "print(grid.best_estimator_)"
   ]
  },
  {
   "cell_type": "code",
   "execution_count": null,
   "id": "0775d6e0",
   "metadata": {},
   "outputs": [],
   "source": []
  },
  {
   "cell_type": "code",
   "execution_count": null,
   "id": "be6a6e5e",
   "metadata": {},
   "outputs": [],
   "source": []
  },
  {
   "cell_type": "code",
   "execution_count": null,
   "id": "7f41dc16",
   "metadata": {},
   "outputs": [],
   "source": []
  },
  {
   "cell_type": "code",
   "execution_count": null,
   "id": "7c228c17",
   "metadata": {},
   "outputs": [],
   "source": [
    "#Feature Interpolation"
   ]
  },
  {
   "cell_type": "code",
   "execution_count": 8,
   "id": "1f6598e0",
   "metadata": {},
   "outputs": [
    {
     "data": {
      "text/html": [
       "<div>\n",
       "<style scoped>\n",
       "    .dataframe tbody tr th:only-of-type {\n",
       "        vertical-align: middle;\n",
       "    }\n",
       "\n",
       "    .dataframe tbody tr th {\n",
       "        vertical-align: top;\n",
       "    }\n",
       "\n",
       "    .dataframe thead th {\n",
       "        text-align: right;\n",
       "    }\n",
       "</style>\n",
       "<table border=\"1\" class=\"dataframe\">\n",
       "  <thead>\n",
       "    <tr style=\"text-align: right;\">\n",
       "      <th></th>\n",
       "      <th>Unnamed: 0</th>\n",
       "      <th>Option_type</th>\n",
       "      <th>Ask</th>\n",
       "      <th>Bid</th>\n",
       "      <th>Option_price</th>\n",
       "      <th>Stock_price</th>\n",
       "      <th>Strike_price</th>\n",
       "      <th>Volatility</th>\n",
       "      <th>Volume</th>\n",
       "      <th>Time_to_maturity</th>\n",
       "      <th>Implied_volatility</th>\n",
       "      <th>Type</th>\n",
       "      <th>int_value</th>\n",
       "      <th>time_value</th>\n",
       "    </tr>\n",
       "  </thead>\n",
       "  <tbody>\n",
       "    <tr>\n",
       "      <th>0</th>\n",
       "      <td>0</td>\n",
       "      <td>1</td>\n",
       "      <td>0.2</td>\n",
       "      <td>0.0</td>\n",
       "      <td>0.09</td>\n",
       "      <td>79.54</td>\n",
       "      <td>45.0</td>\n",
       "      <td>0.286563</td>\n",
       "      <td>4</td>\n",
       "      <td>0.123288</td>\n",
       "      <td>0.763674</td>\n",
       "      <td>ITM</td>\n",
       "      <td>34.54</td>\n",
       "      <td>-34.45</td>\n",
       "    </tr>\n",
       "  </tbody>\n",
       "</table>\n",
       "</div>"
      ],
      "text/plain": [
       "   Unnamed: 0  Option_type  Ask  Bid  Option_price  Stock_price  Strike_price  \\\n",
       "0           0            1  0.2  0.0          0.09        79.54          45.0   \n",
       "\n",
       "   Volatility  Volume  Time_to_maturity  Implied_volatility Type  int_value  \\\n",
       "0    0.286563       4          0.123288            0.763674  ITM      34.54   \n",
       "\n",
       "   time_value  \n",
       "0      -34.45  "
      ]
     },
     "execution_count": 8,
     "metadata": {},
     "output_type": "execute_result"
    }
   ],
   "source": [
    "df['int_value'] = df['Stock_price'] - df['Strike_price']\n",
    "df['time_value'] = df['Option_price'] - df['int_value']\n",
    "df.head(1)"
   ]
  },
  {
   "cell_type": "code",
   "execution_count": 12,
   "id": "49ca40f2",
   "metadata": {},
   "outputs": [],
   "source": [
    "from sklearn.model_selection import train_test_split\n",
    "#df = df.drop(['Type'], axis = 1)\n",
    "data = np.array(StandardScaler().fit_transform(df))\n",
    "label = np.array(df.Implied_volatility)\n",
    "\n",
    "X_train, X_test, Y_train, Y_test = train_test_split(data, label, test_size=0.20, random_state=42)"
   ]
  },
  {
   "cell_type": "code",
   "execution_count": 15,
   "id": "346bc9cd",
   "metadata": {},
   "outputs": [
    {
     "data": {
      "text/plain": [
       "Pipeline(steps=[('standardscaler', StandardScaler()),\n",
       "                ('svr', SVR(C=100.0, epsilon=0.2))])"
      ]
     },
     "execution_count": 15,
     "metadata": {},
     "output_type": "execute_result"
    }
   ],
   "source": [
    "from sklearn.model_selection import GridSearchCV\n",
    "from sklearn.svm import SVR\n",
    "from sklearn.pipeline import make_pipeline\n",
    " \n",
    "# defining parameter range\n",
    "regr = make_pipeline(StandardScaler(), SVR(C=100.0, epsilon=0.2))\n",
    "\n",
    "regr.fit(X_train, Y_train)"
   ]
  },
  {
   "cell_type": "code",
   "execution_count": 16,
   "id": "13738e7d",
   "metadata": {},
   "outputs": [
    {
     "name": "stdout",
     "output_type": "stream",
     "text": [
      "SVM 1. MSE 2. R2  :  0.0041673633935109065 0.8808331774561586\n"
     ]
    }
   ],
   "source": [
    "\n",
    "\n",
    "pred = regr.predict(X_test)\n",
    "mse_svm,r2_svm = metric(pred,Y_test)\n",
    "print(\"SVM 1. MSE 2. R2  : \" , mse_svm,r2_svm)"
   ]
  },
  {
   "cell_type": "code",
   "execution_count": null,
   "id": "286b57fc",
   "metadata": {},
   "outputs": [],
   "source": []
  },
  {
   "cell_type": "code",
   "execution_count": null,
   "id": "4e8f7d9e",
   "metadata": {},
   "outputs": [],
   "source": []
  }
 ],
 "metadata": {
  "kernelspec": {
   "display_name": "Python 3 (ipykernel)",
   "language": "python",
   "name": "python3"
  },
  "language_info": {
   "codemirror_mode": {
    "name": "ipython",
    "version": 3
   },
   "file_extension": ".py",
   "mimetype": "text/x-python",
   "name": "python",
   "nbconvert_exporter": "python",
   "pygments_lexer": "ipython3",
   "version": "3.9.7"
  }
 },
 "nbformat": 4,
 "nbformat_minor": 5
}
