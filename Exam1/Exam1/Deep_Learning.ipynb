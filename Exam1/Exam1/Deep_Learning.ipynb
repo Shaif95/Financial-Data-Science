{
 "cells": [
  {
   "cell_type": "code",
   "execution_count": 1,
   "metadata": {
    "id": "71LQpZ4m2QFL"
   },
   "outputs": [],
   "source": [
    "import numpy as np\n",
    "import matplotlib.pyplot as plt\n",
    "import pandas as pd\n",
    "from sklearn.decomposition import PCA\n",
    "from sklearn import svm\n",
    "import seaborn as sns\n",
    "from matplotlib.colors import ListedColormap\n",
    "from sklearn import neighbors\n",
    "import pandas_datareader.data as web\n",
    "import matplotlib.pyplot as plt\n",
    "from pandas.plotting import parallel_coordinates\n",
    "from sklearn.preprocessing import StandardScaler\n",
    "from sklearn import decomposition\n",
    "import scipy\n",
    "from sklearn.manifold import TSNE\n",
    "from pandas.plotting import parallel_coordinates\n",
    "from sklearn import decomposition\n",
    "import numpy as np\n",
    "import matplotlib.pyplot as plt\n",
    "import pandas as pd\n",
    "from sklearn.decomposition import PCA\n",
    "from sklearn import svm\n",
    "import seaborn as sns\n",
    "from matplotlib.colors import ListedColormap\n",
    "from sklearn import neighbors\n",
    "import pandas_datareader.data as web\n",
    "import matplotlib.pyplot as plt\n",
    "from pandas.plotting import parallel_coordinates\n",
    "from sklearn.preprocessing import StandardScaler\n",
    "from sklearn import decomposition\n",
    "import scipy\n",
    "from sklearn.manifold import TSNE\n",
    "import seaborn as sn\n",
    "from sklearn.datasets import make_friedman1\n",
    "from sklearn.decomposition import SparsePCA"
   ]
  },
  {
   "cell_type": "code",
   "execution_count": 14,
   "metadata": {
    "id": "A_kgZ9xZ3qpM"
   },
   "outputs": [],
   "source": [
    "from sklearn.metrics import mean_squared_error\n",
    "from sklearn.metrics import r2_score\n",
    "from sklearn.metrics import balanced_accuracy_score\n",
    "    \n",
    "def metric(p,t):\n",
    "    mse = mean_squared_error(t,p)\n",
    "    \n",
    "    r = r2_score( t , p ,  multioutput='variance_weighted')\n",
    "    \n",
    "    return mse,r"
   ]
  },
  {
   "cell_type": "code",
   "execution_count": 2,
   "metadata": {
    "colab": {
     "base_uri": "https://localhost:8080/",
     "height": 298
    },
    "id": "UoEu7Xra2QwN",
    "outputId": "a1e697bb-b5d3-4347-b88a-53ad1116a56a"
   },
   "outputs": [
    {
     "name": "stderr",
     "output_type": "stream",
     "text": [
      "/usr/local/lib/python3.7/dist-packages/ipykernel_launcher.py:27: SettingWithCopyWarning: \n",
      "A value is trying to be set on a copy of a slice from a DataFrame.\n",
      "Try using .loc[row_indexer,col_indexer] = value instead\n",
      "\n",
      "See the caveats in the documentation: https://pandas.pydata.org/pandas-docs/stable/user_guide/indexing.html#returning-a-view-versus-a-copy\n",
      "/usr/local/lib/python3.7/dist-packages/ipykernel_launcher.py:28: SettingWithCopyWarning: \n",
      "A value is trying to be set on a copy of a slice from a DataFrame.\n",
      "Try using .loc[row_indexer,col_indexer] = value instead\n",
      "\n",
      "See the caveats in the documentation: https://pandas.pydata.org/pandas-docs/stable/user_guide/indexing.html#returning-a-view-versus-a-copy\n"
     ]
    },
    {
     "data": {
      "text/html": [
       "\n",
       "  <div id=\"df-8b6dd53d-7c3e-40d3-85de-3c09f2777532\">\n",
       "    <div class=\"colab-df-container\">\n",
       "      <div>\n",
       "<style scoped>\n",
       "    .dataframe tbody tr th:only-of-type {\n",
       "        vertical-align: middle;\n",
       "    }\n",
       "\n",
       "    .dataframe tbody tr th {\n",
       "        vertical-align: top;\n",
       "    }\n",
       "\n",
       "    .dataframe thead th {\n",
       "        text-align: right;\n",
       "    }\n",
       "</style>\n",
       "<table border=\"1\" class=\"dataframe\">\n",
       "  <thead>\n",
       "    <tr style=\"text-align: right;\">\n",
       "      <th></th>\n",
       "      <th>Unnamed: 0</th>\n",
       "      <th>Option_type</th>\n",
       "      <th>Ask</th>\n",
       "      <th>Bid</th>\n",
       "      <th>Option_price</th>\n",
       "      <th>Stock_price</th>\n",
       "      <th>Strike_price</th>\n",
       "      <th>Volatility</th>\n",
       "      <th>Volume</th>\n",
       "      <th>Time_to_maturity</th>\n",
       "      <th>Implied_volatility</th>\n",
       "      <th>Type</th>\n",
       "    </tr>\n",
       "  </thead>\n",
       "  <tbody>\n",
       "    <tr>\n",
       "      <th>0</th>\n",
       "      <td>0</td>\n",
       "      <td>1</td>\n",
       "      <td>0.2</td>\n",
       "      <td>0.0</td>\n",
       "      <td>0.09</td>\n",
       "      <td>79.54</td>\n",
       "      <td>45.0</td>\n",
       "      <td>0.286563</td>\n",
       "      <td>4</td>\n",
       "      <td>0.123288</td>\n",
       "      <td>0.763674</td>\n",
       "      <td>ITM</td>\n",
       "    </tr>\n",
       "  </tbody>\n",
       "</table>\n",
       "</div>\n",
       "      <button class=\"colab-df-convert\" onclick=\"convertToInteractive('df-8b6dd53d-7c3e-40d3-85de-3c09f2777532')\"\n",
       "              title=\"Convert this dataframe to an interactive table.\"\n",
       "              style=\"display:none;\">\n",
       "        \n",
       "  <svg xmlns=\"http://www.w3.org/2000/svg\" height=\"24px\"viewBox=\"0 0 24 24\"\n",
       "       width=\"24px\">\n",
       "    <path d=\"M0 0h24v24H0V0z\" fill=\"none\"/>\n",
       "    <path d=\"M18.56 5.44l.94 2.06.94-2.06 2.06-.94-2.06-.94-.94-2.06-.94 2.06-2.06.94zm-11 1L8.5 8.5l.94-2.06 2.06-.94-2.06-.94L8.5 2.5l-.94 2.06-2.06.94zm10 10l.94 2.06.94-2.06 2.06-.94-2.06-.94-.94-2.06-.94 2.06-2.06.94z\"/><path d=\"M17.41 7.96l-1.37-1.37c-.4-.4-.92-.59-1.43-.59-.52 0-1.04.2-1.43.59L10.3 9.45l-7.72 7.72c-.78.78-.78 2.05 0 2.83L4 21.41c.39.39.9.59 1.41.59.51 0 1.02-.2 1.41-.59l7.78-7.78 2.81-2.81c.8-.78.8-2.07 0-2.86zM5.41 20L4 18.59l7.72-7.72 1.47 1.35L5.41 20z\"/>\n",
       "  </svg>\n",
       "      </button>\n",
       "      \n",
       "  <style>\n",
       "    .colab-df-container {\n",
       "      display:flex;\n",
       "      flex-wrap:wrap;\n",
       "      gap: 12px;\n",
       "    }\n",
       "\n",
       "    .colab-df-convert {\n",
       "      background-color: #E8F0FE;\n",
       "      border: none;\n",
       "      border-radius: 50%;\n",
       "      cursor: pointer;\n",
       "      display: none;\n",
       "      fill: #1967D2;\n",
       "      height: 32px;\n",
       "      padding: 0 0 0 0;\n",
       "      width: 32px;\n",
       "    }\n",
       "\n",
       "    .colab-df-convert:hover {\n",
       "      background-color: #E2EBFA;\n",
       "      box-shadow: 0px 1px 2px rgba(60, 64, 67, 0.3), 0px 1px 3px 1px rgba(60, 64, 67, 0.15);\n",
       "      fill: #174EA6;\n",
       "    }\n",
       "\n",
       "    [theme=dark] .colab-df-convert {\n",
       "      background-color: #3B4455;\n",
       "      fill: #D2E3FC;\n",
       "    }\n",
       "\n",
       "    [theme=dark] .colab-df-convert:hover {\n",
       "      background-color: #434B5C;\n",
       "      box-shadow: 0px 1px 3px 1px rgba(0, 0, 0, 0.15);\n",
       "      filter: drop-shadow(0px 1px 2px rgba(0, 0, 0, 0.3));\n",
       "      fill: #FFFFFF;\n",
       "    }\n",
       "  </style>\n",
       "\n",
       "      <script>\n",
       "        const buttonEl =\n",
       "          document.querySelector('#df-8b6dd53d-7c3e-40d3-85de-3c09f2777532 button.colab-df-convert');\n",
       "        buttonEl.style.display =\n",
       "          google.colab.kernel.accessAllowed ? 'block' : 'none';\n",
       "\n",
       "        async function convertToInteractive(key) {\n",
       "          const element = document.querySelector('#df-8b6dd53d-7c3e-40d3-85de-3c09f2777532');\n",
       "          const dataTable =\n",
       "            await google.colab.kernel.invokeFunction('convertToInteractive',\n",
       "                                                     [key], {});\n",
       "          if (!dataTable) return;\n",
       "\n",
       "          const docLinkHtml = 'Like what you see? Visit the ' +\n",
       "            '<a target=\"_blank\" href=https://colab.research.google.com/notebooks/data_table.ipynb>data table notebook</a>'\n",
       "            + ' to learn more about interactive tables.';\n",
       "          element.innerHTML = '';\n",
       "          dataTable['output_type'] = 'display_data';\n",
       "          await google.colab.output.renderOutput(dataTable, element);\n",
       "          const docLink = document.createElement('div');\n",
       "          docLink.innerHTML = docLinkHtml;\n",
       "          element.appendChild(docLink);\n",
       "        }\n",
       "      </script>\n",
       "    </div>\n",
       "  </div>\n",
       "  "
      ],
      "text/plain": [
       "   Unnamed: 0  Option_type  Ask  Bid  Option_price  Stock_price  Strike_price  \\\n",
       "0           0            1  0.2  0.0          0.09        79.54          45.0   \n",
       "\n",
       "   Volatility  Volume  Time_to_maturity  Implied_volatility Type  \n",
       "0    0.286563       4          0.123288            0.763674  ITM  "
      ]
     },
     "execution_count": 2,
     "metadata": {},
     "output_type": "execute_result"
    }
   ],
   "source": [
    "#dataread\n",
    "\n",
    "OP_df = pd.read_csv('OptionData12110.csv')\n",
    "OP_df=OP_df.dropna()\n",
    "OP_df['Pdiff'] =  OP_df['Strike_price'] - OP_df['Stock_price'] \n",
    "COP_df = OP_df. loc[OP_df['Option_type'] == 1]\n",
    "POP_df = OP_df.loc[OP_df['Option_type'] == 0]\n",
    "OP_df.head(1)\n",
    "\n",
    "#OP_df['Pdiff'] = OP_df.apply(lambda x: int(x['Stock_price']) - int(x['Stock_price']), axis=1)\n",
    "def func(x):\n",
    "    if x > 0 :\n",
    "        return 'OTM'\n",
    "    elif x < 0 :\n",
    "        return 'ITM'\n",
    "    else:\n",
    "        return 'ATM'\n",
    "    \n",
    "def pfunc(x):\n",
    "    if x > 0 :\n",
    "        return 'PUT_ITM'\n",
    "    elif x < 0 :\n",
    "        return 'PUT_OTM'\n",
    "    else:\n",
    "        return 'PUT_ATM'\n",
    "\n",
    "COP_df['Type'] = COP_df['Pdiff'].apply(func)\n",
    "POP_df['Type'] = POP_df['Pdiff'].apply(pfunc)\n",
    "\n",
    "COP_df = COP_df.drop(['Pdiff'], axis = 1)\n",
    "POP_df = POP_df.drop(['Pdiff'], axis = 1)\n",
    "\n",
    "frames = [COP_df, POP_df]\n",
    "\n",
    "df = pd.concat(frames)\n",
    "df.head(1)"
   ]
  },
  {
   "cell_type": "code",
   "execution_count": 3,
   "metadata": {
    "id": "CJ4iSPgI2QxM"
   },
   "outputs": [],
   "source": [
    "from sklearn.model_selection import train_test_split\n",
    "df = df.drop(['Type'], axis = 1)\n",
    "data = np.array(StandardScaler().fit_transform(df))\n",
    "label = np.array(df.Implied_volatility)\n",
    "\n",
    "X_train, X_test, Y_train, Y_test = train_test_split(data, label, test_size=0.20, random_state=42)"
   ]
  },
  {
   "cell_type": "code",
   "execution_count": 5,
   "metadata": {
    "colab": {
     "base_uri": "https://localhost:8080/"
    },
    "id": "9G3emmxU2ygs",
    "outputId": "e86172a9-1ef4-47cc-da75-b0c574605570"
   },
   "outputs": [
    {
     "data": {
      "text/plain": [
       "(2422, 11, 1)"
      ]
     },
     "execution_count": 5,
     "metadata": {},
     "output_type": "execute_result"
    }
   ],
   "source": [
    "X_train = X_train.reshape(X_train.shape[0],X_train.shape[1],1)\n",
    "X_test = X_test.reshape(X_test.shape[0],X_test.shape[1],1)\n",
    "np.shape(X_test)"
   ]
  },
  {
   "cell_type": "code",
   "execution_count": null,
   "metadata": {
    "id": "Rdd2LPBs4tSC"
   },
   "outputs": [],
   "source": [
    "#LSTM"
   ]
  },
  {
   "cell_type": "code",
   "execution_count": 4,
   "metadata": {
    "colab": {
     "base_uri": "https://localhost:8080/"
    },
    "id": "7m4ln6jJ2Q1z",
    "outputId": "a3e8619f-dc72-4aa7-a430-66e73a9a2271"
   },
   "outputs": [
    {
     "name": "stdout",
     "output_type": "stream",
     "text": [
      "Model: \"sequential\"\n",
      "_________________________________________________________________\n",
      " Layer (type)                Output Shape              Param #   \n",
      "=================================================================\n",
      " lstm (LSTM)                 (None, 11, 64)            16896     \n",
      "                                                                 \n",
      " dropout (Dropout)           (None, 11, 64)            0         \n",
      "                                                                 \n",
      " lstm_1 (LSTM)               (None, 32)                12416     \n",
      "                                                                 \n",
      " dropout_1 (Dropout)         (None, 32)                0         \n",
      "                                                                 \n",
      " dense (Dense)               (None, 1)                 33        \n",
      "                                                                 \n",
      "=================================================================\n",
      "Total params: 29,345\n",
      "Trainable params: 29,345\n",
      "Non-trainable params: 0\n",
      "_________________________________________________________________\n"
     ]
    }
   ],
   "source": [
    "\n",
    "from keras.layers import Dense, Dropout, LSTM, Embedding\n",
    "from keras.preprocessing.sequence import pad_sequences\n",
    "from keras.models import Sequential\n",
    "import pandas as pd\n",
    "import numpy as np\n",
    "\n",
    "model = Sequential()\n",
    "model.add(LSTM (64, return_sequences = True,input_shape = [11,1]))\n",
    "model.add(Dropout(0.2))\n",
    "model.add(LSTM (32))\n",
    "model.add(Dropout(0.2))\n",
    "model.add(Dense(1))\n",
    "\n",
    "\n",
    "model.compile(loss='mse', optimizer='rmsprop' , metrics=['accuracy'] )\n",
    "\n",
    "model.summary()\n"
   ]
  },
  {
   "cell_type": "code",
   "execution_count": null,
   "metadata": {
    "id": "erDbS4qb2RCR"
   },
   "outputs": [],
   "source": [
    "hist = model.fit(X_train, Y_train, batch_size=32, epochs=500, validation_split = 0.1, verbose = 1)"
   ]
  },
  {
   "cell_type": "code",
   "execution_count": null,
   "metadata": {
    "id": "RTwsHHb_2qMj"
   },
   "outputs": [],
   "source": [
    "pred = model.predict(X_test)\n",
    "mse_bst,r2_bst = metric(pred,Y_test)\n",
    "print(\"SVM 1. MSE 2. R2 : \" , mse_bst,r2_bst)"
   ]
  },
  {
   "cell_type": "code",
   "execution_count": 23,
   "metadata": {
    "id": "cXNvnXTw2qNi"
   },
   "outputs": [],
   "source": [
    "from sklearn.model_selection import train_test_split\n",
    "#df = df.drop(['Type'], axis = 1)\n",
    "data = np.array(StandardScaler().fit_transform(df))\n",
    "label = np.array(df.Implied_volatility)\n",
    "\n",
    "X_train, X_test, Y_train, Y_test = train_test_split(data, label, test_size=0.20, random_state=42)"
   ]
  },
  {
   "cell_type": "code",
   "execution_count": null,
   "metadata": {
    "id": "6QBqDlte2qRV"
   },
   "outputs": [],
   "source": []
  },
  {
   "cell_type": "code",
   "execution_count": null,
   "metadata": {
    "id": "8v19JnR84nr8"
   },
   "outputs": [],
   "source": [
    "#Transformer"
   ]
  },
  {
   "cell_type": "code",
   "execution_count": 43,
   "metadata": {
    "id": "YNlKn8Zn4ntQ"
   },
   "outputs": [],
   "source": [
    "from tensorflow import keras\n",
    "from tensorflow.keras import layers\n",
    "\n",
    "def transformer_encoder(inputs, head_size, num_heads, ff_dim, dropout=0):\n",
    "    # Normalization and Attention\n",
    "    x = layers.LayerNormalization(epsilon=1e-6)(inputs)\n",
    "    x = layers.MultiHeadAttention(\n",
    "        key_dim=head_size, num_heads=num_heads, dropout=dropout\n",
    "    )(x, x)\n",
    "    x = layers.Dropout(dropout)(x)\n",
    "    res = x + inputs\n",
    "\n",
    "    # Feed Forward Part\n",
    "    x = layers.LayerNormalization(epsilon=1e-6)(res)\n",
    "    x = layers.Conv1D(filters=ff_dim, kernel_size=1, activation=\"relu\")(x)\n",
    "    x = layers.Dropout(dropout)(x)\n",
    "    x = layers.Conv1D(filters=inputs.shape[-1], kernel_size=1)(x)\n",
    "    return x + res\n",
    "\n",
    "\n",
    "def build_model(\n",
    "    input_shape,\n",
    "    head_size,\n",
    "    num_heads,\n",
    "    ff_dim,\n",
    "    num_transformer_blocks,\n",
    "    mlp_units,\n",
    "    dropout=0,\n",
    "    mlp_dropout=0,\n",
    "):\n",
    "    inputs = keras.Input(shape=input_shape)\n",
    "    x = inputs\n",
    "    for _ in range(num_transformer_blocks):\n",
    "        x = transformer_encoder(x, head_size, num_heads, ff_dim, dropout)\n",
    "\n",
    "    x = layers.GlobalAveragePooling1D(data_format=\"channels_first\")(x)\n",
    "    for dim in mlp_units:\n",
    "        x = layers.Dense(dim, activation=\"relu\")(x)\n",
    "        x = layers.Dropout(mlp_dropout)(x)\n",
    "    outputs = layers.Dense(1, activation=\"linear\")(x)\n",
    "    return keras.Model(inputs, outputs)"
   ]
  },
  {
   "cell_type": "code",
   "execution_count": 34,
   "metadata": {
    "colab": {
     "base_uri": "https://localhost:8080/"
    },
    "id": "mdzlsxPU6a49",
    "outputId": "6f7fc420-32d0-4dd7-be4f-b497cabc2e46"
   },
   "outputs": [
    {
     "data": {
      "text/plain": [
       "(2422, 11, 1)"
      ]
     },
     "execution_count": 34,
     "metadata": {},
     "output_type": "execute_result"
    }
   ],
   "source": [
    "X_train = X_train.reshape(X_train.shape[0],X_train.shape[1],1)\n",
    "X_test = X_test.reshape(X_test.shape[0],X_test.shape[1],1)\n",
    "np.shape(X_test)"
   ]
  },
  {
   "cell_type": "code",
   "execution_count": 44,
   "metadata": {
    "colab": {
     "base_uri": "https://localhost:8080/"
    },
    "id": "344PBldg4nxR",
    "outputId": "13c56c5c-b66c-4bff-dd1b-b302556e430a"
   },
   "outputs": [
    {
     "name": "stdout",
     "output_type": "stream",
     "text": [
      "Model: \"model_7\"\n",
      "__________________________________________________________________________________________________\n",
      " Layer (type)                   Output Shape         Param #     Connected to                     \n",
      "==================================================================================================\n",
      " input_11 (InputLayer)          [(None, 11, 1)]      0           []                               \n",
      "                                                                                                  \n",
      " layer_normalization_26 (LayerN  (None, 11, 1)       2           ['input_11[0][0]']               \n",
      " ormalization)                                                                                    \n",
      "                                                                                                  \n",
      " multi_head_attention_13 (Multi  (None, 11, 1)       7169        ['layer_normalization_26[0][0]', \n",
      " HeadAttention)                                                   'layer_normalization_26[0][0]'] \n",
      "                                                                                                  \n",
      " dropout_42 (Dropout)           (None, 11, 1)        0           ['multi_head_attention_13[0][0]']\n",
      "                                                                                                  \n",
      " tf.__operators__.add_16 (TFOpL  (None, 11, 1)       0           ['dropout_42[0][0]',             \n",
      " ambda)                                                           'input_11[0][0]']               \n",
      "                                                                                                  \n",
      " layer_normalization_27 (LayerN  (None, 11, 1)       2           ['tf.__operators__.add_16[0][0]']\n",
      " ormalization)                                                                                    \n",
      "                                                                                                  \n",
      " conv1d_16 (Conv1D)             (None, 11, 4)        8           ['layer_normalization_27[0][0]'] \n",
      "                                                                                                  \n",
      " dropout_43 (Dropout)           (None, 11, 4)        0           ['conv1d_16[0][0]']              \n",
      "                                                                                                  \n",
      " conv1d_17 (Conv1D)             (None, 11, 1)        5           ['dropout_43[0][0]']             \n",
      "                                                                                                  \n",
      " tf.__operators__.add_17 (TFOpL  (None, 11, 1)       0           ['conv1d_17[0][0]',              \n",
      " ambda)                                                           'tf.__operators__.add_16[0][0]']\n",
      "                                                                                                  \n",
      " layer_normalization_28 (LayerN  (None, 11, 1)       2           ['tf.__operators__.add_17[0][0]']\n",
      " ormalization)                                                                                    \n",
      "                                                                                                  \n",
      " multi_head_attention_14 (Multi  (None, 11, 1)       7169        ['layer_normalization_28[0][0]', \n",
      " HeadAttention)                                                   'layer_normalization_28[0][0]'] \n",
      "                                                                                                  \n",
      " dropout_44 (Dropout)           (None, 11, 1)        0           ['multi_head_attention_14[0][0]']\n",
      "                                                                                                  \n",
      " tf.__operators__.add_18 (TFOpL  (None, 11, 1)       0           ['dropout_44[0][0]',             \n",
      " ambda)                                                           'tf.__operators__.add_17[0][0]']\n",
      "                                                                                                  \n",
      " layer_normalization_29 (LayerN  (None, 11, 1)       2           ['tf.__operators__.add_18[0][0]']\n",
      " ormalization)                                                                                    \n",
      "                                                                                                  \n",
      " conv1d_18 (Conv1D)             (None, 11, 4)        8           ['layer_normalization_29[0][0]'] \n",
      "                                                                                                  \n",
      " dropout_45 (Dropout)           (None, 11, 4)        0           ['conv1d_18[0][0]']              \n",
      "                                                                                                  \n",
      " conv1d_19 (Conv1D)             (None, 11, 1)        5           ['dropout_45[0][0]']             \n",
      "                                                                                                  \n",
      " tf.__operators__.add_19 (TFOpL  (None, 11, 1)       0           ['conv1d_19[0][0]',              \n",
      " ambda)                                                           'tf.__operators__.add_18[0][0]']\n",
      "                                                                                                  \n",
      " layer_normalization_30 (LayerN  (None, 11, 1)       2           ['tf.__operators__.add_19[0][0]']\n",
      " ormalization)                                                                                    \n",
      "                                                                                                  \n",
      " multi_head_attention_15 (Multi  (None, 11, 1)       7169        ['layer_normalization_30[0][0]', \n",
      " HeadAttention)                                                   'layer_normalization_30[0][0]'] \n",
      "                                                                                                  \n",
      " dropout_46 (Dropout)           (None, 11, 1)        0           ['multi_head_attention_15[0][0]']\n",
      "                                                                                                  \n",
      " tf.__operators__.add_20 (TFOpL  (None, 11, 1)       0           ['dropout_46[0][0]',             \n",
      " ambda)                                                           'tf.__operators__.add_19[0][0]']\n",
      "                                                                                                  \n",
      " layer_normalization_31 (LayerN  (None, 11, 1)       2           ['tf.__operators__.add_20[0][0]']\n",
      " ormalization)                                                                                    \n",
      "                                                                                                  \n",
      " conv1d_20 (Conv1D)             (None, 11, 4)        8           ['layer_normalization_31[0][0]'] \n",
      "                                                                                                  \n",
      " dropout_47 (Dropout)           (None, 11, 4)        0           ['conv1d_20[0][0]']              \n",
      "                                                                                                  \n",
      " conv1d_21 (Conv1D)             (None, 11, 1)        5           ['dropout_47[0][0]']             \n",
      "                                                                                                  \n",
      " tf.__operators__.add_21 (TFOpL  (None, 11, 1)       0           ['conv1d_21[0][0]',              \n",
      " ambda)                                                           'tf.__operators__.add_20[0][0]']\n",
      "                                                                                                  \n",
      " layer_normalization_32 (LayerN  (None, 11, 1)       2           ['tf.__operators__.add_21[0][0]']\n",
      " ormalization)                                                                                    \n",
      "                                                                                                  \n",
      " multi_head_attention_16 (Multi  (None, 11, 1)       7169        ['layer_normalization_32[0][0]', \n",
      " HeadAttention)                                                   'layer_normalization_32[0][0]'] \n",
      "                                                                                                  \n",
      " dropout_48 (Dropout)           (None, 11, 1)        0           ['multi_head_attention_16[0][0]']\n",
      "                                                                                                  \n",
      " tf.__operators__.add_22 (TFOpL  (None, 11, 1)       0           ['dropout_48[0][0]',             \n",
      " ambda)                                                           'tf.__operators__.add_21[0][0]']\n",
      "                                                                                                  \n",
      " layer_normalization_33 (LayerN  (None, 11, 1)       2           ['tf.__operators__.add_22[0][0]']\n",
      " ormalization)                                                                                    \n",
      "                                                                                                  \n",
      " conv1d_22 (Conv1D)             (None, 11, 4)        8           ['layer_normalization_33[0][0]'] \n",
      "                                                                                                  \n",
      " dropout_49 (Dropout)           (None, 11, 4)        0           ['conv1d_22[0][0]']              \n",
      "                                                                                                  \n",
      " conv1d_23 (Conv1D)             (None, 11, 1)        5           ['dropout_49[0][0]']             \n",
      "                                                                                                  \n",
      " tf.__operators__.add_23 (TFOpL  (None, 11, 1)       0           ['conv1d_23[0][0]',              \n",
      " ambda)                                                           'tf.__operators__.add_22[0][0]']\n",
      "                                                                                                  \n",
      " global_average_pooling1d_7 (Gl  (None, 11)          0           ['tf.__operators__.add_23[0][0]']\n",
      " obalAveragePooling1D)                                                                            \n",
      "                                                                                                  \n",
      " dense_29 (Dense)               (None, 128)          1536        ['global_average_pooling1d_7[0][0\n",
      "                                                                 ]']                              \n",
      "                                                                                                  \n",
      " dropout_50 (Dropout)           (None, 128)          0           ['dense_29[0][0]']               \n",
      "                                                                                                  \n",
      " dense_30 (Dense)               (None, 1)            129         ['dropout_50[0][0]']             \n",
      "                                                                                                  \n",
      "==================================================================================================\n",
      "Total params: 30,409\n",
      "Trainable params: 30,409\n",
      "Non-trainable params: 0\n",
      "__________________________________________________________________________________________________\n",
      "Epoch 1/20\n",
      "122/122 [==============================] - 36s 225ms/step - loss: 0.0922 - accuracy: 0.0000e+00 - val_loss: 0.0047 - val_accuracy: 0.0000e+00\n",
      "Epoch 2/20\n",
      "122/122 [==============================] - 25s 207ms/step - loss: 0.0293 - accuracy: 0.0000e+00 - val_loss: 0.0030 - val_accuracy: 0.0000e+00\n",
      "Epoch 3/20\n",
      "122/122 [==============================] - 25s 206ms/step - loss: 0.0120 - accuracy: 0.0000e+00 - val_loss: 0.0038 - val_accuracy: 0.0000e+00\n",
      "Epoch 4/20\n",
      "122/122 [==============================] - 25s 204ms/step - loss: 0.0061 - accuracy: 0.0000e+00 - val_loss: 0.0014 - val_accuracy: 0.0000e+00\n",
      "Epoch 5/20\n",
      "122/122 [==============================] - 25s 203ms/step - loss: 0.0047 - accuracy: 0.0000e+00 - val_loss: 7.8373e-04 - val_accuracy: 0.0000e+00\n",
      "Epoch 6/20\n",
      "122/122 [==============================] - 25s 206ms/step - loss: 0.0032 - accuracy: 0.0000e+00 - val_loss: 4.0377e-04 - val_accuracy: 0.0000e+00\n",
      "Epoch 7/20\n",
      "122/122 [==============================] - 25s 202ms/step - loss: 0.0020 - accuracy: 0.0000e+00 - val_loss: 3.4710e-04 - val_accuracy: 0.0000e+00\n",
      "Epoch 8/20\n",
      "122/122 [==============================] - 24s 197ms/step - loss: 0.0014 - accuracy: 0.0000e+00 - val_loss: 6.7939e-04 - val_accuracy: 0.0000e+00\n",
      "Epoch 9/20\n",
      "122/122 [==============================] - 25s 209ms/step - loss: 0.0015 - accuracy: 0.0000e+00 - val_loss: 0.0011 - val_accuracy: 0.0000e+00\n",
      "Epoch 10/20\n",
      "122/122 [==============================] - 26s 214ms/step - loss: 0.0010 - accuracy: 0.0000e+00 - val_loss: 1.1007e-04 - val_accuracy: 0.0000e+00\n",
      "Epoch 11/20\n",
      "122/122 [==============================] - 24s 200ms/step - loss: 9.3397e-04 - accuracy: 0.0000e+00 - val_loss: 2.1031e-04 - val_accuracy: 0.0000e+00\n",
      "Epoch 12/20\n",
      "122/122 [==============================] - 25s 203ms/step - loss: 8.9713e-04 - accuracy: 0.0000e+00 - val_loss: 2.3605e-04 - val_accuracy: 0.0000e+00\n",
      "Epoch 13/20\n",
      "122/122 [==============================] - 24s 201ms/step - loss: 8.2694e-04 - accuracy: 0.0000e+00 - val_loss: 2.5460e-04 - val_accuracy: 0.0000e+00\n",
      "Epoch 14/20\n",
      "122/122 [==============================] - 25s 203ms/step - loss: 7.2357e-04 - accuracy: 0.0000e+00 - val_loss: 1.5832e-04 - val_accuracy: 0.0000e+00\n",
      "Epoch 15/20\n",
      "122/122 [==============================] - 25s 205ms/step - loss: 7.2890e-04 - accuracy: 0.0000e+00 - val_loss: 2.4935e-04 - val_accuracy: 0.0000e+00\n",
      "Epoch 16/20\n",
      "122/122 [==============================] - 25s 202ms/step - loss: 6.7082e-04 - accuracy: 0.0000e+00 - val_loss: 1.1811e-04 - val_accuracy: 0.0000e+00\n",
      "Epoch 17/20\n",
      "122/122 [==============================] - 25s 205ms/step - loss: 6.3780e-04 - accuracy: 0.0000e+00 - val_loss: 5.2885e-05 - val_accuracy: 0.0000e+00\n",
      "Epoch 18/20\n",
      "122/122 [==============================] - 25s 204ms/step - loss: 6.2270e-04 - accuracy: 0.0000e+00 - val_loss: 6.4082e-05 - val_accuracy: 0.0000e+00\n",
      "Epoch 19/20\n",
      "122/122 [==============================] - 26s 215ms/step - loss: 5.9475e-04 - accuracy: 0.0000e+00 - val_loss: 1.7539e-04 - val_accuracy: 0.0000e+00\n",
      "Epoch 20/20\n",
      "122/122 [==============================] - 25s 206ms/step - loss: 6.1063e-04 - accuracy: 0.0000e+00 - val_loss: 1.3419e-04 - val_accuracy: 0.0000e+00\n"
     ]
    },
    {
     "data": {
      "text/plain": [
       "<keras.callbacks.History at 0x7f936e7f4510>"
      ]
     },
     "execution_count": 44,
     "metadata": {},
     "output_type": "execute_result"
    }
   ],
   "source": [
    "input_shape = X_train.shape[1:]\n",
    "\n",
    "model = build_model(\n",
    "    input_shape,\n",
    "    head_size=256,\n",
    "    num_heads=4,\n",
    "    ff_dim=4,\n",
    "    num_transformer_blocks=4,\n",
    "    mlp_units=[128],\n",
    "    mlp_dropout=0.4,\n",
    "    dropout=0.25,\n",
    ")\n",
    "\n",
    "model.compile(\n",
    "    loss=\"mse\",\n",
    "    optimizer='rmsprop',\n",
    "    metrics=['accuracy'],\n",
    ")\n",
    "model.summary()\n",
    "\n",
    "callbacks = [keras.callbacks.EarlyStopping(patience=10, restore_best_weights=True)]\n",
    "\n",
    "model.fit(\n",
    "    X_train,\n",
    "    Y_train,\n",
    "    validation_split=0.2,\n",
    "    epochs=20,\n",
    "    batch_size=64,\n",
    "    callbacks=callbacks,\n",
    ")\n"
   ]
  },
  {
   "cell_type": "code",
   "execution_count": 46,
   "metadata": {
    "colab": {
     "base_uri": "https://localhost:8080/"
    },
    "id": "WmyVZ8c922Kw",
    "outputId": "2c7722cb-8827-4d6d-aa58-96cd06d017fb"
   },
   "outputs": [
    {
     "name": "stdout",
     "output_type": "stream",
     "text": [
      "1. MSE 2. R2 :  0.00013612616657376553 0.9961074374361188\n"
     ]
    }
   ],
   "source": [
    "pred = model.predict(X_test)\n",
    "mse_bst,r2_bst = metric(pred,Y_test)\n",
    "print(\"1. MSE 2. R2 : \" , mse_bst,r2_bst)"
   ]
  },
  {
   "cell_type": "code",
   "execution_count": 42,
   "metadata": {
    "colab": {
     "base_uri": "https://localhost:8080/"
    },
    "id": "ZKlam33i22MF",
    "outputId": "27ec973b-fb68-46f3-e519-56dd35bc09ef"
   },
   "outputs": [
    {
     "data": {
      "text/plain": [
       "(2422, 2)"
      ]
     },
     "execution_count": 42,
     "metadata": {},
     "output_type": "execute_result"
    }
   ],
   "source": [
    "np.shape(pred)"
   ]
  },
  {
   "cell_type": "code",
   "execution_count": null,
   "metadata": {
    "id": "gDFL25J_22Pu"
   },
   "outputs": [],
   "source": []
  },
  {
   "cell_type": "code",
   "execution_count": null,
   "metadata": {
    "id": "j4Y9FEgx22Qr"
   },
   "outputs": [],
   "source": []
  },
  {
   "cell_type": "code",
   "execution_count": null,
   "metadata": {
    "id": "mxgC91ed22Um"
   },
   "outputs": [],
   "source": []
  },
  {
   "cell_type": "code",
   "execution_count": null,
   "metadata": {
    "id": "7vPOyPkQ22Vn"
   },
   "outputs": [],
   "source": []
  },
  {
   "cell_type": "code",
   "execution_count": null,
   "metadata": {
    "id": "w6WRQGc122Za"
   },
   "outputs": [],
   "source": []
  },
  {
   "cell_type": "code",
   "execution_count": null,
   "metadata": {
    "id": "A7KnqCYa22aZ"
   },
   "outputs": [],
   "source": []
  },
  {
   "cell_type": "code",
   "execution_count": null,
   "metadata": {
    "id": "_fGt8KHO22fV"
   },
   "outputs": [],
   "source": []
  },
  {
   "cell_type": "code",
   "execution_count": null,
   "metadata": {
    "id": "YZwsmSnY22gQ"
   },
   "outputs": [],
   "source": []
  },
  {
   "cell_type": "code",
   "execution_count": null,
   "metadata": {
    "id": "LeAFsLd72qSS"
   },
   "outputs": [],
   "source": []
  },
  {
   "cell_type": "code",
   "execution_count": null,
   "metadata": {
    "id": "qYgwVz5G2qWZ"
   },
   "outputs": [],
   "source": [
    "#ResNet"
   ]
  },
  {
   "cell_type": "code",
   "execution_count": 6,
   "metadata": {
    "id": "Fve2aeKB2qXT"
   },
   "outputs": [],
   "source": [
    "from sklearn.model_selection import train_test_split\n",
    "#df = df.drop(['Type'], axis = 1)\n",
    "data = np.array(StandardScaler().fit_transform(df))\n",
    "label = np.array(df.Implied_volatility)\n",
    "\n",
    "X_train, X_test, Y_train, Y_test = train_test_split(data, label, test_size=0.20, random_state=42)"
   ]
  },
  {
   "cell_type": "code",
   "execution_count": 7,
   "metadata": {
    "colab": {
     "base_uri": "https://localhost:8080/"
    },
    "id": "NgmF3uxM2qb8",
    "outputId": "10ccefbf-3448-4e32-aa0c-f102d5c25430"
   },
   "outputs": [
    {
     "data": {
      "text/plain": [
       "(35, 32, 32, 3)"
      ]
     },
     "execution_count": 7,
     "metadata": {},
     "output_type": "execute_result"
    }
   ],
   "source": [
    "X_train = X_train.reshape(9688*11)\n",
    "b = np.ones(952, dtype = int)\n",
    "X_train = np.append(X_train,b)\n",
    "X_train = X_train.reshape(35,32,32,3)\n",
    "np.shape(X_train)"
   ]
  },
  {
   "cell_type": "code",
   "execution_count": 8,
   "metadata": {
    "colab": {
     "base_uri": "https://localhost:8080/"
    },
    "id": "ss9Z0dtE2qiL",
    "outputId": "e308744e-cb5a-418d-8071-2cdfa4e6579a"
   },
   "outputs": [
    {
     "data": {
      "text/plain": [
       "(9, 32, 32, 3)"
      ]
     },
     "execution_count": 8,
     "metadata": {},
     "output_type": "execute_result"
    }
   ],
   "source": [
    "X_test = X_test.reshape(2422*11)\n",
    "b = np.ones(1006, dtype = int)\n",
    "X_test = np.append(X_test,b)\n",
    "X_test = X_test.reshape(9,32,32,3)\n",
    "np.shape(X_test)"
   ]
  },
  {
   "cell_type": "code",
   "execution_count": 9,
   "metadata": {
    "colab": {
     "base_uri": "https://localhost:8080/"
    },
    "id": "Bv0bRqjv3AI7",
    "outputId": "fd30a17b-d32e-4070-97a1-f96458b84f46"
   },
   "outputs": [
    {
     "data": {
      "text/plain": [
       "(9,)"
      ]
     },
     "execution_count": 9,
     "metadata": {},
     "output_type": "execute_result"
    }
   ],
   "source": [
    "Y_train = np.ones(35, dtype = int)\n",
    "np.shape(Y_train)\n",
    "Y_test = np.ones(9, dtype = int)\n",
    "np.shape(Y_test)"
   ]
  },
  {
   "cell_type": "code",
   "execution_count": 12,
   "metadata": {
    "colab": {
     "base_uri": "https://localhost:8080/"
    },
    "id": "e8IoiWK53AJ7",
    "outputId": "0739fbed-2b36-42a0-f414-eb16e90b543a"
   },
   "outputs": [
    {
     "name": "stdout",
     "output_type": "stream",
     "text": [
      "Epoch 1/10\n",
      "1/1 [==============================] - 7s 7s/step - loss: 2.7605 - accuracy: 0.9355 - val_loss: 26.6809 - val_accuracy: 0.0000e+00\n",
      "Epoch 2/10\n",
      "1/1 [==============================] - 0s 234ms/step - loss: 53.2519 - accuracy: 0.0000e+00 - val_loss: 0.5480 - val_accuracy: 0.5000\n",
      "Epoch 3/10\n",
      "1/1 [==============================] - 0s 228ms/step - loss: 2.8233 - accuracy: 0.5161 - val_loss: 0.1884 - val_accuracy: 1.0000\n",
      "Epoch 4/10\n",
      "1/1 [==============================] - 0s 221ms/step - loss: 2.6118 - accuracy: 0.4839 - val_loss: 0.1758 - val_accuracy: 1.0000\n",
      "Epoch 5/10\n",
      "1/1 [==============================] - 0s 217ms/step - loss: 3.3134 - accuracy: 0.6129 - val_loss: 0.0945 - val_accuracy: 1.0000\n",
      "Epoch 6/10\n",
      "1/1 [==============================] - 0s 261ms/step - loss: 1.9424 - accuracy: 0.8065 - val_loss: 0.1499 - val_accuracy: 0.7500\n",
      "Epoch 7/10\n",
      "1/1 [==============================] - 0s 264ms/step - loss: 0.5765 - accuracy: 0.6129 - val_loss: 0.1287 - val_accuracy: 0.7500\n",
      "Epoch 8/10\n",
      "1/1 [==============================] - 0s 251ms/step - loss: 1.0897 - accuracy: 0.7742 - val_loss: 0.3266 - val_accuracy: 0.7500\n",
      "Epoch 9/10\n",
      "1/1 [==============================] - 0s 240ms/step - loss: 0.4923 - accuracy: 0.5806 - val_loss: 0.1411 - val_accuracy: 0.7500\n",
      "Epoch 10/10\n",
      "1/1 [==============================] - 0s 282ms/step - loss: 0.7503 - accuracy: 0.8710 - val_loss: 0.2690 - val_accuracy: 0.7500\n"
     ]
    }
   ],
   "source": [
    "import keras\n",
    "import tensorflow as tf\n",
    "from tensorflow.keras.applications.resnet50 import ResNet50\n",
    "\n",
    "resnet = tf.keras.applications.resnet50.ResNet50(\n",
    "    include_top=False,\n",
    "    input_tensor=None,\n",
    "    input_shape=(32, 32, 3),\n",
    "    pooling=None\n",
    ")\n",
    "\n",
    "for layer in resnet.layers[:-4]:                                                       \n",
    "    layer.trainable = False\n",
    "    \n",
    "#model.summary()\n",
    "\n",
    "model = Sequential()\n",
    "\n",
    "model.add(resnet) \n",
    "model.add(Dense (32, activation='relu'))\n",
    "#Final Dense Layer\n",
    "model.add(Dropout(.2))\n",
    "model.add(Dense(1, activation=\"linear\"))  \n",
    "                     \n",
    "model.compile(optimizer='rmsprop', loss='mse', metrics='accuracy')\n",
    "hist = model.fit(X_train, Y_train, batch_size=32, epochs=10, validation_split = 0.1, verbose = 1)"
   ]
  },
  {
   "cell_type": "code",
   "execution_count": 17,
   "metadata": {
    "colab": {
     "base_uri": "https://localhost:8080/"
    },
    "id": "yOOBVrox3ANw",
    "outputId": "1ce24df0-2204-46e1-ee2f-d0a8a2c15a41"
   },
   "outputs": [
    {
     "name": "stdout",
     "output_type": "stream",
     "text": [
      "SVM 1. MSE 2. R2 :  0.38172601948303075 0.0\n"
     ]
    }
   ],
   "source": [
    "pred = model.predict(X_test)\n",
    "mse_bst,r2_bst = metric(pred.reshape(len(pred),1),Y_test)\n",
    "print(\"SVM 1. MSE 2. R2 : \" , mse_bst,r2_bst)"
   ]
  },
  {
   "cell_type": "code",
   "execution_count": 16,
   "metadata": {
    "colab": {
     "base_uri": "https://localhost:8080/"
    },
    "id": "nLzLiVSX3AOw",
    "outputId": "8f252658-62ed-4afe-b254-da33dd26894a"
   },
   "outputs": [
    {
     "data": {
      "text/plain": [
       "(9, 1, 1, 1)"
      ]
     },
     "execution_count": 16,
     "metadata": {},
     "output_type": "execute_result"
    }
   ],
   "source": [
    "np.shape(pred)"
   ]
  }
 ],
 "metadata": {
  "colab": {
   "name": "Untitled2.ipynb",
   "provenance": []
  },
  "kernelspec": {
   "display_name": "Python 3 (ipykernel)",
   "language": "python",
   "name": "python3"
  },
  "language_info": {
   "codemirror_mode": {
    "name": "ipython",
    "version": 3
   },
   "file_extension": ".py",
   "mimetype": "text/x-python",
   "name": "python",
   "nbconvert_exporter": "python",
   "pygments_lexer": "ipython3",
   "version": "3.9.7"
  }
 },
 "nbformat": 4,
 "nbformat_minor": 1
}
