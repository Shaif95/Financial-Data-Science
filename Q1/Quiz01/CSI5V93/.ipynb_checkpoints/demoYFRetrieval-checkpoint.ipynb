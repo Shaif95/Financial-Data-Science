{
 "cells": [
  {
   "cell_type": "code",
   "execution_count": 2,
   "metadata": {
    "executionInfo": {
     "elapsed": 7479,
     "status": "ok",
     "timestamp": 1643209935038,
     "user": {
      "displayName": "Hank H",
      "photoUrl": "https://lh3.googleusercontent.com/a/default-user=s64",
      "userId": "18411390162527511542"
     },
     "user_tz": 360
    },
    "id": "9AztefMBvu74"
   },
   "outputs": [],
   "source": [
    "!pip install yfinance -U -q"
   ]
  },
  {
   "cell_type": "code",
   "execution_count": 3,
   "metadata": {
    "executionInfo": {
     "elapsed": 134,
     "status": "ok",
     "timestamp": 1643209935163,
     "user": {
      "displayName": "Hank H",
      "photoUrl": "https://lh3.googleusercontent.com/a/default-user=s64",
      "userId": "18411390162527511542"
     },
     "user_tz": 360
    },
    "id": "IEL1X62_v1-9"
   },
   "outputs": [],
   "source": [
    "import yfinance as yf\n",
    "import pandas as pd\n"
   ]
  },
  {
   "cell_type": "code",
   "execution_count": 4,
   "metadata": {
    "executionInfo": {
     "elapsed": 2,
     "status": "ok",
     "timestamp": 1643209935164,
     "user": {
      "displayName": "Hank H",
      "photoUrl": "https://lh3.googleusercontent.com/a/default-user=s64",
      "userId": "18411390162527511542"
     },
     "user_tz": 360
    },
    "id": "fj6cPv2Vv5Vk"
   },
   "outputs": [],
   "source": [
    "tickerSymbol = 'AAPL'\n",
    "tickerData = yf.Ticker(tickerSymbol)\n",
    "start_time=\"2022-01-11\"\n",
    "end_time=\"2022-01-18\""
   ]
  },
  {
   "cell_type": "code",
   "execution_count": 5,
   "metadata": {
    "executionInfo": {
     "elapsed": 378,
     "status": "ok",
     "timestamp": 1643209935540,
     "user": {
      "displayName": "Hank H",
      "photoUrl": "https://lh3.googleusercontent.com/a/default-user=s64",
      "userId": "18411390162527511542"
     },
     "user_tz": 360
    },
    "id": "FQ_1tFF0v9nl"
   },
   "outputs": [],
   "source": [
    "data = tickerData.history(tickers = tickerSymbol, interval = \"1m\", \n",
    "                          start=start_time, end=end_time)\n",
    "\n",
    "data['typical price']=(data['High']+data['Low']+data['Close'])/3"
   ]
  },
  {
   "cell_type": "code",
   "execution_count": 6,
   "metadata": {
    "colab": {
     "base_uri": "https://localhost:8080/"
    },
    "executionInfo": {
     "elapsed": 7,
     "status": "ok",
     "timestamp": 1643209935541,
     "user": {
      "displayName": "Hank H",
      "photoUrl": "https://lh3.googleusercontent.com/a/default-user=s64",
      "userId": "18411390162527511542"
     },
     "user_tz": 360
    },
    "id": "SES3kG0MV63n",
    "outputId": "c8730999-92a2-4777-ac21-b2dbfe64c132"
   },
   "outputs": [
    {
     "data": {
      "text/plain": [
       "1559"
      ]
     },
     "execution_count": 6,
     "metadata": {},
     "output_type": "execute_result"
    }
   ],
   "source": [
    "data.shape[0]"
   ]
  },
  {
   "cell_type": "code",
   "execution_count": 7,
   "metadata": {
    "executionInfo": {
     "elapsed": 6,
     "status": "ok",
     "timestamp": 1643209935541,
     "user": {
      "displayName": "Hank H",
      "photoUrl": "https://lh3.googleusercontent.com/a/default-user=s64",
      "userId": "18411390162527511542"
     },
     "user_tz": 360
    },
    "id": "ZdyeZlzVQM6X"
   },
   "outputs": [],
   "source": [
    "# drop useless varaiables\n",
    "data=data.drop(['Dividends', 'Stock Splits'], axis=1)"
   ]
  },
  {
   "cell_type": "code",
   "execution_count": 8,
   "metadata": {
    "colab": {
     "base_uri": "https://localhost:8080/",
     "height": 297
    },
    "executionInfo": {
     "elapsed": 7,
     "status": "ok",
     "timestamp": 1643209935542,
     "user": {
      "displayName": "Hank H",
      "photoUrl": "https://lh3.googleusercontent.com/a/default-user=s64",
      "userId": "18411390162527511542"
     },
     "user_tz": 360
    },
    "id": "GP8Q5ymz0c6L",
    "outputId": "3542aae2-73ea-48bb-cf8e-35323ca8cf3f"
   },
   "outputs": [
    {
     "data": {
      "text/html": [
       "\n",
       "  <div id=\"df-ccc0104f-89c5-4486-b15c-06737787fc4c\">\n",
       "    <div class=\"colab-df-container\">\n",
       "      <div>\n",
       "<style scoped>\n",
       "    .dataframe tbody tr th:only-of-type {\n",
       "        vertical-align: middle;\n",
       "    }\n",
       "\n",
       "    .dataframe tbody tr th {\n",
       "        vertical-align: top;\n",
       "    }\n",
       "\n",
       "    .dataframe thead th {\n",
       "        text-align: right;\n",
       "    }\n",
       "</style>\n",
       "<table border=\"1\" class=\"dataframe\">\n",
       "  <thead>\n",
       "    <tr style=\"text-align: right;\">\n",
       "      <th></th>\n",
       "      <th>Open</th>\n",
       "      <th>High</th>\n",
       "      <th>Low</th>\n",
       "      <th>Close</th>\n",
       "      <th>Volume</th>\n",
       "      <th>typical price</th>\n",
       "    </tr>\n",
       "    <tr>\n",
       "      <th>Datetime</th>\n",
       "      <th></th>\n",
       "      <th></th>\n",
       "      <th></th>\n",
       "      <th></th>\n",
       "      <th></th>\n",
       "      <th></th>\n",
       "    </tr>\n",
       "  </thead>\n",
       "  <tbody>\n",
       "    <tr>\n",
       "      <th>2022-01-11 09:30:00-05:00</th>\n",
       "      <td>172.320007</td>\n",
       "      <td>172.699997</td>\n",
       "      <td>172.050003</td>\n",
       "      <td>172.509995</td>\n",
       "      <td>2349446</td>\n",
       "      <td>172.419998</td>\n",
       "    </tr>\n",
       "    <tr>\n",
       "      <th>2022-01-11 09:31:00-05:00</th>\n",
       "      <td>172.539993</td>\n",
       "      <td>172.539993</td>\n",
       "      <td>171.580002</td>\n",
       "      <td>171.632507</td>\n",
       "      <td>396256</td>\n",
       "      <td>171.917501</td>\n",
       "    </tr>\n",
       "    <tr>\n",
       "      <th>2022-01-11 09:32:00-05:00</th>\n",
       "      <td>171.630005</td>\n",
       "      <td>171.880005</td>\n",
       "      <td>171.529999</td>\n",
       "      <td>171.830002</td>\n",
       "      <td>317266</td>\n",
       "      <td>171.746668</td>\n",
       "    </tr>\n",
       "    <tr>\n",
       "      <th>2022-01-11 09:33:00-05:00</th>\n",
       "      <td>171.848007</td>\n",
       "      <td>171.869995</td>\n",
       "      <td>171.360001</td>\n",
       "      <td>171.399994</td>\n",
       "      <td>334610</td>\n",
       "      <td>171.543330</td>\n",
       "    </tr>\n",
       "    <tr>\n",
       "      <th>2022-01-11 09:34:00-05:00</th>\n",
       "      <td>171.750000</td>\n",
       "      <td>171.880905</td>\n",
       "      <td>171.610001</td>\n",
       "      <td>171.689896</td>\n",
       "      <td>259203</td>\n",
       "      <td>171.726934</td>\n",
       "    </tr>\n",
       "    <tr>\n",
       "      <th>2022-01-11 09:35:00-05:00</th>\n",
       "      <td>172.000000</td>\n",
       "      <td>172.050003</td>\n",
       "      <td>171.940002</td>\n",
       "      <td>171.989197</td>\n",
       "      <td>332931</td>\n",
       "      <td>171.993067</td>\n",
       "    </tr>\n",
       "    <tr>\n",
       "      <th>2022-01-11 09:36:00-05:00</th>\n",
       "      <td>172.227005</td>\n",
       "      <td>172.410004</td>\n",
       "      <td>172.080002</td>\n",
       "      <td>172.410004</td>\n",
       "      <td>346540</td>\n",
       "      <td>172.300003</td>\n",
       "    </tr>\n",
       "  </tbody>\n",
       "</table>\n",
       "</div>\n",
       "      <button class=\"colab-df-convert\" onclick=\"convertToInteractive('df-ccc0104f-89c5-4486-b15c-06737787fc4c')\"\n",
       "              title=\"Convert this dataframe to an interactive table.\"\n",
       "              style=\"display:none;\">\n",
       "        \n",
       "  <svg xmlns=\"http://www.w3.org/2000/svg\" height=\"24px\"viewBox=\"0 0 24 24\"\n",
       "       width=\"24px\">\n",
       "    <path d=\"M0 0h24v24H0V0z\" fill=\"none\"/>\n",
       "    <path d=\"M18.56 5.44l.94 2.06.94-2.06 2.06-.94-2.06-.94-.94-2.06-.94 2.06-2.06.94zm-11 1L8.5 8.5l.94-2.06 2.06-.94-2.06-.94L8.5 2.5l-.94 2.06-2.06.94zm10 10l.94 2.06.94-2.06 2.06-.94-2.06-.94-.94-2.06-.94 2.06-2.06.94z\"/><path d=\"M17.41 7.96l-1.37-1.37c-.4-.4-.92-.59-1.43-.59-.52 0-1.04.2-1.43.59L10.3 9.45l-7.72 7.72c-.78.78-.78 2.05 0 2.83L4 21.41c.39.39.9.59 1.41.59.51 0 1.02-.2 1.41-.59l7.78-7.78 2.81-2.81c.8-.78.8-2.07 0-2.86zM5.41 20L4 18.59l7.72-7.72 1.47 1.35L5.41 20z\"/>\n",
       "  </svg>\n",
       "      </button>\n",
       "      \n",
       "  <style>\n",
       "    .colab-df-container {\n",
       "      display:flex;\n",
       "      flex-wrap:wrap;\n",
       "      gap: 12px;\n",
       "    }\n",
       "\n",
       "    .colab-df-convert {\n",
       "      background-color: #E8F0FE;\n",
       "      border: none;\n",
       "      border-radius: 50%;\n",
       "      cursor: pointer;\n",
       "      display: none;\n",
       "      fill: #1967D2;\n",
       "      height: 32px;\n",
       "      padding: 0 0 0 0;\n",
       "      width: 32px;\n",
       "    }\n",
       "\n",
       "    .colab-df-convert:hover {\n",
       "      background-color: #E2EBFA;\n",
       "      box-shadow: 0px 1px 2px rgba(60, 64, 67, 0.3), 0px 1px 3px 1px rgba(60, 64, 67, 0.15);\n",
       "      fill: #174EA6;\n",
       "    }\n",
       "\n",
       "    [theme=dark] .colab-df-convert {\n",
       "      background-color: #3B4455;\n",
       "      fill: #D2E3FC;\n",
       "    }\n",
       "\n",
       "    [theme=dark] .colab-df-convert:hover {\n",
       "      background-color: #434B5C;\n",
       "      box-shadow: 0px 1px 3px 1px rgba(0, 0, 0, 0.15);\n",
       "      filter: drop-shadow(0px 1px 2px rgba(0, 0, 0, 0.3));\n",
       "      fill: #FFFFFF;\n",
       "    }\n",
       "  </style>\n",
       "\n",
       "      <script>\n",
       "        const buttonEl =\n",
       "          document.querySelector('#df-ccc0104f-89c5-4486-b15c-06737787fc4c button.colab-df-convert');\n",
       "        buttonEl.style.display =\n",
       "          google.colab.kernel.accessAllowed ? 'block' : 'none';\n",
       "\n",
       "        async function convertToInteractive(key) {\n",
       "          const element = document.querySelector('#df-ccc0104f-89c5-4486-b15c-06737787fc4c');\n",
       "          const dataTable =\n",
       "            await google.colab.kernel.invokeFunction('convertToInteractive',\n",
       "                                                     [key], {});\n",
       "          if (!dataTable) return;\n",
       "\n",
       "          const docLinkHtml = 'Like what you see? Visit the ' +\n",
       "            '<a target=\"_blank\" href=https://colab.research.google.com/notebooks/data_table.ipynb>data table notebook</a>'\n",
       "            + ' to learn more about interactive tables.';\n",
       "          element.innerHTML = '';\n",
       "          dataTable['output_type'] = 'display_data';\n",
       "          await google.colab.output.renderOutput(dataTable, element);\n",
       "          const docLink = document.createElement('div');\n",
       "          docLink.innerHTML = docLinkHtml;\n",
       "          element.appendChild(docLink);\n",
       "        }\n",
       "      </script>\n",
       "    </div>\n",
       "  </div>\n",
       "  "
      ],
      "text/plain": [
       "                                 Open        High  ...   Volume  typical price\n",
       "Datetime                                           ...                        \n",
       "2022-01-11 09:30:00-05:00  172.320007  172.699997  ...  2349446     172.419998\n",
       "2022-01-11 09:31:00-05:00  172.539993  172.539993  ...   396256     171.917501\n",
       "2022-01-11 09:32:00-05:00  171.630005  171.880005  ...   317266     171.746668\n",
       "2022-01-11 09:33:00-05:00  171.848007  171.869995  ...   334610     171.543330\n",
       "2022-01-11 09:34:00-05:00  171.750000  171.880905  ...   259203     171.726934\n",
       "2022-01-11 09:35:00-05:00  172.000000  172.050003  ...   332931     171.993067\n",
       "2022-01-11 09:36:00-05:00  172.227005  172.410004  ...   346540     172.300003\n",
       "\n",
       "[7 rows x 6 columns]"
      ]
     },
     "execution_count": 8,
     "metadata": {},
     "output_type": "execute_result"
    }
   ],
   "source": [
    "data.head(7)"
   ]
  },
  {
   "cell_type": "code",
   "execution_count": 9,
   "metadata": {
    "colab": {
     "base_uri": "https://localhost:8080/",
     "height": 328
    },
    "executionInfo": {
     "elapsed": 464,
     "status": "ok",
     "timestamp": 1643209936001,
     "user": {
      "displayName": "Hank H",
      "photoUrl": "https://lh3.googleusercontent.com/a/default-user=s64",
      "userId": "18411390162527511542"
     },
     "user_tz": 360
    },
    "id": "smTyFgf4QL9O",
    "outputId": "2137ba8a-332c-472e-92a6-039e38109554"
   },
   "outputs": [
    {
     "data": {
      "image/png": "[encoded data removed]",
      "text/plain": [
       "<Figure size 720x360 with 1 Axes>"
      ]
     },
     "metadata": {
      "needs_background": "light"
     },
     "output_type": "display_data"
    }
   ],
   "source": [
    "import matplotlib.pyplot as plt\n",
    "fig=plt.figure(figsize=(10,5))\n",
    "data['typical price'].plot(kind='line', c='b')\n",
    "plt.grid('on')\n",
    "plt.ylabel('Typical price')\n",
    "plt.show()\n"
   ]
  },
  {
   "cell_type": "code",
   "execution_count": 10,
   "metadata": {
    "colab": {
     "base_uri": "https://localhost:8080/"
    },
    "executionInfo": {
     "elapsed": 4,
     "status": "ok",
     "timestamp": 1643209936001,
     "user": {
      "displayName": "Hank H",
      "photoUrl": "https://lh3.googleusercontent.com/a/default-user=s64",
      "userId": "18411390162527511542"
     },
     "user_tz": 360
    },
    "id": "3yuYmLDwZHYp",
    "outputId": "0e16d6aa-a8d8-433c-8dec-7bb7f7a1bb2a"
   },
   "outputs": [
    {
     "name": "stdout",
     "output_type": "stream",
     "text": [
      "\n",
      "Check the skewness of variables\n",
      "\n",
      "Open            -0.155334\n",
      "High            -0.148128\n",
      "Low             -0.159257\n",
      "Close           -0.157163\n",
      "Volume           9.840671\n",
      "typical price   -0.154486\n",
      "dtype: float64\n",
      "\n",
      "Check the kurtosis of variables\n",
      "\n",
      "Open              -1.250156\n",
      "High              -1.232139\n",
      "Low               -1.264238\n",
      "Close             -1.250491\n",
      "Volume           139.035658\n",
      "typical price     -1.252404\n",
      "dtype: float64\n"
     ]
    }
   ],
   "source": [
    "skewness=data.skew(axis=0)\n",
    "print('\\nCheck the skewness of variables\\n')\n",
    "print(skewness)\n",
    "print('\\nCheck the kurtosis of variables\\n')\n",
    "kurtosis=data.kurtosis(axis=0)\n",
    "print(kurtosis)"
   ]
  },
  {
   "cell_type": "code",
   "execution_count": 11,
   "metadata": {
    "colab": {
     "base_uri": "https://localhost:8080/"
    },
    "executionInfo": {
     "elapsed": 4,
     "status": "ok",
     "timestamp": 1643209936002,
     "user": {
      "displayName": "Hank H",
      "photoUrl": "https://lh3.googleusercontent.com/a/default-user=s64",
      "userId": "18411390162527511542"
     },
     "user_tz": 360
    },
    "id": "EIqjX8BjOEV-",
    "outputId": "d43e3e9d-eb54-4d02-cd0a-e7bc907902f8"
   },
   "outputs": [
    {
     "name": "stdout",
     "output_type": "stream",
     "text": [
      "AAPL2022-01-112022-01-18.csv  is saved!/content\n"
     ]
    }
   ],
   "source": [
    "import os.path\n",
    "\n",
    "filename=tickerSymbol+start_time+end_time+'.csv'\n",
    "data.to_csv(filename)\n",
    "\n",
    "if os.path.isfile(filename):\n",
    "  print(filename + \"  is saved!\" + os.getcwd())\n",
    "else:\n",
    "  raise Exception(\" cannot save file!\\n\")"
   ]
  }
 ],
 "metadata": {
  "colab": {
   "collapsed_sections": [],
   "name": "demoYFRetrieval.ipynb",
   "provenance": []
  },
  "kernelspec": {
   "display_name": "Python 3",
   "language": "python",
   "name": "python3"
  },
  "language_info": {
   "codemirror_mode": {
    "name": "ipython",
    "version": 3
   },
   "file_extension": ".py",
   "mimetype": "text/x-python",
   "name": "python",
   "nbconvert_exporter": "python",
   "pygments_lexer": "ipython3",
   "version": "3.8.8"
  }
 },
 "nbformat": 4,
 "nbformat_minor": 1
}
