{
 "cells": [
  {
   "cell_type": "code",
   "execution_count": 1,
   "id": "4bd4d338",
   "metadata": {},
   "outputs": [],
   "source": [
    "import numpy as np\n",
    "import matplotlib.pyplot as plt\n",
    "import pandas as pd\n",
    "from sklearn.decomposition import PCA\n",
    "from sklearn import svm\n",
    "import seaborn as sns\n",
    "from matplotlib.colors import ListedColormap\n",
    "from sklearn import neighbors\n",
    "import pandas_datareader.data as web"
   ]
  },
  {
   "cell_type": "code",
   "execution_count": 2,
   "id": "c8525432",
   "metadata": {},
   "outputs": [
    {
     "name": "stdout",
     "output_type": "stream",
     "text": [
      "\n",
      " This is the  Matrix. \n",
      "\n",
      "[[  1.    2.    0. ]\n",
      " [  7.2   5.    9. ]\n",
      " [ -3.  100.    5.8]\n",
      " [  1.  -90.    9.7]\n",
      " [  2.   88.    1.2]]\n"
     ]
    }
   ],
   "source": [
    "M = np.matrix([[1, 2, 0], [7.2, 5, 9], [-3, 100, 5.8], [1, -90, 9.7], [2, 88, 1.2]])\n",
    "dim = M.shape\n",
    "print('\\n This is the '+ ' Matrix. \\n' + '\\n'+str(M))\n",
    "\n",
    "## Question BABY PCA\n"
   ]
  },
  {
   "cell_type": "code",
   "execution_count": 5,
   "id": "85c0f242",
   "metadata": {},
   "outputs": [
    {
     "name": "stdout",
     "output_type": "stream",
     "text": [
      "Covariance matrix :\n",
      "\n",
      "[[ 1.33480e+01 -8.70500e+01  4.33800e+00]\n",
      " [-8.70500e+01  5.91700e+03 -1.70525e+02]\n",
      " [ 4.33800e+00 -1.70525e+02  1.95180e+01]]\n",
      "\n",
      "Variances of matrix \n",
      "\n",
      "[5923.21143004   11.10961613   15.54495383]\n",
      "\n"
     ]
    }
   ],
   "source": [
    "def cov(M):\n",
    "\n",
    "    M -= np.mean(M, axis = 0) \n",
    "    cov = np.cov(M.T, bias=False)\n",
    "    print(\"Covariance matrix :\\n\")\n",
    "    print(cov)\n",
    "\n",
    "    V, comps = np.linalg.eig(cov)\n",
    "\n",
    "    print('\\nVariances of matrix \\n')\n",
    "    print(str(V.T) + '\\n')\n",
    "    \n",
    "    return comps\n",
    "\n",
    "\n",
    "comps = cov(M)"
   ]
  },
  {
   "cell_type": "code",
   "execution_count": 6,
   "id": "e692f48b",
   "metadata": {},
   "outputs": [
    {
     "name": "stdout",
     "output_type": "stream",
     "text": [
      "The 1st PC\n",
      "[-0.01474307  0.99947415 -0.0288801 ]\n",
      "\n",
      "\n",
      "The 2nd PC \n",
      "[ 8.85912206e-01 -3.35232594e-04 -4.63852834e-01]\n",
      "\n",
      "\n",
      "The 3rd PC\n",
      "[0.4636186  0.03242385 0.88544141]\n"
     ]
    }
   ],
   "source": [
    "\n",
    "print('The 1st PC')\n",
    "print(comps[:,0])\n",
    "\n",
    "print('\\n\\nThe 2nd PC ')\n",
    "print(comps[:,1])\n",
    "\n",
    "print('\\n\\nThe 3rd PC')\n",
    "print(comps[:,2])"
   ]
  },
  {
   "cell_type": "code",
   "execution_count": 7,
   "id": "8c49f0c4",
   "metadata": {},
   "outputs": [
    {
     "name": "stdout",
     "output_type": "stream",
     "text": [
      "\n",
      "PC matrix\n",
      "\n",
      "[[-1.47430660e-02  8.85912206e-01  4.63618599e-01]\n",
      " [ 9.99474153e-01 -3.35232594e-04  3.24238504e-02]\n",
      " [-2.88801049e-02 -4.63852834e-01  8.85441409e-01]]\n",
      "[[1. 1. 1.]\n",
      " [1. 1. 1.]\n",
      " [1. 1. 1.]]\n",
      "\n",
      "\n",
      " Orthogonal Matrix  : diagonals are one and rest of the values are approx zero \n",
      "\n",
      "[[ 1.00000000e+00  6.79959974e-17 -1.79810197e-15]\n",
      " [ 6.79959974e-17  1.00000000e+00  5.39466519e-17]\n",
      " [-1.79810197e-15  5.39466519e-17  1.00000000e+00]]\n"
     ]
    }
   ],
   "source": [
    "print('\\nPC matrix\\n')\n",
    "print(comps)\n",
    "\n",
    "\n",
    "## Question 3\n",
    "\n",
    "O = comps **(-1) * comps\n",
    "print(O)\n",
    "print(np.dot(comps, comps.T))"
   ]
  },
  {
   "cell_type": "code",
   "execution_count": 8,
   "id": "9900a813",
   "metadata": {},
   "outputs": [
    {
     "name": "stdout",
     "output_type": "stream",
     "text": [
      "\n",
      " New Data\n",
      "\n",
      "[[ -18.8321296     1.82358917   -5.4639379 ]\n",
      " [ -16.18503509    3.14056365    5.47674164]\n",
      " [  79.00780501   -4.44325888    0.99468521]\n",
      " [-111.06388865   -2.64494192    0.14184953]\n",
      " [  67.07324833    2.12404797   -1.14933848]]\n"
     ]
    }
   ],
   "source": [
    "import numpy.matlib as npm\n",
    "\n",
    "def newdata(M,comps):\n",
    "\n",
    "    mean = np.mean(M,0)\n",
    "    mat = npm.repmat(mean, dim[0], 1)\n",
    "    Y = M - mat\n",
    "    new = Y * comps\n",
    "    print('\\n New Data\\n')\n",
    "    print(new)\n",
    "    return new\n",
    "\n",
    "new = newdata(M,comps)"
   ]
  },
  {
   "cell_type": "code",
   "execution_count": null,
   "id": "2f911239",
   "metadata": {},
   "outputs": [],
   "source": []
  },
  {
   "cell_type": "code",
   "execution_count": null,
   "id": "495444bc",
   "metadata": {},
   "outputs": [],
   "source": []
  },
  {
   "cell_type": "code",
   "execution_count": 23,
   "id": "8d0f4552",
   "metadata": {},
   "outputs": [],
   "source": []
  },
  {
   "cell_type": "code",
   "execution_count": 3,
   "id": "587a652f",
   "metadata": {},
   "outputs": [
    {
     "name": "stdout",
     "output_type": "stream",
     "text": [
      "[0.99552014 0.00261266 0.0018672 ]\n"
     ]
    }
   ],
   "source": [
    "from sklearn.decomposition import PCA\n",
    "from sklearn.preprocessing import scale\n",
    "from sklearn.preprocessing import StandardScaler\n",
    "from sklearn import decomposition\n",
    "import yfinance as yf\n",
    "\n",
    "#x = standardizedData = StandardScaler().fit_transform(M)\n",
    "def skPCA(M):\n",
    "    pca = decomposition.PCA(n_components=3)\n",
    "    res = pca.fit_transform(M)\n",
    "    r = pca.explained_variance_ratio_\n",
    "    print(r)\n",
    "    return r,res\n",
    "\n",
    "r,res = skPCA(M)"
   ]
  },
  {
   "cell_type": "code",
   "execution_count": 17,
   "id": "cb0219e0",
   "metadata": {},
   "outputs": [
    {
     "data": {
      "text/plain": [
       "array([[ 18.8321296 ,  -5.4639379 ,  -1.82358917],\n",
       "       [ 16.18503509,   5.47674164,  -3.14056365],\n",
       "       [-79.00780501,   0.99468521,   4.44325888],\n",
       "       [111.06388865,   0.14184953,   2.64494192],\n",
       "       [-67.07324833,  -1.14933848,  -2.12404797]])"
      ]
     },
     "execution_count": 17,
     "metadata": {},
     "output_type": "execute_result"
    }
   ],
   "source": [
    "res"
   ]
  },
  {
   "cell_type": "code",
   "execution_count": 18,
   "id": "24f91aef",
   "metadata": {},
   "outputs": [
    {
     "data": {
      "text/plain": [
       "array([ 0.01474307, -0.99947415,  0.0288801 ])"
      ]
     },
     "execution_count": 18,
     "metadata": {},
     "output_type": "execute_result"
    }
   ],
   "source": [
    "pca.components_[0]"
   ]
  },
  {
   "cell_type": "code",
   "execution_count": 19,
   "id": "9628a5df",
   "metadata": {},
   "outputs": [
    {
     "data": {
      "text/plain": [
       "array([0.4636186 , 0.03242385, 0.88544141])"
      ]
     },
     "execution_count": 19,
     "metadata": {},
     "output_type": "execute_result"
    }
   ],
   "source": [
    "pca.components_[1]"
   ]
  },
  {
   "cell_type": "code",
   "execution_count": 20,
   "id": "4106b865",
   "metadata": {},
   "outputs": [
    {
     "data": {
      "text/plain": [
       "array([-8.85912206e-01,  3.35232594e-04,  4.63852834e-01])"
      ]
     },
     "execution_count": 20,
     "metadata": {},
     "output_type": "execute_result"
    }
   ],
   "source": [
    "pca.components_[2]"
   ]
  },
  {
   "cell_type": "code",
   "execution_count": null,
   "id": "5c6ab7f6",
   "metadata": {},
   "outputs": [],
   "source": []
  },
  {
   "cell_type": "code",
   "execution_count": null,
   "id": "25278ec4",
   "metadata": {},
   "outputs": [],
   "source": []
  },
  {
   "cell_type": "code",
   "execution_count": 6,
   "id": "d81a8a36",
   "metadata": {},
   "outputs": [
    {
     "name": "stdout",
     "output_type": "stream",
     "text": [
      "U:\n",
      "[[ 0.01239044  0.0230771   0.14209287]\n",
      " [ 0.03046517  0.72037671  0.56617701]\n",
      " [ 0.6215726   0.34356181 -0.64418518]\n",
      " [-0.55985922  0.57976325 -0.40625069]\n",
      " [ 0.54692185  0.16237212  0.2814943 ]]\n",
      "S  :\n",
      "[160.85706342  15.17207046   6.69502984]\n"
     ]
    }
   ],
   "source": [
    "from numpy.linalg import svd \n",
    "U, Sigma, Vh = np.linalg.svd(M, \n",
    "      full_matrices=False, # It's not necessary to compute the full matrix of U or V\n",
    "      compute_uv=True)\n",
    "\n",
    "print(\"U:\")\n",
    "print(U)\n",
    "print(\"S  :\")\n",
    "print(Sigma)\n"
   ]
  },
  {
   "cell_type": "code",
   "execution_count": 22,
   "id": "bb409909",
   "metadata": {},
   "outputs": [
    {
     "data": {
      "text/plain": [
       "matrix([[ -18.8321296 ,    5.4639379 ,    1.82358917],\n",
       "        [ -16.18503509,   -5.47674164,    3.14056365],\n",
       "        [  79.00780501,   -0.99468521,   -4.44325888],\n",
       "        [-111.06388865,   -0.14184953,   -2.64494192],\n",
       "        [  67.07324833,    1.14933848,    2.12404797]])"
      ]
     },
     "execution_count": 22,
     "metadata": {},
     "output_type": "execute_result"
    }
   ],
   "source": [
    "X_svd = np.dot(U, np.diag(Sigma))\n",
    "X_svd"
   ]
  },
  {
   "cell_type": "code",
   "execution_count": 11,
   "id": "941052a9",
   "metadata": {},
   "outputs": [
    {
     "data": {
      "text/html": [
       "<div>\n",
       "<style scoped>\n",
       "    .dataframe tbody tr th:only-of-type {\n",
       "        vertical-align: middle;\n",
       "    }\n",
       "\n",
       "    .dataframe tbody tr th {\n",
       "        vertical-align: top;\n",
       "    }\n",
       "\n",
       "    .dataframe thead th {\n",
       "        text-align: right;\n",
       "    }\n",
       "</style>\n",
       "<table border=\"1\" class=\"dataframe\">\n",
       "  <thead>\n",
       "    <tr style=\"text-align: right;\">\n",
       "      <th></th>\n",
       "      <th>Unnamed: 0</th>\n",
       "      <th>open</th>\n",
       "      <th>high</th>\n",
       "      <th>low</th>\n",
       "      <th>close</th>\n",
       "      <th>volume</th>\n",
       "    </tr>\n",
       "  </thead>\n",
       "  <tbody>\n",
       "    <tr>\n",
       "      <th>0</th>\n",
       "      <td>2021-02-01</td>\n",
       "      <td>1853.57</td>\n",
       "      <td>1922.3918</td>\n",
       "      <td>1850.93</td>\n",
       "      <td>1901.35</td>\n",
       "      <td>1602182</td>\n",
       "    </tr>\n",
       "    <tr>\n",
       "      <th>1</th>\n",
       "      <td>2021-02-02</td>\n",
       "      <td>1922.56</td>\n",
       "      <td>1955.7600</td>\n",
       "      <td>1914.49</td>\n",
       "      <td>1927.51</td>\n",
       "      <td>2103864</td>\n",
       "    </tr>\n",
       "  </tbody>\n",
       "</table>\n",
       "</div>"
      ],
      "text/plain": [
       "   Unnamed: 0     open       high      low    close   volume\n",
       "0  2021-02-01  1853.57  1922.3918  1850.93  1901.35  1602182\n",
       "1  2021-02-02  1922.56  1955.7600  1914.49  1927.51  2103864"
      ]
     },
     "execution_count": 11,
     "metadata": {},
     "output_type": "execute_result"
    }
   ],
   "source": [
    "GOOG_df = pd.read_csv('fintech_quiz_1/goog2.csv')\n",
    "GOOG_df.head(2)"
   ]
  },
  {
   "cell_type": "code",
   "execution_count": 4,
   "id": "52747751",
   "metadata": {},
   "outputs": [],
   "source": [
    "#dataread\n",
    "\n",
    "AAPL_df = pd.read_csv('fintech_quiz_1/AAPL_n.csv')\n",
    "BAC_df = pd.read_csv('fintech_quiz_1/BAC_n.csv')\n",
    "WMT_df = pd.read_csv('fintech_quiz_1/WMT_n.csv')\n",
    "AEO_df = pd.read_csv('fintech_quiz_1/AEO_n.csv')\n",
    "EU_df = pd.read_csv('fintech_quiz_1/EuropeanOption873.csv')\n",
    "OTM_df = pd.read_csv('fintech_quiz_1/OptionDataOTM_data.csv')"
   ]
  },
  {
   "cell_type": "code",
   "execution_count": 8,
   "id": "d4d3ae08",
   "metadata": {},
   "outputs": [],
   "source": [
    "import matplotlib.pyplot as plt\n",
    "from pandas.plotting import parallel_coordinates\n",
    "from sklearn.preprocessing import StandardScaler\n",
    "from sklearn import decomposition"
   ]
  },
  {
   "cell_type": "code",
   "execution_count": 8,
   "id": "7058c2c7",
   "metadata": {},
   "outputs": [],
   "source": [
    "\n",
    "AAPL=AAPL_df"
   ]
  },
  {
   "cell_type": "code",
   "execution_count": 56,
   "id": "51b421ec",
   "metadata": {},
   "outputs": [
    {
     "data": {
      "text/html": [
       "<div>\n",
       "<style scoped>\n",
       "    .dataframe tbody tr th:only-of-type {\n",
       "        vertical-align: middle;\n",
       "    }\n",
       "\n",
       "    .dataframe tbody tr th {\n",
       "        vertical-align: top;\n",
       "    }\n",
       "\n",
       "    .dataframe thead th {\n",
       "        text-align: right;\n",
       "    }\n",
       "</style>\n",
       "<table border=\"1\" class=\"dataframe\">\n",
       "  <thead>\n",
       "    <tr style=\"text-align: right;\">\n",
       "      <th></th>\n",
       "      <th>Unnamed: 0</th>\n",
       "      <th>Date</th>\n",
       "      <th>marketAverage</th>\n",
       "      <th>marketChangeOverTime</th>\n",
       "      <th>marketClose</th>\n",
       "      <th>marketHigh</th>\n",
       "      <th>marketLow</th>\n",
       "      <th>marketNotional</th>\n",
       "      <th>marketNumberOfTrades</th>\n",
       "      <th>marketOpen</th>\n",
       "      <th>marketVolume</th>\n",
       "    </tr>\n",
       "  </thead>\n",
       "  <tbody>\n",
       "    <tr>\n",
       "      <th>0</th>\n",
       "      <td>0</td>\n",
       "      <td>2/1/2019 9:30</td>\n",
       "      <td>167.058</td>\n",
       "      <td>0.000000</td>\n",
       "      <td>167.150</td>\n",
       "      <td>167.55</td>\n",
       "      <td>166.67</td>\n",
       "      <td>1.319461e+08</td>\n",
       "      <td>1766</td>\n",
       "      <td>166.93</td>\n",
       "      <td>789821</td>\n",
       "    </tr>\n",
       "    <tr>\n",
       "      <th>1</th>\n",
       "      <td>1</td>\n",
       "      <td>2/1/2019 9:31</td>\n",
       "      <td>167.182</td>\n",
       "      <td>0.000742</td>\n",
       "      <td>167.175</td>\n",
       "      <td>167.42</td>\n",
       "      <td>166.80</td>\n",
       "      <td>2.853055e+07</td>\n",
       "      <td>1143</td>\n",
       "      <td>167.21</td>\n",
       "      <td>170656</td>\n",
       "    </tr>\n",
       "  </tbody>\n",
       "</table>\n",
       "</div>"
      ],
      "text/plain": [
       "   Unnamed: 0           Date  marketAverage  marketChangeOverTime  \\\n",
       "0           0  2/1/2019 9:30        167.058              0.000000   \n",
       "1           1  2/1/2019 9:31        167.182              0.000742   \n",
       "\n",
       "   marketClose  marketHigh  marketLow  marketNotional  marketNumberOfTrades  \\\n",
       "0      167.150      167.55     166.67    1.319461e+08                  1766   \n",
       "1      167.175      167.42     166.80    2.853055e+07                  1143   \n",
       "\n",
       "   marketOpen  marketVolume  \n",
       "0      166.93        789821  \n",
       "1      167.21        170656  "
      ]
     },
     "execution_count": 56,
     "metadata": {},
     "output_type": "execute_result"
    }
   ],
   "source": [
    "AAPL.head(2)"
   ]
  },
  {
   "cell_type": "code",
   "execution_count": 9,
   "id": "7b86bec7",
   "metadata": {},
   "outputs": [
    {
     "data": {
      "text/html": [
       "<div>\n",
       "<style scoped>\n",
       "    .dataframe tbody tr th:only-of-type {\n",
       "        vertical-align: middle;\n",
       "    }\n",
       "\n",
       "    .dataframe tbody tr th {\n",
       "        vertical-align: top;\n",
       "    }\n",
       "\n",
       "    .dataframe thead th {\n",
       "        text-align: right;\n",
       "    }\n",
       "</style>\n",
       "<table border=\"1\" class=\"dataframe\">\n",
       "  <thead>\n",
       "    <tr style=\"text-align: right;\">\n",
       "      <th></th>\n",
       "      <th>Unnamed: 0</th>\n",
       "      <th>marketAverage</th>\n",
       "      <th>marketChangeOverTime</th>\n",
       "      <th>marketClose</th>\n",
       "      <th>marketHigh</th>\n",
       "      <th>marketLow</th>\n",
       "      <th>marketNotional</th>\n",
       "      <th>marketNumberOfTrades</th>\n",
       "      <th>marketOpen</th>\n",
       "      <th>marketVolume</th>\n",
       "    </tr>\n",
       "  </thead>\n",
       "  <tbody>\n",
       "    <tr>\n",
       "      <th>0</th>\n",
       "      <td>0</td>\n",
       "      <td>167.058</td>\n",
       "      <td>0.0</td>\n",
       "      <td>167.15</td>\n",
       "      <td>167.55</td>\n",
       "      <td>166.67</td>\n",
       "      <td>131946145.0</td>\n",
       "      <td>1766</td>\n",
       "      <td>166.93</td>\n",
       "      <td>789821</td>\n",
       "    </tr>\n",
       "  </tbody>\n",
       "</table>\n",
       "</div>"
      ],
      "text/plain": [
       "   Unnamed: 0  marketAverage  marketChangeOverTime  marketClose  marketHigh  \\\n",
       "0           0        167.058                   0.0       167.15      167.55   \n",
       "\n",
       "   marketLow  marketNotional  marketNumberOfTrades  marketOpen  marketVolume  \n",
       "0     166.67     131946145.0                  1766      166.93        789821  "
      ]
     },
     "execution_count": 9,
     "metadata": {},
     "output_type": "execute_result"
    }
   ],
   "source": [
    "data = AAPL\n",
    "\n",
    "data.head(1)"
   ]
  },
  {
   "cell_type": "code",
   "execution_count": 10,
   "id": "cdc469cf",
   "metadata": {},
   "outputs": [
    {
     "data": {
      "text/html": [
       "<div>\n",
       "<style scoped>\n",
       "    .dataframe tbody tr th:only-of-type {\n",
       "        vertical-align: middle;\n",
       "    }\n",
       "\n",
       "    .dataframe tbody tr th {\n",
       "        vertical-align: top;\n",
       "    }\n",
       "\n",
       "    .dataframe thead th {\n",
       "        text-align: right;\n",
       "    }\n",
       "</style>\n",
       "<table border=\"1\" class=\"dataframe\">\n",
       "  <thead>\n",
       "    <tr style=\"text-align: right;\">\n",
       "      <th></th>\n",
       "      <th>Unnamed: 0</th>\n",
       "      <th>marketAverage</th>\n",
       "      <th>marketChangeOverTime</th>\n",
       "      <th>marketClose</th>\n",
       "      <th>marketHigh</th>\n",
       "      <th>marketLow</th>\n",
       "      <th>marketNotional</th>\n",
       "      <th>marketNumberOfTrades</th>\n",
       "      <th>marketOpen</th>\n",
       "      <th>marketVolume</th>\n",
       "    </tr>\n",
       "  </thead>\n",
       "  <tbody>\n",
       "    <tr>\n",
       "      <th>0</th>\n",
       "      <td>0</td>\n",
       "      <td>28.599</td>\n",
       "      <td>0.0</td>\n",
       "      <td>28.56</td>\n",
       "      <td>28.62</td>\n",
       "      <td>28.53</td>\n",
       "      <td>27462114.96</td>\n",
       "      <td>1072</td>\n",
       "      <td>28.6</td>\n",
       "      <td>960229</td>\n",
       "    </tr>\n",
       "  </tbody>\n",
       "</table>\n",
       "</div>"
      ],
      "text/plain": [
       "   Unnamed: 0  marketAverage  marketChangeOverTime  marketClose  marketHigh  \\\n",
       "0           0         28.599                   0.0        28.56       28.62   \n",
       "\n",
       "   marketLow  marketNotional  marketNumberOfTrades  marketOpen  marketVolume  \n",
       "0      28.53     27462114.96                  1072        28.6        960229  "
      ]
     },
     "execution_count": 10,
     "metadata": {},
     "output_type": "execute_result"
    }
   ],
   "source": [
    "data1 = BAC_df\n",
    "data1 = data1.dropna()\n",
    "data1 = data1.drop(['Date'], axis = 1)\n",
    "data1.head(1)"
   ]
  },
  {
   "cell_type": "code",
   "execution_count": 13,
   "id": "ea9423eb",
   "metadata": {},
   "outputs": [
    {
     "data": {
      "image/png": "[encoded data removed]",
      "text/plain": [
       "<Figure size 432x288 with 1 Axes>"
      ]
     },
     "metadata": {
      "needs_background": "light"
     },
     "output_type": "display_data"
    }
   ],
   "source": [
    "#PCA analysis from BABY PCA STEPS\n",
    "from sklearn.preprocessing import MinMaxScaler\n",
    "from sklearn.decomposition import PCA\n",
    "\n",
    "def VCR(data):\n",
    "    \n",
    "    data = data.dropna()\n",
    "    data = data.drop(['Date'], axis = 1)\n",
    "\n",
    "    d = MinMaxScaler().fit_transform(data)\n",
    "    pca = decomposition.PCA(n_components=3)\n",
    "    res = pca.fit_transform(data)\n",
    "    r = pca.explained_variance_ratio_\n",
    "\n",
    "#plot PC vs. Variance\n",
    "    bar1 = plt.bar(0,r[0])\n",
    "    bar2 = plt.bar(2,r[1])\n",
    "    bar3 = plt.bar(4,r[2])\n",
    "    plt.legend( (bar1,bar2,bar3), ('PC1', 'PC2', 'PC3') )\n",
    "    plt.xlabel('PC')\n",
    "    plt.ylabel('Variance')\n",
    "    plt.show()\n",
    "    \n",
    "VCR(AAPL_df)"
   ]
  },
  {
   "cell_type": "code",
   "execution_count": 10,
   "id": "c51912a4",
   "metadata": {},
   "outputs": [
    {
     "name": "stdout",
     "output_type": "stream",
     "text": [
      "Index(['Date', 'marketChangeOverTime', 'marketClose', 'marketHigh',\n",
      "       'marketNumberOfTrades'],\n",
      "      dtype='object')\n"
     ]
    },
    {
     "data": {
      "image/png": "[encoded data removed]",
      "text/plain": [
       "<Figure size 720x360 with 2 Axes>"
      ]
     },
     "metadata": {
      "needs_background": "light"
     },
     "output_type": "display_data"
    }
   ],
   "source": [
    "from sklearn.decomposition import PCA\n",
    "\n",
    "def plot(data):\n",
    "    \n",
    "    p = data.iloc[:, [1,3,4,5,8]]\n",
    "    print(p.columns)\n",
    "    \n",
    "    data = data.dropna()\n",
    "    data = data.drop(['Date'], axis = 1)\n",
    "    \n",
    "    prices = data.iloc[:, [1,3,4,5,8]]\n",
    "    rs = prices.apply(np.log).diff(1)\n",
    "    \n",
    "    pca = PCA(1).fit(data.fillna(0))\n",
    "    pc1 = pd.Series(index=data.columns, data=pca.components_[0])\n",
    "    \n",
    "    weights = abs(pc1)/sum(abs(pc1))\n",
    "    myrs = (weights*rs).sum(1)\n",
    "    #myrs.cumsum().apply(np.exp).plot()\n",
    "    \n",
    "    prices = data['marketClose'] \n",
    "    \n",
    "    rs_df = pd.concat([myrs, prices.apply(np.log).diff(1)], 1)\n",
    "    rs_df.columns = [\"PCA 1st Comp AAPL\", \"AAPL\"]\n",
    "\n",
    "    rs_df.dropna().cumsum().apply(np.exp).plot(subplots=True, figsize=(10,5), grid=True, linewidth=3);\n",
    "    plt.tight_layout()\n",
    "\n",
    "    \n",
    "plot(AAPL_df)"
   ]
  },
  {
   "cell_type": "code",
   "execution_count": null,
   "id": "c58dda1a",
   "metadata": {},
   "outputs": [],
   "source": []
  },
  {
   "cell_type": "code",
   "execution_count": null,
   "id": "b68bc43d",
   "metadata": {},
   "outputs": [],
   "source": []
  },
  {
   "cell_type": "code",
   "execution_count": null,
   "id": "3f8d003d",
   "metadata": {},
   "outputs": [],
   "source": []
  },
  {
   "cell_type": "code",
   "execution_count": null,
   "id": "1b51e7c0",
   "metadata": {},
   "outputs": [],
   "source": []
  },
  {
   "cell_type": "code",
   "execution_count": 15,
   "id": "57251be5",
   "metadata": {},
   "outputs": [],
   "source": []
  },
  {
   "cell_type": "code",
   "execution_count": 25,
   "id": "bbc1fa15",
   "metadata": {},
   "outputs": [],
   "source": []
  },
  {
   "cell_type": "code",
   "execution_count": 8,
   "id": "311486d1",
   "metadata": {},
   "outputs": [],
   "source": [
    "from sklearn.preprocessing import StandardScaler\n",
    "from sklearn.decomposition import PCA\n",
    "\n",
    "def doPCA(data):\n",
    "\n",
    "  norm = StandardScaler().fit_transform(data)\n",
    "  pca = PCA()\n",
    "  newdata = pca.fit_transform(norm)\n",
    "  return newdata,pca\n"
   ]
  },
  {
   "cell_type": "code",
   "execution_count": 27,
   "id": "58eaf50a",
   "metadata": {},
   "outputs": [],
   "source": []
  },
  {
   "cell_type": "code",
   "execution_count": null,
   "id": "4a0a0baf",
   "metadata": {},
   "outputs": [],
   "source": []
  },
  {
   "cell_type": "code",
   "execution_count": 30,
   "id": "8e70e341",
   "metadata": {},
   "outputs": [],
   "source": []
  },
  {
   "cell_type": "code",
   "execution_count": null,
   "id": "839b76a9",
   "metadata": {},
   "outputs": [],
   "source": [
    "def DD(data):\n",
    "    \n",
    "    data = data.drop(['Date'], axis = 1)\n",
    "    n,pca = doPCA(data)\n",
    "    PC = pca.components_\n",
    "    PC_df = pd.DataFrame(data=PC, index = data.columns)\n",
    "\n",
    "    plt.style.use('ggplot')\n",
    "    fig=plt.figure(figsize=(8,8))\n",
    "\n",
    "    for i in range(len(n)):\n",
    "        plt.scatter(n[i,0],n[i,1], c = 'y')\n",
    "        #plt.text(n[i,0],n[i,1],data.index[i])\n",
    "\n",
    "    sc = 10\n",
    "    for k in range(PC_df.shape[1]):\n",
    "        plt.text(  PC_df.iloc[k,0]*sc + .05  ,  PC_df.iloc[k,1]*sc + .05 , PC_df.index[k] , c= 'b')\n",
    "        plt.arrow( 0,0,  PC_df.iloc[k,0]*sc + .05  ,  PC_df.iloc[k,1]*sc + .05   , color= 'r')\n",
    "    \n",
    "    plt.xlabel(\"PC1\")\n",
    "    plt.ylabel(\"PC2\")\n",
    "    plt.show()\n",
    "    \n",
    "DD(GOOG_df)"
   ]
  },
  {
   "cell_type": "code",
   "execution_count": 10,
   "id": "2ac97423",
   "metadata": {},
   "outputs": [
    {
     "ename": "KeyError",
     "evalue": "\"['Date'] not found in axis\"",
     "output_type": "error",
     "traceback": [
      "\u001b[1;31m---------------------------------------------------------------------------\u001b[0m",
      "\u001b[1;31mKeyError\u001b[0m                                  Traceback (most recent call last)",
      "\u001b[1;32m<ipython-input-10-ef5cefd78506>\u001b[0m in \u001b[0;36m<module>\u001b[1;34m\u001b[0m\n\u001b[0;32m     13\u001b[0m     \u001b[1;32mreturn\u001b[0m \u001b[0mPC_dim\u001b[0m\u001b[1;33m\u001b[0m\u001b[1;33m\u001b[0m\u001b[0m\n\u001b[0;32m     14\u001b[0m \u001b[1;33m\u001b[0m\u001b[0m\n\u001b[1;32m---> 15\u001b[1;33m \u001b[0mPC_dim\u001b[0m \u001b[1;33m=\u001b[0m \u001b[0mimp\u001b[0m\u001b[1;33m(\u001b[0m\u001b[0mGOOG_df\u001b[0m\u001b[1;33m)\u001b[0m\u001b[1;33m\u001b[0m\u001b[1;33m\u001b[0m\u001b[0m\n\u001b[0m\u001b[0;32m     16\u001b[0m \u001b[0mPC_dim\u001b[0m\u001b[1;33m\u001b[0m\u001b[1;33m\u001b[0m\u001b[0m\n",
      "\u001b[1;32m<ipython-input-10-ef5cefd78506>\u001b[0m in \u001b[0;36mimp\u001b[1;34m(data)\u001b[0m\n\u001b[0;32m      1\u001b[0m \u001b[1;32mdef\u001b[0m \u001b[0mimp\u001b[0m\u001b[1;33m(\u001b[0m\u001b[0mdata\u001b[0m\u001b[1;33m)\u001b[0m \u001b[1;33m:\u001b[0m\u001b[1;33m\u001b[0m\u001b[1;33m\u001b[0m\u001b[0m\n\u001b[1;32m----> 2\u001b[1;33m     \u001b[0mdata\u001b[0m \u001b[1;33m=\u001b[0m \u001b[0mdata\u001b[0m\u001b[1;33m.\u001b[0m\u001b[0mdrop\u001b[0m\u001b[1;33m(\u001b[0m\u001b[1;33m[\u001b[0m\u001b[1;34m'Date'\u001b[0m\u001b[1;33m]\u001b[0m\u001b[1;33m,\u001b[0m \u001b[0maxis\u001b[0m \u001b[1;33m=\u001b[0m \u001b[1;36m1\u001b[0m\u001b[1;33m)\u001b[0m\u001b[1;33m\u001b[0m\u001b[1;33m\u001b[0m\u001b[0m\n\u001b[0m\u001b[0;32m      3\u001b[0m     \u001b[0mn\u001b[0m\u001b[1;33m,\u001b[0m\u001b[0mpca\u001b[0m \u001b[1;33m=\u001b[0m \u001b[0mdoPCA\u001b[0m\u001b[1;33m(\u001b[0m\u001b[0mdata\u001b[0m\u001b[1;33m)\u001b[0m\u001b[1;33m\u001b[0m\u001b[1;33m\u001b[0m\u001b[0m\n\u001b[0;32m      4\u001b[0m     \u001b[0mPC\u001b[0m \u001b[1;33m=\u001b[0m \u001b[0mpca\u001b[0m\u001b[1;33m.\u001b[0m\u001b[0mcomponents_\u001b[0m\u001b[1;33m\u001b[0m\u001b[1;33m\u001b[0m\u001b[0m\n\u001b[0;32m      5\u001b[0m     \u001b[0mPC_df\u001b[0m \u001b[1;33m=\u001b[0m \u001b[0mpd\u001b[0m\u001b[1;33m.\u001b[0m\u001b[0mDataFrame\u001b[0m\u001b[1;33m(\u001b[0m\u001b[0mdata\u001b[0m\u001b[1;33m=\u001b[0m\u001b[0mPC\u001b[0m\u001b[1;33m,\u001b[0m \u001b[0mindex\u001b[0m \u001b[1;33m=\u001b[0m \u001b[0mdata\u001b[0m\u001b[1;33m.\u001b[0m\u001b[0mcolumns\u001b[0m\u001b[1;33m)\u001b[0m\u001b[1;33m\u001b[0m\u001b[1;33m\u001b[0m\u001b[0m\n",
      "\u001b[1;32m~\\anaconda3\\lib\\site-packages\\pandas\\core\\frame.py\u001b[0m in \u001b[0;36mdrop\u001b[1;34m(self, labels, axis, index, columns, level, inplace, errors)\u001b[0m\n\u001b[0;32m   4306\u001b[0m                 \u001b[0mweight\u001b[0m  \u001b[1;36m1.0\u001b[0m     \u001b[1;36m0.8\u001b[0m\u001b[1;33m\u001b[0m\u001b[1;33m\u001b[0m\u001b[0m\n\u001b[0;32m   4307\u001b[0m         \"\"\"\n\u001b[1;32m-> 4308\u001b[1;33m         return super().drop(\n\u001b[0m\u001b[0;32m   4309\u001b[0m             \u001b[0mlabels\u001b[0m\u001b[1;33m=\u001b[0m\u001b[0mlabels\u001b[0m\u001b[1;33m,\u001b[0m\u001b[1;33m\u001b[0m\u001b[1;33m\u001b[0m\u001b[0m\n\u001b[0;32m   4310\u001b[0m             \u001b[0maxis\u001b[0m\u001b[1;33m=\u001b[0m\u001b[0maxis\u001b[0m\u001b[1;33m,\u001b[0m\u001b[1;33m\u001b[0m\u001b[1;33m\u001b[0m\u001b[0m\n",
      "\u001b[1;32m~\\anaconda3\\lib\\site-packages\\pandas\\core\\generic.py\u001b[0m in \u001b[0;36mdrop\u001b[1;34m(self, labels, axis, index, columns, level, inplace, errors)\u001b[0m\n\u001b[0;32m   4151\u001b[0m         \u001b[1;32mfor\u001b[0m \u001b[0maxis\u001b[0m\u001b[1;33m,\u001b[0m \u001b[0mlabels\u001b[0m \u001b[1;32min\u001b[0m \u001b[0maxes\u001b[0m\u001b[1;33m.\u001b[0m\u001b[0mitems\u001b[0m\u001b[1;33m(\u001b[0m\u001b[1;33m)\u001b[0m\u001b[1;33m:\u001b[0m\u001b[1;33m\u001b[0m\u001b[1;33m\u001b[0m\u001b[0m\n\u001b[0;32m   4152\u001b[0m             \u001b[1;32mif\u001b[0m \u001b[0mlabels\u001b[0m \u001b[1;32mis\u001b[0m \u001b[1;32mnot\u001b[0m \u001b[1;32mNone\u001b[0m\u001b[1;33m:\u001b[0m\u001b[1;33m\u001b[0m\u001b[1;33m\u001b[0m\u001b[0m\n\u001b[1;32m-> 4153\u001b[1;33m                 \u001b[0mobj\u001b[0m \u001b[1;33m=\u001b[0m \u001b[0mobj\u001b[0m\u001b[1;33m.\u001b[0m\u001b[0m_drop_axis\u001b[0m\u001b[1;33m(\u001b[0m\u001b[0mlabels\u001b[0m\u001b[1;33m,\u001b[0m \u001b[0maxis\u001b[0m\u001b[1;33m,\u001b[0m \u001b[0mlevel\u001b[0m\u001b[1;33m=\u001b[0m\u001b[0mlevel\u001b[0m\u001b[1;33m,\u001b[0m \u001b[0merrors\u001b[0m\u001b[1;33m=\u001b[0m\u001b[0merrors\u001b[0m\u001b[1;33m)\u001b[0m\u001b[1;33m\u001b[0m\u001b[1;33m\u001b[0m\u001b[0m\n\u001b[0m\u001b[0;32m   4154\u001b[0m \u001b[1;33m\u001b[0m\u001b[0m\n\u001b[0;32m   4155\u001b[0m         \u001b[1;32mif\u001b[0m \u001b[0minplace\u001b[0m\u001b[1;33m:\u001b[0m\u001b[1;33m\u001b[0m\u001b[1;33m\u001b[0m\u001b[0m\n",
      "\u001b[1;32m~\\anaconda3\\lib\\site-packages\\pandas\\core\\generic.py\u001b[0m in \u001b[0;36m_drop_axis\u001b[1;34m(self, labels, axis, level, errors)\u001b[0m\n\u001b[0;32m   4186\u001b[0m                 \u001b[0mnew_axis\u001b[0m \u001b[1;33m=\u001b[0m \u001b[0maxis\u001b[0m\u001b[1;33m.\u001b[0m\u001b[0mdrop\u001b[0m\u001b[1;33m(\u001b[0m\u001b[0mlabels\u001b[0m\u001b[1;33m,\u001b[0m \u001b[0mlevel\u001b[0m\u001b[1;33m=\u001b[0m\u001b[0mlevel\u001b[0m\u001b[1;33m,\u001b[0m \u001b[0merrors\u001b[0m\u001b[1;33m=\u001b[0m\u001b[0merrors\u001b[0m\u001b[1;33m)\u001b[0m\u001b[1;33m\u001b[0m\u001b[1;33m\u001b[0m\u001b[0m\n\u001b[0;32m   4187\u001b[0m             \u001b[1;32melse\u001b[0m\u001b[1;33m:\u001b[0m\u001b[1;33m\u001b[0m\u001b[1;33m\u001b[0m\u001b[0m\n\u001b[1;32m-> 4188\u001b[1;33m                 \u001b[0mnew_axis\u001b[0m \u001b[1;33m=\u001b[0m \u001b[0maxis\u001b[0m\u001b[1;33m.\u001b[0m\u001b[0mdrop\u001b[0m\u001b[1;33m(\u001b[0m\u001b[0mlabels\u001b[0m\u001b[1;33m,\u001b[0m \u001b[0merrors\u001b[0m\u001b[1;33m=\u001b[0m\u001b[0merrors\u001b[0m\u001b[1;33m)\u001b[0m\u001b[1;33m\u001b[0m\u001b[1;33m\u001b[0m\u001b[0m\n\u001b[0m\u001b[0;32m   4189\u001b[0m             \u001b[0mresult\u001b[0m \u001b[1;33m=\u001b[0m \u001b[0mself\u001b[0m\u001b[1;33m.\u001b[0m\u001b[0mreindex\u001b[0m\u001b[1;33m(\u001b[0m\u001b[1;33m**\u001b[0m\u001b[1;33m{\u001b[0m\u001b[0maxis_name\u001b[0m\u001b[1;33m:\u001b[0m \u001b[0mnew_axis\u001b[0m\u001b[1;33m}\u001b[0m\u001b[1;33m)\u001b[0m\u001b[1;33m\u001b[0m\u001b[1;33m\u001b[0m\u001b[0m\n\u001b[0;32m   4190\u001b[0m \u001b[1;33m\u001b[0m\u001b[0m\n",
      "\u001b[1;32m~\\anaconda3\\lib\\site-packages\\pandas\\core\\indexes\\base.py\u001b[0m in \u001b[0;36mdrop\u001b[1;34m(self, labels, errors)\u001b[0m\n\u001b[0;32m   5589\u001b[0m         \u001b[1;32mif\u001b[0m \u001b[0mmask\u001b[0m\u001b[1;33m.\u001b[0m\u001b[0many\u001b[0m\u001b[1;33m(\u001b[0m\u001b[1;33m)\u001b[0m\u001b[1;33m:\u001b[0m\u001b[1;33m\u001b[0m\u001b[1;33m\u001b[0m\u001b[0m\n\u001b[0;32m   5590\u001b[0m             \u001b[1;32mif\u001b[0m \u001b[0merrors\u001b[0m \u001b[1;33m!=\u001b[0m \u001b[1;34m\"ignore\"\u001b[0m\u001b[1;33m:\u001b[0m\u001b[1;33m\u001b[0m\u001b[1;33m\u001b[0m\u001b[0m\n\u001b[1;32m-> 5591\u001b[1;33m                 \u001b[1;32mraise\u001b[0m \u001b[0mKeyError\u001b[0m\u001b[1;33m(\u001b[0m\u001b[1;34mf\"{labels[mask]} not found in axis\"\u001b[0m\u001b[1;33m)\u001b[0m\u001b[1;33m\u001b[0m\u001b[1;33m\u001b[0m\u001b[0m\n\u001b[0m\u001b[0;32m   5592\u001b[0m             \u001b[0mindexer\u001b[0m \u001b[1;33m=\u001b[0m \u001b[0mindexer\u001b[0m\u001b[1;33m[\u001b[0m\u001b[1;33m~\u001b[0m\u001b[0mmask\u001b[0m\u001b[1;33m]\u001b[0m\u001b[1;33m\u001b[0m\u001b[1;33m\u001b[0m\u001b[0m\n\u001b[0;32m   5593\u001b[0m         \u001b[1;32mreturn\u001b[0m \u001b[0mself\u001b[0m\u001b[1;33m.\u001b[0m\u001b[0mdelete\u001b[0m\u001b[1;33m(\u001b[0m\u001b[0mindexer\u001b[0m\u001b[1;33m)\u001b[0m\u001b[1;33m\u001b[0m\u001b[1;33m\u001b[0m\u001b[0m\n",
      "\u001b[1;31mKeyError\u001b[0m: \"['Date'] not found in axis\""
     ]
    }
   ],
   "source": [
    "def imp(data) :\n",
    "    data = data.drop(['Date'], axis = 1)\n",
    "    n,pca = doPCA(data)\n",
    "    PC = pca.components_\n",
    "    PC_df = pd.DataFrame(data=PC, index = data.columns)\n",
    "    PC_dim = PC_df\n",
    "    \n",
    "    weight = pca.explained_variance_ratio_\n",
    "    print(weight)\n",
    "    \n",
    "    PC_dim[\"Feature Importance \"] = (PC_dim**2).apply(lambda x : np.sqrt(x.dot(weight)), axis = 1 )\n",
    "    \n",
    "    return PC_dim\n",
    "    \n",
    "PC_dim = imp(GOOG_df)\n",
    "PC_dim"
   ]
  },
  {
   "cell_type": "code",
   "execution_count": null,
   "id": "9b49cf56",
   "metadata": {},
   "outputs": [],
   "source": []
  },
  {
   "cell_type": "code",
   "execution_count": null,
   "id": "72839ebd",
   "metadata": {},
   "outputs": [],
   "source": []
  },
  {
   "cell_type": "code",
   "execution_count": null,
   "id": "870198e1",
   "metadata": {},
   "outputs": [],
   "source": []
  },
  {
   "cell_type": "code",
   "execution_count": null,
   "id": "04f2d38d",
   "metadata": {},
   "outputs": [],
   "source": []
  },
  {
   "cell_type": "code",
   "execution_count": null,
   "id": "4cdf55a7",
   "metadata": {},
   "outputs": [],
   "source": []
  },
  {
   "cell_type": "code",
   "execution_count": null,
   "id": "65f37b00",
   "metadata": {},
   "outputs": [],
   "source": []
  },
  {
   "cell_type": "code",
   "execution_count": null,
   "id": "1cc9eca5",
   "metadata": {},
   "outputs": [],
   "source": []
  }
 ],
 "metadata": {
  "kernelspec": {
   "display_name": "Python 3",
   "language": "python",
   "name": "python3"
  },
  "language_info": {
   "codemirror_mode": {
    "name": "ipython",
    "version": 3
   },
   "file_extension": ".py",
   "mimetype": "text/x-python",
   "name": "python",
   "nbconvert_exporter": "python",
   "pygments_lexer": "ipython3",
   "version": "3.8.8"
  }
 },
 "nbformat": 4,
 "nbformat_minor": 5
}
