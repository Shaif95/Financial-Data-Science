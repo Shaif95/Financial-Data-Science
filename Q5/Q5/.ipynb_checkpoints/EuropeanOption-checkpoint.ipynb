{
 "cells": [
  {
   "cell_type": "code",
   "execution_count": 1,
   "id": "46a3c9f1",
   "metadata": {},
   "outputs": [],
   "source": [
    "import numpy as np\n",
    "import matplotlib.pyplot as plt\n",
    "import pandas as pd\n",
    "from sklearn.decomposition import PCA\n",
    "from sklearn import svm\n",
    "import seaborn as sns\n",
    "from matplotlib.colors import ListedColormap\n",
    "from sklearn import neighbors\n",
    "import matplotlib.pyplot as plt\n",
    "from pandas.plotting import parallel_coordinates\n",
    "from sklearn.preprocessing import StandardScaler\n",
    "from sklearn import decomposition\n",
    "import scipy\n",
    "from sklearn.manifold import TSNE\n",
    "from pandas.plotting import parallel_coordinates\n",
    "from sklearn import decomposition\n",
    "import numpy as np\n",
    "import matplotlib.pyplot as plt\n",
    "import pandas as pd\n",
    "from sklearn.decomposition import PCA\n",
    "from sklearn import svm\n",
    "import seaborn as sns\n",
    "from matplotlib.colors import ListedColormap\n",
    "from sklearn import neighbors\n",
    "import matplotlib.pyplot as plt\n",
    "from pandas.plotting import parallel_coordinates\n",
    "from sklearn.preprocessing import StandardScaler\n",
    "from sklearn import decomposition\n",
    "import scipy\n",
    "from sklearn.manifold import TSNE\n",
    "import seaborn as sn\n",
    "from sklearn.datasets import make_friedman1\n",
    "from sklearn.decomposition import SparsePCA"
   ]
  },
  {
   "cell_type": "code",
   "execution_count": 2,
   "id": "ed07487c",
   "metadata": {},
   "outputs": [
    {
     "data": {
      "text/html": [
       "<div>\n",
       "<style scoped>\n",
       "    .dataframe tbody tr th:only-of-type {\n",
       "        vertical-align: middle;\n",
       "    }\n",
       "\n",
       "    .dataframe tbody tr th {\n",
       "        vertical-align: top;\n",
       "    }\n",
       "\n",
       "    .dataframe thead th {\n",
       "        text-align: right;\n",
       "    }\n",
       "</style>\n",
       "<table border=\"1\" class=\"dataframe\">\n",
       "  <thead>\n",
       "    <tr style=\"text-align: right;\">\n",
       "      <th></th>\n",
       "      <th>Unnamed: 0</th>\n",
       "      <th>Option_type</th>\n",
       "      <th>Ask</th>\n",
       "      <th>Bid</th>\n",
       "      <th>Option_price</th>\n",
       "      <th>Stock_price</th>\n",
       "      <th>Strike_price</th>\n",
       "      <th>Volatility</th>\n",
       "      <th>Volume</th>\n",
       "      <th>Time_to_maturity</th>\n",
       "      <th>Implied_volatility</th>\n",
       "    </tr>\n",
       "  </thead>\n",
       "  <tbody>\n",
       "    <tr>\n",
       "      <th>0</th>\n",
       "      <td>0</td>\n",
       "      <td>1</td>\n",
       "      <td>0.2</td>\n",
       "      <td>0.0</td>\n",
       "      <td>0.09</td>\n",
       "      <td>79.54</td>\n",
       "      <td>45.0</td>\n",
       "      <td>0.286563</td>\n",
       "      <td>4</td>\n",
       "      <td>0.123288</td>\n",
       "      <td>0.763674</td>\n",
       "    </tr>\n",
       "  </tbody>\n",
       "</table>\n",
       "</div>"
      ],
      "text/plain": [
       "   Unnamed: 0  Option_type  Ask  Bid  Option_price  Stock_price  Strike_price  \\\n",
       "0           0            1  0.2  0.0          0.09        79.54          45.0   \n",
       "\n",
       "   Volatility  Volume  Time_to_maturity  Implied_volatility  \n",
       "0    0.286563       4          0.123288            0.763674  "
      ]
     },
     "execution_count": 2,
     "metadata": {},
     "output_type": "execute_result"
    }
   ],
   "source": [
    "OP_df = pd.read_csv('OptionData12110.csv')\n",
    "OP_df = OP_df.dropna()\n",
    "OP_df.head(1)"
   ]
  },
  {
   "cell_type": "code",
   "execution_count": null,
   "id": "915f1c45",
   "metadata": {},
   "outputs": [],
   "source": []
  },
  {
   "cell_type": "code",
   "execution_count": 3,
   "id": "48494ad4",
   "metadata": {},
   "outputs": [
    {
     "name": "stderr",
     "output_type": "stream",
     "text": [
      "No handles with labels found to put in legend.\n"
     ]
    },
    {
     "data": {
      "image/png": "[encoded data removed]",
      "text/plain": [
       "<Figure size 360x360 with 1 Axes>"
      ]
     },
     "metadata": {
      "needs_background": "light"
     },
     "output_type": "display_data"
    }
   ],
   "source": [
    "import statistics\n",
    "from numpy import asarray\n",
    "from sklearn.decomposition import TruncatedSVD\n",
    "from scipy.sparse import csr_matrix\n",
    "from sklearn.preprocessing import MinMaxScaler\n",
    "from sklearn.preprocessing import StandardScaler\n",
    "\n",
    "#VCR Normalization plots \n",
    "\n",
    "def Plot_CVR(argv):\n",
    "    y = [\"OPTION\"]\n",
    "    x = []\n",
    "    \n",
    "    scaler = MinMaxScaler()\n",
    "    sc = scaler.fit_transform(OP_df)\n",
    "    pca = PCA(n_components=3)\n",
    "    pca.fit(sc)\n",
    "    vc = pca.explained_variance_ratio_\n",
    "    \n",
    "    import matplotlib.pyplot as plt \n",
    "    \n",
    "    fig=plt.figure(figsize=(5,5))\n",
    "    bar1 = plt.bar(1, vc[0], color= 'r',width = .28)\n",
    "    bar1 = plt.bar(2, vc[1], color= 'r', width = .28)\n",
    "    bar1 = plt.bar(3, vc[2], color= 'r', width = .28)\n",
    "    \n",
    "    \n",
    "    plt.legend( )\n",
    "    plt.ylabel(\"VCR\")\n",
    "    plt.show()\n",
    "\n",
    "Plot_CVR(OP_df)"
   ]
  },
  {
   "cell_type": "code",
   "execution_count": 20,
   "id": "bbd3abcc",
   "metadata": {},
   "outputs": [
    {
     "name": "stderr",
     "output_type": "stream",
     "text": [
      "C:\\Users\\chsha\\anaconda3\\lib\\site-packages\\seaborn\\axisgrid.py:337: UserWarning: The `size` parameter has been renamed to `height`; please update your code.\n",
      "  warnings.warn(msg, UserWarning)\n"
     ]
    },
    {
     "data": {
      "image/png": "[encoded data removed]",
      "text/plain": [
       "<Figure size 432x432 with 1 Axes>"
      ]
     },
     "metadata": {
      "needs_background": "light"
     },
     "output_type": "display_data"
    }
   ],
   "source": [
    "from sklearn import preprocessing\n",
    "\n",
    "data = OP_df\n",
    "\n",
    "l = OP_df['Option_type']\n",
    "\n",
    "norm = StandardScaler().fit_transform(data)\n",
    "pca = PCA(n_components = 2)\n",
    "n = pca.fit_transform(norm)\n",
    "\n",
    "np.shape(n)\n",
    "\n",
    "tsne_data = n\n",
    "\n",
    "tsne_data = np.vstack((tsne_data.T, l)).T\n",
    "\n",
    "tsne_df = pd.DataFrame(data = tsne_data,columns =(\"PC_2\", \"PC_1\", \"label\"))\n",
    " \n",
    "# Ploting the result of tsne\n",
    "sn.FacetGrid(tsne_df, hue =\"label\", size = 6).map(plt.scatter,\"PC_2\", \"PC_1\")\n",
    "plt.legend([\"Call\", \"Put\"])\n",
    " \n",
    "plt.show()"
   ]
  },
  {
   "cell_type": "code",
   "execution_count": 25,
   "id": "5a118976",
   "metadata": {},
   "outputs": [
    {
     "name": "stderr",
     "output_type": "stream",
     "text": [
      "C:\\Users\\chsha\\anaconda3\\lib\\site-packages\\seaborn\\axisgrid.py:337: UserWarning: The `size` parameter has been renamed to `height`; please update your code.\n",
      "  warnings.warn(msg, UserWarning)\n"
     ]
    },
    {
     "data": {
      "image/png": "[encoded data removed]",
      "text/plain": [
       "<Figure size 432x432 with 1 Axes>"
      ]
     },
     "metadata": {
      "needs_background": "light"
     },
     "output_type": "display_data"
    }
   ],
   "source": [
    "#TSNE\n",
    "from sklearn import preprocessing\n",
    "\n",
    "data = OP_df\n",
    "\n",
    "l = OP_df['Option_type']\n",
    "\n",
    "s_data = StandardScaler().fit_transform(data)\n",
    "\n",
    "model = TSNE(n_components = 2 , perplexity=90, metric='euclidean', learning_rate=1)\n",
    "\n",
    "tsne_data = model.fit_transform(s_data)\n",
    "\n",
    "tsne_data = np.vstack((tsne_data.T, l)).T\n",
    "\n",
    "tsne_df = pd.DataFrame(data = tsne_data,columns =(\"TSNE_1\", \"TSNE_2\", \"label\"))\n",
    " \n",
    "# Ploting the result of tsne\n",
    "sn.FacetGrid(tsne_df, hue =\"label\", size = 6).map(plt.scatter, 'TSNE_1', 'TSNE_2')\n",
    "plt.legend([\"Call\", \"Put\"])\n",
    " \n",
    "plt.show()"
   ]
  },
  {
   "cell_type": "code",
   "execution_count": null,
   "id": "a40d82fc",
   "metadata": {},
   "outputs": [],
   "source": []
  },
  {
   "cell_type": "code",
   "execution_count": 24,
   "id": "ccf28fe9",
   "metadata": {},
   "outputs": [
    {
     "name": "stdout",
     "output_type": "stream",
     "text": [
      "UMAP(min_dist=1, n_neighbors=30, random_state=420, verbose=True)\n",
      "Mon Apr 25 21:49:38 2022 Construct fuzzy simplicial set\n",
      "Mon Apr 25 21:49:38 2022 Finding Nearest Neighbors\n",
      "Mon Apr 25 21:49:38 2022 Building RP forest with 11 trees\n",
      "Mon Apr 25 21:49:38 2022 NN descent for 14 iterations\n",
      "\t 1  /  14\n",
      "\t 2  /  14\n",
      "\tStopping threshold met -- exiting after 2 iterations\n",
      "Mon Apr 25 21:49:39 2022 Finished Nearest Neighbor Search\n",
      "Mon Apr 25 21:49:39 2022 Construct embedding\n"
     ]
    },
    {
     "data": {
      "application/vnd.jupyter.widget-view+json": {
       "model_id": "c2c391d434ab4b5493555321f59000af",
       "version_major": 2,
       "version_minor": 0
      },
      "text/plain": [
       "Epochs completed:   0%|            0/200 [00:00]"
      ]
     },
     "metadata": {},
     "output_type": "display_data"
    },
    {
     "name": "stdout",
     "output_type": "stream",
     "text": [
      "Mon Apr 25 21:50:02 2022 Finished embedding\n"
     ]
    },
    {
     "name": "stderr",
     "output_type": "stream",
     "text": [
      "C:\\Users\\chsha\\anaconda3\\lib\\site-packages\\seaborn\\axisgrid.py:337: UserWarning: The `size` parameter has been renamed to `height`; please update your code.\n",
      "  warnings.warn(msg, UserWarning)\n"
     ]
    },
    {
     "data": {
      "image/png": "[encoded data removed]",
      "text/plain": [
       "<Figure size 432x432 with 1 Axes>"
      ]
     },
     "metadata": {
      "needs_background": "light"
     },
     "output_type": "display_data"
    }
   ],
   "source": [
    "from umap import UMAP\n",
    "from sklearn import preprocessing\n",
    "\n",
    "data = OP_df\n",
    "norm = StandardScaler().fit_transform(data)\n",
    "ump = UMAP(n_neighbors=30, min_dist=1, random_state=420, verbose=True)\n",
    "Xumap = ump.fit_transform(norm,OP_df['Option_type'])\n",
    "np.shape(Xumap)\n",
    "n = Xumap\n",
    "np.shape(n)\n",
    "l = OP_df['Option_type']\n",
    "\n",
    "tsne_data = np.vstack((n.T, l)).T\n",
    "\n",
    "tsne_df = pd.DataFrame(data = tsne_data,columns =(\"UMAP_1\", \"UMAP_2\", \"label\"))\n",
    " \n",
    "# Ploting the result of tsne\n",
    "sn.FacetGrid(tsne_df, hue =\"label\", size = 6).map(plt.scatter, 'UMAP_1', 'UMAP_2')\n",
    "plt.legend([\"Call\", \"Put\"])\n",
    "n = 10plt.show()"
   ]
  },
  {
   "cell_type": "code",
   "execution_count": 155,
   "id": "daf27041",
   "metadata": {},
   "outputs": [
    {
     "data": {
      "text/plain": [
       "0.00814841186750238"
      ]
     },
     "execution_count": 155,
     "metadata": {},
     "output_type": "execute_result"
    }
   ],
   "source": [
    "n = 500\n",
    "\n",
    "OP_df = pd.read_csv('OptionData12110.csv')\n",
    "OP_df = OP_df.dropna()\n",
    "\n",
    "from sklearn.model_selection import train_test_split\n",
    "X = StandardScaler().fit_transform ( OP_df )\n",
    "Y = np.array(OP_df['Implied_volatility'])\n",
    "X_train, X_test, Y_train, Y_test = train_test_split( X, Y, test_size=0.25, random_state=42)\n",
    "X_train_tr, X_train_ts, Y_train_tr, Y_train_ts = train_test_split( X_train, Y_train, test_size=0.25, random_state=40)\n",
    "from sklearn.pipeline import make_pipeline\n",
    "from sklearn.preprocessing import StandardScaler\n",
    "from sklearn.svm import SVR\n",
    "regr = make_pipeline(StandardScaler(), SVR(C=500,kernel='linear', epsilon=0.2))\n",
    "regr.fit(X_train, Y_train)\n",
    "from sklearn.metrics import mean_squared_error\n",
    "pred= regr.predict(X_test)\n",
    "acc = mean_squared_error(Y_test, pred)\n",
    "acc"
   ]
  },
  {
   "cell_type": "code",
   "execution_count": 156,
   "id": "f9bb47de",
   "metadata": {},
   "outputs": [
    {
     "data": {
      "text/plain": [
       "0.006939209296766553"
      ]
     },
     "execution_count": 156,
     "metadata": {},
     "output_type": "execute_result"
    }
   ],
   "source": [
    "test_res = regr.predict(X_train_ts)\n",
    "errors = []\n",
    "for i in range(0,len(X_train_ts)):\n",
    "    err = abs ( test_res[i] - Y_train_ts[i] )\n",
    "    errors.append(err)\n",
    "    \n",
    "errors = np.array(errors)\n",
    "\n",
    "idx = (-errors).argsort()[:n]\n",
    "\n",
    "bad = np.array( X_train_ts)[idx]\n",
    "\n",
    "\n",
    "from scipy import spatial\n",
    "neib = []\n",
    "for i in range(0,len(bad)):\n",
    "    distance,index = spatial.KDTree(X_test).query(bad[i])\n",
    "    neib.append(index)\n",
    "    \n",
    "X_test_bad = np.array( X_test)[neib]\n",
    "Y_test_bad = np.array( Y_test)[neib]\n",
    "\n",
    "X_test = np.delete( X_test,neib, axis=0)\n",
    "Y_test = np.delete( Y_test,neib, axis=0)\n",
    "xt = np.concatenate((X_train_tr,X_train_ts), axis=0)\n",
    "yt = np.concatenate((Y_train_tr,Y_train_ts), axis=0)\n",
    "regr = make_pipeline(StandardScaler(), SVR(C=500,kernel='linear', epsilon=0.2))\n",
    "regr.fit(xt, yt)\n",
    "pred= regr.predict(X_test)\n",
    "hacc = mean_squared_error(Y_test, pred)\n",
    "hacc"
   ]
  },
  {
   "cell_type": "code",
   "execution_count": 157,
   "id": "d69ce38d",
   "metadata": {},
   "outputs": [],
   "source": [
    "def get_res(i):\n",
    "    neib = []\n",
    "    for i in range(0,len(bad)):\n",
    "        distance,index = spatial.KDTree(X_train).query(bad[i])\n",
    "        neib.append(index)\n",
    "    nei = np.array( X_train[index]).reshape(1,11)\n",
    "    nei_y = np.array( Y_train[index]).reshape(1,)\n",
    "    xt = np.concatenate((X_train_tr,X_train_ts,nei), axis=0)\n",
    "    yt = np.concatenate((Y_train_tr,Y_train_ts,nei_y), axis=0)\n",
    "    regr = make_pipeline(StandardScaler(), SVR(C=1, epsilon=0.2))\n",
    "    regr.fit(xt, yt)\n",
    "    p = regr.predict(X_test_bad[i].reshape(1,11))\n",
    "    return p"
   ]
  },
  {
   "cell_type": "code",
   "execution_count": 159,
   "id": "bb2f4534",
   "metadata": {},
   "outputs": [],
   "source": [
    "pred_bad = np.array([])\n",
    "for i in range(0,len(X_test_bad)):\n",
    "    k = get_res(i)\n",
    "    pred_bad = np.concatenate((pred_bad,k),axis = 0)\n"
   ]
  },
  {
   "cell_type": "code",
   "execution_count": null,
   "id": "d8fa1d2a",
   "metadata": {},
   "outputs": [],
   "source": []
  },
  {
   "cell_type": "code",
   "execution_count": 151,
   "id": "491abcb2",
   "metadata": {},
   "outputs": [
    {
     "name": "stdout",
     "output_type": "stream",
     "text": [
      "3.0249756354726834e-06\n",
      "0.00814841186750238\n",
      "1.121617021893381e-07\n",
      "2.6773771814504426e-08\n"
     ]
    }
   ],
   "source": [
    "\n",
    "OP_df = pd.read_csv('OptionData12110.csv')\n",
    "OP_df = OP_df.dropna()\n",
    "X = StandardScaler().fit_transform ( OP_df )\n",
    "Y = np.array(OP_df['Implied_volatility'])\n",
    "X_train, X_test, Y_train, Y_test = train_test_split( X, Y, test_size=0.25, random_state=42)\n",
    "from sklearn.neural_network import MLPRegressor\n",
    "from sklearn.datasets import make_regression\n",
    "mlp= MLPRegressor(solver='lbfgs', alpha=1e-7, hidden_layer_sizes=(10,), random_state=1, max_iter =1e7)\n",
    "\n",
    "mlp.fit(X_train, Y_train)\n",
    "pred = mlp.predict(X_test)\n",
    "macc = mean_squared_error(Y_test, pred)\n",
    "print(macc)\n",
    "from sklearn.svm import SVR\n",
    "from sklearn.pipeline import make_pipeline\n",
    "\n",
    "regr = make_pipeline(StandardScaler(), SVR(C=500,kernel='linear', epsilon=0.2))\n",
    "\n",
    "regr.fit(X_train, Y_train)\n",
    "pred = regr.predict(X_test)\n",
    "sacc = mean_squared_error(Y_test, pred)\n",
    "print(sacc)\n",
    "from sklearn.datasets import make_hastie_10_2\n",
    "from sklearn.datasets import make_regression\n",
    "from sklearn.ensemble import GradientBoostingRegressor\n",
    "\n",
    "bst = GradientBoostingRegressor(n_estimators=100, learning_rate=1.0, max_depth=20, random_state=0).fit(X_train, Y_train)\n",
    "\n",
    "pred = bst.predict(X_test)\n",
    "\n",
    "gacc = mean_squared_error(Y_test, pred)\n",
    "print(gacc)\n",
    "from sklearn.datasets import make_regression\n",
    "from sklearn.ensemble import ExtraTreesRegressor\n",
    "\n",
    "reg = ExtraTreesRegressor(n_estimators=100, random_state=0).fit( X_train, Y_train)\n",
    "pred = reg.predict(X_test)\n",
    "\n",
    "eacc = mean_squared_error(Y_test, pred)\n",
    "print(eacc)"
   ]
  },
  {
   "cell_type": "code",
   "execution_count": 11,
   "id": "0f16c305",
   "metadata": {},
   "outputs": [
    {
     "data": {
      "text/plain": [
       "2.6773771814504426e-08"
      ]
     },
     "execution_count": 11,
     "metadata": {},
     "output_type": "execute_result"
    }
   ],
   "source": [
    "from keras.models import Sequential\n",
    "from keras.layers import Dense, Conv1D, Flatten\n",
    "#create model\n",
    "model = Sequential()\n",
    "#add model layers\n",
    "model.add(Conv1D(16, kernel_size=3,  input_shape=(11,1)))\n",
    "model.add(Conv1D(8, kernel_size=3, activation='relu'))\n",
    "model.add(Flatten())\n",
    "model.add(Dense(1, activation='linear'))\n",
    "model.compile(optimizer='adam', loss='mse', metrics=['accuracy'])\n",
    "model.fit(X_train, Y_train, epochs=30, validation_split = .3, verbose = 0)\n",
    "model = reg.predict(X_test)\n",
    "\n",
    "cacc = mean_squared_error(Y_test, pred)\n",
    "cacc"
   ]
  },
  {
   "cell_type": "code",
   "execution_count": 43,
   "id": "62b11fe3",
   "metadata": {},
   "outputs": [
    {
     "data": {
      "image/png": "[encoded data removed]",
      "text/plain": [
       "<Figure size 504x288 with 1 Axes>"
      ]
     },
     "metadata": {
      "needs_background": "light"
     },
     "output_type": "display_data"
    }
   ],
   "source": [
    "import statistics\n",
    "from numpy import asarray\n",
    "from sklearn.decomposition import TruncatedSVD\n",
    "from scipy.sparse import csr_matrix\n",
    "from sklearn.preprocessing import MinMaxScaler\n",
    "from sklearn.preprocessing import StandardScaler\n",
    "import matplotlib.pyplot as plt \n",
    "    \n",
    "fig=plt.figure(figsize=(7,4))\n",
    "bar2 = plt.bar(\"MLP\", macc, color= 'r', width = .28)\n",
    "bar3 = plt.bar(\"GBM\", gacc, color= 'b',width = .28)\n",
    "bar4 = plt.bar(\"EXT\", eacc, color= 'r', width = .28)\n",
    "bar5 = plt.bar(\"CNN\", cacc, color= 'b',width = .28)\n",
    "    \n",
    "plt.legend( (bar1,bar2,bar3,bar4,bar5), ('MLP','GBM','EXT','CNN') )\n",
    "plt.ylabel(\"MSE\")\n",
    "plt.show()"
   ]
  },
  {
   "cell_type": "code",
   "execution_count": 154,
   "id": "642ccd55",
   "metadata": {},
   "outputs": [
    {
     "name": "stderr",
     "output_type": "stream",
     "text": [
      "No handles with labels found to put in legend.\n"
     ]
    },
    {
     "data": {
      "image/png": "[encoded data removed]",
      "text/plain": [
       "<Figure size 432x288 with 1 Axes>"
      ]
     },
     "metadata": {
      "needs_background": "light"
     },
     "output_type": "display_data"
    }
   ],
   "source": [
    "import statistics\n",
    "from numpy import asarray\n",
    "from sklearn.decomposition import TruncatedSVD\n",
    "from scipy.sparse import csr_matrix\n",
    "from sklearn.preprocessing import MinMaxScaler\n",
    "from sklearn.preprocessing import StandardScaler\n",
    "import matplotlib.pyplot as plt \n",
    "    \n",
    "fig=plt.figure(figsize=(6,4))\n",
    "bar1 = plt.bar(\"SVM\", acc, color= 'r',width = .2)\n",
    "bar2 = plt.bar(\"HA-SVM\", hacc, color= 'r', width = .2)\n",
    "    \n",
    "plt.legend( (bar1,bar2), ('SVM','HA-SVM') )\n",
    "plt.ylabel(\"MSE\")\n",
    "plt.legend()\n",
    "plt.show()"
   ]
  },
  {
   "cell_type": "code",
   "execution_count": 146,
   "id": "3add8de4",
   "metadata": {},
   "outputs": [
    {
     "name": "stdout",
     "output_type": "stream",
     "text": [
      "2.5915049008658743e-05\n",
      "0.008149545549455461\n",
      "0.0001206019789264491\n",
      "3.103791445149281e-08\n"
     ]
    }
   ],
   "source": [
    "\n",
    "OP_df = pd.read_csv('OptionData12110.csv')\n",
    "OP_df = OP_df.dropna()\n",
    "data = OP_df\n",
    "data[\"kurt\"] = data.kurtosis(axis = 1, skipna = True)\n",
    "data = data.dropna()\n",
    "data[\"skew\"] = data.skew(axis = 1, skipna = True)\n",
    "data = data.dropna()\n",
    "data[\"in\"] = data[\"Stock_price\"] - data[\"Strike_price\"]\n",
    "data.head(2)\n",
    "\n",
    "X = StandardScaler().fit_transform ( data )\n",
    "Y = np.array(data['Implied_volatility'])\n",
    "X_train, X_test, Y_train, Y_test = train_test_split( X, Y, test_size=0.25, random_state=42)\n",
    "from sklearn.neural_network import MLPRegressor\n",
    "from sklearn.datasets import make_regression\n",
    "mlp= MLPRegressor(solver='lbfgs', alpha=1e-5, hidden_layer_sizes=(10,), random_state=1, max_iter =1e7)\n",
    "\n",
    "mlp.fit(X_train, Y_train)\n",
    "pred = mlp.predict(X_test)\n",
    "macc = mean_squared_error(Y_test, pred)\n",
    "print(macc)\n",
    "from sklearn.svm import SVR\n",
    "from sklearn.pipeline import make_pipeline\n",
    "\n",
    "regr = make_pipeline(StandardScaler(), SVR(C=500,kernel='linear', epsilon=0.2))\n",
    "\n",
    "regr.fit(X_train, Y_train)\n",
    "pred = regr.predict(X_test)\n",
    "sacc = mean_squared_error(Y_test, pred)\n",
    "print(sacc)\n",
    "from sklearn.datasets import make_hastie_10_2\n",
    "from sklearn.datasets import make_regression\n",
    "from sklearn.ensemble import GradientBoostingRegressor\n",
    "\n",
    "bst = GradientBoostingRegressor(n_estimators=100, learning_rate=1.0, max_depth=1, random_state=0).fit(X_train, Y_train)\n",
    "\n",
    "pred = bst.predict(X_test)\n",
    "\n",
    "gacc = mean_squared_error(Y_test, pred)\n",
    "print(gacc)\n",
    "from sklearn.datasets import make_regression\n",
    "from sklearn.ensemble import ExtraTreesRegressor\n",
    "\n",
    "reg = ExtraTreesRegressor(n_estimators=100, random_state=0).fit( X_train, Y_train)\n",
    "pred = reg.predict(X_test)\n",
    "\n",
    "eacc = mean_squared_error(Y_test, pred)\n",
    "print(eacc)"
   ]
  },
  {
   "cell_type": "code",
   "execution_count": 149,
   "id": "dc4d4937",
   "metadata": {},
   "outputs": [
    {
     "data": {
      "image/png": "[encoded data removed]",
      "text/plain": [
       "<Figure size 504x288 with 1 Axes>"
      ]
     },
     "metadata": {
      "needs_background": "light"
     },
     "output_type": "display_data"
    }
   ],
   "source": [
    "import statistics\n",
    "from numpy import asarray\n",
    "from sklearn.decomposition import TruncatedSVD\n",
    "from scipy.sparse import csr_matrix\n",
    "from sklearn.preprocessing import MinMaxScaler\n",
    "from sklearn.preprocessing import StandardScaler\n",
    "import matplotlib.pyplot as plt \n",
    "    \n",
    "fig=plt.figure(figsize=(7,4))\n",
    "bar2 = plt.bar(\"MLP\", macc, color= 'r', width = .28)\n",
    "bar3 = plt.bar(\"GBM\", gacc, color= 'b',width = .28)\n",
    "bar4 = plt.bar(\"EXT\", eacc, color= 'r', width = .28)\n",
    "bar5 = plt.bar(\"SVM\", sacc, color= 'b',width = .28)\n",
    "    \n",
    "plt.legend( (bar1,bar2,bar3,bar4,bar5), ('MLP','GBM','EXT','SVM') )\n",
    "plt.ylabel(\"MSE\")\n",
    "plt.show()"
   ]
  },
  {
   "cell_type": "code",
   "execution_count": 91,
   "id": "115cc60d",
   "metadata": {},
   "outputs": [
    {
     "data": {
      "text/plain": [
       "4"
      ]
     },
     "execution_count": 91,
     "metadata": {},
     "output_type": "execute_result"
    }
   ],
   "source": [
    "def getNearest(x, p,ne) :\n",
    "    err = distance(x,p[0])\n",
    "    z = 0\n",
    "    res = 0\n",
    "    n = np.array(ne)\n",
    "    for i in range(1,len(p)):\n",
    "        if((i in n)):\n",
    "            z = i\n",
    "        else:\n",
    "            e = distance(x,p[i])\n",
    "            if(e < err ):\n",
    "                res = i\n",
    "    return res\n",
    "def distance(p1,p2):\n",
    "    mse = np.linalg.norm( np.array(p1) - np.array(p2)  )\n",
    "    return mse\n",
    "\n",
    "points = [[0,10], [1,4], [2,3], [3,5],[2,1.1], [4,12]]\n",
    "x = [2,1]\n",
    "ne = [1,2,3]\n",
    "r = getNearest(x, points,ne)\n",
    "r"
   ]
  },
  {
   "cell_type": "code",
   "execution_count": 110,
   "id": "6b37fef9",
   "metadata": {},
   "outputs": [
    {
     "data": {
      "text/plain": [
       "0.004531475047403717"
      ]
     },
     "execution_count": 110,
     "metadata": {},
     "output_type": "execute_result"
    }
   ],
   "source": [
    "n = 50\n",
    "\n",
    "OP_df = pd.read_csv('OptionData12110.csv')\n",
    "OP_df = OP_df.dropna()\n",
    "\n",
    "from sklearn.model_selection import train_test_split\n",
    "X = StandardScaler().fit_transform ( OP_df )\n",
    "Y = np.array(OP_df['Implied_volatility'])\n",
    "X_train, X_test, Y_train, Y_test = train_test_split( X, Y, test_size=0.25, random_state=42)\n",
    "X_train_tr, X_train_ts, Y_train_tr, Y_train_ts = train_test_split( X_train, Y_train, test_size=0.25, random_state=40)\n",
    "from sklearn.pipeline import make_pipeline\n",
    "from sklearn.preprocessing import StandardScaler\n",
    "from sklearn.svm import SVR\n",
    "regr = make_pipeline(StandardScaler(), SVR(C=1,kernel='rbf', epsilon=0.2))\n",
    "regr.fit(X_train, Y_train)\n",
    "from sklearn.metrics import mean_squared_error\n",
    "pred= regr.predict(X_test)\n",
    "acc = mean_squared_error(Y_test, pred)\n",
    "acc"
   ]
  },
  {
   "cell_type": "code",
   "execution_count": 111,
   "id": "c58ca300",
   "metadata": {},
   "outputs": [
    {
     "data": {
      "text/plain": [
       "0.0045205760720073785"
      ]
     },
     "execution_count": 111,
     "metadata": {},
     "output_type": "execute_result"
    }
   ],
   "source": [
    "test_res = regr.predict(X_train_ts)\n",
    "errors = []\n",
    "for i in range(0,len(X_train_ts)):\n",
    "    err = abs ( test_res[i] - Y_train_ts[i] )\n",
    "    errors.append(err)\n",
    "    \n",
    "errors = np.array(errors)\n",
    "\n",
    "idx = (-errors).argsort()[:n]\n",
    "\n",
    "bad = np.array( X_train_ts)[idx]\n",
    "\n",
    "\n",
    "from scipy import spatial\n",
    "neib = []\n",
    "for i in range(0,len(bad)):\n",
    "    index = getNearest( bad[i], X_test,neib)\n",
    "    neib.append(index)\n",
    "    \n",
    "X_test_bad = np.array( X_test)[neib]\n",
    "Y_test_bad = np.array( Y_test)[neib]\n",
    "\n",
    "X_test = np.delete( X_test,neib, axis=0)\n",
    "Y_test = np.delete( Y_test,neib, axis=0)\n",
    "\n",
    "\n",
    "xt = np.concatenate((X_train_tr,X_train_ts), axis=0)\n",
    "yt = np.concatenate((Y_train_tr,Y_train_ts), axis=0)\n",
    "regr = make_pipeline(StandardScaler(), SVR(C=5,kernel='rbf', epsilon=0.2))\n",
    "regr.fit(xt, yt)\n",
    "pred= regr.predict(X_test)\n",
    "ghacc = mean_squared_error(Y_test, pred)\n",
    "ghacc"
   ]
  },
  {
   "cell_type": "code",
   "execution_count": 112,
   "id": "d5727b1a",
   "metadata": {},
   "outputs": [
    {
     "data": {
      "image/png": "[encoded data removed]",
      "text/plain": [
       "<Figure size 432x288 with 1 Axes>"
      ]
     },
     "metadata": {
      "needs_background": "light"
     },
     "output_type": "display_data"
    }
   ],
   "source": [
    "import statistics\n",
    "from numpy import asarray\n",
    "from sklearn.decomposition import TruncatedSVD\n",
    "from scipy.sparse import csr_matrix\n",
    "from sklearn.preprocessing import MinMaxScaler\n",
    "from sklearn.preprocessing import StandardScaler\n",
    "import matplotlib.pyplot as plt \n",
    "    \n",
    "fig=plt.figure(figsize=(6,4))\n",
    "bar1 = plt.bar(\"SVM\", acc, color= 'r',width = .2)\n",
    "bar2 = plt.bar(\"HA-SVM\", ghacc, color= 'r', width = .2)\n",
    "    \n",
    "plt.legend( (bar1,bar2), ('SVM','HA-SVM') )\n",
    "plt.ylabel(\"MSE\")\n",
    "plt.show()"
   ]
  },
  {
   "cell_type": "code",
   "execution_count": 61,
   "id": "7f5d8a64",
   "metadata": {},
   "outputs": [
    {
     "data": {
      "text/plain": [
       "3"
      ]
     },
     "execution_count": 61,
     "metadata": {},
     "output_type": "execute_result"
    }
   ],
   "source": []
  },
  {
   "cell_type": "code",
   "execution_count": 134,
   "id": "2805d587",
   "metadata": {},
   "outputs": [
    {
     "data": {
      "text/plain": [
       "4"
      ]
     },
     "execution_count": 134,
     "metadata": {},
     "output_type": "execute_result"
    }
   ],
   "source": [
    "def cosine(X, Y):\n",
    "    Y = Y.T\n",
    "    r = X.dot(Y)/(np.linalg.norm(X)*np.linalg.norm(Y))\n",
    "    return r\n",
    "\n",
    "def getNearest(x, p,ne) :\n",
    "    err = distance(x,p[0])\n",
    "    z = 0\n",
    "    res = 0\n",
    "    n = np.array(ne)\n",
    "    for i in range(1,len(p)):\n",
    "        if((i in n)):\n",
    "            z = i\n",
    "        else:\n",
    "            e = distance(x,p[i])\n",
    "            if(e < err ):\n",
    "                res = i\n",
    "    return res\n",
    "def distance(p1,p2):\n",
    "    x = np.array(p1)\n",
    "    y = np.array(p2)  \n",
    "    return cosine(x,y)\n",
    "\n",
    "points = [[0,10], [1,4], [2,3], [3,5],[2,1.1], [4,12]]\n",
    "x = [2,1]\n",
    "ne = [1,2,3]\n",
    "r = getNearest(x, points,ne)\n",
    "r"
   ]
  },
  {
   "cell_type": "code",
   "execution_count": 135,
   "id": "98ba9e1a",
   "metadata": {},
   "outputs": [
    {
     "data": {
      "text/plain": [
       "0.004531475047403717"
      ]
     },
     "execution_count": 135,
     "metadata": {},
     "output_type": "execute_result"
    }
   ],
   "source": [
    "n = 50\n",
    "\n",
    "OP_df = pd.read_csv('OptionData12110.csv')\n",
    "OP_df = OP_df.dropna()\n",
    "\n",
    "from sklearn.model_selection import train_test_split\n",
    "X = StandardScaler().fit_transform ( OP_df )\n",
    "Y = np.array(OP_df['Implied_volatility'])\n",
    "X_train, X_test, Y_train, Y_test = train_test_split( X, Y, test_size=0.25, random_state=42)\n",
    "X_train_tr, X_train_ts, Y_train_tr, Y_train_ts = train_test_split( X_train, Y_train, test_size=0.25, random_state=40)\n",
    "from sklearn.pipeline import make_pipeline\n",
    "from sklearn.preprocessing import StandardScaler\n",
    "from sklearn.svm import SVR\n",
    "regr = make_pipeline(StandardScaler(), SVR(C=1,kernel='rbf', epsilon=0.2))\n",
    "regr.fit(X_train, Y_train)\n",
    "from sklearn.metrics import mean_squared_error\n",
    "pred= regr.predict(X_test)\n",
    "acc = mean_squared_error(Y_test, pred)\n",
    "acc"
   ]
  },
  {
   "cell_type": "code",
   "execution_count": 136,
   "id": "f4b68070",
   "metadata": {},
   "outputs": [
    {
     "data": {
      "text/plain": [
       "0.004519416598318327"
      ]
     },
     "execution_count": 136,
     "metadata": {},
     "output_type": "execute_result"
    }
   ],
   "source": [
    "test_res = regr.predict(X_train_ts)\n",
    "errors = []\n",
    "for i in range(0,len(X_train_ts)):\n",
    "    err = abs ( test_res[i] - Y_train_ts[i] )\n",
    "    errors.append(err)\n",
    "    \n",
    "errors = np.array(errors)\n",
    "\n",
    "idx = (-errors).argsort()[:n]\n",
    "\n",
    "bad = np.array( X_train_ts)[idx]\n",
    "\n",
    "\n",
    "from scipy import spatial\n",
    "neib = []\n",
    "for i in range(0,len(bad)):\n",
    "    index = getNearest( bad[i], X_test,neib)\n",
    "    neib.append(index)\n",
    "    \n",
    "X_test_bad = np.array( X_test)[neib]\n",
    "Y_test_bad = np.array( Y_test)[neib]\n",
    "\n",
    "X_test = np.delete( X_test,neib, axis=0)\n",
    "Y_test = np.delete( Y_test,neib, axis=0)\n",
    "\n",
    "\n",
    "xt = np.concatenate((X_train_tr,X_train_ts), axis=0)\n",
    "yt = np.concatenate((Y_train_tr,Y_train_ts), axis=0)\n",
    "regr = make_pipeline(StandardScaler(), SVR(C=5,kernel='rbf', epsilon=0.2))\n",
    "regr.fit(xt, yt)\n",
    "pred= regr.predict(X_test)\n",
    "khacc = mean_squared_error(Y_test, pred)\n",
    "khacc"
   ]
  },
  {
   "cell_type": "code",
   "execution_count": null,
   "id": "9a9e6f66",
   "metadata": {},
   "outputs": [],
   "source": []
  },
  {
   "cell_type": "code",
   "execution_count": 137,
   "id": "bebb1eb7",
   "metadata": {},
   "outputs": [
    {
     "data": {
      "text/plain": [
       "0.004531475047403717"
      ]
     },
     "execution_count": 137,
     "metadata": {},
     "output_type": "execute_result"
    }
   ],
   "source": [
    "n = 50\n",
    "\n",
    "OP_df = pd.read_csv('OptionData12110.csv')\n",
    "OP_df = OP_df.dropna()\n",
    "\n",
    "from sklearn.model_selection import train_test_split\n",
    "X = StandardScaler().fit_transform ( OP_df )\n",
    "Y = np.array(OP_df['Implied_volatility'])\n",
    "X_train, X_test, Y_train, Y_test = train_test_split( X, Y, test_size=0.25, random_state=42)\n",
    "X_train_tr, X_train_ts, Y_train_tr, Y_train_ts = train_test_split( X_train, Y_train, test_size=0.25, random_state=40)\n",
    "from sklearn.pipeline import make_pipeline\n",
    "from sklearn.preprocessing import StandardScaler\n",
    "from sklearn.svm import SVR\n",
    "regr = make_pipeline(StandardScaler(), SVR(C=5,kernel='rbf', epsilon=0.2))\n",
    "regr.fit(X_train, Y_train)\n",
    "from sklearn.metrics import mean_squared_error\n",
    "pred= regr.predict(X_test)\n",
    "acc = mean_squared_error(Y_test, pred)\n",
    "acc"
   ]
  },
  {
   "cell_type": "code",
   "execution_count": 138,
   "id": "36ad125d",
   "metadata": {},
   "outputs": [
    {
     "data": {
      "text/plain": [
       "0.004288078771306156"
      ]
     },
     "execution_count": 138,
     "metadata": {},
     "output_type": "execute_result"
    }
   ],
   "source": [
    "test_res = regr.predict(X_train_ts)\n",
    "errors = []\n",
    "for i in range(0,len(X_train_ts)):\n",
    "    err = abs ( test_res[i] - Y_train_ts[i] )\n",
    "    errors.append(err)\n",
    "    \n",
    "errors = np.array(errors)\n",
    "\n",
    "idx = (-errors).argsort()[:n]\n",
    "\n",
    "bad = np.array( X_train_ts)[idx]\n",
    "\n",
    "\n",
    "from scipy import spatial\n",
    "neib = []\n",
    "for i in range(0,len(bad)):\n",
    "    distance,index = spatial.KDTree(X_test).query(bad[i])\n",
    "    neib.append(index)\n",
    "\n",
    "neib = list(set(neib))    \n",
    "X_test_bad = np.array( X_test)[neib]\n",
    "Y_test_bad = np.array( Y_test)[neib]\n",
    "\n",
    "X_test = np.delete( X_test,neib, axis=0)\n",
    "Y_test = np.delete( Y_test,neib, axis=0)\n",
    "xt = np.concatenate((X_train_tr,X_train_ts), axis=0)\n",
    "yt = np.concatenate((Y_train_tr,Y_train_ts), axis=0)\n",
    "regr = make_pipeline(StandardScaler(), SVR(C=5,kernel='rbf', epsilon=0.2))\n",
    "regr.fit(xt, yt)\n",
    "pred= regr.predict(X_test)\n",
    "hacc = mean_squared_error(Y_test, pred)\n",
    "hacc"
   ]
  },
  {
   "cell_type": "code",
   "execution_count": 139,
   "id": "529b2d58",
   "metadata": {},
   "outputs": [
    {
     "name": "stderr",
     "output_type": "stream",
     "text": [
      "No handles with labels found to put in legend.\n"
     ]
    },
    {
     "data": {
      "image/png": "[encoded data removed]",
      "text/plain": [
       "<Figure size 504x288 with 1 Axes>"
      ]
     },
     "metadata": {
      "needs_background": "light"
     },
     "output_type": "display_data"
    }
   ],
   "source": [
    "import statistics\n",
    "from numpy import asarray\n",
    "from sklearn.decomposition import TruncatedSVD\n",
    "from scipy.sparse import csr_matrix\n",
    "from sklearn.preprocessing import MinMaxScaler\n",
    "from sklearn.preprocessing import StandardScaler\n",
    "import matplotlib.pyplot as plt \n",
    "    \n",
    "fig=plt.figure(figsize=(7,4))\n",
    "bar4 = plt.bar(\"HA\", hacc, color= 'r', width = .28)\n",
    "bar2 = plt.bar(\"Gausian\", ghacc, color= 'r', width = .28)\n",
    "bar3 = plt.bar(\"Kernel\", khacc, color= 'b',width = .28)\n",
    "    \n",
    "plt.legend( (bar4, bar2,bar3), ('HA','Gausian','Kernel') )\n",
    "plt.ylabel(\"MSE\")\n",
    "plt.legend()\n",
    "plt.show()"
   ]
  },
  {
   "cell_type": "code",
   "execution_count": null,
   "id": "9287e94c",
   "metadata": {},
   "outputs": [],
   "source": []
  },
  {
   "cell_type": "code",
   "execution_count": 142,
   "id": "b26b5ffb",
   "metadata": {},
   "outputs": [],
   "source": [
    "data = OP_df\n",
    "\n",
    "norm = StandardScaler().fit_transform(data)\n",
    "pca = PCA(n_components = 2)\n",
    "nn = pca.fit_transform(norm)"
   ]
  },
  {
   "cell_type": "code",
   "execution_count": 143,
   "id": "7ead8387",
   "metadata": {},
   "outputs": [
    {
     "data": {
      "text/plain": [
       "0.024423065880125862"
      ]
     },
     "execution_count": 143,
     "metadata": {},
     "output_type": "execute_result"
    }
   ],
   "source": [
    "n = 50\n",
    "\n",
    "from sklearn.model_selection import train_test_split\n",
    "X = nn\n",
    "Y = np.array(OP_df['Implied_volatility'])\n",
    "X_train, X_test, Y_train, Y_test = train_test_split( X, Y, test_size=0.25, random_state=42)\n",
    "X_train_tr, X_train_ts, Y_train_tr, Y_train_ts = train_test_split( X_train, Y_train, test_size=0.25, random_state=40)\n",
    "from sklearn.pipeline import make_pipeline\n",
    "from sklearn.preprocessing import StandardScaler\n",
    "from sklearn.svm import SVR\n",
    "regr = make_pipeline(StandardScaler(), SVR(C=1,kernel='rbf', epsilon=0.2))\n",
    "regr.fit(X_train, Y_train)\n",
    "from sklearn.metrics import mean_squared_error\n",
    "pred= regr.predict(X_test)\n",
    "acc = mean_squared_error(Y_test, pred)\n",
    "acc"
   ]
  },
  {
   "cell_type": "code",
   "execution_count": 144,
   "id": "f3363ef2",
   "metadata": {},
   "outputs": [
    {
     "data": {
      "text/plain": [
       "0.023778732959553076"
      ]
     },
     "execution_count": 144,
     "metadata": {},
     "output_type": "execute_result"
    }
   ],
   "source": [
    "test_res = regr.predict(X_train_ts)\n",
    "errors = []\n",
    "for i in range(0,len(X_train_ts)):\n",
    "    err = abs ( test_res[i] - Y_train_ts[i] )\n",
    "    errors.append(err)\n",
    "    \n",
    "errors = np.array(errors)\n",
    "\n",
    "idx = (-errors).argsort()[:n]\n",
    "\n",
    "bad = np.array( X_train_ts)[idx]\n",
    "\n",
    "\n",
    "from scipy import spatial\n",
    "neib = []\n",
    "for i in range(0,len(bad)):\n",
    "    distance,index = spatial.KDTree(X_test).query(bad[i])\n",
    "    neib.append(index)\n",
    "\n",
    "neib = list(set(neib))    \n",
    "X_test_bad = np.array( X_test)[neib]\n",
    "Y_test_bad = np.array( Y_test)[neib]\n",
    "\n",
    "X_test = np.delete( X_test,neib, axis=0)\n",
    "Y_test = np.delete( Y_test,neib, axis=0)\n",
    "xt = np.concatenate((X_train_tr,X_train_ts), axis=0)\n",
    "yt = np.concatenate((Y_train_tr,Y_train_ts), axis=0)\n",
    "regr = make_pipeline(StandardScaler(), SVR(C=5,kernel='rbf', epsilon=0.2))\n",
    "regr.fit(xt, yt)\n",
    "pred= regr.predict(X_test)\n",
    "hacc = mean_squared_error(Y_test, pred)\n",
    "hacc"
   ]
  },
  {
   "cell_type": "code",
   "execution_count": 150,
   "id": "d54ad7e5",
   "metadata": {},
   "outputs": [
    {
     "data": {
      "image/png": "[encoded data removed]",
      "text/plain": [
       "<Figure size 432x288 with 1 Axes>"
      ]
     },
     "metadata": {
      "needs_background": "light"
     },
     "output_type": "display_data"
    }
   ],
   "source": [
    "import statistics\n",
    "from numpy import asarray\n",
    "from sklearn.decomposition import TruncatedSVD\n",
    "from scipy.sparse import csr_matrix\n",
    "from sklearn.preprocessing import MinMaxScaler\n",
    "from sklearn.preprocessing import StandardScaler\n",
    "import matplotlib.pyplot as plt \n",
    "    \n",
    "fig=plt.figure(figsize=(6,4))\n",
    "bar1 = plt.bar(\"SVM\", acc, color= 'r',width = .2)\n",
    "bar2 = plt.bar(\"PCA-HA-SVM\", ghacc, color= 'r', width = .2)\n",
    "    \n",
    "plt.legend( (bar1,bar2), ('SVM','PCA-HA-SVM') )\n",
    "plt.ylabel(\"MSE\")\n",
    "plt.show()"
   ]
  },
  {
   "cell_type": "code",
   "execution_count": null,
   "id": "0a0c784d",
   "metadata": {},
   "outputs": [],
   "source": []
  },
  {
   "cell_type": "code",
   "execution_count": null,
   "id": "bcc6ea72",
   "metadata": {},
   "outputs": [],
   "source": []
  }
 ],
 "metadata": {
  "kernelspec": {
   "display_name": "Python 3 (ipykernel)",
   "language": "python",
   "name": "python3"
  },
  "language_info": {
   "codemirror_mode": {
    "name": "ipython",
    "version": 3
   },
   "file_extension": ".py",
   "mimetype": "text/x-python",
   "name": "python",
   "nbconvert_exporter": "python",
   "pygments_lexer": "ipython3",
   "version": "3.9.7"
  }
 },
 "nbformat": 4,
 "nbformat_minor": 5
}
