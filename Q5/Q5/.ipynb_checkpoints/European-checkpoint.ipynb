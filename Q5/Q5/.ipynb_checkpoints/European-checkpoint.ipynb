{
 "cells": [
  {
   "cell_type": "code",
   "execution_count": 1,
   "id": "46a3c9f1",
   "metadata": {},
   "outputs": [],
   "source": [
    "import numpy as np\n",
    "import matplotlib.pyplot as plt\n",
    "import pandas as pd\n",
    "from sklearn.decomposition import PCA\n",
    "from sklearn import svm\n",
    "import seaborn as sns\n",
    "from matplotlib.colors import ListedColormap\n",
    "from sklearn import neighbors\n",
    "import matplotlib.pyplot as plt\n",
    "from pandas.plotting import parallel_coordinates\n",
    "from sklearn.preprocessing import StandardScaler\n",
    "from sklearn import decomposition\n",
    "import scipy\n",
    "from sklearn.manifold import TSNE\n",
    "from pandas.plotting import parallel_coordinates\n",
    "from sklearn import decomposition\n",
    "import numpy as np\n",
    "import matplotlib.pyplot as plt\n",
    "import pandas as pd\n",
    "from sklearn.decomposition import PCA\n",
    "from sklearn import svm\n",
    "import seaborn as sns\n",
    "from matplotlib.colors import ListedColormap\n",
    "from sklearn import neighbors\n",
    "import matplotlib.pyplot as plt\n",
    "from pandas.plotting import parallel_coordinates\n",
    "from sklearn.preprocessing import StandardScaler\n",
    "from sklearn import decomposition\n",
    "import scipy\n",
    "from sklearn.manifold import TSNE\n",
    "import seaborn as sn\n",
    "from sklearn.datasets import make_friedman1\n",
    "from sklearn.decomposition import SparsePCA"
   ]
  },
  {
   "cell_type": "code",
   "execution_count": 2,
   "id": "ed07487c",
   "metadata": {},
   "outputs": [
    {
     "name": "stderr",
     "output_type": "stream",
     "text": [
      "C:\\Users\\chsha\\AppData\\Local\\Temp/ipykernel_15900/371313046.py:5: FutureWarning: In a future version of pandas all arguments of DataFrame.drop except for the argument 'labels' will be keyword-only\n",
      "  OP_df = OP_df.drop('ImpliedVolatility (caluclated)', 1)\n",
      "C:\\Users\\chsha\\AppData\\Local\\Temp/ipykernel_15900/371313046.py:6: FutureWarning: In a future version of pandas all arguments of DataFrame.drop except for the argument 'labels' will be keyword-only\n",
      "  OP_df = OP_df.drop('Ticker', 1)\n",
      "C:\\Users\\chsha\\AppData\\Local\\Temp/ipykernel_15900/371313046.py:7: FutureWarning: In a future version of pandas all arguments of DataFrame.drop except for the argument 'labels' will be keyword-only\n",
      "  OP_df = OP_df.drop('Type', 1)\n",
      "C:\\Users\\chsha\\AppData\\Local\\Temp/ipykernel_15900/371313046.py:8: FutureWarning: In a future version of pandas all arguments of DataFrame.drop except for the argument 'labels' will be keyword-only\n",
      "  OP_df = OP_df.drop('currentDate', 1)\n",
      "C:\\Users\\chsha\\AppData\\Local\\Temp/ipykernel_15900/371313046.py:9: FutureWarning: In a future version of pandas all arguments of DataFrame.drop except for the argument 'labels' will be keyword-only\n",
      "  OP_df = OP_df.drop('ExpDate', 1)\n"
     ]
    },
    {
     "data": {
      "text/html": [
       "<div>\n",
       "<style scoped>\n",
       "    .dataframe tbody tr th:only-of-type {\n",
       "        vertical-align: middle;\n",
       "    }\n",
       "\n",
       "    .dataframe tbody tr th {\n",
       "        vertical-align: top;\n",
       "    }\n",
       "\n",
       "    .dataframe thead th {\n",
       "        text-align: right;\n",
       "    }\n",
       "</style>\n",
       "<table border=\"1\" class=\"dataframe\">\n",
       "  <thead>\n",
       "    <tr style=\"text-align: right;\">\n",
       "      <th></th>\n",
       "      <th>Unnamed: 0</th>\n",
       "      <th>StrikePrice</th>\n",
       "      <th>Last</th>\n",
       "      <th>IV</th>\n",
       "      <th>Chg</th>\n",
       "      <th>StockPrice</th>\n",
       "      <th>T</th>\n",
       "      <th>Difference</th>\n",
       "      <th>Option_type</th>\n",
       "      <th>Implied_volatility</th>\n",
       "    </tr>\n",
       "  </thead>\n",
       "  <tbody>\n",
       "    <tr>\n",
       "      <th>0</th>\n",
       "      <td>2</td>\n",
       "      <td>22.5</td>\n",
       "      <td>0.08</td>\n",
       "      <td>0.13956</td>\n",
       "      <td>-0.01</td>\n",
       "      <td>21.709999</td>\n",
       "      <td>0.07666</td>\n",
       "      <td>0.002132</td>\n",
       "      <td>1</td>\n",
       "      <td>0.137428</td>\n",
       "    </tr>\n",
       "  </tbody>\n",
       "</table>\n",
       "</div>"
      ],
      "text/plain": [
       "   Unnamed: 0  StrikePrice  Last       IV   Chg  StockPrice        T  \\\n",
       "0           2         22.5  0.08  0.13956 -0.01   21.709999  0.07666   \n",
       "\n",
       "   Difference  Option_type  Implied_volatility  \n",
       "0    0.002132            1            0.137428  "
      ]
     },
     "execution_count": 2,
     "metadata": {},
     "output_type": "execute_result"
    }
   ],
   "source": [
    "OP_df = pd.read_csv('EuropeanOptionCleanData.csv')\n",
    "OP_df = OP_df.dropna()\n",
    "OP_df['Option_type'] =  np.where(OP_df['Type'] == \"Call\", 1, 0)\n",
    "OP_df['Implied_volatility'] = OP_df['ImpliedVolatility (caluclated)']\n",
    "OP_df = OP_df.drop('ImpliedVolatility (caluclated)', 1)\n",
    "OP_df = OP_df.drop('Ticker', 1)\n",
    "OP_df = OP_df.drop('Type', 1)\n",
    "OP_df = OP_df.drop('currentDate', 1)\n",
    "OP_df = OP_df.drop('ExpDate', 1)\n",
    "OP_df.head(1)"
   ]
  },
  {
   "cell_type": "code",
   "execution_count": null,
   "id": "915f1c45",
   "metadata": {},
   "outputs": [],
   "source": []
  },
  {
   "cell_type": "code",
   "execution_count": 3,
   "id": "48494ad4",
   "metadata": {},
   "outputs": [
    {
     "name": "stderr",
     "output_type": "stream",
     "text": [
      "No handles with labels found to put in legend.\n"
     ]
    },
    {
     "data": {
      "image/png": "[encoded data removed]",
      "text/plain": [
       "<Figure size 360x360 with 1 Axes>"
      ]
     },
     "metadata": {
      "needs_background": "light"
     },
     "output_type": "display_data"
    }
   ],
   "source": [
    "import statistics\n",
    "from numpy import asarray\n",
    "from sklearn.decomposition import TruncatedSVD\n",
    "from scipy.sparse import csr_matrix\n",
    "from sklearn.preprocessing import MinMaxScaler\n",
    "from sklearn.preprocessing import StandardScaler\n",
    "\n",
    "#VCR Normalization plots \n",
    "\n",
    "def Plot_CVR(argv):\n",
    "    y = [\"OPTION\"]\n",
    "    x = []\n",
    "    \n",
    "    scaler = MinMaxScaler()\n",
    "    sc = scaler.fit_transform(OP_df)\n",
    "    pca = PCA(n_components=3)\n",
    "    pca.fit(sc)\n",
    "    vc = pca.explained_variance_ratio_\n",
    "    \n",
    "    import matplotlib.pyplot as plt \n",
    "    \n",
    "    fig=plt.figure(figsize=(5,5))\n",
    "    bar1 = plt.bar(1, vc[0], color= 'r',width = .28)\n",
    "    bar1 = plt.bar(2, vc[1], color= 'r', width = .28)\n",
    "    bar1 = plt.bar(3, vc[2], color= 'r', width = .28)\n",
    "    \n",
    "    \n",
    "    plt.legend( )\n",
    "    plt.ylabel(\"VCR\")\n",
    "    plt.show()\n",
    "\n",
    "Plot_CVR(OP_df)"
   ]
  },
  {
   "cell_type": "code",
   "execution_count": 4,
   "id": "bbd3abcc",
   "metadata": {},
   "outputs": [
    {
     "name": "stderr",
     "output_type": "stream",
     "text": [
      "C:\\Users\\chsha\\anaconda3\\lib\\site-packages\\seaborn\\axisgrid.py:337: UserWarning: The `size` parameter has been renamed to `height`; please update your code.\n",
      "  warnings.warn(msg, UserWarning)\n"
     ]
    },
    {
     "data": {
      "image/png": "[encoded data removed]",
      "text/plain": [
       "<Figure size 432x432 with 1 Axes>"
      ]
     },
     "metadata": {
      "needs_background": "light"
     },
     "output_type": "display_data"
    }
   ],
   "source": [
    "from sklearn import preprocessing\n",
    "\n",
    "data = OP_df\n",
    "\n",
    "l = OP_df['Option_type']\n",
    "\n",
    "norm = StandardScaler().fit_transform(data)\n",
    "pca = PCA(n_components = 2)\n",
    "n = pca.fit_transform(norm)\n",
    "\n",
    "np.shape(n)\n",
    "\n",
    "tsne_data = n\n",
    "\n",
    "tsne_data = np.vstack((tsne_data.T, l)).T\n",
    "\n",
    "tsne_df = pd.DataFrame(data = tsne_data,columns =(\"PC_2\", \"PC_1\", \"label\"))\n",
    " \n",
    "# Ploting the result of tsne\n",
    "sn.FacetGrid(tsne_df, hue =\"label\", size = 6).map(plt.scatter,\"PC_2\", \"PC_1\")\n",
    "plt.legend([\"Call\", \"Put\"])\n",
    " \n",
    "plt.show()"
   ]
  },
  {
   "cell_type": "code",
   "execution_count": 5,
   "id": "5a118976",
   "metadata": {},
   "outputs": [
    {
     "name": "stderr",
     "output_type": "stream",
     "text": [
      "C:\\Users\\chsha\\anaconda3\\lib\\site-packages\\seaborn\\axisgrid.py:337: UserWarning: The `size` parameter has been renamed to `height`; please update your code.\n",
      "  warnings.warn(msg, UserWarning)\n"
     ]
    },
    {
     "data": {
      "image/png": "[encoded data removed]",
      "text/plain": [
       "<Figure size 432x432 with 1 Axes>"
      ]
     },
     "metadata": {
      "needs_background": "light"
     },
     "output_type": "display_data"
    }
   ],
   "source": [
    "#TSNE\n",
    "from sklearn import preprocessing\n",
    "\n",
    "data = OP_df\n",
    "\n",
    "l = OP_df['Option_type']\n",
    "\n",
    "s_data = StandardScaler().fit_transform(data)\n",
    "\n",
    "model = TSNE(n_components = 2 , perplexity=90, metric='euclidean', learning_rate=1)\n",
    "\n",
    "tsne_data = model.fit_transform(s_data)\n",
    "\n",
    "tsne_data = np.vstack((tsne_data.T, l)).T\n",
    "\n",
    "tsne_df = pd.DataFrame(data = tsne_data,columns =(\"TSNE_1\", \"TSNE_2\", \"label\"))\n",
    " \n",
    "# Ploting the result of tsne\n",
    "sn.FacetGrid(tsne_df, hue =\"label\", size = 6).map(plt.scatter, 'TSNE_1', 'TSNE_2')\n",
    "plt.legend([\"Call\", \"Put\"])\n",
    " \n",
    "plt.show()"
   ]
  },
  {
   "cell_type": "code",
   "execution_count": null,
   "id": "a40d82fc",
   "metadata": {},
   "outputs": [],
   "source": []
  },
  {
   "cell_type": "code",
   "execution_count": null,
   "id": "ccf28fe9",
   "metadata": {},
   "outputs": [],
   "source": [
    "from umap import UMAP\n",
    "from sklearn import preprocessing\n",
    "\n",
    "data = OP_df\n",
    "norm = StandardScaler().fit_transform(data)\n",
    "ump = UMAP(n_neighbors=30, min_dist=1, random_state=420, verbose=True)\n",
    "Xumap = ump.fit_transform(norm,OP_df['Option_type'])\n",
    "np.shape(Xumap)\n",
    "n = Xumap\n",
    "np.shape(n)\n",
    "l = OP_df['Option_type']\n",
    "\n",
    "tsne_data = np.vstack((n.T, l)).T\n",
    "\n",
    "tsne_df = pd.DataFrame(data = tsne_data,columns =(\"UMAP_1\", \"UMAP_2\", \"label\"))\n",
    " \n",
    "# Ploting the result of tsne\n",
    "sn.FacetGrid(tsne_df, hue =\"label\", size = 6).map(plt.scatter, 'UMAP_1', 'UMAP_2')\n",
    "plt.legend([\"Call\", \"Put\"])\n",
    "n = plt.show()"
   ]
  },
  {
   "cell_type": "code",
   "execution_count": 3,
   "id": "4d581fe2",
   "metadata": {},
   "outputs": [],
   "source": []
  },
  {
   "cell_type": "code",
   "execution_count": 2,
   "id": "daf27041",
   "metadata": {},
   "outputs": [
    {
     "data": {
      "text/plain": [
       "0.026315501000467034"
      ]
     },
     "execution_count": 2,
     "metadata": {},
     "output_type": "execute_result"
    }
   ],
   "source": [
    "from sklearn.svm import LinearSVR\n",
    "n = 500\n",
    "\n",
    "OOP_df = pd.read_csv('OptionData12110.csv')\n",
    "OOP_df = OOP_df.dropna()\n",
    "OP_df = OOP_df\n",
    "OP_df = OP_df.drop(['Implied_volatility'], axis = 1)\n",
    "\n",
    "\n",
    "from sklearn.model_selection import train_test_split\n",
    "X = StandardScaler().fit_transform ( OP_df )\n",
    "Y = np.array(OOP_df['Implied_volatility'])\n",
    "X_train, X_test, Y_train, Y_test = train_test_split( X, Y, test_size=0.25, random_state=42)\n",
    "X_train_tr, X_train_ts, Y_train_tr, Y_train_ts = train_test_split( X_train, Y_train, test_size=0.25, random_state=40)\n",
    "from sklearn.pipeline import make_pipeline\n",
    "from sklearn.preprocessing import StandardScaler\n",
    "from sklearn.svm import SVR\n",
    "regr = make_pipeline(StandardScaler(), SVR(C=5,kernel='linear', epsilon=0.2))\n",
    "regr.fit(X_train, Y_train)\n",
    "from sklearn.metrics import mean_squared_error\n",
    "pred= regr.predict(X_test)\n",
    "acc = mean_squared_error(Y_test, pred)\n",
    "acc"
   ]
  },
  {
   "cell_type": "code",
   "execution_count": 3,
   "id": "f9bb47de",
   "metadata": {},
   "outputs": [
    {
     "data": {
      "text/plain": [
       "0.023367781489309965"
      ]
     },
     "execution_count": 3,
     "metadata": {},
     "output_type": "execute_result"
    }
   ],
   "source": [
    "test_res = regr.predict(X_train_ts)\n",
    "errors = []\n",
    "for i in range(0,len(X_train_ts)):\n",
    "    err = abs ( test_res[i] - Y_train_ts[i] )\n",
    "    errors.append(err)\n",
    "    \n",
    "errors = np.array(errors)\n",
    "\n",
    "idx = (-errors).argsort()[:n]\n",
    "\n",
    "bad = np.array( X_train_ts)[idx]\n",
    "\n",
    "\n",
    "from scipy import spatial\n",
    "neib = []\n",
    "for i in range(0,len(bad)):\n",
    "    distance,index = spatial.KDTree(X_test).query(bad[i])\n",
    "    neib.append(index)\n",
    "    \n",
    "X_test_bad = np.array( X_test)[neib]\n",
    "Y_test_bad = np.array( Y_test)[neib]\n",
    "\n",
    "X_test = np.delete( X_test,neib, axis=0)\n",
    "Y_test = np.delete( Y_test,neib, axis=0)\n",
    "xt = np.concatenate((X_train_tr,X_train_ts), axis=0)\n",
    "yt = np.concatenate((Y_train_tr,Y_train_ts), axis=0)\n",
    "regr = make_pipeline(StandardScaler(), SVR(C=5,kernel='linear', epsilon=0.2))\n",
    "regr.fit(xt, yt)\n",
    "pred= regr.predict(X_test)\n",
    "hacc = mean_squared_error(Y_test, pred)\n",
    "hacc"
   ]
  },
  {
   "cell_type": "code",
   "execution_count": 157,
   "id": "d69ce38d",
   "metadata": {},
   "outputs": [],
   "source": [
    "def get_res(i):\n",
    "    neib = []\n",
    "    for i in range(0,len(bad)):\n",
    "        distance,index = spatial.KDTree(X_train).query(bad[i])\n",
    "        neib.append(index)\n",
    "    nei = np.array( X_train[index]).reshape(1,11)\n",
    "    nei_y = np.array( Y_train[index]).reshape(1,)\n",
    "    xt = np.concatenate((X_train_tr,X_train_ts,nei), axis=0)\n",
    "    yt = np.concatenate((Y_train_tr,Y_train_ts,nei_y), axis=0)\n",
    "    regr = make_pipeline(StandardScaler(), SVR(C=1, epsilon=0.2))\n",
    "    regr.fit(xt, yt)\n",
    "    p = regr.predict(X_test_bad[i].reshape(1,11))\n",
    "    return p"
   ]
  },
  {
   "cell_type": "code",
   "execution_count": 159,
   "id": "bb2f4534",
   "metadata": {},
   "outputs": [],
   "source": [
    "pred_bad = np.array([])\n",
    "for i in range(0,len(X_test_bad)):\n",
    "    k = get_res(i)\n",
    "    pred_bad = np.concatenate((pred_bad,k),axis = 0)\n"
   ]
  },
  {
   "cell_type": "code",
   "execution_count": null,
   "id": "d8fa1d2a",
   "metadata": {},
   "outputs": [],
   "source": []
  },
  {
   "cell_type": "code",
   "execution_count": 4,
   "id": "491abcb2",
   "metadata": {},
   "outputs": [
    {
     "name": "stdout",
     "output_type": "stream",
     "text": [
      "0.011741944124262934\n",
      "0.026315501000467034\n",
      "0.014149602583909954\n",
      "0.006333059351625833\n"
     ]
    }
   ],
   "source": [
    "OOP_df = pd.read_csv('OptionData12110.csv')\n",
    "OOP_df = OOP_df.dropna()\n",
    "OP_df = OOP_df\n",
    "OP_df = OP_df.drop(['Implied_volatility'], axis = 1)\n",
    "\n",
    "X = StandardScaler().fit_transform ( OP_df )\n",
    "Y = np.array(OOP_df['Implied_volatility'])\n",
    "X_train, X_test, Y_train, Y_test = train_test_split( X, Y, test_size=0.25, random_state=42)\n",
    "from sklearn.neural_network import MLPRegressor\n",
    "from sklearn.datasets import make_regression\n",
    "mlp= MLPRegressor(solver='lbfgs', alpha=1e-7, hidden_layer_sizes=(10,), random_state=1, max_iter =1e7)\n",
    "\n",
    "mlp.fit(X_train, Y_train)\n",
    "pred = mlp.predict(X_test)\n",
    "macc = mean_squared_error(Y_test, pred)\n",
    "print(macc)\n",
    "from sklearn.svm import SVR\n",
    "from sklearn.pipeline import make_pipeline\n",
    "\n",
    "regr = make_pipeline(StandardScaler(), SVR(C=5,kernel='linear', epsilon=0.2))\n",
    "\n",
    "regr.fit(X_train, Y_train)\n",
    "pred = regr.predict(X_test)\n",
    "sacc = mean_squared_error(Y_test, pred)\n",
    "print(sacc)\n",
    "from sklearn.datasets import make_hastie_10_2\n",
    "from sklearn.datasets import make_regression\n",
    "from sklearn.ensemble import GradientBoostingRegressor\n",
    "\n",
    "bst = GradientBoostingRegressor(n_estimators=100, learning_rate=1.0, max_depth=20, random_state=0).fit(X_train, Y_train)\n",
    "\n",
    "pred = bst.predict(X_test)\n",
    "\n",
    "gacc = mean_squared_error(Y_test, pred)\n",
    "print(gacc)\n",
    "from sklearn.datasets import make_regression\n",
    "from sklearn.ensemble import ExtraTreesRegressor\n",
    "\n",
    "reg = ExtraTreesRegressor(n_estimators=100, random_state=0).fit( X_train, Y_train)\n",
    "pred = reg.predict(X_test)\n",
    "\n",
    "eacc = mean_squared_error(Y_test, pred)\n",
    "print(eacc)"
   ]
  },
  {
   "cell_type": "code",
   "execution_count": 6,
   "id": "0f16c305",
   "metadata": {},
   "outputs": [
    {
     "data": {
      "text/plain": [
       "0.006333059351625833"
      ]
     },
     "execution_count": 6,
     "metadata": {},
     "output_type": "execute_result"
    }
   ],
   "source": [
    "from keras.models import Sequential\n",
    "from keras.layers import Dense, Conv1D, Flatten\n",
    "#create model\n",
    "model = Sequential()\n",
    "#add model layers\n",
    "model.add(Conv1D(16, kernel_size=3,  input_shape=(10,1)))\n",
    "model.add(Conv1D(8, kernel_size=3, activation='relu'))\n",
    "model.add(Flatten())\n",
    "model.add(Dense(1, activation='linear'))\n",
    "model.compile(optimizer='adam', loss='mse', metrics=['accuracy'])\n",
    "model.fit(X_train, Y_train, epochs=30, validation_split = .3, verbose = 0)\n",
    "model = reg.predict(X_test)\n",
    "\n",
    "cacc = mean_squared_error(Y_test, pred)\n",
    "cacc"
   ]
  },
  {
   "cell_type": "code",
   "execution_count": 8,
   "id": "62b11fe3",
   "metadata": {},
   "outputs": [
    {
     "data": {
      "image/png": "[encoded data removed]",
      "text/plain": [
       "<Figure size 504x288 with 1 Axes>"
      ]
     },
     "metadata": {
      "needs_background": "light"
     },
     "output_type": "display_data"
    }
   ],
   "source": [
    "import statistics\n",
    "from numpy import asarray\n",
    "from sklearn.decomposition import TruncatedSVD\n",
    "from scipy.sparse import csr_matrix\n",
    "from sklearn.preprocessing import MinMaxScaler\n",
    "from sklearn.preprocessing import StandardScaler\n",
    "import matplotlib.pyplot as plt \n",
    "    \n",
    "fig=plt.figure(figsize=(7,4))\n",
    "bar2 = plt.bar(\"MLP\", macc, color= 'r', width = .28)\n",
    "bar3 = plt.bar(\"GBM\", gacc, color= 'b',width = .28)\n",
    "bar4 = plt.bar(\"EXT\", eacc, color= 'r', width = .28)\n",
    "bar5 = plt.bar(\"CNN\", cacc, color= 'b',width = .28)\n",
    "    \n",
    "plt.legend( (bar2,bar3,bar4,bar5), ('MLP','GBM','EXT','CNN') )\n",
    "plt.ylabel(\"MSE\")\n",
    "plt.show()"
   ]
  },
  {
   "cell_type": "code",
   "execution_count": 9,
   "id": "642ccd55",
   "metadata": {},
   "outputs": [
    {
     "name": "stderr",
     "output_type": "stream",
     "text": [
      "No handles with labels found to put in legend.\n"
     ]
    },
    {
     "data": {
      "image/png": "[encoded data removed]",
      "text/plain": [
       "<Figure size 432x288 with 1 Axes>"
      ]
     },
     "metadata": {
      "needs_background": "light"
     },
     "output_type": "display_data"
    }
   ],
   "source": [
    "import statistics\n",
    "from numpy import asarray\n",
    "from sklearn.decomposition import TruncatedSVD\n",
    "from scipy.sparse import csr_matrix\n",
    "from sklearn.preprocessing import MinMaxScaler\n",
    "from sklearn.preprocessing import StandardScaler\n",
    "import matplotlib.pyplot as plt \n",
    "    \n",
    "fig=plt.figure(figsize=(6,4))\n",
    "bar1 = plt.bar(\"SVM\", acc, color= 'r',width = .2)\n",
    "bar2 = plt.bar(\"HA-SVM\", hacc, color= 'r', width = .2)\n",
    "    \n",
    "plt.legend( (bar1,bar2), ('SVM','HA-SVM') )\n",
    "plt.ylabel(\"MSE\")\n",
    "plt.legend()\n",
    "plt.show()"
   ]
  },
  {
   "cell_type": "code",
   "execution_count": 10,
   "id": "3add8de4",
   "metadata": {},
   "outputs": [
    {
     "name": "stdout",
     "output_type": "stream",
     "text": [
      "0.011193865040237795\n",
      "0.026294139963220723\n",
      "0.013342794099308114\n",
      "0.0061810946294424745\n"
     ]
    }
   ],
   "source": [
    "\n",
    "OOP_df = pd.read_csv('OptionData12110.csv')\n",
    "OOP_df = OOP_df.dropna()\n",
    "OP_df = OOP_df\n",
    "OP_df = OP_df.drop(['Implied_volatility'], axis = 1)\n",
    "\n",
    "data = OP_df\n",
    "data[\"kurt\"] = data.kurtosis(axis = 1, skipna = True)\n",
    "data = data.dropna()\n",
    "data[\"skew\"] = data.skew(axis = 1, skipna = True)\n",
    "data = data.dropna()\n",
    "data[\"in\"] = data[\"Stock_price\"] - data[\"Strike_price\"]\n",
    "data.head(2)\n",
    "\n",
    "X = StandardScaler().fit_transform ( data )\n",
    "Y = np.array(OOP_df['Implied_volatility'])\n",
    "X_train, X_test, Y_train, Y_test = train_test_split( X, Y, test_size=0.25, random_state=42)\n",
    "from sklearn.neural_network import MLPRegressor\n",
    "from sklearn.datasets import make_regression\n",
    "mlp= MLPRegressor(solver='lbfgs', alpha=1e-5, hidden_layer_sizes=(10,), random_state=1, max_iter =1e7)\n",
    "\n",
    "mlp.fit(X_train, Y_train)\n",
    "pred = mlp.predict(X_test)\n",
    "macc = mean_squared_error(Y_test, pred)\n",
    "print(macc)\n",
    "from sklearn.svm import SVR\n",
    "from sklearn.pipeline import make_pipeline\n",
    "\n",
    "regr = make_pipeline(StandardScaler(), SVR(C=5,kernel='linear', epsilon=0.2))\n",
    "\n",
    "regr.fit(X_train, Y_train)\n",
    "pred = regr.predict(X_test)\n",
    "sacc = mean_squared_error(Y_test, pred)\n",
    "print(sacc)\n",
    "from sklearn.datasets import make_hastie_10_2\n",
    "from sklearn.datasets import make_regression\n",
    "from sklearn.ensemble import GradientBoostingRegressor\n",
    "\n",
    "bst = GradientBoostingRegressor(n_estimators=100, learning_rate=1.0, max_depth=1, random_state=0).fit(X_train, Y_train)\n",
    "\n",
    "pred = bst.predict(X_test)\n",
    "\n",
    "gacc = mean_squared_error(Y_test, pred)\n",
    "print(gacc)\n",
    "from sklearn.datasets import make_regression\n",
    "from sklearn.ensemble import ExtraTreesRegressor\n",
    "\n",
    "reg = ExtraTreesRegressor(n_estimators=100, random_state=0).fit( X_train, Y_train)\n",
    "pred = reg.predict(X_test)\n",
    "\n",
    "eacc = mean_squared_error(Y_test, pred)\n",
    "print(eacc)"
   ]
  },
  {
   "cell_type": "code",
   "execution_count": 11,
   "id": "dc4d4937",
   "metadata": {},
   "outputs": [
    {
     "data": {
      "image/png": "[encoded data removed]",
      "text/plain": [
       "<Figure size 504x288 with 1 Axes>"
      ]
     },
     "metadata": {
      "needs_background": "light"
     },
     "output_type": "display_data"
    }
   ],
   "source": [
    "import statistics\n",
    "from numpy import asarray\n",
    "from sklearn.decomposition import TruncatedSVD\n",
    "from scipy.sparse import csr_matrix\n",
    "from sklearn.preprocessing import MinMaxScaler\n",
    "from sklearn.preprocessing import StandardScaler\n",
    "import matplotlib.pyplot as plt \n",
    "    \n",
    "fig=plt.figure(figsize=(7,4))\n",
    "bar2 = plt.bar(\"MLP\", macc, color= 'r', width = .28)\n",
    "bar3 = plt.bar(\"GBM\", gacc, color= 'b',width = .28)\n",
    "bar4 = plt.bar(\"EXT\", eacc, color= 'r', width = .28)\n",
    "bar5 = plt.bar(\"SVM\", sacc, color= 'b',width = .28)\n",
    "    \n",
    "plt.legend( (bar1,bar2,bar3,bar4,bar5), ('MLP','GBM','EXT','SVM') )\n",
    "plt.ylabel(\"MSE\")\n",
    "plt.show()"
   ]
  },
  {
   "cell_type": "code",
   "execution_count": 12,
   "id": "115cc60d",
   "metadata": {},
   "outputs": [
    {
     "data": {
      "text/plain": [
       "4"
      ]
     },
     "execution_count": 12,
     "metadata": {},
     "output_type": "execute_result"
    }
   ],
   "source": [
    "def getNearest(x, p,ne) :\n",
    "    err = distance(x,p[0])\n",
    "    z = 0\n",
    "    res = 0\n",
    "    n = np.array(ne)\n",
    "    for i in range(1,len(p)):\n",
    "        if((i in n)):\n",
    "            z = i\n",
    "        else:\n",
    "            e = distance(x,p[i])\n",
    "            if(e < err ):\n",
    "                res = i\n",
    "    return res\n",
    "def distance(p1,p2):\n",
    "    mse = np.linalg.norm( np.array(p1) - np.array(p2)  )\n",
    "    return mse\n",
    "\n",
    "points = [[0,10], [1,4], [2,3], [3,5],[2,1.1], [4,12]]\n",
    "x = [2,1]\n",
    "ne = [1,2,3]\n",
    "r = getNearest(x, points,ne)\n",
    "r"
   ]
  },
  {
   "cell_type": "code",
   "execution_count": 13,
   "id": "6b37fef9",
   "metadata": {},
   "outputs": [
    {
     "data": {
      "text/plain": [
       "0.016865686439444017"
      ]
     },
     "execution_count": 13,
     "metadata": {},
     "output_type": "execute_result"
    }
   ],
   "source": [
    "n = 50\n",
    "\n",
    "OOP_df = pd.read_csv('OptionData12110.csv')\n",
    "OOP_df = OOP_df.dropna()\n",
    "OP_df = OOP_df\n",
    "OP_df = OP_df.drop(['Implied_volatility'], axis = 1)\n",
    "\n",
    "from sklearn.model_selection import train_test_split\n",
    "X = StandardScaler().fit_transform ( OP_df )\n",
    "Y = np.array(OOP_df['Implied_volatility'])\n",
    "X_train, X_test, Y_train, Y_test = train_test_split( X, Y, test_size=0.25, random_state=42)\n",
    "X_train_tr, X_train_ts, Y_train_tr, Y_train_ts = train_test_split( X_train, Y_train, test_size=0.25, random_state=40)\n",
    "from sklearn.pipeline import make_pipeline\n",
    "from sklearn.preprocessing import StandardScaler\n",
    "from sklearn.svm import SVR\n",
    "regr = make_pipeline(StandardScaler(), SVR(C=1,kernel='rbf', epsilon=0.2))\n",
    "regr.fit(X_train, Y_train)\n",
    "from sklearn.metrics import mean_squared_error\n",
    "pred= regr.predict(X_test)\n",
    "acc = mean_squared_error(Y_test, pred)\n",
    "acc"
   ]
  },
  {
   "cell_type": "code",
   "execution_count": 14,
   "id": "c58ca300",
   "metadata": {},
   "outputs": [
    {
     "data": {
      "text/plain": [
       "0.015553119068897373"
      ]
     },
     "execution_count": 14,
     "metadata": {},
     "output_type": "execute_result"
    }
   ],
   "source": [
    "test_res = regr.predict(X_train_ts)\n",
    "errors = []\n",
    "for i in range(0,len(X_train_ts)):\n",
    "    err = abs ( test_res[i] - Y_train_ts[i] )\n",
    "    errors.append(err)\n",
    "    \n",
    "errors = np.array(errors)\n",
    "\n",
    "idx = (-errors).argsort()[:n]\n",
    "\n",
    "bad = np.array( X_train_ts)[idx]\n",
    "\n",
    "\n",
    "from scipy import spatial\n",
    "neib = []\n",
    "for i in range(0,len(bad)):\n",
    "    index = getNearest( bad[i], X_test,neib)\n",
    "    neib.append(index)\n",
    "    \n",
    "X_test_bad = np.array( X_test)[neib]\n",
    "Y_test_bad = np.array( Y_test)[neib]\n",
    "\n",
    "X_test = np.delete( X_test,neib, axis=0)\n",
    "Y_test = np.delete( Y_test,neib, axis=0)\n",
    "\n",
    "\n",
    "xt = np.concatenate((X_train_tr,X_train_ts), axis=0)\n",
    "yt = np.concatenate((Y_train_tr,Y_train_ts), axis=0)\n",
    "regr = make_pipeline(StandardScaler(), SVR(C=5,kernel='rbf', epsilon=0.2))\n",
    "regr.fit(xt, yt)\n",
    "pred= regr.predict(X_test)\n",
    "ghacc = mean_squared_error(Y_test, pred)\n",
    "ghacc"
   ]
  },
  {
   "cell_type": "code",
   "execution_count": 15,
   "id": "d5727b1a",
   "metadata": {},
   "outputs": [
    {
     "data": {
      "image/png": "[encoded data removed]",
      "text/plain": [
       "<Figure size 432x288 with 1 Axes>"
      ]
     },
     "metadata": {
      "needs_background": "light"
     },
     "output_type": "display_data"
    }
   ],
   "source": [
    "import statistics\n",
    "from numpy import asarray\n",
    "from sklearn.decomposition import TruncatedSVD\n",
    "from scipy.sparse import csr_matrix\n",
    "from sklearn.preprocessing import MinMaxScaler\n",
    "from sklearn.preprocessing import StandardScaler\n",
    "import matplotlib.pyplot as plt \n",
    "    \n",
    "fig=plt.figure(figsize=(6,4))\n",
    "bar1 = plt.bar(\"SVM\", acc, color= 'r',width = .2)\n",
    "bar2 = plt.bar(\"HA-SVM\", ghacc, color= 'r', width = .2)\n",
    "    \n",
    "plt.legend( (bar1,bar2), ('SVM','HA-SVM') )\n",
    "plt.ylabel(\"MSE\")\n",
    "plt.show()"
   ]
  },
  {
   "cell_type": "code",
   "execution_count": 61,
   "id": "7f5d8a64",
   "metadata": {},
   "outputs": [
    {
     "data": {
      "text/plain": [
       "3"
      ]
     },
     "execution_count": 61,
     "metadata": {},
     "output_type": "execute_result"
    }
   ],
   "source": []
  },
  {
   "cell_type": "code",
   "execution_count": 16,
   "id": "2805d587",
   "metadata": {},
   "outputs": [
    {
     "data": {
      "text/plain": [
       "0"
      ]
     },
     "execution_count": 16,
     "metadata": {},
     "output_type": "execute_result"
    }
   ],
   "source": [
    "def cosine(X, Y):\n",
    "    Y = Y.T\n",
    "    r = X.dot(Y)/(np.linalg.norm(X)*np.linalg.norm(Y))\n",
    "    return r\n",
    "\n",
    "def getNearest(x, p,ne) :\n",
    "    err = distance(x,p[0])\n",
    "    z = 0\n",
    "    res = 0\n",
    "    n = np.array(ne)\n",
    "    for i in range(1,len(p)):\n",
    "        if((i in n)):\n",
    "            z = i\n",
    "        else:\n",
    "            e = distance(x,p[i])\n",
    "            if(e < err ):\n",
    "                res = i\n",
    "    return res\n",
    "def distance(p1,p2):\n",
    "    x = np.array(p1)\n",
    "    y = np.array(p2)  \n",
    "    return cosine(x,y)\n",
    "\n",
    "points = [[0,10], [1,4], [2,3], [3,5],[2,1.1], [4,12]]\n",
    "x = [2,1]\n",
    "ne = [1,2,3]\n",
    "r = getNearest(x, points,ne)\n",
    "r"
   ]
  },
  {
   "cell_type": "code",
   "execution_count": 17,
   "id": "98ba9e1a",
   "metadata": {},
   "outputs": [
    {
     "data": {
      "text/plain": [
       "0.016865686439444017"
      ]
     },
     "execution_count": 17,
     "metadata": {},
     "output_type": "execute_result"
    }
   ],
   "source": [
    "n = 50\n",
    "OOP_df = pd.read_csv('OptionData12110.csv')\n",
    "OOP_df = OOP_df.dropna()\n",
    "OP_df = OOP_df\n",
    "OP_df = OP_df.drop(['Implied_volatility'], axis = 1)\n",
    "\n",
    "from sklearn.model_selection import train_test_split\n",
    "X = StandardScaler().fit_transform ( OP_df )\n",
    "Y = np.array(OOP_df['Implied_volatility'])\n",
    "X_train, X_test, Y_train, Y_test = train_test_split( X, Y, test_size=0.25, random_state=42)\n",
    "X_train_tr, X_train_ts, Y_train_tr, Y_train_ts = train_test_split( X_train, Y_train, test_size=0.25, random_state=40)\n",
    "from sklearn.pipeline import make_pipeline\n",
    "from sklearn.preprocessing import StandardScaler\n",
    "from sklearn.svm import SVR\n",
    "regr = make_pipeline(StandardScaler(), SVR(C=1,kernel='rbf', epsilon=0.2))\n",
    "regr.fit(X_train, Y_train)\n",
    "from sklearn.metrics import mean_squared_error\n",
    "pred= regr.predict(X_test)\n",
    "acc = mean_squared_error(Y_test, pred)\n",
    "acc"
   ]
  },
  {
   "cell_type": "code",
   "execution_count": 18,
   "id": "f4b68070",
   "metadata": {},
   "outputs": [
    {
     "data": {
      "text/plain": [
       "0.015568999504959942"
      ]
     },
     "execution_count": 18,
     "metadata": {},
     "output_type": "execute_result"
    }
   ],
   "source": [
    "test_res = regr.predict(X_train_ts)\n",
    "errors = []\n",
    "for i in range(0,len(X_train_ts)):\n",
    "    err = abs ( test_res[i] - Y_train_ts[i] )\n",
    "    errors.append(err)\n",
    "    \n",
    "errors = np.array(errors)\n",
    "\n",
    "idx = (-errors).argsort()[:n]\n",
    "\n",
    "bad = np.array( X_train_ts)[idx]\n",
    "\n",
    "\n",
    "from scipy import spatial\n",
    "neib = []\n",
    "for i in range(0,len(bad)):\n",
    "    index = getNearest( bad[i], X_test,neib)\n",
    "    neib.append(index)\n",
    "    \n",
    "X_test_bad = np.array( X_test)[neib]\n",
    "Y_test_bad = np.array( Y_test)[neib]\n",
    "\n",
    "X_test = np.delete( X_test,neib, axis=0)\n",
    "Y_test = np.delete( Y_test,neib, axis=0)\n",
    "\n",
    "\n",
    "xt = np.concatenate((X_train_tr,X_train_ts), axis=0)\n",
    "yt = np.concatenate((Y_train_tr,Y_train_ts), axis=0)\n",
    "regr = make_pipeline(StandardScaler(), SVR(C=5,kernel='rbf', epsilon=0.2))\n",
    "regr.fit(xt, yt)\n",
    "pred= regr.predict(X_test)\n",
    "khacc = mean_squared_error(Y_test, pred)\n",
    "khacc"
   ]
  },
  {
   "cell_type": "code",
   "execution_count": null,
   "id": "9a9e6f66",
   "metadata": {},
   "outputs": [],
   "source": []
  },
  {
   "cell_type": "code",
   "execution_count": 19,
   "id": "bebb1eb7",
   "metadata": {},
   "outputs": [
    {
     "data": {
      "text/plain": [
       "0.015570551229606107"
      ]
     },
     "execution_count": 19,
     "metadata": {},
     "output_type": "execute_result"
    }
   ],
   "source": [
    "n = 50\n",
    "\n",
    "OOP_df = pd.read_csv('OptionData12110.csv')\n",
    "OOP_df = OOP_df.dropna()\n",
    "OP_df = OOP_df\n",
    "OP_df = OP_df.drop(['Implied_volatility'], axis = 1)\n",
    "\n",
    "from sklearn.model_selection import train_test_split\n",
    "X = StandardScaler().fit_transform ( OP_df )\n",
    "Y = np.array(OOP_df['Implied_volatility'])\n",
    "X_train, X_test, Y_train, Y_test = train_test_split( X, Y, test_size=0.25, random_state=42)\n",
    "X_train_tr, X_train_ts, Y_train_tr, Y_train_ts = train_test_split( X_train, Y_train, test_size=0.25, random_state=40)\n",
    "from sklearn.pipeline import make_pipeline\n",
    "from sklearn.preprocessing import StandardScaler\n",
    "from sklearn.svm import SVR\n",
    "regr = make_pipeline(StandardScaler(), SVR(C=5,kernel='rbf', epsilon=0.2))\n",
    "regr.fit(X_train, Y_train)\n",
    "from sklearn.metrics import mean_squared_error\n",
    "pred= regr.predict(X_test)\n",
    "acc = mean_squared_error(Y_test, pred)\n",
    "acc"
   ]
  },
  {
   "cell_type": "code",
   "execution_count": 20,
   "id": "36ad125d",
   "metadata": {},
   "outputs": [
    {
     "data": {
      "text/plain": [
       "0.01510513595646664"
      ]
     },
     "execution_count": 20,
     "metadata": {},
     "output_type": "execute_result"
    }
   ],
   "source": [
    "test_res = regr.predict(X_train_ts)\n",
    "errors = []\n",
    "for i in range(0,len(X_train_ts)):\n",
    "    err = abs ( test_res[i] - Y_train_ts[i] )\n",
    "    errors.append(err)\n",
    "    \n",
    "errors = np.array(errors)\n",
    "\n",
    "idx = (-errors).argsort()[:n]\n",
    "\n",
    "bad = np.array( X_train_ts)[idx]\n",
    "\n",
    "\n",
    "from scipy import spatial\n",
    "neib = []\n",
    "for i in range(0,len(bad)):\n",
    "    distance,index = spatial.KDTree(X_test).query(bad[i])\n",
    "    neib.append(index)\n",
    "\n",
    "neib = list(set(neib))    \n",
    "X_test_bad = np.array( X_test)[neib]\n",
    "Y_test_bad = np.array( Y_test)[neib]\n",
    "\n",
    "X_test = np.delete( X_test,neib, axis=0)\n",
    "Y_test = np.delete( Y_test,neib, axis=0)\n",
    "xt = np.concatenate((X_train_tr,X_train_ts), axis=0)\n",
    "yt = np.concatenate((Y_train_tr,Y_train_ts), axis=0)\n",
    "regr = make_pipeline(StandardScaler(), SVR(C=5,kernel='rbf', epsilon=0.2))\n",
    "regr.fit(xt, yt)\n",
    "pred= regr.predict(X_test)\n",
    "hacc = mean_squared_error(Y_test, pred)\n",
    "hacc"
   ]
  },
  {
   "cell_type": "code",
   "execution_count": 21,
   "id": "529b2d58",
   "metadata": {},
   "outputs": [
    {
     "name": "stderr",
     "output_type": "stream",
     "text": [
      "No handles with labels found to put in legend.\n"
     ]
    },
    {
     "data": {
      "image/png": "[encoded data removed]",
      "text/plain": [
       "<Figure size 504x288 with 1 Axes>"
      ]
     },
     "metadata": {
      "needs_background": "light"
     },
     "output_type": "display_data"
    }
   ],
   "source": [
    "import statistics\n",
    "from numpy import asarray\n",
    "from sklearn.decomposition import TruncatedSVD\n",
    "from scipy.sparse import csr_matrix\n",
    "from sklearn.preprocessing import MinMaxScaler\n",
    "from sklearn.preprocessing import StandardScaler\n",
    "import matplotlib.pyplot as plt \n",
    "    \n",
    "fig=plt.figure(figsize=(7,4))\n",
    "bar4 = plt.bar(\"HA\", hacc, color= 'r', width = .28)\n",
    "bar2 = plt.bar(\"Gausian\", ghacc, color= 'r', width = .28)\n",
    "bar3 = plt.bar(\"Kernel\", khacc, color= 'b',width = .28)\n",
    "    \n",
    "plt.legend( (bar4, bar2,bar3), ('HA','Gausian','Kernel') )\n",
    "plt.ylabel(\"MSE\")\n",
    "plt.legend()\n",
    "plt.show()"
   ]
  },
  {
   "cell_type": "code",
   "execution_count": null,
   "id": "9287e94c",
   "metadata": {},
   "outputs": [],
   "source": []
  },
  {
   "cell_type": "code",
   "execution_count": 22,
   "id": "b26b5ffb",
   "metadata": {},
   "outputs": [],
   "source": [
    "data = OP_df\n",
    "\n",
    "norm = StandardScaler().fit_transform(data)\n",
    "pca = PCA(n_components = 2)\n",
    "nn = pca.fit_transform(norm)"
   ]
  },
  {
   "cell_type": "code",
   "execution_count": 23,
   "id": "7ead8387",
   "metadata": {},
   "outputs": [
    {
     "data": {
      "text/plain": [
       "0.03061951108406931"
      ]
     },
     "execution_count": 23,
     "metadata": {},
     "output_type": "execute_result"
    }
   ],
   "source": [
    "n = 50\n",
    "\n",
    "from sklearn.model_selection import train_test_split\n",
    "X = nn\n",
    "Y = np.array(OOP_df['Implied_volatility'])\n",
    "X_train, X_test, Y_train, Y_test = train_test_split( X, Y, test_size=0.25, random_state=42)\n",
    "X_train_tr, X_train_ts, Y_train_tr, Y_train_ts = train_test_split( X_train, Y_train, test_size=0.25, random_state=40)\n",
    "from sklearn.pipeline import make_pipeline\n",
    "from sklearn.preprocessing import StandardScaler\n",
    "from sklearn.svm import SVR\n",
    "regr = make_pipeline(StandardScaler(), SVR(C=1,kernel='rbf', epsilon=0.2))\n",
    "regr.fit(X_train, Y_train)\n",
    "from sklearn.metrics import mean_squared_error\n",
    "pred= regr.predict(X_test)\n",
    "acc = mean_squared_error(Y_test, pred)\n",
    "acc"
   ]
  },
  {
   "cell_type": "code",
   "execution_count": 24,
   "id": "f3363ef2",
   "metadata": {},
   "outputs": [
    {
     "data": {
      "text/plain": [
       "0.030405742237439377"
      ]
     },
     "execution_count": 24,
     "metadata": {},
     "output_type": "execute_result"
    }
   ],
   "source": [
    "test_res = regr.predict(X_train_ts)\n",
    "errors = []\n",
    "for i in range(0,len(X_train_ts)):\n",
    "    err = abs ( test_res[i] - Y_train_ts[i] )\n",
    "    errors.append(err)\n",
    "    \n",
    "errors = np.array(errors)\n",
    "\n",
    "idx = (-errors).argsort()[:n]\n",
    "\n",
    "bad = np.array( X_train_ts)[idx]\n",
    "\n",
    "\n",
    "from scipy import spatial\n",
    "neib = []\n",
    "for i in range(0,len(bad)):\n",
    "    distance,index = spatial.KDTree(X_test).query(bad[i])\n",
    "    neib.append(index)\n",
    "\n",
    "neib = list(set(neib))    \n",
    "X_test_bad = np.array( X_test)[neib]\n",
    "Y_test_bad = np.array( Y_test)[neib]\n",
    "\n",
    "X_test = np.delete( X_test,neib, axis=0)\n",
    "Y_test = np.delete( Y_test,neib, axis=0)\n",
    "xt = np.concatenate((X_train_tr,X_train_ts), axis=0)\n",
    "yt = np.concatenate((Y_train_tr,Y_train_ts), axis=0)\n",
    "regr = make_pipeline(StandardScaler(), SVR(C=5,kernel='rbf', epsilon=0.2))\n",
    "regr.fit(xt, yt)\n",
    "pred= regr.predict(X_test)\n",
    "hacc = mean_squared_error(Y_test, pred)\n",
    "hacc"
   ]
  },
  {
   "cell_type": "code",
   "execution_count": 25,
   "id": "d54ad7e5",
   "metadata": {},
   "outputs": [
    {
     "data": {
      "image/png": "[encoded data removed]",
      "text/plain": [
       "<Figure size 432x288 with 1 Axes>"
      ]
     },
     "metadata": {
      "needs_background": "light"
     },
     "output_type": "display_data"
    }
   ],
   "source": [
    "import statistics\n",
    "from numpy import asarray\n",
    "from sklearn.decomposition import TruncatedSVD\n",
    "from scipy.sparse import csr_matrix\n",
    "from sklearn.preprocessing import MinMaxScaler\n",
    "from sklearn.preprocessing import StandardScaler\n",
    "import matplotlib.pyplot as plt \n",
    "    \n",
    "fig=plt.figure(figsize=(6,4))\n",
    "bar1 = plt.bar(\"SVM\", acc, color= 'r',width = .2)\n",
    "bar2 = plt.bar(\"PCA-HA-SVM\", ghacc, color= 'r', width = .2)\n",
    "    \n",
    "plt.legend( (bar1,bar2), ('SVM','PCA-HA-SVM') )\n",
    "plt.ylabel(\"MSE\")\n",
    "plt.show()"
   ]
  },
  {
   "cell_type": "code",
   "execution_count": null,
   "id": "0a0c784d",
   "metadata": {},
   "outputs": [],
   "source": []
  },
  {
   "cell_type": "code",
   "execution_count": null,
   "id": "bcc6ea72",
   "metadata": {},
   "outputs": [],
   "source": []
  }
 ],
 "metadata": {
  "kernelspec": {
   "display_name": "Python 3 (ipykernel)",
   "language": "python",
   "name": "python3"
  },
  "language_info": {
   "codemirror_mode": {
    "name": "ipython",
    "version": 3
   },
   "file_extension": ".py",
   "mimetype": "text/x-python",
   "name": "python",
   "nbconvert_exporter": "python",
   "pygments_lexer": "ipython3",
   "version": "3.9.7"
  }
 },
 "nbformat": 4,
 "nbformat_minor": 5
}
