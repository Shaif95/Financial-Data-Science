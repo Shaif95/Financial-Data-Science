{
 "cells": [
  {
   "cell_type": "code",
   "execution_count": 2,
   "id": "46a3c9f1",
   "metadata": {},
   "outputs": [],
   "source": [
    "import numpy as np\n",
    "import matplotlib.pyplot as plt\n",
    "import pandas as pd\n",
    "from sklearn.decomposition import PCA\n",
    "from sklearn import svm\n",
    "import seaborn as sns\n",
    "from matplotlib.colors import ListedColormap\n",
    "from sklearn import neighbors\n",
    "import matplotlib.pyplot as plt\n",
    "from pandas.plotting import parallel_coordinates\n",
    "from sklearn.preprocessing import StandardScaler\n",
    "from sklearn import decomposition\n",
    "import scipy\n",
    "from sklearn.manifold import TSNE\n",
    "from pandas.plotting import parallel_coordinates\n",
    "from sklearn import decomposition\n",
    "import numpy as np\n",
    "import matplotlib.pyplot as plt\n",
    "import pandas as pd\n",
    "from sklearn.decomposition import PCA\n",
    "from sklearn import svm\n",
    "import seaborn as sns\n",
    "from matplotlib.colors import ListedColormap\n",
    "from sklearn import neighbors\n",
    "import matplotlib.pyplot as plt\n",
    "from pandas.plotting import parallel_coordinates\n",
    "from sklearn.preprocessing import StandardScaler\n",
    "from sklearn import decomposition\n",
    "import scipy\n",
    "from sklearn.manifold import TSNE\n",
    "import seaborn as sn\n",
    "from sklearn.datasets import make_friedman1\n",
    "from sklearn.decomposition import SparsePCA"
   ]
  },
  {
   "cell_type": "code",
   "execution_count": 3,
   "id": "ed07487c",
   "metadata": {},
   "outputs": [
    {
     "data": {
      "text/html": [
       "<div>\n",
       "<style scoped>\n",
       "    .dataframe tbody tr th:only-of-type {\n",
       "        vertical-align: middle;\n",
       "    }\n",
       "\n",
       "    .dataframe tbody tr th {\n",
       "        vertical-align: top;\n",
       "    }\n",
       "\n",
       "    .dataframe thead th {\n",
       "        text-align: right;\n",
       "    }\n",
       "</style>\n",
       "<table border=\"1\" class=\"dataframe\">\n",
       "  <thead>\n",
       "    <tr style=\"text-align: right;\">\n",
       "      <th></th>\n",
       "      <th>underlying_price</th>\n",
       "      <th>underlying_index</th>\n",
       "      <th>timestamp</th>\n",
       "      <th>open_interest</th>\n",
       "      <th>min_price</th>\n",
       "      <th>max_price</th>\n",
       "      <th>mark_price</th>\n",
       "      <th>mark_iv</th>\n",
       "      <th>last_price</th>\n",
       "      <th>interest_rate</th>\n",
       "      <th>...</th>\n",
       "      <th>stats.price_change</th>\n",
       "      <th>stats.low</th>\n",
       "      <th>stats.high</th>\n",
       "      <th>greeks.vega</th>\n",
       "      <th>greeks.theta</th>\n",
       "      <th>greeks.rho</th>\n",
       "      <th>greeks.gamma</th>\n",
       "      <th>greeks.delta</th>\n",
       "      <th>settlement_period</th>\n",
       "      <th>settlement_price</th>\n",
       "    </tr>\n",
       "  </thead>\n",
       "  <tbody>\n",
       "    <tr>\n",
       "      <th>10</th>\n",
       "      <td>47793.03</td>\n",
       "      <td>index_price</td>\n",
       "      <td>1613068627276</td>\n",
       "      <td>583.9</td>\n",
       "      <td>0.15</td>\n",
       "      <td>0.5495</td>\n",
       "      <td>0.349553</td>\n",
       "      <td>250.0</td>\n",
       "      <td>0.3498</td>\n",
       "      <td>0.0</td>\n",
       "      <td>...</td>\n",
       "      <td>0.0</td>\n",
       "      <td>0.3498</td>\n",
       "      <td>0.3498</td>\n",
       "      <td>24.67116</td>\n",
       "      <td>-211.84041</td>\n",
       "      <td>9.04856</td>\n",
       "      <td>0.00001</td>\n",
       "      <td>0.82425</td>\n",
       "      <td>month</td>\n",
       "      <td>0.32</td>\n",
       "    </tr>\n",
       "  </tbody>\n",
       "</table>\n",
       "<p>1 rows × 32 columns</p>\n",
       "</div>"
      ],
      "text/plain": [
       "    underlying_price underlying_index      timestamp  open_interest  \\\n",
       "10          47793.03      index_price  1613068627276          583.9   \n",
       "\n",
       "    min_price  max_price  mark_price  mark_iv  last_price  interest_rate  ...  \\\n",
       "10       0.15     0.5495    0.349553    250.0      0.3498            0.0  ...   \n",
       "\n",
       "   stats.price_change  stats.low  stats.high greeks.vega  greeks.theta  \\\n",
       "10                0.0     0.3498      0.3498    24.67116    -211.84041   \n",
       "\n",
       "    greeks.rho  greeks.gamma  greeks.delta  settlement_period settlement_price  \n",
       "10     9.04856       0.00001       0.82425              month             0.32  \n",
       "\n",
       "[1 rows x 32 columns]"
      ]
     },
     "execution_count": 3,
     "metadata": {},
     "output_type": "execute_result"
    }
   ],
   "source": [
    "OP_df = pd.read_csv('btc_option_data.csv')\n",
    "OP_df = OP_df.dropna()\n",
    "OP_df.head(1)"
   ]
  },
  {
   "cell_type": "code",
   "execution_count": 3,
   "id": "ba2f127a",
   "metadata": {},
   "outputs": [
    {
     "data": {
      "text/html": [
       "<div>\n",
       "<style scoped>\n",
       "    .dataframe tbody tr th:only-of-type {\n",
       "        vertical-align: middle;\n",
       "    }\n",
       "\n",
       "    .dataframe tbody tr th {\n",
       "        vertical-align: top;\n",
       "    }\n",
       "\n",
       "    .dataframe thead th {\n",
       "        text-align: right;\n",
       "    }\n",
       "</style>\n",
       "<table border=\"1\" class=\"dataframe\">\n",
       "  <thead>\n",
       "    <tr style=\"text-align: right;\">\n",
       "      <th></th>\n",
       "      <th>underlying_price</th>\n",
       "      <th>timestamp</th>\n",
       "      <th>open_interest</th>\n",
       "      <th>min_price</th>\n",
       "      <th>max_price</th>\n",
       "      <th>mark_price</th>\n",
       "      <th>mark_iv</th>\n",
       "      <th>last_price</th>\n",
       "      <th>interest_rate</th>\n",
       "      <th>index_price</th>\n",
       "      <th>...</th>\n",
       "      <th>stats.volume</th>\n",
       "      <th>stats.price_change</th>\n",
       "      <th>stats.low</th>\n",
       "      <th>stats.high</th>\n",
       "      <th>greeks.vega</th>\n",
       "      <th>greeks.theta</th>\n",
       "      <th>greeks.rho</th>\n",
       "      <th>greeks.gamma</th>\n",
       "      <th>greeks.delta</th>\n",
       "      <th>settlement_price</th>\n",
       "    </tr>\n",
       "  </thead>\n",
       "  <tbody>\n",
       "    <tr>\n",
       "      <th>10</th>\n",
       "      <td>47793.03</td>\n",
       "      <td>1613068627276</td>\n",
       "      <td>583.9</td>\n",
       "      <td>0.15</td>\n",
       "      <td>0.5495</td>\n",
       "      <td>0.349553</td>\n",
       "      <td>250.0</td>\n",
       "      <td>0.3498</td>\n",
       "      <td>0.0</td>\n",
       "      <td>47793.03</td>\n",
       "      <td>...</td>\n",
       "      <td>25.0</td>\n",
       "      <td>0.0</td>\n",
       "      <td>0.3498</td>\n",
       "      <td>0.3498</td>\n",
       "      <td>24.67116</td>\n",
       "      <td>-211.84041</td>\n",
       "      <td>9.04856</td>\n",
       "      <td>0.00001</td>\n",
       "      <td>0.82425</td>\n",
       "      <td>0.32</td>\n",
       "    </tr>\n",
       "  </tbody>\n",
       "</table>\n",
       "<p>1 rows × 27 columns</p>\n",
       "</div>"
      ],
      "text/plain": [
       "    underlying_price      timestamp  open_interest  min_price  max_price  \\\n",
       "10          47793.03  1613068627276          583.9       0.15     0.5495   \n",
       "\n",
       "    mark_price  mark_iv  last_price  interest_rate  index_price  ...  \\\n",
       "10    0.349553    250.0      0.3498            0.0     47793.03  ...   \n",
       "\n",
       "    stats.volume  stats.price_change  stats.low  stats.high  greeks.vega  \\\n",
       "10          25.0                 0.0     0.3498      0.3498     24.67116   \n",
       "\n",
       "    greeks.theta  greeks.rho  greeks.gamma  greeks.delta  settlement_price  \n",
       "10    -211.84041     9.04856       0.00001       0.82425              0.32  \n",
       "\n",
       "[1 rows x 27 columns]"
      ]
     },
     "execution_count": 3,
     "metadata": {},
     "output_type": "execute_result"
    }
   ],
   "source": [
    "data = OP_df\n",
    "data = data.drop(['underlying_index'], axis = 1)\n",
    "data = data.drop(['settlement_period'], axis = 1)\n",
    "data = data.drop(['instrument_name'], axis = 1)\n",
    "data = data.drop(['bids'], axis = 1)\n",
    "data = data.drop(['asks'], axis = 1)\n",
    "data.head(1)"
   ]
  },
  {
   "cell_type": "code",
   "execution_count": 15,
   "id": "915f1c45",
   "metadata": {},
   "outputs": [
    {
     "data": {
      "text/plain": [
       "Index(['underlying_price', 'underlying_index', 'timestamp', 'open_interest',\n",
       "       'min_price', 'max_price', 'mark_price', 'mark_iv', 'last_price',\n",
       "       'interest_rate', 'instrument_name', 'index_price', 'change_id', 'bids',\n",
       "       'bid_iv', 'best_bid_price', 'best_bid_amount', 'best_ask_price',\n",
       "       'best_ask_amount', 'asks', 'ask_iv', 'stats.volume',\n",
       "       'stats.price_change', 'stats.low', 'stats.high', 'greeks.vega',\n",
       "       'greeks.theta', 'greeks.rho', 'greeks.gamma', 'greeks.delta',\n",
       "       'settlement_period', 'settlement_price'],\n",
       "      dtype='object')"
      ]
     },
     "execution_count": 15,
     "metadata": {},
     "output_type": "execute_result"
    }
   ],
   "source": [
    "OP_df.columns"
   ]
  },
  {
   "cell_type": "code",
   "execution_count": 35,
   "id": "34c72cb6",
   "metadata": {},
   "outputs": [
    {
     "data": {
      "text/plain": [
       "354"
      ]
     },
     "execution_count": 35,
     "metadata": {},
     "output_type": "execute_result"
    }
   ],
   "source": [
    "len(OP_df)"
   ]
  },
  {
   "cell_type": "code",
   "execution_count": null,
   "id": "9f557401",
   "metadata": {},
   "outputs": [],
   "source": []
  },
  {
   "cell_type": "code",
   "execution_count": null,
   "id": "48494ad4",
   "metadata": {},
   "outputs": [],
   "source": []
  },
  {
   "cell_type": "code",
   "execution_count": null,
   "id": "bbd3abcc",
   "metadata": {},
   "outputs": [],
   "source": []
  },
  {
   "cell_type": "code",
   "execution_count": 21,
   "id": "5a118976",
   "metadata": {},
   "outputs": [
    {
     "data": {
      "text/plain": [
       "354"
      ]
     },
     "execution_count": 21,
     "metadata": {},
     "output_type": "execute_result"
    }
   ],
   "source": [
    "len(OP_df)"
   ]
  },
  {
   "cell_type": "code",
   "execution_count": 11,
   "id": "a40d82fc",
   "metadata": {},
   "outputs": [],
   "source": [
    "n = 5\n",
    "from sklearn.metrics import r2_score\n",
    "from sklearn.metrics import mean_squared_error\n",
    "from scipy import spatial\n",
    "from sklearn.svm import LinearSVR\n",
    "import statistics\n",
    "from numpy import asarray\n",
    "from sklearn.decomposition import TruncatedSVD\n",
    "from scipy.sparse import csr_matrix\n",
    "from sklearn.preprocessing import MinMaxScaler\n",
    "from sklearn.preprocessing import StandardScaler\n",
    "import matplotlib.pyplot as plt \n",
    "from sklearn.model_selection import train_test_split\n",
    "\n",
    "OP_df = pd.read_csv('btc_option_data.csv')\n",
    "OP_df = OP_df.dropna()\n",
    "data = OP_df\n",
    "data = data.drop(['underlying_index'], axis = 1)\n",
    "data = data.drop(['settlement_period'], axis = 1)\n",
    "data = data.drop(['instrument_name'], axis = 1)\n",
    "data = data.drop(['bids'], axis = 1)\n",
    "data = data.drop(['asks'], axis = 1)\n",
    "OOP_df = data\n",
    "OOP_df = OOP_df.drop(['ask_iv'], axis = 1)\n",
    "\n",
    "from sklearn.model_selection import train_test_split\n",
    "\n",
    "X = StandardScaler().fit_transform ( OOP_df )\n",
    "Y = StandardScaler().fit_transform  ( np.array ( data['ask_iv'] ).reshape(-1, 1) ).ravel()\n",
    "\n",
    "X_train, X_test, Y_train, Y_test = train_test_split( X, Y, test_size=0.25, random_state=47)\n",
    "X_train_tr, X_train_ts, Y_train_tr, Y_train_ts = train_test_split( X_train, Y_train, test_size=0.25, random_state=41)\n",
    "from sklearn.pipeline import make_pipeline\n",
    "from sklearn.preprocessing import StandardScaler\n",
    "from sklearn.svm import SVR\n",
    "regr = make_pipeline(StandardScaler(), SVR(C=5,kernel='rbf', epsilon=0.2))\n",
    "regr.fit(X_train, Y_train)\n",
    "from sklearn.metrics import mean_squared_error\n",
    "pred= regr.predict(X_test)\n",
    "acc = mean_squared_error(Y_test, pred)\n",
    "\n",
    "def datagen():\n",
    "    \n",
    "    OP_df = pd.read_csv('btc_option_data.csv')\n",
    "    OP_df = OP_df.dropna()\n",
    "    data = OP_df\n",
    "    data = data.drop(['underlying_index'], axis = 1)\n",
    "    data = data.drop(['settlement_period'], axis = 1)\n",
    "    data = data.drop(['instrument_name'], axis = 1)\n",
    "    data = data.drop(['bids'], axis = 1)\n",
    "    data = data.drop(['asks'], axis = 1)\n",
    "    OOP_df = data\n",
    "    OOP_df = OOP_df.drop(['ask_iv'], axis = 1)\n",
    "\n",
    "    X = StandardScaler().fit_transform ( OOP_df )\n",
    "    Y = StandardScaler().fit_transform  ( np.array ( data['ask_iv'] ).reshape(-1, 1).reshape(-1, 1) ).ravel()\n",
    "\n",
    "    X_train, X_test, Y_train, Y_test = train_test_split( X, Y, test_size=0.25, random_state=47)\n",
    "    X_train_tr, X_train_ts, Y_train_tr, Y_train_ts = train_test_split( X_train, Y_train, test_size=0.25, random_state=41)\n",
    "    \n",
    "    return X_train_tr, X_train_ts, Y_train_tr, Y_train_ts,X_train, X_test, Y_train, Y_test\n",
    "\n",
    "def svm():\n",
    "    from sklearn.pipeline import make_pipeline\n",
    "    from sklearn.preprocessing import StandardScaler\n",
    "    from sklearn.svm import SVR\n",
    "    regr = make_pipeline(StandardScaler(), SVR(C=1,kernel='linear', epsilon=0.2))\n",
    "    regr.fit(X_train, Y_train)\n",
    "    \n",
    "    pred= regr.predict(X_test)\n",
    "    mse = mean_squared_error(Y_test, pred)\n",
    "    \n",
    "    print(mse)\n",
    "    r = r2_score(Y_test, pred)\n",
    "    return mse,r,regr\n",
    "\n",
    "def hl(regr,sv,n,X_train_tr, X_train_ts, Y_train_tr, Y_train_ts,X_train, X_test, Y_train, Y_test):\n",
    "    \n",
    "    test_res = regr.predict(X_train_ts)\n",
    "    errors = []\n",
    "    for i in range(0,len(X_train_ts)):\n",
    "        err = abs ( test_res[i] - Y_train_ts[i] )\n",
    "        errors.append(err)\n",
    "    \n",
    "    errors = np.array(errors)\n",
    "\n",
    "    idx = (-errors).argsort()[:n]\n",
    "\n",
    "    bad = np.array( X_train_ts)[idx]\n",
    "\n",
    "\n",
    "    \n",
    "    neib = []\n",
    "    for i in range(0,len(bad)):\n",
    "        distance,index = spatial.KDTree(X_test).query(bad[i])\n",
    "        neib.append(index)\n",
    "    \n",
    "    X_test_bad = np.array( X_test)[neib]\n",
    "    Y_test_bad = np.array( Y_test)[neib]\n",
    "\n",
    "    X_test = np.delete( X_test,neib, axis=0)\n",
    "    Y_test = np.delete( Y_test,neib, axis=0)\n",
    "    xt = np.concatenate((X_train_tr,X_train_ts), axis=0)\n",
    "    yt = np.concatenate((Y_train_tr,Y_train_ts), axis=0)\n",
    "    regr = sv()\n",
    "    regr.fit(xt, yt)\n",
    "    pred= regr.predict(X_test)\n",
    "    mse = mean_squared_error(Y_test, pred)\n",
    "    r = r2_score(Y_test, pred)\n",
    "    return mse,r,X_test_bad,Y_test_bad,bad\n",
    "def svr():\n",
    "    regr = make_pipeline(StandardScaler(), SVR(C=1,kernel='linear', epsilon=0.2))\n",
    "    return regr\n",
    "\n",
    "def plot1(s,m1,m2):\n",
    "    \n",
    "    fig=plt.figure(figsize=(7,4))\n",
    "    bar2 = plt.bar(s +' MSE', m1 , color= 'r', width = .28)\n",
    "    bar3 = plt.bar('HL MSE', m2 , color= 'b',width = .28)\n",
    "    \n",
    "    plt.legend( (bar2,bar3), ( m1,m2) )\n",
    "    plt.ylabel(\"MSE\")\n",
    "    plt.show()\n",
    "\n",
    "def plot2(s,r1,r2):\n",
    "    bar4 = plt.bar(s +' R2', r1 , color= 'r', width = .28)\n",
    "    bar5 = plt.bar('HL R2', r2 , color= 'b',width = .28)\n",
    "    \n",
    "    plt.legend( (bar4,bar5), ( r1,r2) )\n",
    "    plt.ylabel(\"R2 Error\")\n",
    "    plt.show()\n",
    "    \n",
    "from scipy import spatial\n",
    "def get_res(i,sv):\n",
    "    \n",
    "    neib = []\n",
    "    for i in range(0,len(bad)):\n",
    "        distance,index = spatial.KDTree(X_train).query(bad[i])\n",
    "        neib.append(index)\n",
    "    nei = np.array( X_train[index]).reshape(1,26)\n",
    "    nei_y = np.array( Y_train[index]).reshape(1,)\n",
    "    xt = np.concatenate((X_train_ts,nei), axis=0)\n",
    "    yt = np.concatenate((Y_train_ts,nei_y), axis=0)\n",
    "    regr = sv()\n",
    "    regr.fit(xt, yt)\n",
    "    p = regr.predict(X_test_bad[i].reshape(1,26))\n",
    "    return p\n",
    "    \n",
    "def adapt(sv):\n",
    "    \n",
    "    pred_bad = np.array([])\n",
    "    for i in range(0,len(X_test_bad)):\n",
    "        k = get_res(i,sv)\n",
    "        pred_bad = np.concatenate((pred_bad,k),axis = 0)\n",
    "    p2 = regr.predict(X_test_bad)\n",
    "    mse1 = mean_squared_error(Y_test_bad, pred_bad)\n",
    "    mse2 = mean_squared_error(Y_test_bad, p2)\n",
    "    \n",
    "    bar4 = plt.bar(\"Classifier Result\",mse2 , color= 'r', width = .28)\n",
    "    bar5 = plt.bar('Adaptive Learning', mse1, color= 'b',width = .28)\n",
    "    \n",
    "    plt.legend( (bar4,bar5), ( mse2,mse1) )\n",
    "    plt.ylabel(\"MSE Error\")\n",
    "    plt.show()"
   ]
  },
  {
   "cell_type": "code",
   "execution_count": 12,
   "id": "ccf28fe9",
   "metadata": {},
   "outputs": [
    {
     "name": "stdout",
     "output_type": "stream",
     "text": [
      "0.44363896000470937\n"
     ]
    },
    {
     "data": {
      "image/png": "[encoded data removed]",
      "text/plain": [
       "<Figure size 504x288 with 1 Axes>"
      ]
     },
     "metadata": {
      "needs_background": "light"
     },
     "output_type": "display_data"
    },
    {
     "data": {
      "image/png": "[encoded data removed]",
      "text/plain": [
       "<Figure size 432x288 with 1 Axes>"
      ]
     },
     "metadata": {
      "needs_background": "light"
     },
     "output_type": "display_data"
    }
   ],
   "source": [
    "\n",
    "datagen()\n",
    "m1,r1,reg = svm()\n",
    "m2,r2,X_test_bad,Y_test_bad,bad = hl(reg,svr,n,X_train_tr, X_train_ts, Y_train_tr, Y_train_ts,X_train, X_test, Y_train, Y_test)\n",
    "plot1(\"SVM\",m1,m2)\n",
    "adapt(svr)"
   ]
  },
  {
   "cell_type": "code",
   "execution_count": null,
   "id": "6816ac3c",
   "metadata": {},
   "outputs": [],
   "source": []
  },
  {
   "cell_type": "code",
   "execution_count": 13,
   "id": "daf27041",
   "metadata": {},
   "outputs": [
    {
     "name": "stdout",
     "output_type": "stream",
     "text": [
      "0.3431494560123241\n"
     ]
    },
    {
     "data": {
      "image/png": "[encoded data removed]",
      "text/plain": [
       "<Figure size 504x288 with 1 Axes>"
      ]
     },
     "metadata": {
      "needs_background": "light"
     },
     "output_type": "display_data"
    },
    {
     "data": {
      "image/png": "[encoded data removed]",
      "text/plain": [
       "<Figure size 432x288 with 1 Axes>"
      ]
     },
     "metadata": {
      "needs_background": "light"
     },
     "output_type": "display_data"
    }
   ],
   "source": [
    "def mlp():\n",
    "    from sklearn.neural_network import MLPRegressor\n",
    "    from sklearn.datasets import make_regression\n",
    "    regr= MLPRegressor(solver='lbfgs', alpha=1e-7, hidden_layer_sizes=(10,), random_state=1, max_iter =1e7)\n",
    "    regr.fit(X_train, Y_train)\n",
    "    \n",
    "    pred= regr.predict(X_test)\n",
    "    mse = mean_squared_error(Y_test, pred)\n",
    "    \n",
    "    print(mse)\n",
    "    r = r2_score(Y_test, pred)\n",
    "    return mse,r,regr\n",
    "\n",
    "def mlp_p():\n",
    "    from sklearn.neural_network import MLPRegressor\n",
    "    from sklearn.datasets import make_regression\n",
    "    regr= MLPRegressor(solver='lbfgs', alpha=1e-7, hidden_layer_sizes=(10,), random_state=1, max_iter =1e7)\n",
    "    \n",
    "    return regr\n",
    "\n",
    "datagen()\n",
    "m1,r1,reg = mlp()\n",
    "m2,r2,X_test_bad,Y_test_bad,bad = hl(reg,mlp_p,n,X_train_tr, X_train_ts, Y_train_tr, Y_train_ts,X_train, X_test, Y_train, Y_test)\n",
    "plot1(\"MLP\",m1,m2)\n",
    "#plot2(\"SVM\",r1,r2)\n",
    "adapt(mlp_p)"
   ]
  },
  {
   "cell_type": "code",
   "execution_count": null,
   "id": "f5975a99",
   "metadata": {},
   "outputs": [],
   "source": []
  },
  {
   "cell_type": "code",
   "execution_count": 14,
   "id": "f9bb47de",
   "metadata": {},
   "outputs": [
    {
     "name": "stdout",
     "output_type": "stream",
     "text": [
      "0.06168963157598083\n"
     ]
    },
    {
     "data": {
      "image/png": "[encoded data removed]",
      "text/plain": [
       "<Figure size 504x288 with 1 Axes>"
      ]
     },
     "metadata": {
      "needs_background": "light"
     },
     "output_type": "display_data"
    },
    {
     "data": {
      "image/png": "[encoded data removed]",
      "text/plain": [
       "<Figure size 432x288 with 1 Axes>"
      ]
     },
     "metadata": {
      "needs_background": "light"
     },
     "output_type": "display_data"
    }
   ],
   "source": [
    "from sklearn.datasets import make_regression\n",
    "from sklearn.ensemble import GradientBoostingRegressor\n",
    "def gdr():\n",
    "    regr=  GradientBoostingRegressor(n_estimators=100, learning_rate=1.0, max_depth=20, random_state=0).fit(X_train, Y_train)\n",
    "    \n",
    "    pred= regr.predict(X_test)\n",
    "    mse = mean_squared_error(Y_test, pred)\n",
    "    \n",
    "    print(mse)\n",
    "    r = r2_score(Y_test, pred)\n",
    "    return mse,r,regr\n",
    "\n",
    "def gdr_p():\n",
    "    regr=  GradientBoostingRegressor(n_estimators=100, learning_rate=1.0, max_depth=20, random_state=0)\n",
    "    \n",
    "    return regr\n",
    "\n",
    "datagen()\n",
    "m1,r1,reg = gdr()\n",
    "m2,r2,X_test_bad,Y_test_bad,bad = hl(reg,gdr_p,n,X_train_tr, X_train_ts, Y_train_tr, Y_train_ts,X_train, X_test, Y_train, Y_test)\n",
    "plot1(\"GBM\",m1,m2)\n",
    "#plot2(\"SVM\",r1,r2)\n",
    "adapt(gdr_p)"
   ]
  },
  {
   "cell_type": "code",
   "execution_count": 6,
   "id": "6b37fef9",
   "metadata": {},
   "outputs": [],
   "source": []
  },
  {
   "cell_type": "code",
   "execution_count": 15,
   "id": "7f5d8a64",
   "metadata": {},
   "outputs": [
    {
     "name": "stdout",
     "output_type": "stream",
     "text": [
      "0.07353146307196735\n"
     ]
    },
    {
     "data": {
      "image/png": "[encoded data removed]",
      "text/plain": [
       "<Figure size 504x288 with 1 Axes>"
      ]
     },
     "metadata": {
      "needs_background": "light"
     },
     "output_type": "display_data"
    },
    {
     "data": {
      "image/png": "[encoded data removed]",
      "text/plain": [
       "<Figure size 432x288 with 1 Axes>"
      ]
     },
     "metadata": {
      "needs_background": "light"
     },
     "output_type": "display_data"
    }
   ],
   "source": [
    "from sklearn.datasets import make_regression\n",
    "from sklearn.ensemble import ExtraTreesRegressor\n",
    "\n",
    "def ext():\n",
    "    regr=  ExtraTreesRegressor(n_estimators=100, random_state=0).fit( X_train, Y_train)\n",
    "    pred= regr.predict(X_test)\n",
    "    mse = mean_squared_error(Y_test, pred)\n",
    "    print(mse)\n",
    "    r = r2_score(Y_test, pred)\n",
    "    return mse,r,regr\n",
    "\n",
    "def ext_p():\n",
    "    regr=  ExtraTreesRegressor(n_estimators=100, random_state=0)\n",
    "    return regr\n",
    "\n",
    "datagen()\n",
    "m1,r1,reg = ext()\n",
    "m2,r2,X_test_bad,Y_test_bad,bad = hl(reg,ext_p,n,X_train_tr, X_train_ts, Y_train_tr, Y_train_ts,X_train, X_test, Y_train, Y_test)\n",
    "plot1(\"EXT\",m1,m2)\n",
    "#plot2(\"SVM\",r1,r2)\n",
    "adapt(ext_p)"
   ]
  },
  {
   "cell_type": "code",
   "execution_count": null,
   "id": "2805d587",
   "metadata": {},
   "outputs": [],
   "source": []
  },
  {
   "cell_type": "code",
   "execution_count": null,
   "id": "98ba9e1a",
   "metadata": {},
   "outputs": [],
   "source": []
  },
  {
   "cell_type": "code",
   "execution_count": null,
   "id": "f4b68070",
   "metadata": {},
   "outputs": [],
   "source": []
  },
  {
   "cell_type": "code",
   "execution_count": 19,
   "id": "9a9e6f66",
   "metadata": {},
   "outputs": [
    {
     "data": {
      "text/plain": [
       "(265, 26)"
      ]
     },
     "execution_count": 19,
     "metadata": {},
     "output_type": "execute_result"
    }
   ],
   "source": [
    "np.shape(X_train)"
   ]
  },
  {
   "cell_type": "code",
   "execution_count": 23,
   "id": "bebb1eb7",
   "metadata": {},
   "outputs": [
    {
     "name": "stdout",
     "output_type": "stream",
     "text": [
      "0.44363896000470937\n"
     ]
    },
    {
     "data": {
      "image/png": "[encoded data removed]",
      "text/plain": [
       "<Figure size 504x288 with 1 Axes>"
      ]
     },
     "metadata": {
      "needs_background": "light"
     },
     "output_type": "display_data"
    },
    {
     "data": {
      "image/png": "[encoded data removed]",
      "text/plain": [
       "<Figure size 432x288 with 1 Axes>"
      ]
     },
     "metadata": {
      "needs_background": "light"
     },
     "output_type": "display_data"
    },
    {
     "name": "stdout",
     "output_type": "stream",
     "text": [
      "0.3431494560123241\n"
     ]
    },
    {
     "data": {
      "image/png": "[encoded data removed]",
      "text/plain": [
       "<Figure size 504x288 with 1 Axes>"
      ]
     },
     "metadata": {
      "needs_background": "light"
     },
     "output_type": "display_data"
    },
    {
     "data": {
      "image/png": "[encoded data removed]",
      "text/plain": [
       "<Figure size 432x288 with 1 Axes>"
      ]
     },
     "metadata": {
      "needs_background": "light"
     },
     "output_type": "display_data"
    },
    {
     "name": "stdout",
     "output_type": "stream",
     "text": [
      "0.06168963157598083\n"
     ]
    },
    {
     "data": {
      "image/png": "[encoded data removed]",
      "text/plain": [
       "<Figure size 504x288 with 1 Axes>"
      ]
     },
     "metadata": {
      "needs_background": "light"
     },
     "output_type": "display_data"
    },
    {
     "data": {
      "image/png": "[encoded data removed]",
      "text/plain": [
       "<Figure size 432x288 with 1 Axes>"
      ]
     },
     "metadata": {
      "needs_background": "light"
     },
     "output_type": "display_data"
    },
    {
     "name": "stdout",
     "output_type": "stream",
     "text": [
      "0.07353146307196735\n"
     ]
    },
    {
     "data": {
      "image/png": "[encoded data removed]",
      "text/plain": [
       "<Figure size 504x288 with 1 Axes>"
      ]
     },
     "metadata": {
      "needs_background": "light"
     },
     "output_type": "display_data"
    },
    {
     "data": {
      "image/png": "[encoded data removed]",
      "text/plain": [
       "<Figure size 432x288 with 1 Axes>"
      ]
     },
     "metadata": {
      "needs_background": "light"
     },
     "output_type": "display_data"
    }
   ],
   "source": [
    "n = 5\n",
    "def datagen2():\n",
    "    \n",
    "    OP_df = pd.read_csv('btc_option_data.csv')\n",
    "    OP_df = OP_df.dropna()\n",
    "    data = OP_df\n",
    "    data = data.drop(['underlying_index'], axis = 1)\n",
    "    data = data.drop(['settlement_period'], axis = 1)\n",
    "    data = data.drop(['instrument_name'], axis = 1)\n",
    "    data = data.drop(['bids'], axis = 1)\n",
    "    data = data.drop(['asks'], axis = 1)\n",
    "    data[\"kurt\"] = data.kurtosis(axis = 1, skipna = True)\n",
    "    data = data.dropna()\n",
    "    data[\"skew\"] = data.skew(axis = 1, skipna = True)\n",
    "    data = data.dropna()\n",
    "    data[\"in\"] = data[\"underlying_price\"] - data[\"last_price\"]\n",
    "    OOP_df = data\n",
    "    OOP_df = OOP_df.drop(['ask_iv'], axis = 1)\n",
    "\n",
    "    X = StandardScaler().fit_transform ( OOP_df )\n",
    "    Y = StandardScaler().fit_transform  ( np.array ( data['ask_iv'] ).reshape(-1, 1).reshape(-1, 1) ).ravel()\n",
    "\n",
    "    X_train, X_test, Y_train, Y_test = train_test_split( X, Y, test_size=0.25, random_state=47)\n",
    "    X_train_tr, X_train_ts, Y_train_tr, Y_train_ts = train_test_split( X_train, Y_train, test_size=0.25, random_state=41)\n",
    "    \n",
    "    return X_train_tr, X_train_ts, Y_train_tr, Y_train_ts,X_train, X_test, Y_train, Y_test\n",
    "\n",
    "\n",
    "datagen2()\n",
    "m1,r1,reg = svm()\n",
    "m2,r2,X_test_bad,Y_test_bad,bad = hl(reg,svr,n,X_train_tr, X_train_ts, Y_train_tr, Y_train_ts,X_train, X_test, Y_train, Y_test)\n",
    "plot1(\"SVM\",m1,m2)\n",
    "#plot2(\"SVM\",r1,r2)\n",
    "adapt(svr)\n",
    "\n",
    "datagen2()\n",
    "m1,r1,reg = mlp()\n",
    "m2,r2,X_test_bad,Y_test_bad,bad = hl(reg,mlp_p,n,X_train_tr, X_train_ts, Y_train_tr, Y_train_ts,X_train, X_test, Y_train, Y_test)\n",
    "plot1(\"MLP\",m1,m2)\n",
    "#plot2(\"SVM\",r1,r2)\n",
    "adapt(mlp_p)\n",
    "\n",
    "datagen2()\n",
    "m1,r1,reg = gdr()\n",
    "m2,r2,X_test_bad,Y_test_bad,bad = hl(reg,gdr_p,n,X_train_tr, X_train_ts, Y_train_tr, Y_train_ts,X_train, X_test, Y_train, Y_test)\n",
    "plot1(\"GBM\",m1,m2)\n",
    "#plot2(\"SVM\",r1,r2)\n",
    "adapt(gdr_p)\n",
    "\n",
    "datagen2()\n",
    "m1,r1,reg = ext()\n",
    "m2,r2,X_test_bad,Y_test_bad,bad = hl(reg,ext_p,n,X_train_tr, X_train_ts, Y_train_tr, Y_train_ts,X_train, X_test, Y_train, Y_test)\n",
    "plot1(\"EXT\",m1,m2)\n",
    "#plot2(\"SVM\",r1,r2)\n",
    "adapt(ext_p)\n"
   ]
  },
  {
   "cell_type": "code",
   "execution_count": 26,
   "id": "36ad125d",
   "metadata": {},
   "outputs": [
    {
     "data": {
      "text/plain": [
       "0.1417467133718873"
      ]
     },
     "execution_count": 26,
     "metadata": {},
     "output_type": "execute_result"
    }
   ],
   "source": []
  },
  {
   "cell_type": "code",
   "execution_count": 24,
   "id": "529b2d58",
   "metadata": {},
   "outputs": [
    {
     "data": {
      "text/plain": [
       "0.1929795768113035"
      ]
     },
     "execution_count": 24,
     "metadata": {},
     "output_type": "execute_result"
    }
   ],
   "source": [
    "n = 5\n",
    "\n",
    "def getNearest(x, p,ne) :\n",
    "    err = distance(x,p[0])\n",
    "    z = 0\n",
    "    res = 0\n",
    "    n = np.array(ne)\n",
    "    for i in range(1,len(p)):\n",
    "        if((i in n)):\n",
    "            z = i\n",
    "        else:\n",
    "            e = distance(x,p[i])\n",
    "            if(e < err ):\n",
    "                res = i\n",
    "    return res\n",
    "def distance(p1,p2):\n",
    "    mse = np.linalg.norm( np.array(p1) - np.array(p2)  )\n",
    "    return mse\n",
    "\n",
    "points = [[0,10], [1,4], [2,3], [3,5],[2,1.1], [4,12]]\n",
    "x = [2,1]\n",
    "ne = [1,2,3]\n",
    "r = getNearest(x, points,ne)\n",
    "r\n",
    "n = 100\n",
    "OP_df = pd.read_csv('btc_option_data.csv')\n",
    "OP_df = OP_df.dropna()\n",
    "data = OP_df\n",
    "data = data.drop(['underlying_index'], axis = 1)\n",
    "data = data.drop(['settlement_period'], axis = 1)\n",
    "data = data.drop(['instrument_name'], axis = 1)\n",
    "data = data.drop(['bids'], axis = 1)\n",
    "data = data.drop(['asks'], axis = 1)\n",
    "OOP_df = data\n",
    "OOP_df = OOP_df.drop(['ask_iv'], axis = 1)\n",
    "from sklearn.model_selection import train_test_split\n",
    "\n",
    "X = StandardScaler().fit_transform ( OOP_df )\n",
    "Y = StandardScaler().fit_transform  ( np.array ( data['ask_iv'] ).reshape(-1, 1) ).ravel()\n",
    "\n",
    "X_train, X_test, Y_train, Y_test = train_test_split( X, Y, test_size=0.25, random_state=47)\n",
    "X_train_tr, X_train_ts, Y_train_tr, Y_train_ts = train_test_split( X_train, Y_train, test_size=0.25, random_state=41)\n",
    "from sklearn.pipeline import make_pipeline\n",
    "from sklearn.preprocessing import StandardScaler\n",
    "from sklearn.svm import SVR\n",
    "regr = make_pipeline(StandardScaler(), SVR(C=5,kernel='rbf', epsilon=0.2))\n",
    "regr.fit(X_train, Y_train)\n",
    "from sklearn.metrics import mean_squared_error\n",
    "pred= regr.predict(X_test)\n",
    "acc = mean_squared_error(Y_test, pred)\n",
    "acc"
   ]
  },
  {
   "cell_type": "code",
   "execution_count": 25,
   "id": "9287e94c",
   "metadata": {},
   "outputs": [
    {
     "data": {
      "text/plain": [
       "0.21650809069340357"
      ]
     },
     "execution_count": 25,
     "metadata": {},
     "output_type": "execute_result"
    }
   ],
   "source": [
    "test_res = regr.predict(X_train_ts)\n",
    "errors = []\n",
    "for i in range(0,len(X_train_ts)):\n",
    "    err = abs ( test_res[i] - Y_train_ts[i] )\n",
    "    errors.append(err)\n",
    "    \n",
    "errors = np.array(errors)\n",
    "\n",
    "idx = (-errors).argsort()[:n]\n",
    "\n",
    "bad = np.array( X_train_ts)[idx]\n",
    "\n",
    "\n",
    "from scipy import spatial\n",
    "neib = []\n",
    "for i in range(0,len(bad)):\n",
    "    index = getNearest( bad[i], X_test,neib)\n",
    "    neib.append(index)\n",
    "    \n",
    "X_test_bad = np.array( X_test)[neib]\n",
    "Y_test_bad = np.array( Y_test)[neib]\n",
    "\n",
    "X_test = np.delete( X_test,neib, axis=0)\n",
    "Y_test = np.delete( Y_test,neib, axis=0)\n",
    "\n",
    "\n",
    "xt = np.concatenate((X_train_tr,X_train_ts), axis=0)\n",
    "yt = np.concatenate((Y_train_tr,Y_train_ts), axis=0)\n",
    "regr = make_pipeline(StandardScaler(), SVR(C=5,kernel='rbf', epsilon=0.2))\n",
    "regr.fit(xt, yt)\n",
    "pred= regr.predict(X_test)\n",
    "ghacc = mean_squared_error(Y_test, pred)\n",
    "ghacc"
   ]
  },
  {
   "cell_type": "code",
   "execution_count": 26,
   "id": "7ead8387",
   "metadata": {},
   "outputs": [
    {
     "data": {
      "text/plain": [
       "0.1929795768113035"
      ]
     },
     "execution_count": 26,
     "metadata": {},
     "output_type": "execute_result"
    }
   ],
   "source": [
    "def cosine(X, Y):\n",
    "    Y= Y.T\n",
    "    return X.dot(Y)*np.tanh(X.dot(Y))\n",
    "\n",
    "def getNearest(x, p,ne) :\n",
    "    err = distance(x,p[0])\n",
    "    z = 0\n",
    "    res = 0\n",
    "    n = np.array(ne)\n",
    "    for i in range(1,len(p)):\n",
    "        if((i in n)):\n",
    "            z = i\n",
    "        else:\n",
    "            e = distance(x,p[i])\n",
    "            if(e < err ):\n",
    "                res = i\n",
    "    return res\n",
    "def distance(p1,p2):\n",
    "    x = np.array(p1)\n",
    "    y = np.array(p2)  \n",
    "    return cosine(x,y)\n",
    "\n",
    "points = [[0,10], [1,4], [2,3], [3,5],[2,1.1], [4,12]]\n",
    "x = [2,1]\n",
    "ne = [1,2,3]\n",
    "r = getNearest(x, points,ne)\n",
    "r\n",
    "n = 100\n",
    "OP_df = pd.read_csv('btc_option_data.csv')\n",
    "OP_df = OP_df.dropna()\n",
    "data = OP_df\n",
    "data = data.drop(['underlying_index'], axis = 1)\n",
    "data = data.drop(['settlement_period'], axis = 1)\n",
    "data = data.drop(['instrument_name'], axis = 1)\n",
    "data = data.drop(['bids'], axis = 1)\n",
    "data = data.drop(['asks'], axis = 1)\n",
    "OOP_df = data\n",
    "OOP_df = OOP_df.drop(['ask_iv'], axis = 1)\n",
    "from sklearn.model_selection import train_test_split\n",
    "\n",
    "X = StandardScaler().fit_transform ( OOP_df )\n",
    "Y = StandardScaler().fit_transform  ( np.array ( data['ask_iv'] ).reshape(-1, 1) ).ravel()\n",
    "\n",
    "X_train, X_test, Y_train, Y_test = train_test_split( X, Y, test_size=0.25, random_state=47)\n",
    "X_train_tr, X_train_ts, Y_train_tr, Y_train_ts = train_test_split( X_train, Y_train, test_size=0.25, random_state=41)\n",
    "from sklearn.pipeline import make_pipeline\n",
    "from sklearn.preprocessing import StandardScaler\n",
    "from sklearn.svm import SVR\n",
    "regr = make_pipeline(StandardScaler(), SVR(C=5,kernel='rbf', epsilon=0.2))\n",
    "regr.fit(X_train, Y_train)\n",
    "from sklearn.metrics import mean_squared_error\n",
    "pred= regr.predict(X_test)\n",
    "acc = mean_squared_error(Y_test, pred)\n",
    "acc"
   ]
  },
  {
   "cell_type": "code",
   "execution_count": 27,
   "id": "f3363ef2",
   "metadata": {},
   "outputs": [
    {
     "data": {
      "text/plain": [
       "0.12802288308292936"
      ]
     },
     "execution_count": 27,
     "metadata": {},
     "output_type": "execute_result"
    }
   ],
   "source": [
    "test_res = regr.predict(X_train_ts)\n",
    "errors = []\n",
    "for i in range(0,len(X_train_ts)):\n",
    "    err = abs ( test_res[i] - Y_train_ts[i] )\n",
    "    errors.append(err)\n",
    "    \n",
    "errors = np.array(errors)\n",
    "\n",
    "idx = (-errors).argsort()[:n]\n",
    "\n",
    "bad = np.array( X_train_ts)[idx]\n",
    "\n",
    "\n",
    "from scipy import spatial\n",
    "neib = []\n",
    "for i in range(0,len(bad)):\n",
    "    index = getNearest( bad[i], X_test,neib)\n",
    "    neib.append(index)\n",
    "    \n",
    "X_test_bad = np.array( X_test)[neib]\n",
    "Y_test_bad = np.array( Y_test)[neib]\n",
    "\n",
    "X_test = np.delete( X_test,neib, axis=0)\n",
    "Y_test = np.delete( Y_test,neib, axis=0)\n",
    "\n",
    "\n",
    "xt = np.concatenate((X_train_tr,X_train_ts), axis=0)\n",
    "yt = np.concatenate((Y_train_tr,Y_train_ts), axis=0)\n",
    "regr = make_pipeline(StandardScaler(), SVR(C=5,kernel='rbf', epsilon=0.2))\n",
    "regr.fit(xt, yt)\n",
    "pred= regr.predict(X_test)\n",
    "khacc = mean_squared_error(Y_test, pred)\n",
    "khacc"
   ]
  },
  {
   "cell_type": "code",
   "execution_count": 28,
   "id": "bc08ded0",
   "metadata": {},
   "outputs": [
    {
     "data": {
      "text/plain": [
       "0.1929795768113035"
      ]
     },
     "execution_count": 28,
     "metadata": {},
     "output_type": "execute_result"
    }
   ],
   "source": [
    "def cosine(X, Y):\n",
    "    Y= Y.T\n",
    "    return X.dot(Y)*np.tanh(X.dot(Y))\n",
    "\n",
    "def getNearest(x, p,ne) :\n",
    "    err = distance(x,p[0])\n",
    "    z = 0\n",
    "    res = 0\n",
    "    n = np.array(ne)\n",
    "    for i in range(1,len(p)):\n",
    "        if((i in n)):\n",
    "            z = i\n",
    "        else:\n",
    "            e = distance(x,p[i])\n",
    "            if(e < err ):\n",
    "                res = i\n",
    "    return res\n",
    "def distance(p1,p2):\n",
    "    x = np.array(p1)\n",
    "    y = np.array(p2)  \n",
    "    return cosine(x,y)\n",
    "\n",
    "points = [[0,10], [1,4], [2,3], [3,5],[2,1.1], [4,12]]\n",
    "x = [2,1]\n",
    "ne = [1,2,3]\n",
    "r = getNearest(x, points,ne)\n",
    "r\n",
    "n = 100\n",
    "OP_df = pd.read_csv('btc_option_data.csv')\n",
    "OP_df = OP_df.dropna()\n",
    "data = OP_df\n",
    "data = data.drop(['underlying_index'], axis = 1)\n",
    "data = data.drop(['settlement_period'], axis = 1)\n",
    "data = data.drop(['instrument_name'], axis = 1)\n",
    "data = data.drop(['bids'], axis = 1)\n",
    "data = data.drop(['asks'], axis = 1)\n",
    "OOP_df = data\n",
    "OOP_df = OOP_df.drop(['ask_iv'], axis = 1)\n",
    "from sklearn.model_selection import train_test_split\n",
    "\n",
    "X = StandardScaler().fit_transform ( OOP_df )\n",
    "Y = StandardScaler().fit_transform  ( np.array ( data['ask_iv'] ).reshape(-1, 1) ).ravel()\n",
    "\n",
    "X_train, X_test, Y_train, Y_test = train_test_split( X, Y, test_size=0.25, random_state=47)\n",
    "X_train_tr, X_train_ts, Y_train_tr, Y_train_ts = train_test_split( X_train, Y_train, test_size=0.25, random_state=41)\n",
    "from sklearn.pipeline import make_pipeline\n",
    "from sklearn.preprocessing import StandardScaler\n",
    "from sklearn.svm import SVR\n",
    "regr = make_pipeline(StandardScaler(), SVR(C=5,kernel='rbf', epsilon=0.2))\n",
    "regr.fit(X_train, Y_train)\n",
    "from sklearn.metrics import mean_squared_error\n",
    "pred= regr.predict(X_test)\n",
    "acc = mean_squared_error(Y_test, pred)\n",
    "acc"
   ]
  },
  {
   "cell_type": "code",
   "execution_count": 29,
   "id": "c1f7cf84",
   "metadata": {},
   "outputs": [
    {
     "data": {
      "text/plain": [
       "0.32385484637485096"
      ]
     },
     "execution_count": 29,
     "metadata": {},
     "output_type": "execute_result"
    }
   ],
   "source": [
    "test_res = regr.predict(X_train_ts)\n",
    "errors = []\n",
    "for i in range(0,len(X_train_ts)):\n",
    "    err = abs ( test_res[i] - Y_train_ts[i] )\n",
    "    errors.append(err)\n",
    "    \n",
    "errors = np.array(errors)\n",
    "\n",
    "idx = (-errors).argsort()[:n]\n",
    "\n",
    "bad = np.array( X_train_ts)[idx]\n",
    "\n",
    "\n",
    "from scipy import spatial\n",
    "neib = []\n",
    "for i in range(0,len(bad)):\n",
    "    distance,index = spatial.KDTree(X_test).query(bad[i])\n",
    "    neib.append(index)\n",
    "\n",
    "neib = list(set(neib))    \n",
    "X_test_bad = np.array( X_test)[neib]\n",
    "Y_test_bad = np.array( Y_test)[neib]\n",
    "\n",
    "X_test = np.delete( X_test,neib, axis=0)\n",
    "Y_test = np.delete( Y_test,neib, axis=0)\n",
    "xt = np.concatenate((X_train_tr,X_train_ts), axis=0)\n",
    "yt = np.concatenate((Y_train_tr,Y_train_ts), axis=0)\n",
    "regr = make_pipeline(StandardScaler(), SVR(C=5,kernel='rbf', epsilon=0.2))\n",
    "regr.fit(xt, yt)\n",
    "pred= regr.predict(X_test)\n",
    "hacc = mean_squared_error(Y_test, pred)\n",
    "hacc"
   ]
  },
  {
   "cell_type": "code",
   "execution_count": 30,
   "id": "f0f6c356",
   "metadata": {},
   "outputs": [
    {
     "name": "stderr",
     "output_type": "stream",
     "text": [
      "No handles with labels found to put in legend.\n"
     ]
    },
    {
     "data": {
      "image/png": "[encoded data removed]",
      "text/plain": [
       "<Figure size 504x288 with 1 Axes>"
      ]
     },
     "metadata": {
      "needs_background": "light"
     },
     "output_type": "display_data"
    }
   ],
   "source": [
    "import statistics\n",
    "from numpy import asarray\n",
    "from sklearn.decomposition import TruncatedSVD\n",
    "from scipy.sparse import csr_matrix\n",
    "from sklearn.preprocessing import MinMaxScaler\n",
    "from sklearn.preprocessing import StandardScaler\n",
    "import matplotlib.pyplot as plt \n",
    "    \n",
    "fig=plt.figure(figsize=(7,4))\n",
    "bar4 = plt.bar(\"HA\", hacc, color= 'r', width = .28)\n",
    "bar2 = plt.bar(\"Gausian\", ghacc, color= 'r', width = .28)\n",
    "bar3 = plt.bar(\"Kernel\", khacc, color= 'b',width = .28)\n",
    "    \n",
    "plt.legend( (bar4, bar2,bar3), ('HA','Gausian','Kernel') )\n",
    "plt.ylabel(\"MSE\")\n",
    "plt.legend()\n",
    "plt.show()"
   ]
  },
  {
   "cell_type": "code",
   "execution_count": 42,
   "id": "1121bf5d",
   "metadata": {},
   "outputs": [
    {
     "data": {
      "text/plain": [
       "0.13188576725362924"
      ]
     },
     "execution_count": 42,
     "metadata": {},
     "output_type": "execute_result"
    }
   ],
   "source": []
  },
  {
   "cell_type": "code",
   "execution_count": 31,
   "id": "2a4e750f",
   "metadata": {},
   "outputs": [
    {
     "data": {
      "image/png": "[encoded data removed]",
      "text/plain": [
       "<Figure size 432x288 with 1 Axes>"
      ]
     },
     "metadata": {
      "needs_background": "light"
     },
     "output_type": "display_data"
    }
   ],
   "source": [
    "n = 50\n",
    "\n",
    "OP_df = pd.read_csv('btc_option_data.csv')\n",
    "OP_df = OP_df.dropna()\n",
    "data = OP_df\n",
    "data = data.drop(['underlying_index'], axis = 1)\n",
    "data = data.drop(['settlement_period'], axis = 1)\n",
    "data = data.drop(['instrument_name'], axis = 1)\n",
    "data = data.drop(['bids'], axis = 1)\n",
    "data = data.drop(['asks'], axis = 1)\n",
    "OOP_df = data\n",
    "OOP_df = OOP_df.drop(['ask_iv'], axis = 1)\n",
    "\n",
    "norm = StandardScaler().fit_transform(OOP_df)\n",
    "pca = PCA()\n",
    "nn = pca.fit_transform(norm)\n",
    "from sklearn.model_selection import train_test_split\n",
    "X = nn\n",
    "\n",
    "X = StandardScaler().fit_transform ( OOP_df )\n",
    "Y = StandardScaler().fit_transform  ( np.array ( data['ask_iv'] ).reshape(-1, 1) ).ravel()\n",
    "\n",
    "X_train, X_test, Y_train, Y_test = train_test_split( X, Y, test_size=0.25, random_state=47)\n",
    "X_train_tr, X_train_ts, Y_train_tr, Y_train_ts = train_test_split( X_train, Y_train, test_size=0.25, random_state=41)\n",
    "\n",
    "from sklearn.pipeline import make_pipeline\n",
    "from sklearn.preprocessing import StandardScaler\n",
    "from sklearn.svm import SVR\n",
    "regr = make_pipeline(StandardScaler(), SVR(C=1,kernel='rbf', epsilon=0.2))\n",
    "regr.fit(X_train, Y_train)\n",
    "from sklearn.metrics import mean_squared_error\n",
    "pred= regr.predict(X_test)\n",
    "acc = mean_squared_error(Y_test, pred)\n",
    "test_res = regr.predict(X_train_ts)\n",
    "errors = []\n",
    "for i in range(0,len(X_train_ts)):\n",
    "    err = abs ( test_res[i] - Y_train_ts[i] )\n",
    "    errors.append(err)\n",
    "    \n",
    "errors = np.array(errors)\n",
    "\n",
    "idx = (-errors).argsort()[:n]\n",
    "\n",
    "bad = np.array( X_train_ts)[idx]\n",
    "\n",
    "\n",
    "from scipy import spatial\n",
    "neib = []\n",
    "for i in range(0,len(bad)):\n",
    "    distance,index = spatial.KDTree(X_test).query(bad[i])\n",
    "    neib.append(index)\n",
    "\n",
    "neib = list(set(neib))    \n",
    "X_test_bad = np.array( X_test)[neib]\n",
    "Y_test_bad = np.array( Y_test)[neib]\n",
    "\n",
    "X_test = np.delete( X_test,neib, axis=0)\n",
    "Y_test = np.delete( Y_test,neib, axis=0)\n",
    "xt = np.concatenate((X_train_tr,X_train_ts), axis=0)\n",
    "yt = np.concatenate((Y_train_tr,Y_train_ts), axis=0)\n",
    "regr = make_pipeline(StandardScaler(), SVR(C=5,kernel='rbf', epsilon=0.2))\n",
    "regr.fit(xt, yt)\n",
    "pred= regr.predict(X_test)\n",
    "hacc = mean_squared_error(Y_test, pred)\n",
    "\n",
    "fig=plt.figure(figsize=(6,4))\n",
    "bar1 = plt.bar(\"SVM\", acc, color= 'r',width = .2)\n",
    "bar2 = plt.bar(\"PCA-HA-SVM\", hacc, color= 'c', width = .2)\n",
    "    \n",
    "plt.legend( (bar1,bar2), (\"PCA-SVM\",\"PCA-HL-SVM\") )\n",
    "plt.ylabel(\"MSE\")\n",
    "plt.show()"
   ]
  },
  {
   "cell_type": "code",
   "execution_count": null,
   "id": "857ce6bb",
   "metadata": {},
   "outputs": [],
   "source": []
  },
  {
   "cell_type": "code",
   "execution_count": null,
   "id": "ae95a071",
   "metadata": {},
   "outputs": [],
   "source": []
  },
  {
   "cell_type": "code",
   "execution_count": null,
   "id": "724179b4",
   "metadata": {},
   "outputs": [],
   "source": []
  },
  {
   "cell_type": "code",
   "execution_count": null,
   "id": "82a70c91",
   "metadata": {},
   "outputs": [],
   "source": []
  },
  {
   "cell_type": "code",
   "execution_count": null,
   "id": "aaa48020",
   "metadata": {},
   "outputs": [],
   "source": []
  },
  {
   "cell_type": "code",
   "execution_count": null,
   "id": "7f8aea86",
   "metadata": {},
   "outputs": [],
   "source": []
  },
  {
   "cell_type": "code",
   "execution_count": null,
   "id": "2192b613",
   "metadata": {},
   "outputs": [],
   "source": []
  },
  {
   "cell_type": "code",
   "execution_count": null,
   "id": "58484ecb",
   "metadata": {},
   "outputs": [],
   "source": []
  },
  {
   "cell_type": "code",
   "execution_count": null,
   "id": "9a1f2ee4",
   "metadata": {},
   "outputs": [],
   "source": []
  },
  {
   "cell_type": "code",
   "execution_count": null,
   "id": "e186d693",
   "metadata": {},
   "outputs": [],
   "source": []
  },
  {
   "cell_type": "code",
   "execution_count": null,
   "id": "b3f1a4fb",
   "metadata": {},
   "outputs": [],
   "source": []
  },
  {
   "cell_type": "code",
   "execution_count": null,
   "id": "bcc6ea72",
   "metadata": {},
   "outputs": [],
   "source": []
  }
 ],
 "metadata": {
  "kernelspec": {
   "display_name": "Python 3 (ipykernel)",
   "language": "python",
   "name": "python3"
  },
  "language_info": {
   "codemirror_mode": {
    "name": "ipython",
    "version": 3
   },
   "file_extension": ".py",
   "mimetype": "text/x-python",
   "name": "python",
   "nbconvert_exporter": "python",
   "pygments_lexer": "ipython3",
   "version": "3.9.7"
  }
 },
 "nbformat": 4,
 "nbformat_minor": 5
}
