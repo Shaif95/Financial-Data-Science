{
 "cells": [
  {
   "cell_type": "code",
   "execution_count": 67,
   "id": "409170a6",
   "metadata": {},
   "outputs": [],
   "source": [
    "import numpy as np\n",
    "import matplotlib.pyplot as plt\n",
    "import pandas as pd\n",
    "from sklearn.decomposition import PCA\n",
    "from sklearn import svm\n",
    "import seaborn as sns\n",
    "from matplotlib.colors import ListedColormap\n",
    "from sklearn import neighbors\n",
    "import matplotlib.pyplot as plt\n",
    "from pandas.plotting import parallel_coordinates\n",
    "from sklearn.preprocessing import StandardScaler\n",
    "from sklearn import decomposition\n",
    "import scipy\n",
    "from sklearn.manifold import TSNE\n",
    "from pandas.plotting import parallel_coordinates\n",
    "from sklearn import decomposition\n",
    "import numpy as np\n",
    "import matplotlib.pyplot as plt\n",
    "import pandas as pd\n",
    "from sklearn.decomposition import PCA\n",
    "from sklearn import svm\n",
    "import seaborn as sns\n",
    "from matplotlib.colors import ListedColormap\n",
    "from sklearn import neighbors\n",
    "import matplotlib.pyplot as plt\n",
    "from pandas.plotting import parallel_coordinates\n",
    "from sklearn.preprocessing import StandardScaler\n",
    "from sklearn import decomposition\n",
    "import scipy\n",
    "from math import  pi, exp,log, sqrt\n",
    "from scipy.stats import norm\n",
    "from sklearn.manifold import TSNE\n",
    "import seaborn as sn\n",
    "from sklearn.datasets import make_friedman1\n",
    "from sklearn.decomposition import SparsePCA\n",
    "from dask import dataframe as dd"
   ]
  },
  {
   "cell_type": "code",
   "execution_count": 91,
   "id": "783174ab",
   "metadata": {},
   "outputs": [
    {
     "data": {
      "text/html": [
       "<div>\n",
       "<style scoped>\n",
       "    .dataframe tbody tr th:only-of-type {\n",
       "        vertical-align: middle;\n",
       "    }\n",
       "\n",
       "    .dataframe tbody tr th {\n",
       "        vertical-align: top;\n",
       "    }\n",
       "\n",
       "    .dataframe thead th {\n",
       "        text-align: right;\n",
       "    }\n",
       "</style>\n",
       "<table border=\"1\" class=\"dataframe\">\n",
       "  <thead>\n",
       "    <tr style=\"text-align: right;\">\n",
       "      <th></th>\n",
       "      <th>Unnamed: 0</th>\n",
       "      <th>currentDate</th>\n",
       "      <th>ExpDate</th>\n",
       "      <th>StrikePrice</th>\n",
       "      <th>Ticker</th>\n",
       "      <th>Type</th>\n",
       "      <th>Last</th>\n",
       "      <th>Implied volatility</th>\n",
       "      <th>Underlaying asset price</th>\n",
       "      <th>Expiration time</th>\n",
       "    </tr>\n",
       "  </thead>\n",
       "  <tbody>\n",
       "    <tr>\n",
       "      <th>0</th>\n",
       "      <td>0</td>\n",
       "      <td>2/17/17</td>\n",
       "      <td>7/21/17</td>\n",
       "      <td>34.799999</td>\n",
       "      <td>TBNK</td>\n",
       "      <td>Call</td>\n",
       "      <td>1.06</td>\n",
       "      <td>0.13250</td>\n",
       "      <td>33.549999</td>\n",
       "      <td>0.421629</td>\n",
       "    </tr>\n",
       "    <tr>\n",
       "      <th>1</th>\n",
       "      <td>1</td>\n",
       "      <td>2/17/17</td>\n",
       "      <td>3/17/17</td>\n",
       "      <td>20.000000</td>\n",
       "      <td>ARR</td>\n",
       "      <td>Call</td>\n",
       "      <td>1.70</td>\n",
       "      <td>0.02022</td>\n",
       "      <td>21.709999</td>\n",
       "      <td>0.076660</td>\n",
       "    </tr>\n",
       "    <tr>\n",
       "      <th>2</th>\n",
       "      <td>2</td>\n",
       "      <td>2/17/17</td>\n",
       "      <td>3/17/17</td>\n",
       "      <td>22.500000</td>\n",
       "      <td>ARR</td>\n",
       "      <td>Call</td>\n",
       "      <td>0.08</td>\n",
       "      <td>0.13956</td>\n",
       "      <td>21.709999</td>\n",
       "      <td>0.076660</td>\n",
       "    </tr>\n",
       "  </tbody>\n",
       "</table>\n",
       "</div>"
      ],
      "text/plain": [
       "   Unnamed: 0 currentDate  ExpDate  StrikePrice Ticker  Type  Last  \\\n",
       "0           0     2/17/17  7/21/17    34.799999   TBNK  Call  1.06   \n",
       "1           1     2/17/17  3/17/17    20.000000    ARR  Call  1.70   \n",
       "2           2     2/17/17  3/17/17    22.500000    ARR  Call  0.08   \n",
       "\n",
       "   Implied volatility  Underlaying asset price  Expiration time  \n",
       "0             0.13250                33.549999         0.421629  \n",
       "1             0.02022                21.709999         0.076660  \n",
       "2             0.13956                21.709999         0.076660  "
      ]
     },
     "execution_count": 91,
     "metadata": {},
     "output_type": "execute_result"
    }
   ],
   "source": [
    "OP_df = pd.read_csv('dataset/Option2017_2.csv')\n",
    "OP_df = OP_df.dropna()\n",
    "OP_df.head(3)"
   ]
  },
  {
   "cell_type": "code",
   "execution_count": 69,
   "id": "26268467",
   "metadata": {},
   "outputs": [],
   "source": [
    "def d1(S,K,T,r,sigma):\n",
    "    \n",
    "    x = ( log (S/K) + ( ( r + ((sigma**2)/2) )* T  )  ) / ( sigma * ( sqrt ( T ) ) )\n",
    "    return x \n",
    "\n",
    "def d2(S,K,T,r,sigma):\n",
    "    \n",
    "    x = ( log (S/K) + ( ( r - ((sigma**2)/2) )* T  )  ) / ( sigma * ( sqrt ( T ) ) )\n",
    "    return x"
   ]
  },
  {
   "cell_type": "code",
   "execution_count": 70,
   "id": "eec2afd9",
   "metadata": {},
   "outputs": [],
   "source": [
    "df = OP_df"
   ]
  },
  {
   "cell_type": "code",
   "execution_count": 71,
   "id": "dade3e09",
   "metadata": {},
   "outputs": [],
   "source": [
    "def call(S,K,T,r,sigma):\n",
    "\n",
    "    return S  * norm.cdf( d1(S,K,T,r,sigma) ) - K * (exp(- (r*T) ) ) * norm.cdf( d2(S,K,T,r,sigma) )\n",
    "\n",
    "def put(S,K,T,r,sigma):\n",
    "\n",
    "    return   -norm.cdf(- d1(S,K,T,r,sigma)) * S + norm.cdf(-d2(S,K,T,r,sigma)) * K * np.exp(-r * T)"
   ]
  },
  {
   "cell_type": "code",
   "execution_count": 72,
   "id": "854150ee",
   "metadata": {},
   "outputs": [
    {
     "data": {
      "text/plain": [
       "(0.10570986506314022, 7)"
      ]
     },
     "execution_count": 72,
     "metadata": {},
     "output_type": "execute_result"
    }
   ],
   "source": [
    "from scipy import optimize\n",
    "import scipy.stats as si\n",
    "def callvol(price,S,K,r,T):\n",
    "  \n",
    "    def brentt(sigma):\n",
    "        d11 = d1(S,K,T,r,sigma)\n",
    "        d22 = d2(S,K,T,r,sigma)\n",
    "        Brent = call(S,K,T,r,sigma)\n",
    "        fx = Brent - price\n",
    "        return fx\n",
    "\n",
    "    x = optimize.brentq(brentt,0.000000000001,10,maxiter=1000,full_output=True)\n",
    "    return x[0] , x[1].iterations\n",
    "\n",
    "callvol( price=0.30, S=21.709999,K=22.000000, r=0.03,T=0.172485 )"
   ]
  },
  {
   "cell_type": "code",
   "execution_count": 73,
   "id": "b05fc844",
   "metadata": {},
   "outputs": [],
   "source": [
    "from scipy import optimize\n",
    "import scipy.stats as si\n",
    "def putvol(price,S,K,r,T):\n",
    "  \n",
    "    def brentp(sigma):\n",
    "        d11 = d1(S,K,T,r,sigma)\n",
    "        d22 = d2(S,K,T,r,sigma)\n",
    "        Brent = put(S,K,T,r,sigma)\n",
    "        fx = Brent - price\n",
    "        return fx\n",
    "\n",
    "    x = optimize.brentq(brentp,0.000000000001,10,maxiter=1000,full_output=True)\n",
    "    return x[0] , x[1].iterations\n",
    "\n",
    "#callvol( price=0.30, S=21.709999,K=22.000000, r=0.03,T=0.172485 )"
   ]
  },
  {
   "cell_type": "code",
   "execution_count": 54,
   "id": "cc79832a",
   "metadata": {},
   "outputs": [
    {
     "data": {
      "text/plain": [
       "0.1057098650631396"
      ]
     },
     "execution_count": 54,
     "metadata": {},
     "output_type": "execute_result"
    }
   ],
   "source": [
    "m,iter = (callvol( 0.30 , 21.709999 , 22.000000 , 0.03, 0.172485 )) \n",
    "m"
   ]
  },
  {
   "cell_type": "code",
   "execution_count": 34,
   "id": "a24008ca",
   "metadata": {},
   "outputs": [
    {
     "data": {
      "text/plain": [
       "8"
      ]
     },
     "execution_count": 34,
     "metadata": {},
     "output_type": "execute_result"
    }
   ],
   "source": []
  },
  {
   "cell_type": "code",
   "execution_count": 92,
   "id": "9cb0c036",
   "metadata": {},
   "outputs": [
    {
     "data": {
      "text/html": [
       "<div>\n",
       "<style scoped>\n",
       "    .dataframe tbody tr th:only-of-type {\n",
       "        vertical-align: middle;\n",
       "    }\n",
       "\n",
       "    .dataframe tbody tr th {\n",
       "        vertical-align: top;\n",
       "    }\n",
       "\n",
       "    .dataframe thead th {\n",
       "        text-align: right;\n",
       "    }\n",
       "</style>\n",
       "<table border=\"1\" class=\"dataframe\">\n",
       "  <thead>\n",
       "    <tr style=\"text-align: right;\">\n",
       "      <th></th>\n",
       "      <th>Unnamed: 0</th>\n",
       "      <th>currentDate</th>\n",
       "      <th>ExpDate</th>\n",
       "      <th>StrikePrice</th>\n",
       "      <th>Ticker</th>\n",
       "      <th>Type</th>\n",
       "      <th>Last</th>\n",
       "      <th>Implied volatility</th>\n",
       "      <th>Underlaying asset price</th>\n",
       "      <th>Expiration time</th>\n",
       "    </tr>\n",
       "  </thead>\n",
       "  <tbody>\n",
       "    <tr>\n",
       "      <th>0</th>\n",
       "      <td>0</td>\n",
       "      <td>2/17/17</td>\n",
       "      <td>7/21/17</td>\n",
       "      <td>34.799999</td>\n",
       "      <td>TBNK</td>\n",
       "      <td>Call</td>\n",
       "      <td>1.06</td>\n",
       "      <td>0.13250</td>\n",
       "      <td>33.549999</td>\n",
       "      <td>0.421629</td>\n",
       "    </tr>\n",
       "    <tr>\n",
       "      <th>1</th>\n",
       "      <td>1</td>\n",
       "      <td>2/17/17</td>\n",
       "      <td>3/17/17</td>\n",
       "      <td>20.000000</td>\n",
       "      <td>ARR</td>\n",
       "      <td>Call</td>\n",
       "      <td>1.70</td>\n",
       "      <td>0.02022</td>\n",
       "      <td>21.709999</td>\n",
       "      <td>0.076660</td>\n",
       "    </tr>\n",
       "  </tbody>\n",
       "</table>\n",
       "</div>"
      ],
      "text/plain": [
       "   Unnamed: 0 currentDate  ExpDate  StrikePrice Ticker  Type  Last  \\\n",
       "0           0     2/17/17  7/21/17    34.799999   TBNK  Call  1.06   \n",
       "1           1     2/17/17  3/17/17    20.000000    ARR  Call  1.70   \n",
       "\n",
       "   Implied volatility  Underlaying asset price  Expiration time  \n",
       "0             0.13250                33.549999         0.421629  \n",
       "1             0.02022                21.709999         0.076660  "
      ]
     },
     "execution_count": 92,
     "metadata": {},
     "output_type": "execute_result"
    }
   ],
   "source": [
    "S = np.array( OP_df[\"Underlaying asset price\"]).astype(\"float\")\n",
    "K = np.array( OP_df[\"StrikePrice\"]).astype(\"float\")\n",
    "r = .03\n",
    "T = np.array( OP_df[\"Expiration time\"]).astype(\"float\")\n",
    "Op = np.array( OP_df[\"Last\"]).astype(\"float\")\n",
    "Type = np.array( OP_df[\"Type\"]).astype(\"str\")\n",
    "OP_df.head(3)\n",
    "df = OP_df\n",
    "df.head(2)"
   ]
  },
  {
   "cell_type": "code",
   "execution_count": 93,
   "id": "73de242c",
   "metadata": {},
   "outputs": [],
   "source": [
    "imp = []\n",
    "iter = []\n",
    "for i in range( len(OP_df) ):\n",
    "    if(Type[i] == \"Call\"):\n",
    "        try:\n",
    "            \n",
    "            m,it = (callvol( Op[i] , S[i] , K[i] , r , T[i] )) \n",
    "            imp.append(m)\n",
    "            iter.append(it)\n",
    "            if(it >900):\n",
    "                df = df.drop(index= (i))\n",
    "        except:\n",
    "            df = df.drop(index= (i))\n",
    "    else:\n",
    "        try:\n",
    "            \n",
    "            m,it = (putvol( Op[i] , S[i] , K[i] , r , T[i] )) \n",
    "            imp.append(m)\n",
    "            iter.append(it)\n",
    "            if(it >900):\n",
    "                df = df.drop(index= (i))\n",
    "        except:\n",
    "            df = df.drop(index= (i))"
   ]
  },
  {
   "cell_type": "code",
   "execution_count": 94,
   "id": "662b4806",
   "metadata": {},
   "outputs": [
    {
     "data": {
      "text/html": [
       "<div>\n",
       "<style scoped>\n",
       "    .dataframe tbody tr th:only-of-type {\n",
       "        vertical-align: middle;\n",
       "    }\n",
       "\n",
       "    .dataframe tbody tr th {\n",
       "        vertical-align: top;\n",
       "    }\n",
       "\n",
       "    .dataframe thead th {\n",
       "        text-align: right;\n",
       "    }\n",
       "</style>\n",
       "<table border=\"1\" class=\"dataframe\">\n",
       "  <thead>\n",
       "    <tr style=\"text-align: right;\">\n",
       "      <th></th>\n",
       "      <th>Unnamed: 0</th>\n",
       "      <th>currentDate</th>\n",
       "      <th>ExpDate</th>\n",
       "      <th>StrikePrice</th>\n",
       "      <th>Ticker</th>\n",
       "      <th>Type</th>\n",
       "      <th>Last</th>\n",
       "      <th>Implied volatility</th>\n",
       "      <th>Underlaying asset price</th>\n",
       "      <th>Expiration time</th>\n",
       "    </tr>\n",
       "  </thead>\n",
       "  <tbody>\n",
       "    <tr>\n",
       "      <th>0</th>\n",
       "      <td>0</td>\n",
       "      <td>2/17/17</td>\n",
       "      <td>7/21/17</td>\n",
       "      <td>34.799999</td>\n",
       "      <td>TBNK</td>\n",
       "      <td>Call</td>\n",
       "      <td>1.06</td>\n",
       "      <td>0.13250</td>\n",
       "      <td>33.549999</td>\n",
       "      <td>0.421629</td>\n",
       "    </tr>\n",
       "    <tr>\n",
       "      <th>2</th>\n",
       "      <td>2</td>\n",
       "      <td>2/17/17</td>\n",
       "      <td>3/17/17</td>\n",
       "      <td>22.500000</td>\n",
       "      <td>ARR</td>\n",
       "      <td>Call</td>\n",
       "      <td>0.08</td>\n",
       "      <td>0.13956</td>\n",
       "      <td>21.709999</td>\n",
       "      <td>0.076660</td>\n",
       "    </tr>\n",
       "    <tr>\n",
       "      <th>3</th>\n",
       "      <td>3</td>\n",
       "      <td>2/17/17</td>\n",
       "      <td>3/17/17</td>\n",
       "      <td>20.000000</td>\n",
       "      <td>ARR</td>\n",
       "      <td>Put</td>\n",
       "      <td>0.20</td>\n",
       "      <td>0.32783</td>\n",
       "      <td>21.709999</td>\n",
       "      <td>0.076660</td>\n",
       "    </tr>\n",
       "    <tr>\n",
       "      <th>4</th>\n",
       "      <td>4</td>\n",
       "      <td>2/17/17</td>\n",
       "      <td>3/17/17</td>\n",
       "      <td>22.500000</td>\n",
       "      <td>ARR</td>\n",
       "      <td>Put</td>\n",
       "      <td>0.95</td>\n",
       "      <td>0.27590</td>\n",
       "      <td>21.709999</td>\n",
       "      <td>0.076660</td>\n",
       "    </tr>\n",
       "    <tr>\n",
       "      <th>7</th>\n",
       "      <td>7</td>\n",
       "      <td>2/17/17</td>\n",
       "      <td>4/21/17</td>\n",
       "      <td>22.000000</td>\n",
       "      <td>ARR</td>\n",
       "      <td>Call</td>\n",
       "      <td>0.30</td>\n",
       "      <td>0.10719</td>\n",
       "      <td>21.709999</td>\n",
       "      <td>0.172485</td>\n",
       "    </tr>\n",
       "  </tbody>\n",
       "</table>\n",
       "</div>"
      ],
      "text/plain": [
       "   Unnamed: 0 currentDate  ExpDate  StrikePrice Ticker  Type  Last  \\\n",
       "0           0     2/17/17  7/21/17    34.799999   TBNK  Call  1.06   \n",
       "2           2     2/17/17  3/17/17    22.500000    ARR  Call  0.08   \n",
       "3           3     2/17/17  3/17/17    20.000000    ARR   Put  0.20   \n",
       "4           4     2/17/17  3/17/17    22.500000    ARR   Put  0.95   \n",
       "7           7     2/17/17  4/21/17    22.000000    ARR  Call  0.30   \n",
       "\n",
       "   Implied volatility  Underlaying asset price  Expiration time  \n",
       "0             0.13250                33.549999         0.421629  \n",
       "2             0.13956                21.709999         0.076660  \n",
       "3             0.32783                21.709999         0.076660  \n",
       "4             0.27590                21.709999         0.076660  \n",
       "7             0.10719                21.709999         0.172485  "
      ]
     },
     "execution_count": 94,
     "metadata": {},
     "output_type": "execute_result"
    }
   ],
   "source": [
    "df.head(5)"
   ]
  },
  {
   "cell_type": "code",
   "execution_count": 77,
   "id": "82362dc1",
   "metadata": {},
   "outputs": [
    {
     "data": {
      "text/plain": [
       "17559"
      ]
     },
     "execution_count": 77,
     "metadata": {},
     "output_type": "execute_result"
    }
   ],
   "source": [
    "len(OP_df)"
   ]
  },
  {
   "cell_type": "code",
   "execution_count": 86,
   "id": "869481a3",
   "metadata": {},
   "outputs": [
    {
     "data": {
      "text/html": [
       "<div>\n",
       "<style scoped>\n",
       "    .dataframe tbody tr th:only-of-type {\n",
       "        vertical-align: middle;\n",
       "    }\n",
       "\n",
       "    .dataframe tbody tr th {\n",
       "        vertical-align: top;\n",
       "    }\n",
       "\n",
       "    .dataframe thead th {\n",
       "        text-align: right;\n",
       "    }\n",
       "</style>\n",
       "<table border=\"1\" class=\"dataframe\">\n",
       "  <thead>\n",
       "    <tr style=\"text-align: right;\">\n",
       "      <th></th>\n",
       "      <th>Unnamed: 0</th>\n",
       "      <th>currentDate</th>\n",
       "      <th>ExpDate</th>\n",
       "      <th>StrikePrice</th>\n",
       "      <th>Ticker</th>\n",
       "      <th>Type</th>\n",
       "      <th>Last</th>\n",
       "      <th>Implied volatility</th>\n",
       "      <th>Underlaying asset price</th>\n",
       "      <th>Expiration time</th>\n",
       "      <th>imp</th>\n",
       "      <th>iter</th>\n",
       "    </tr>\n",
       "  </thead>\n",
       "  <tbody>\n",
       "    <tr>\n",
       "      <th>0</th>\n",
       "      <td>0</td>\n",
       "      <td>2/17/17</td>\n",
       "      <td>7/21/17</td>\n",
       "      <td>34.799999</td>\n",
       "      <td>TBNK</td>\n",
       "      <td>Call</td>\n",
       "      <td>1.06</td>\n",
       "      <td>0.13250</td>\n",
       "      <td>33.549999</td>\n",
       "      <td>0.421629</td>\n",
       "      <td>0.162619</td>\n",
       "      <td>8.0</td>\n",
       "    </tr>\n",
       "    <tr>\n",
       "      <th>1</th>\n",
       "      <td>1</td>\n",
       "      <td>2/17/17</td>\n",
       "      <td>3/17/17</td>\n",
       "      <td>20.000000</td>\n",
       "      <td>ARR</td>\n",
       "      <td>Call</td>\n",
       "      <td>1.70</td>\n",
       "      <td>0.02022</td>\n",
       "      <td>21.709999</td>\n",
       "      <td>0.076660</td>\n",
       "      <td>0.132739</td>\n",
       "      <td>12.0</td>\n",
       "    </tr>\n",
       "    <tr>\n",
       "      <th>2</th>\n",
       "      <td>2</td>\n",
       "      <td>2/17/17</td>\n",
       "      <td>3/17/17</td>\n",
       "      <td>22.500000</td>\n",
       "      <td>ARR</td>\n",
       "      <td>Call</td>\n",
       "      <td>0.08</td>\n",
       "      <td>0.13956</td>\n",
       "      <td>21.709999</td>\n",
       "      <td>0.076660</td>\n",
       "      <td>0.341223</td>\n",
       "      <td>11.0</td>\n",
       "    </tr>\n",
       "  </tbody>\n",
       "</table>\n",
       "</div>"
      ],
      "text/plain": [
       "   Unnamed: 0 currentDate  ExpDate  StrikePrice Ticker  Type  Last  \\\n",
       "0           0     2/17/17  7/21/17    34.799999   TBNK  Call  1.06   \n",
       "1           1     2/17/17  3/17/17    20.000000    ARR  Call  1.70   \n",
       "2           2     2/17/17  3/17/17    22.500000    ARR  Call  0.08   \n",
       "\n",
       "   Implied volatility  Underlaying asset price  Expiration time       imp  \\\n",
       "0             0.13250                33.549999         0.421629  0.162619   \n",
       "1             0.02022                21.709999         0.076660  0.132739   \n",
       "2             0.13956                21.709999         0.076660  0.341223   \n",
       "\n",
       "   iter  \n",
       "0   8.0  \n",
       "1  12.0  \n",
       "2  11.0  "
      ]
     },
     "execution_count": 86,
     "metadata": {},
     "output_type": "execute_result"
    }
   ],
   "source": [
    "OP_df['imp'] = pd.Series(imp)\n",
    "OP_df['iter'] = pd.Series(iter)\n",
    "OP_df.head(3)"
   ]
  },
  {
   "cell_type": "code",
   "execution_count": 59,
   "id": "7b6e35f6",
   "metadata": {},
   "outputs": [
    {
     "data": {
      "text/plain": [
       "16275"
      ]
     },
     "execution_count": 59,
     "metadata": {},
     "output_type": "execute_result"
    }
   ],
   "source": []
  },
  {
   "cell_type": "code",
   "execution_count": 95,
   "id": "75c106de",
   "metadata": {},
   "outputs": [
    {
     "data": {
      "text/plain": [
       "16275"
      ]
     },
     "execution_count": 95,
     "metadata": {},
     "output_type": "execute_result"
    }
   ],
   "source": [
    "len(df)"
   ]
  },
  {
   "cell_type": "code",
   "execution_count": 80,
   "id": "0b3e4650",
   "metadata": {},
   "outputs": [
    {
     "data": {
      "text/html": [
       "<div>\n",
       "<style scoped>\n",
       "    .dataframe tbody tr th:only-of-type {\n",
       "        vertical-align: middle;\n",
       "    }\n",
       "\n",
       "    .dataframe tbody tr th {\n",
       "        vertical-align: top;\n",
       "    }\n",
       "\n",
       "    .dataframe thead th {\n",
       "        text-align: right;\n",
       "    }\n",
       "</style>\n",
       "<table border=\"1\" class=\"dataframe\">\n",
       "  <thead>\n",
       "    <tr style=\"text-align: right;\">\n",
       "      <th></th>\n",
       "      <th>Unnamed: 0</th>\n",
       "      <th>currentDate</th>\n",
       "      <th>ExpDate</th>\n",
       "      <th>StrikePrice</th>\n",
       "      <th>Ticker</th>\n",
       "      <th>Type</th>\n",
       "      <th>Last</th>\n",
       "      <th>Implied volatility</th>\n",
       "      <th>Underlaying asset price</th>\n",
       "      <th>Expiration time</th>\n",
       "    </tr>\n",
       "  </thead>\n",
       "  <tbody>\n",
       "  </tbody>\n",
       "</table>\n",
       "</div>"
      ],
      "text/plain": [
       "Empty DataFrame\n",
       "Columns: [Unnamed: 0, currentDate, ExpDate, StrikePrice, Ticker, Type, Last, Implied volatility, Underlaying asset price, Expiration time]\n",
       "Index: []"
      ]
     },
     "execution_count": 80,
     "metadata": {},
     "output_type": "execute_result"
    }
   ],
   "source": [
    "df.head(2)"
   ]
  },
  {
   "cell_type": "code",
   "execution_count": 72,
   "id": "acc1ba6b",
   "metadata": {},
   "outputs": [
    {
     "data": {
      "text/html": [
       "<div>\n",
       "<style scoped>\n",
       "    .dataframe tbody tr th:only-of-type {\n",
       "        vertical-align: middle;\n",
       "    }\n",
       "\n",
       "    .dataframe tbody tr th {\n",
       "        vertical-align: top;\n",
       "    }\n",
       "\n",
       "    .dataframe thead th {\n",
       "        text-align: right;\n",
       "    }\n",
       "</style>\n",
       "<table border=\"1\" class=\"dataframe\">\n",
       "  <thead>\n",
       "    <tr style=\"text-align: right;\">\n",
       "      <th></th>\n",
       "      <th>bisection</th>\n",
       "    </tr>\n",
       "  </thead>\n",
       "  <tbody>\n",
       "    <tr>\n",
       "      <th>0</th>\n",
       "      <td>0.032722</td>\n",
       "    </tr>\n",
       "    <tr>\n",
       "      <th>1</th>\n",
       "      <td>81.930349</td>\n",
       "    </tr>\n",
       "    <tr>\n",
       "      <th>2</th>\n",
       "      <td>0.219175</td>\n",
       "    </tr>\n",
       "  </tbody>\n",
       "</table>\n",
       "</div>"
      ],
      "text/plain": [
       "   bisection\n",
       "0   0.032722\n",
       "1  81.930349\n",
       "2   0.219175"
      ]
     },
     "execution_count": 72,
     "metadata": {},
     "output_type": "execute_result"
    }
   ],
   "source": []
  },
  {
   "cell_type": "code",
   "execution_count": 75,
   "id": "fb98e2d9",
   "metadata": {},
   "outputs": [],
   "source": []
  },
  {
   "cell_type": "code",
   "execution_count": 77,
   "id": "69924f66",
   "metadata": {},
   "outputs": [
    {
     "data": {
      "text/html": [
       "<div>\n",
       "<style scoped>\n",
       "    .dataframe tbody tr th:only-of-type {\n",
       "        vertical-align: middle;\n",
       "    }\n",
       "\n",
       "    .dataframe tbody tr th {\n",
       "        vertical-align: top;\n",
       "    }\n",
       "\n",
       "    .dataframe thead th {\n",
       "        text-align: right;\n",
       "    }\n",
       "</style>\n",
       "<table border=\"1\" class=\"dataframe\">\n",
       "  <thead>\n",
       "    <tr style=\"text-align: right;\">\n",
       "      <th></th>\n",
       "      <th>bisection</th>\n",
       "      <th>Brent</th>\n",
       "    </tr>\n",
       "  </thead>\n",
       "  <tbody>\n",
       "    <tr>\n",
       "      <th>0</th>\n",
       "      <td>0.031976</td>\n",
       "      <td>0.032722</td>\n",
       "    </tr>\n",
       "    <tr>\n",
       "      <th>1</th>\n",
       "      <td>47.563301</td>\n",
       "      <td>81.930349</td>\n",
       "    </tr>\n",
       "    <tr>\n",
       "      <th>2</th>\n",
       "      <td>0.249562</td>\n",
       "      <td>0.219175</td>\n",
       "    </tr>\n",
       "  </tbody>\n",
       "</table>\n",
       "</div>"
      ],
      "text/plain": [
       "   bisection      Brent\n",
       "0   0.031976   0.032722\n",
       "1  47.563301  81.930349\n",
       "2   0.249562   0.219175"
      ]
     },
     "execution_count": 77,
     "metadata": {},
     "output_type": "execute_result"
    }
   ],
   "source": []
  },
  {
   "cell_type": "code",
   "execution_count": 96,
   "id": "5716ccec",
   "metadata": {},
   "outputs": [],
   "source": [
    "df.to_csv('EuropeanOption2017.csv', index=False)"
   ]
  },
  {
   "cell_type": "code",
   "execution_count": null,
   "id": "ec45c2f9",
   "metadata": {},
   "outputs": [],
   "source": []
  },
  {
   "cell_type": "code",
   "execution_count": 10,
   "id": "5f63baee",
   "metadata": {},
   "outputs": [
    {
     "data": {
      "text/html": [
       "<div>\n",
       "<style scoped>\n",
       "    .dataframe tbody tr th:only-of-type {\n",
       "        vertical-align: middle;\n",
       "    }\n",
       "\n",
       "    .dataframe tbody tr th {\n",
       "        vertical-align: top;\n",
       "    }\n",
       "\n",
       "    .dataframe thead th {\n",
       "        text-align: right;\n",
       "    }\n",
       "</style>\n",
       "<table border=\"1\" class=\"dataframe\">\n",
       "  <thead>\n",
       "    <tr style=\"text-align: right;\">\n",
       "      <th></th>\n",
       "      <th>Unnamed: 0</th>\n",
       "      <th>currentDate</th>\n",
       "      <th>ExpDate</th>\n",
       "      <th>StrikePrice</th>\n",
       "      <th>Ticker</th>\n",
       "      <th>Type</th>\n",
       "      <th>Last</th>\n",
       "      <th>Implied volatility</th>\n",
       "      <th>Underlaying asset price</th>\n",
       "      <th>Expiration time</th>\n",
       "    </tr>\n",
       "  </thead>\n",
       "  <tbody>\n",
       "    <tr>\n",
       "      <th>0</th>\n",
       "      <td>0</td>\n",
       "      <td>2/17/17</td>\n",
       "      <td>7/21/17</td>\n",
       "      <td>34.799999</td>\n",
       "      <td>TBNK</td>\n",
       "      <td>Call</td>\n",
       "      <td>1.06</td>\n",
       "      <td>0.13250</td>\n",
       "      <td>33.549999</td>\n",
       "      <td>0.421629</td>\n",
       "    </tr>\n",
       "    <tr>\n",
       "      <th>1</th>\n",
       "      <td>1</td>\n",
       "      <td>2/17/17</td>\n",
       "      <td>3/17/17</td>\n",
       "      <td>20.000000</td>\n",
       "      <td>ARR</td>\n",
       "      <td>Call</td>\n",
       "      <td>1.70</td>\n",
       "      <td>0.02022</td>\n",
       "      <td>21.709999</td>\n",
       "      <td>0.076660</td>\n",
       "    </tr>\n",
       "    <tr>\n",
       "      <th>2</th>\n",
       "      <td>2</td>\n",
       "      <td>2/17/17</td>\n",
       "      <td>3/17/17</td>\n",
       "      <td>22.500000</td>\n",
       "      <td>ARR</td>\n",
       "      <td>Call</td>\n",
       "      <td>0.08</td>\n",
       "      <td>0.13956</td>\n",
       "      <td>21.709999</td>\n",
       "      <td>0.076660</td>\n",
       "    </tr>\n",
       "  </tbody>\n",
       "</table>\n",
       "</div>"
      ],
      "text/plain": [
       "   Unnamed: 0 currentDate  ExpDate  StrikePrice Ticker  Type  Last  \\\n",
       "0           0     2/17/17  7/21/17    34.799999   TBNK  Call  1.06   \n",
       "1           1     2/17/17  3/17/17    20.000000    ARR  Call  1.70   \n",
       "2           2     2/17/17  3/17/17    22.500000    ARR  Call  0.08   \n",
       "\n",
       "   Implied volatility  Underlaying asset price  Expiration time  \n",
       "0             0.13250                33.549999         0.421629  \n",
       "1             0.02022                21.709999         0.076660  \n",
       "2             0.13956                21.709999         0.076660  "
      ]
     },
     "execution_count": 10,
     "metadata": {},
     "output_type": "execute_result"
    }
   ],
   "source": [
    "df.head(3)"
   ]
  },
  {
   "cell_type": "code",
   "execution_count": 13,
   "id": "b585d240",
   "metadata": {},
   "outputs": [
    {
     "data": {
      "text/html": [
       "<div>\n",
       "<style scoped>\n",
       "    .dataframe tbody tr th:only-of-type {\n",
       "        vertical-align: middle;\n",
       "    }\n",
       "\n",
       "    .dataframe tbody tr th {\n",
       "        vertical-align: top;\n",
       "    }\n",
       "\n",
       "    .dataframe thead th {\n",
       "        text-align: right;\n",
       "    }\n",
       "</style>\n",
       "<table border=\"1\" class=\"dataframe\">\n",
       "  <thead>\n",
       "    <tr style=\"text-align: right;\">\n",
       "      <th></th>\n",
       "      <th>Unnamed: 0</th>\n",
       "      <th>currentDate</th>\n",
       "      <th>ExpDate</th>\n",
       "      <th>StrikePrice</th>\n",
       "      <th>Ticker</th>\n",
       "      <th>Type</th>\n",
       "      <th>Last</th>\n",
       "      <th>Implied volatility</th>\n",
       "      <th>Underlaying asset price</th>\n",
       "      <th>Expiration time</th>\n",
       "    </tr>\n",
       "  </thead>\n",
       "  <tbody>\n",
       "    <tr>\n",
       "      <th>0</th>\n",
       "      <td>0</td>\n",
       "      <td>2/17/17</td>\n",
       "      <td>7/21/17</td>\n",
       "      <td>34.799999</td>\n",
       "      <td>TBNK</td>\n",
       "      <td>Call</td>\n",
       "      <td>1.06</td>\n",
       "      <td>0.13250</td>\n",
       "      <td>33.549999</td>\n",
       "      <td>0.421629</td>\n",
       "    </tr>\n",
       "    <tr>\n",
       "      <th>2</th>\n",
       "      <td>2</td>\n",
       "      <td>2/17/17</td>\n",
       "      <td>3/17/17</td>\n",
       "      <td>22.500000</td>\n",
       "      <td>ARR</td>\n",
       "      <td>Call</td>\n",
       "      <td>0.08</td>\n",
       "      <td>0.13956</td>\n",
       "      <td>21.709999</td>\n",
       "      <td>0.076660</td>\n",
       "    </tr>\n",
       "    <tr>\n",
       "      <th>3</th>\n",
       "      <td>3</td>\n",
       "      <td>2/17/17</td>\n",
       "      <td>3/17/17</td>\n",
       "      <td>20.000000</td>\n",
       "      <td>ARR</td>\n",
       "      <td>Put</td>\n",
       "      <td>0.20</td>\n",
       "      <td>0.32783</td>\n",
       "      <td>21.709999</td>\n",
       "      <td>0.076660</td>\n",
       "    </tr>\n",
       "  </tbody>\n",
       "</table>\n",
       "</div>"
      ],
      "text/plain": [
       "   Unnamed: 0 currentDate  ExpDate  StrikePrice Ticker  Type  Last  \\\n",
       "0           0     2/17/17  7/21/17    34.799999   TBNK  Call  1.06   \n",
       "2           2     2/17/17  3/17/17    22.500000    ARR  Call  0.08   \n",
       "3           3     2/17/17  3/17/17    20.000000    ARR   Put  0.20   \n",
       "\n",
       "   Implied volatility  Underlaying asset price  Expiration time  \n",
       "0             0.13250                33.549999         0.421629  \n",
       "2             0.13956                21.709999         0.076660  \n",
       "3             0.32783                21.709999         0.076660  "
      ]
     },
     "execution_count": 13,
     "metadata": {},
     "output_type": "execute_result"
    }
   ],
   "source": [
    "df = df.drop(index=1)\n",
    "df.head(3)"
   ]
  },
  {
   "cell_type": "code",
   "execution_count": null,
   "id": "91c9a0d6",
   "metadata": {},
   "outputs": [],
   "source": []
  },
  {
   "cell_type": "code",
   "execution_count": null,
   "id": "c1a0bd78",
   "metadata": {},
   "outputs": [],
   "source": []
  }
 ],
 "metadata": {
  "kernelspec": {
   "display_name": "Python 3 (ipykernel)",
   "language": "python",
   "name": "python3"
  },
  "language_info": {
   "codemirror_mode": {
    "name": "ipython",
    "version": 3
   },
   "file_extension": ".py",
   "mimetype": "text/x-python",
   "name": "python",
   "nbconvert_exporter": "python",
   "pygments_lexer": "ipython3",
   "version": "3.9.7"
  }
 },
 "nbformat": 4,
 "nbformat_minor": 5
}
