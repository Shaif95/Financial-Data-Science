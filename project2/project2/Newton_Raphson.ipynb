{
 "cells": [
  {
   "cell_type": "code",
   "execution_count": 1,
   "id": "409170a6",
   "metadata": {},
   "outputs": [],
   "source": [
    "import numpy as np\n",
    "import matplotlib.pyplot as plt\n",
    "import pandas as pd\n",
    "from sklearn.decomposition import PCA\n",
    "from sklearn import svm\n",
    "import seaborn as sns\n",
    "from matplotlib.colors import ListedColormap\n",
    "from sklearn import neighbors\n",
    "import matplotlib.pyplot as plt\n",
    "from pandas.plotting import parallel_coordinates\n",
    "from sklearn.preprocessing import StandardScaler\n",
    "from sklearn import decomposition\n",
    "import scipy\n",
    "from sklearn.manifold import TSNE\n",
    "from pandas.plotting import parallel_coordinates\n",
    "from sklearn import decomposition\n",
    "import numpy as np\n",
    "import matplotlib.pyplot as plt\n",
    "import pandas as pd\n",
    "from sklearn.decomposition import PCA\n",
    "from sklearn import svm\n",
    "import seaborn as sns\n",
    "from matplotlib.colors import ListedColormap\n",
    "from sklearn import neighbors\n",
    "import matplotlib.pyplot as plt\n",
    "from pandas.plotting import parallel_coordinates\n",
    "from sklearn.preprocessing import StandardScaler\n",
    "from sklearn import decomposition\n",
    "import scipy\n",
    "from math import  pi, exp,log, sqrt\n",
    "from scipy.stats import norm\n",
    "from sklearn.manifold import TSNE\n",
    "import seaborn as sn\n",
    "from sklearn.datasets import make_friedman1\n",
    "from sklearn.decomposition import SparsePCA\n",
    "from dask import dataframe as dd"
   ]
  },
  {
   "cell_type": "code",
   "execution_count": 14,
   "id": "783174ab",
   "metadata": {},
   "outputs": [
    {
     "data": {
      "text/html": [
       "<div>\n",
       "<style scoped>\n",
       "    .dataframe tbody tr th:only-of-type {\n",
       "        vertical-align: middle;\n",
       "    }\n",
       "\n",
       "    .dataframe tbody tr th {\n",
       "        vertical-align: top;\n",
       "    }\n",
       "\n",
       "    .dataframe thead th {\n",
       "        text-align: right;\n",
       "    }\n",
       "</style>\n",
       "<table border=\"1\" class=\"dataframe\">\n",
       "  <thead>\n",
       "    <tr style=\"text-align: right;\">\n",
       "      <th></th>\n",
       "      <th>Unnamed: 0</th>\n",
       "      <th>currentDate</th>\n",
       "      <th>ExpDate</th>\n",
       "      <th>StrikePrice</th>\n",
       "      <th>Ticker</th>\n",
       "      <th>Type</th>\n",
       "      <th>Last</th>\n",
       "      <th>Implied volatility</th>\n",
       "      <th>Underlaying asset price</th>\n",
       "      <th>Expiration time</th>\n",
       "    </tr>\n",
       "  </thead>\n",
       "  <tbody>\n",
       "    <tr>\n",
       "      <th>0</th>\n",
       "      <td>0</td>\n",
       "      <td>2/17/17</td>\n",
       "      <td>7/21/17</td>\n",
       "      <td>34.799999</td>\n",
       "      <td>TBNK</td>\n",
       "      <td>Call</td>\n",
       "      <td>1.06</td>\n",
       "      <td>0.13250</td>\n",
       "      <td>33.549999</td>\n",
       "      <td>0.421629</td>\n",
       "    </tr>\n",
       "    <tr>\n",
       "      <th>1</th>\n",
       "      <td>2</td>\n",
       "      <td>2/17/17</td>\n",
       "      <td>3/17/17</td>\n",
       "      <td>22.500000</td>\n",
       "      <td>ARR</td>\n",
       "      <td>Call</td>\n",
       "      <td>0.08</td>\n",
       "      <td>0.13956</td>\n",
       "      <td>21.709999</td>\n",
       "      <td>0.076660</td>\n",
       "    </tr>\n",
       "    <tr>\n",
       "      <th>2</th>\n",
       "      <td>3</td>\n",
       "      <td>2/17/17</td>\n",
       "      <td>3/17/17</td>\n",
       "      <td>20.000000</td>\n",
       "      <td>ARR</td>\n",
       "      <td>Put</td>\n",
       "      <td>0.20</td>\n",
       "      <td>0.32783</td>\n",
       "      <td>21.709999</td>\n",
       "      <td>0.076660</td>\n",
       "    </tr>\n",
       "  </tbody>\n",
       "</table>\n",
       "</div>"
      ],
      "text/plain": [
       "   Unnamed: 0 currentDate  ExpDate  StrikePrice Ticker  Type  Last  \\\n",
       "0           0     2/17/17  7/21/17    34.799999   TBNK  Call  1.06   \n",
       "1           2     2/17/17  3/17/17    22.500000    ARR  Call  0.08   \n",
       "2           3     2/17/17  3/17/17    20.000000    ARR   Put  0.20   \n",
       "\n",
       "   Implied volatility  Underlaying asset price  Expiration time  \n",
       "0             0.13250                33.549999         0.421629  \n",
       "1             0.13956                21.709999         0.076660  \n",
       "2             0.32783                21.709999         0.076660  "
      ]
     },
     "execution_count": 14,
     "metadata": {},
     "output_type": "execute_result"
    }
   ],
   "source": [
    "OP_df = pd.read_csv('Option2017_2_clean.csv')\n",
    "OP_df = OP_df.dropna()\n",
    "OP_df.head(3)"
   ]
  },
  {
   "cell_type": "code",
   "execution_count": 3,
   "id": "92de454f",
   "metadata": {},
   "outputs": [
    {
     "data": {
      "text/plain": [
       "0.3108046637052172"
      ]
     },
     "execution_count": 3,
     "metadata": {},
     "output_type": "execute_result"
    }
   ],
   "source": [
    "avg = OP_df['Implied volatility'].mean()\n",
    "avg"
   ]
  },
  {
   "cell_type": "code",
   "execution_count": 4,
   "id": "26268467",
   "metadata": {},
   "outputs": [],
   "source": [
    "def d1(S,K,T,r,sigma):\n",
    "    \n",
    "    x = ( log (S/K) + ( ( r + ((sigma**2)/2) )* T  )  ) / ( sigma * ( sqrt ( T ) ) )\n",
    "    return x \n",
    "\n",
    "def d2(S,K,T,r,sigma):\n",
    "    \n",
    "    x = ( log (S/K) + ( ( r - ((sigma**2)/2) )* T  )  ) / ( sigma * ( sqrt ( T ) ) )\n",
    "    return x"
   ]
  },
  {
   "cell_type": "code",
   "execution_count": 5,
   "id": "eec2afd9",
   "metadata": {},
   "outputs": [],
   "source": [
    "def call(S,K,T,r,sigma):\n",
    "\n",
    "    return S  * norm.cdf( d1(S,K,T,r,sigma) ) - K * (exp(- (r*T) ) ) * norm.cdf( d2(S,K,T,r,sigma) )\n",
    "\n",
    "def put(S,K,T,r,sigma):\n",
    "\n",
    "    return   -norm.cdf(- d1(S,K,T,r,sigma)) * S + norm.cdf(-d2(S,K,T,r,sigma)) * K * np.exp(-r * T)"
   ]
  },
  {
   "cell_type": "code",
   "execution_count": 6,
   "id": "dade3e09",
   "metadata": {},
   "outputs": [],
   "source": [
    "\n",
    "def vega(S, K, T, r, sigma):\n",
    "\n",
    "    d11 = d1(S,K,T,r,sigma)\n",
    "\n",
    "    \n",
    "    vega = S  * np.sqrt(T) * norm.pdf(d11)\n",
    "    return vega"
   ]
  },
  {
   "cell_type": "code",
   "execution_count": 7,
   "id": "85c24806",
   "metadata": {},
   "outputs": [],
   "source": [
    "def newcall(C, S, K,r, T ):\n",
    "    tol=0.000000000001\n",
    "    max_iter=100\n",
    "    sigma = avg\n",
    "\n",
    "    for i in range(max_iter):\n",
    "        diff = call(S, K, T, r, sigma) - C\n",
    "\n",
    "        if abs(diff) < tol:\n",
    "            break\n",
    "\n",
    "        sigma = sigma - diff / vega(S, K, T, r, sigma)\n",
    "\n",
    "    return sigma,i"
   ]
  },
  {
   "cell_type": "code",
   "execution_count": 8,
   "id": "854150ee",
   "metadata": {},
   "outputs": [],
   "source": [
    "def newput(C, S, K,r, T ):\n",
    "    tol=0.000000000001\n",
    "    max_iter=100\n",
    "    sigma = avg\n",
    "\n",
    "    for i in range(max_iter):\n",
    "        diff = put(S, K, T, r, sigma) - C\n",
    "\n",
    "        if abs(diff) < tol:\n",
    "            break\n",
    "\n",
    "        sigma = sigma - diff / vega(S, K, T, r, sigma)\n",
    "\n",
    "    return sigma,i"
   ]
  },
  {
   "cell_type": "code",
   "execution_count": 9,
   "id": "5378534a",
   "metadata": {},
   "outputs": [
    {
     "name": "stdout",
     "output_type": "stream",
     "text": [
      "Implied Volatility 0.10570986506318918\n",
      "Iteration 3\n"
     ]
    }
   ],
   "source": [
    "m,it = (newcall( 0.30 , 21.709999 , 22.000000 , 0.03, 0.172485 )) \n",
    "print(\"Implied Volatility\",m)\n",
    "print(\"Iteration\",it)"
   ]
  },
  {
   "cell_type": "code",
   "execution_count": null,
   "id": "cc79832a",
   "metadata": {},
   "outputs": [],
   "source": []
  },
  {
   "cell_type": "code",
   "execution_count": 16,
   "id": "d69c6a5b",
   "metadata": {},
   "outputs": [
    {
     "data": {
      "text/plain": [
       "0.10570986506318956"
      ]
     },
     "execution_count": 16,
     "metadata": {},
     "output_type": "execute_result"
    }
   ],
   "source": [
    "m"
   ]
  },
  {
   "cell_type": "code",
   "execution_count": 15,
   "id": "9cb0c036",
   "metadata": {},
   "outputs": [
    {
     "data": {
      "text/html": [
       "<div>\n",
       "<style scoped>\n",
       "    .dataframe tbody tr th:only-of-type {\n",
       "        vertical-align: middle;\n",
       "    }\n",
       "\n",
       "    .dataframe tbody tr th {\n",
       "        vertical-align: top;\n",
       "    }\n",
       "\n",
       "    .dataframe thead th {\n",
       "        text-align: right;\n",
       "    }\n",
       "</style>\n",
       "<table border=\"1\" class=\"dataframe\">\n",
       "  <thead>\n",
       "    <tr style=\"text-align: right;\">\n",
       "      <th></th>\n",
       "      <th>Unnamed: 0</th>\n",
       "      <th>currentDate</th>\n",
       "      <th>ExpDate</th>\n",
       "      <th>StrikePrice</th>\n",
       "      <th>Ticker</th>\n",
       "      <th>Type</th>\n",
       "      <th>Last</th>\n",
       "      <th>Implied volatility</th>\n",
       "      <th>Underlaying asset price</th>\n",
       "      <th>Expiration time</th>\n",
       "    </tr>\n",
       "  </thead>\n",
       "  <tbody>\n",
       "    <tr>\n",
       "      <th>0</th>\n",
       "      <td>0</td>\n",
       "      <td>2/17/17</td>\n",
       "      <td>7/21/17</td>\n",
       "      <td>34.799999</td>\n",
       "      <td>TBNK</td>\n",
       "      <td>Call</td>\n",
       "      <td>1.06</td>\n",
       "      <td>0.13250</td>\n",
       "      <td>33.549999</td>\n",
       "      <td>0.421629</td>\n",
       "    </tr>\n",
       "    <tr>\n",
       "      <th>1</th>\n",
       "      <td>2</td>\n",
       "      <td>2/17/17</td>\n",
       "      <td>3/17/17</td>\n",
       "      <td>22.500000</td>\n",
       "      <td>ARR</td>\n",
       "      <td>Call</td>\n",
       "      <td>0.08</td>\n",
       "      <td>0.13956</td>\n",
       "      <td>21.709999</td>\n",
       "      <td>0.076660</td>\n",
       "    </tr>\n",
       "    <tr>\n",
       "      <th>2</th>\n",
       "      <td>3</td>\n",
       "      <td>2/17/17</td>\n",
       "      <td>3/17/17</td>\n",
       "      <td>20.000000</td>\n",
       "      <td>ARR</td>\n",
       "      <td>Put</td>\n",
       "      <td>0.20</td>\n",
       "      <td>0.32783</td>\n",
       "      <td>21.709999</td>\n",
       "      <td>0.076660</td>\n",
       "    </tr>\n",
       "  </tbody>\n",
       "</table>\n",
       "</div>"
      ],
      "text/plain": [
       "   Unnamed: 0 currentDate  ExpDate  StrikePrice Ticker  Type  Last  \\\n",
       "0           0     2/17/17  7/21/17    34.799999   TBNK  Call  1.06   \n",
       "1           2     2/17/17  3/17/17    22.500000    ARR  Call  0.08   \n",
       "2           3     2/17/17  3/17/17    20.000000    ARR   Put  0.20   \n",
       "\n",
       "   Implied volatility  Underlaying asset price  Expiration time  \n",
       "0             0.13250                33.549999         0.421629  \n",
       "1             0.13956                21.709999         0.076660  \n",
       "2             0.32783                21.709999         0.076660  "
      ]
     },
     "execution_count": 15,
     "metadata": {},
     "output_type": "execute_result"
    }
   ],
   "source": [
    "S = np.array( OP_df[\"Underlaying asset price\"]).astype(\"float\")\n",
    "K = np.array( OP_df[\"StrikePrice\"]).astype(\"float\")\n",
    "r = .03\n",
    "T = np.array( OP_df[\"Expiration time\"]).astype(\"float\")\n",
    "Op = np.array( OP_df[\"Last\"]).astype(\"float\")\n",
    "Type = np.array( OP_df[\"Type\"]).astype(\"str\")\n",
    "OP_df.head(3)"
   ]
  },
  {
   "cell_type": "code",
   "execution_count": 16,
   "id": "73de242c",
   "metadata": {},
   "outputs": [
    {
     "name": "stderr",
     "output_type": "stream",
     "text": [
      "C:\\Users\\chsha\\AppData\\Local\\Temp/ipykernel_10296/3091123660.py:12: RuntimeWarning: divide by zero encountered in double_scalars\n",
      "  sigma = sigma - diff / vega(S, K, T, r, sigma)\n",
      "C:\\Users\\chsha\\AppData\\Local\\Temp/ipykernel_10296/3075303720.py:3: RuntimeWarning: invalid value encountered in double_scalars\n",
      "  x = ( log (S/K) + ( ( r + ((sigma**2)/2) )* T  )  ) / ( sigma * ( sqrt ( T ) ) )\n",
      "C:\\Users\\chsha\\AppData\\Local\\Temp/ipykernel_10296/3075303720.py:8: RuntimeWarning: invalid value encountered in double_scalars\n",
      "  x = ( log (S/K) + ( ( r - ((sigma**2)/2) )* T  )  ) / ( sigma * ( sqrt ( T ) ) )\n"
     ]
    }
   ],
   "source": [
    "imp = []\n",
    "iter = []\n",
    "for i in range( 0, len(OP_df) ):\n",
    "    if(Type[i] == \"Call\"):\n",
    "        try:\n",
    "            \n",
    "            m,it = (newcall( Op[i] , S[i] , K[i] , r , T[i] )) \n",
    "            imp.append(m)\n",
    "            iter.append(it)\n",
    "        except:\n",
    "            imp.append(.31)\n",
    "            iter.append(100)\n",
    "    else:\n",
    "        try:\n",
    "            \n",
    "            m,it = (newput( Op[i] , S[i] , K[i] , r , T[i] )) \n",
    "            imp.append(m)\n",
    "            iter.append(it)\n",
    "        except:\n",
    "            imp.append(.31)\n",
    "            iter.append(100)"
   ]
  },
  {
   "cell_type": "code",
   "execution_count": 17,
   "id": "662b4806",
   "metadata": {},
   "outputs": [
    {
     "data": {
      "text/html": [
       "<div>\n",
       "<style scoped>\n",
       "    .dataframe tbody tr th:only-of-type {\n",
       "        vertical-align: middle;\n",
       "    }\n",
       "\n",
       "    .dataframe tbody tr th {\n",
       "        vertical-align: top;\n",
       "    }\n",
       "\n",
       "    .dataframe thead th {\n",
       "        text-align: right;\n",
       "    }\n",
       "</style>\n",
       "<table border=\"1\" class=\"dataframe\">\n",
       "  <thead>\n",
       "    <tr style=\"text-align: right;\">\n",
       "      <th></th>\n",
       "      <th>Unnamed: 0</th>\n",
       "      <th>currentDate</th>\n",
       "      <th>ExpDate</th>\n",
       "      <th>StrikePrice</th>\n",
       "      <th>Ticker</th>\n",
       "      <th>Type</th>\n",
       "      <th>Last</th>\n",
       "      <th>Implied volatility</th>\n",
       "      <th>Underlaying asset price</th>\n",
       "      <th>Expiration time</th>\n",
       "      <th>imp</th>\n",
       "      <th>iter</th>\n",
       "    </tr>\n",
       "  </thead>\n",
       "  <tbody>\n",
       "    <tr>\n",
       "      <th>0</th>\n",
       "      <td>0</td>\n",
       "      <td>2/17/17</td>\n",
       "      <td>7/21/17</td>\n",
       "      <td>34.799999</td>\n",
       "      <td>TBNK</td>\n",
       "      <td>Call</td>\n",
       "      <td>1.06</td>\n",
       "      <td>0.13250</td>\n",
       "      <td>33.549999</td>\n",
       "      <td>0.421629</td>\n",
       "      <td>0.162619</td>\n",
       "      <td>3</td>\n",
       "    </tr>\n",
       "    <tr>\n",
       "      <th>1</th>\n",
       "      <td>2</td>\n",
       "      <td>2/17/17</td>\n",
       "      <td>3/17/17</td>\n",
       "      <td>22.500000</td>\n",
       "      <td>ARR</td>\n",
       "      <td>Call</td>\n",
       "      <td>0.08</td>\n",
       "      <td>0.13956</td>\n",
       "      <td>21.709999</td>\n",
       "      <td>0.076660</td>\n",
       "      <td>0.132739</td>\n",
       "      <td>5</td>\n",
       "    </tr>\n",
       "    <tr>\n",
       "      <th>2</th>\n",
       "      <td>3</td>\n",
       "      <td>2/17/17</td>\n",
       "      <td>3/17/17</td>\n",
       "      <td>20.000000</td>\n",
       "      <td>ARR</td>\n",
       "      <td>Put</td>\n",
       "      <td>0.20</td>\n",
       "      <td>0.32783</td>\n",
       "      <td>21.709999</td>\n",
       "      <td>0.076660</td>\n",
       "      <td>0.341223</td>\n",
       "      <td>4</td>\n",
       "    </tr>\n",
       "  </tbody>\n",
       "</table>\n",
       "</div>"
      ],
      "text/plain": [
       "   Unnamed: 0 currentDate  ExpDate  StrikePrice Ticker  Type  Last  \\\n",
       "0           0     2/17/17  7/21/17    34.799999   TBNK  Call  1.06   \n",
       "1           2     2/17/17  3/17/17    22.500000    ARR  Call  0.08   \n",
       "2           3     2/17/17  3/17/17    20.000000    ARR   Put  0.20   \n",
       "\n",
       "   Implied volatility  Underlaying asset price  Expiration time       imp  \\\n",
       "0             0.13250                33.549999         0.421629  0.162619   \n",
       "1             0.13956                21.709999         0.076660  0.132739   \n",
       "2             0.32783                21.709999         0.076660  0.341223   \n",
       "\n",
       "   iter  \n",
       "0     3  \n",
       "1     5  \n",
       "2     4  "
      ]
     },
     "execution_count": 17,
     "metadata": {},
     "output_type": "execute_result"
    }
   ],
   "source": [
    "OP_df['imp'] = pd.Series(imp)\n",
    "OP_df['iter'] = pd.Series(iter)\n",
    "OP_df.head(3)"
   ]
  },
  {
   "cell_type": "code",
   "execution_count": 18,
   "id": "82362dc1",
   "metadata": {},
   "outputs": [],
   "source": [
    "OP_df[\"diff\"] = OP_df['Implied volatility'] - OP_df['imp']\n",
    "OP_df['mse'] = OP_df['diff']**2\n",
    "mse = OP_df['mse'].sum()/len(OP_df)\n",
    "iteration = OP_df['iter'].sum()/len(OP_df)"
   ]
  },
  {
   "cell_type": "code",
   "execution_count": 28,
   "id": "7b6e35f6",
   "metadata": {},
   "outputs": [
    {
     "data": {
      "text/plain": [
       "0.05391298081554419"
      ]
     },
     "execution_count": 28,
     "metadata": {},
     "output_type": "execute_result"
    }
   ],
   "source": [
    "mse"
   ]
  },
  {
   "cell_type": "code",
   "execution_count": 29,
   "id": "75c106de",
   "metadata": {},
   "outputs": [
    {
     "data": {
      "text/plain": [
       "7.363686635944701"
      ]
     },
     "execution_count": 29,
     "metadata": {},
     "output_type": "execute_result"
    }
   ],
   "source": [
    "iteration"
   ]
  },
  {
   "cell_type": "code",
   "execution_count": 19,
   "id": "0b3e4650",
   "metadata": {},
   "outputs": [
    {
     "name": "stdout",
     "output_type": "stream",
     "text": [
      "MSE : 0.02987726961515716\n",
      "Average Iteration :  3.6429493087557603\n",
      "Average Efficiency 0.6324223254648356\n"
     ]
    }
   ],
   "source": [
    "n = 1 / ( ( 1 + mse ) * log( 1 + iteration ) )\n",
    "n\n",
    "n = 1 / ( ( 1 + mse ) * log( 1 + iteration ) )\n",
    "print(\"MSE :\",mse)\n",
    "print(\"Average Iteration : \",iteration)\n",
    "print(\"Average Efficiency\",n)"
   ]
  },
  {
   "cell_type": "code",
   "execution_count": 20,
   "id": "acc1ba6b",
   "metadata": {},
   "outputs": [],
   "source": [
    "list = []\n",
    "list.append(mse)\n",
    "list.append(iteration)\n",
    "list.append(n)\n"
   ]
  },
  {
   "cell_type": "code",
   "execution_count": 21,
   "id": "fb98e2d9",
   "metadata": {},
   "outputs": [],
   "source": [
    "df = pd.read_csv('result.csv')"
   ]
  },
  {
   "cell_type": "code",
   "execution_count": 22,
   "id": "69924f66",
   "metadata": {},
   "outputs": [
    {
     "data": {
      "text/html": [
       "<div>\n",
       "<style scoped>\n",
       "    .dataframe tbody tr th:only-of-type {\n",
       "        vertical-align: middle;\n",
       "    }\n",
       "\n",
       "    .dataframe tbody tr th {\n",
       "        vertical-align: top;\n",
       "    }\n",
       "\n",
       "    .dataframe thead th {\n",
       "        text-align: right;\n",
       "    }\n",
       "</style>\n",
       "<table border=\"1\" class=\"dataframe\">\n",
       "  <thead>\n",
       "    <tr style=\"text-align: right;\">\n",
       "      <th></th>\n",
       "      <th>bisection</th>\n",
       "      <th>Brent</th>\n",
       "      <th>Newton-Raphson</th>\n",
       "      <th>New-Newton</th>\n",
       "      <th>Muller-Bisection</th>\n",
       "      <th>New-Halley</th>\n",
       "      <th>Halley-Irrational</th>\n",
       "    </tr>\n",
       "  </thead>\n",
       "  <tbody>\n",
       "    <tr>\n",
       "      <th>0</th>\n",
       "      <td>0.031976</td>\n",
       "      <td>0.032722</td>\n",
       "      <td>0.029877</td>\n",
       "      <td>0.029913</td>\n",
       "      <td>0.030416</td>\n",
       "      <td>0.025485</td>\n",
       "      <td>0.039493</td>\n",
       "    </tr>\n",
       "    <tr>\n",
       "      <th>1</th>\n",
       "      <td>41.053819</td>\n",
       "      <td>16.120337</td>\n",
       "      <td>3.642949</td>\n",
       "      <td>9.617389</td>\n",
       "      <td>26.130753</td>\n",
       "      <td>6.207127</td>\n",
       "      <td>4.181198</td>\n",
       "    </tr>\n",
       "    <tr>\n",
       "      <th>2</th>\n",
       "      <td>0.259168</td>\n",
       "      <td>0.340924</td>\n",
       "      <td>0.632422</td>\n",
       "      <td>0.410988</td>\n",
       "      <td>0.294026</td>\n",
       "      <td>0.493729</td>\n",
       "      <td>0.584794</td>\n",
       "    </tr>\n",
       "  </tbody>\n",
       "</table>\n",
       "</div>"
      ],
      "text/plain": [
       "   bisection      Brent  Newton-Raphson  New-Newton  Muller-Bisection  \\\n",
       "0   0.031976   0.032722        0.029877    0.029913          0.030416   \n",
       "1  41.053819  16.120337        3.642949    9.617389         26.130753   \n",
       "2   0.259168   0.340924        0.632422    0.410988          0.294026   \n",
       "\n",
       "   New-Halley  Halley-Irrational  \n",
       "0    0.025485           0.039493  \n",
       "1    6.207127           4.181198  \n",
       "2    0.493729           0.584794  "
      ]
     },
     "execution_count": 22,
     "metadata": {},
     "output_type": "execute_result"
    }
   ],
   "source": [
    "df[\"Newton-Raphson\"] = list\n",
    "df.head(3)"
   ]
  },
  {
   "cell_type": "code",
   "execution_count": 23,
   "id": "5716ccec",
   "metadata": {},
   "outputs": [],
   "source": [
    "df.to_csv('result.csv', index=False)"
   ]
  },
  {
   "cell_type": "code",
   "execution_count": null,
   "id": "90f14496",
   "metadata": {},
   "outputs": [],
   "source": []
  },
  {
   "cell_type": "code",
   "execution_count": null,
   "id": "8f3c53a4",
   "metadata": {},
   "outputs": [],
   "source": []
  },
  {
   "cell_type": "code",
   "execution_count": null,
   "id": "3bdc2aa6",
   "metadata": {},
   "outputs": [],
   "source": []
  }
 ],
 "metadata": {
  "kernelspec": {
   "display_name": "Python 3 (ipykernel)",
   "language": "python",
   "name": "python3"
  },
  "language_info": {
   "codemirror_mode": {
    "name": "ipython",
    "version": 3
   },
   "file_extension": ".py",
   "mimetype": "text/x-python",
   "name": "python",
   "nbconvert_exporter": "python",
   "pygments_lexer": "ipython3",
   "version": "3.9.7"
  }
 },
 "nbformat": 4,
 "nbformat_minor": 5
}
