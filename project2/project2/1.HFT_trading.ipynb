{
 "cells": [
  {
   "cell_type": "code",
   "execution_count": 147,
   "id": "e165c7f6",
   "metadata": {},
   "outputs": [],
   "source": [
    "import numpy as np\n",
    "import matplotlib.pyplot as plt\n",
    "import pandas as pd\n",
    "from sklearn.decomposition import PCA\n",
    "from sklearn import svm\n",
    "import seaborn as sns\n",
    "from matplotlib.colors import ListedColormap\n",
    "from sklearn import neighbors\n",
    "import matplotlib.pyplot as plt\n",
    "from pandas.plotting import parallel_coordinates\n",
    "from sklearn.preprocessing import StandardScaler\n",
    "from sklearn import decomposition\n",
    "import scipy\n",
    "from sklearn.manifold import TSNE\n",
    "from pandas.plotting import parallel_coordinates\n",
    "from sklearn import decomposition\n",
    "import numpy as np\n",
    "import matplotlib.pyplot as plt\n",
    "import pandas as pd\n",
    "from sklearn.decomposition import PCA\n",
    "from sklearn import svm\n",
    "import seaborn as sns\n",
    "from matplotlib.colors import ListedColormap\n",
    "from sklearn import neighbors\n",
    "import matplotlib.pyplot as plt\n",
    "from pandas.plotting import parallel_coordinates\n",
    "from sklearn.preprocessing import StandardScaler\n",
    "from sklearn import decomposition\n",
    "import scipy\n",
    "from math import  pi, exp,log, sqrt\n",
    "from scipy.stats import norm\n",
    "from sklearn.manifold import TSNE\n",
    "import seaborn as sn\n",
    "from sklearn.datasets import make_friedman1\n",
    "from sklearn.decomposition import SparsePCA\n",
    "from dask import dataframe as dd\n",
    "from numpy import abs\n",
    "from math import fabs"
   ]
  },
  {
   "cell_type": "code",
   "execution_count": 177,
   "id": "7b2db8ce",
   "metadata": {},
   "outputs": [
    {
     "data": {
      "text/html": [
       "<div>\n",
       "<style scoped>\n",
       "    .dataframe tbody tr th:only-of-type {\n",
       "        vertical-align: middle;\n",
       "    }\n",
       "\n",
       "    .dataframe tbody tr th {\n",
       "        vertical-align: top;\n",
       "    }\n",
       "\n",
       "    .dataframe thead th {\n",
       "        text-align: right;\n",
       "    }\n",
       "</style>\n",
       "<table border=\"1\" class=\"dataframe\">\n",
       "  <thead>\n",
       "    <tr style=\"text-align: right;\">\n",
       "      <th></th>\n",
       "      <th>Unnamed: 0</th>\n",
       "      <th>Date</th>\n",
       "      <th>marketAverage</th>\n",
       "      <th>marketChangeOverTime</th>\n",
       "      <th>marketClose</th>\n",
       "      <th>marketHigh</th>\n",
       "      <th>marketLow</th>\n",
       "      <th>marketNotional</th>\n",
       "      <th>marketNumberOfTrades</th>\n",
       "      <th>marketOpen</th>\n",
       "      <th>marketVolume</th>\n",
       "    </tr>\n",
       "  </thead>\n",
       "  <tbody>\n",
       "    <tr>\n",
       "      <th>0</th>\n",
       "      <td>0</td>\n",
       "      <td>2/1/2019 9:30</td>\n",
       "      <td>103.868</td>\n",
       "      <td>0.000000</td>\n",
       "      <td>103.87</td>\n",
       "      <td>103.98</td>\n",
       "      <td>103.50</td>\n",
       "      <td>1.235296e+08</td>\n",
       "      <td>2322</td>\n",
       "      <td>103.900</td>\n",
       "      <td>1189287</td>\n",
       "    </tr>\n",
       "    <tr>\n",
       "      <th>1</th>\n",
       "      <td>1</td>\n",
       "      <td>2/1/2019 9:31</td>\n",
       "      <td>103.873</td>\n",
       "      <td>0.000048</td>\n",
       "      <td>103.83</td>\n",
       "      <td>103.95</td>\n",
       "      <td>103.77</td>\n",
       "      <td>1.152119e+07</td>\n",
       "      <td>937</td>\n",
       "      <td>103.859</td>\n",
       "      <td>110916</td>\n",
       "    </tr>\n",
       "    <tr>\n",
       "      <th>2</th>\n",
       "      <td>2</td>\n",
       "      <td>2/1/2019 9:32</td>\n",
       "      <td>103.720</td>\n",
       "      <td>-0.001425</td>\n",
       "      <td>103.70</td>\n",
       "      <td>103.82</td>\n",
       "      <td>103.59</td>\n",
       "      <td>1.372207e+07</td>\n",
       "      <td>934</td>\n",
       "      <td>103.820</td>\n",
       "      <td>132299</td>\n",
       "    </tr>\n",
       "  </tbody>\n",
       "</table>\n",
       "</div>"
      ],
      "text/plain": [
       "   Unnamed: 0           Date  marketAverage  marketChangeOverTime  \\\n",
       "0           0  2/1/2019 9:30        103.868              0.000000   \n",
       "1           1  2/1/2019 9:31        103.873              0.000048   \n",
       "2           2  2/1/2019 9:32        103.720             -0.001425   \n",
       "\n",
       "   marketClose  marketHigh  marketLow  marketNotional  marketNumberOfTrades  \\\n",
       "0       103.87      103.98     103.50    1.235296e+08                  2322   \n",
       "1       103.83      103.95     103.77    1.152119e+07                   937   \n",
       "2       103.70      103.82     103.59    1.372207e+07                   934   \n",
       "\n",
       "   marketOpen  marketVolume  \n",
       "0     103.900       1189287  \n",
       "1     103.859        110916  \n",
       "2     103.820        132299  "
      ]
     },
     "execution_count": 177,
     "metadata": {},
     "output_type": "execute_result"
    }
   ],
   "source": [
    "tll = \"MSFT\"\n",
    "path = 'dataset/MSFT_n.csv'\n",
    "df = pd.read_csv(path)\n",
    "df.head(3)"
   ]
  },
  {
   "cell_type": "code",
   "execution_count": 178,
   "id": "fec402bd",
   "metadata": {},
   "outputs": [],
   "source": [
    "def read():\n",
    "    df = pd.read_csv(path)\n",
    "    df[\"return\"] =  df[\"marketClose\"] - df[\"marketOpen\"] \n",
    "    return df"
   ]
  },
  {
   "cell_type": "code",
   "execution_count": 179,
   "id": "f33eb493",
   "metadata": {},
   "outputs": [
    {
     "data": {
      "text/html": [
       "<div>\n",
       "<style scoped>\n",
       "    .dataframe tbody tr th:only-of-type {\n",
       "        vertical-align: middle;\n",
       "    }\n",
       "\n",
       "    .dataframe tbody tr th {\n",
       "        vertical-align: top;\n",
       "    }\n",
       "\n",
       "    .dataframe thead th {\n",
       "        text-align: right;\n",
       "    }\n",
       "</style>\n",
       "<table border=\"1\" class=\"dataframe\">\n",
       "  <thead>\n",
       "    <tr style=\"text-align: right;\">\n",
       "      <th></th>\n",
       "      <th>Unnamed: 0</th>\n",
       "      <th>Date</th>\n",
       "      <th>marketAverage</th>\n",
       "      <th>marketChangeOverTime</th>\n",
       "      <th>marketClose</th>\n",
       "      <th>marketHigh</th>\n",
       "      <th>marketLow</th>\n",
       "      <th>marketNotional</th>\n",
       "      <th>marketNumberOfTrades</th>\n",
       "      <th>marketOpen</th>\n",
       "      <th>marketVolume</th>\n",
       "      <th>return</th>\n",
       "    </tr>\n",
       "  </thead>\n",
       "  <tbody>\n",
       "    <tr>\n",
       "      <th>5847</th>\n",
       "      <td>5847</td>\n",
       "      <td>2/22/2019 15:57</td>\n",
       "      <td>110.872</td>\n",
       "      <td>0.008147</td>\n",
       "      <td>110.880</td>\n",
       "      <td>110.91</td>\n",
       "      <td>110.765</td>\n",
       "      <td>17116314.42</td>\n",
       "      <td>1244</td>\n",
       "      <td>110.870</td>\n",
       "      <td>154379</td>\n",
       "      <td>0.010</td>\n",
       "    </tr>\n",
       "    <tr>\n",
       "      <th>5848</th>\n",
       "      <td>5848</td>\n",
       "      <td>2/22/2019 15:58</td>\n",
       "      <td>110.935</td>\n",
       "      <td>0.008720</td>\n",
       "      <td>110.975</td>\n",
       "      <td>110.99</td>\n",
       "      <td>110.799</td>\n",
       "      <td>38332001.33</td>\n",
       "      <td>2300</td>\n",
       "      <td>110.875</td>\n",
       "      <td>345535</td>\n",
       "      <td>0.100</td>\n",
       "    </tr>\n",
       "    <tr>\n",
       "      <th>5849</th>\n",
       "      <td>5849</td>\n",
       "      <td>2/22/2019 15:59</td>\n",
       "      <td>110.931</td>\n",
       "      <td>0.008684</td>\n",
       "      <td>110.965</td>\n",
       "      <td>111.00</td>\n",
       "      <td>110.860</td>\n",
       "      <td>69797788.11</td>\n",
       "      <td>3729</td>\n",
       "      <td>110.980</td>\n",
       "      <td>629197</td>\n",
       "      <td>-0.015</td>\n",
       "    </tr>\n",
       "  </tbody>\n",
       "</table>\n",
       "</div>"
      ],
      "text/plain": [
       "      Unnamed: 0             Date  marketAverage  marketChangeOverTime  \\\n",
       "5847        5847  2/22/2019 15:57        110.872              0.008147   \n",
       "5848        5848  2/22/2019 15:58        110.935              0.008720   \n",
       "5849        5849  2/22/2019 15:59        110.931              0.008684   \n",
       "\n",
       "      marketClose  marketHigh  marketLow  marketNotional  \\\n",
       "5847      110.880      110.91    110.765     17116314.42   \n",
       "5848      110.975      110.99    110.799     38332001.33   \n",
       "5849      110.965      111.00    110.860     69797788.11   \n",
       "\n",
       "      marketNumberOfTrades  marketOpen  marketVolume  return  \n",
       "5847                  1244     110.870        154379   0.010  \n",
       "5848                  2300     110.875        345535   0.100  \n",
       "5849                  3729     110.980        629197  -0.015  "
      ]
     },
     "execution_count": 179,
     "metadata": {},
     "output_type": "execute_result"
    }
   ],
   "source": [
    "df[\"return\"] =  df[\"marketClose\"] - df[\"marketOpen\"] \n",
    "df[-3:].head(3)"
   ]
  },
  {
   "cell_type": "code",
   "execution_count": 63,
   "id": "143043c1",
   "metadata": {},
   "outputs": [
    {
     "data": {
      "text/plain": [
       "array([<AxesSubplot:>, <AxesSubplot:>], dtype=object)"
      ]
     },
     "execution_count": 63,
     "metadata": {},
     "output_type": "execute_result"
    },
    {
     "data": {
      "image/png": "[encoded data removed]",
      "text/plain": [
       "<Figure size 576x432 with 2 Axes>"
      ]
     },
     "metadata": {
      "needs_background": "light"
     },
     "output_type": "display_data"
    }
   ],
   "source": [
    "df[['marketClose','return']].plot(subplots = True,color = 'blue',figsize=(8,6))"
   ]
  },
  {
   "cell_type": "code",
   "execution_count": null,
   "id": "027c2483",
   "metadata": {},
   "outputs": [],
   "source": []
  },
  {
   "cell_type": "code",
   "execution_count": 85,
   "id": "ff58b8b0",
   "metadata": {},
   "outputs": [],
   "source": [
    "def cal(data,k,p,t):\n",
    "    \n",
    "    df = data\n",
    "    df['temp'] = 0\n",
    "    df['tempsum'] = 0\n",
    "    df['sum'] = 0\n",
    "    df['action'] = 'hold'\n",
    "    \n",
    "    for i in range(1, k + 1):\n",
    "        \n",
    "        df['temp'] = (df['marketAverage'].shift(-i) - df['marketClose']) / df['marketClose']\n",
    "    \n",
    "    df['tempsum'].loc[(abs (df['temp']) > p)] = abs(df['temp'])\n",
    "    \n",
    "    df['sum'] = df.tempsum.rolling(window=k).sum()\n",
    "    \n",
    "    df['action'].loc[(df['temp'] >= t)] = 'buy'\n",
    "    df['action'].loc[(df['temp'] <= -t)] = 'sell'\n",
    "    \n",
    "    return df"
   ]
  },
  {
   "cell_type": "code",
   "execution_count": 180,
   "id": "19409b3a",
   "metadata": {},
   "outputs": [
    {
     "name": "stderr",
     "output_type": "stream",
     "text": [
      "C:\\Users\\chsha\\anaconda3\\lib\\site-packages\\pandas\\core\\indexing.py:1732: SettingWithCopyWarning: \n",
      "A value is trying to be set on a copy of a slice from a DataFrame\n",
      "\n",
      "See the caveats in the documentation: https://pandas.pydata.org/pandas-docs/stable/user_guide/indexing.html#returning-a-view-versus-a-copy\n",
      "  self._setitem_single_block(indexer, value, name)\n"
     ]
    },
    {
     "data": {
      "image/png": "[encoded data removed]",
      "text/plain": [
       "<Figure size 1440x432 with 1 Axes>"
      ]
     },
     "metadata": {
      "needs_background": "light"
     },
     "output_type": "display_data"
    }
   ],
   "source": [
    "\n",
    "def get_markers1(data, t):\n",
    "    \n",
    "    val = data['marketClose']\n",
    "    v = data['return']\n",
    "    th = []\n",
    "    marker = []\n",
    "    df = data\n",
    "    for i in range(len(data)):\n",
    "        if(i == 0):\n",
    "            th.append(0)\n",
    "        else:\n",
    "            x = v[i] - v[i-1]\n",
    "            th.append(x)\n",
    "    \n",
    "    data['Value'] = th\n",
    "    \n",
    "    df = data[data['action'] == 'buy']\n",
    "    df = df.marketClose\n",
    "    \n",
    "    df1 = data[data['action'] == 'sell']\n",
    "    df1 = df1.marketClose\n",
    "    \n",
    "    x = pd.DataFrame({tll: val})\n",
    "    plt.figure(figsize=(20, 6))\n",
    "    plt.plot(x)\n",
    "    plt.scatter(df.index, df, marker = 'o', c = 'k' , s = 60, zorder=2)\n",
    "    plt.scatter(df1.index, df1, marker = 'x', c = 'y' , s = 60, zorder=2)\n",
    "    plt.title(tll)\n",
    "    plt.legend([\"hold\", \"buy\", \"sell\"])\n",
    "    plt.show()\n",
    "       \n",
    "    return data ,df\n",
    "\n",
    "df = read()\n",
    "\n",
    "data = df\n",
    "\n",
    "calc = cal(data,10,.01,.01)\n",
    "\n",
    "dadasta, mksdff = get_markers1(calc, .5)   \n",
    "#data.head(2)"
   ]
  },
  {
   "cell_type": "code",
   "execution_count": 89,
   "id": "ac233cdd",
   "metadata": {},
   "outputs": [
    {
     "data": {
      "text/html": [
       "<div>\n",
       "<style scoped>\n",
       "    .dataframe tbody tr th:only-of-type {\n",
       "        vertical-align: middle;\n",
       "    }\n",
       "\n",
       "    .dataframe tbody tr th {\n",
       "        vertical-align: top;\n",
       "    }\n",
       "\n",
       "    .dataframe thead th {\n",
       "        text-align: right;\n",
       "    }\n",
       "</style>\n",
       "<table border=\"1\" class=\"dataframe\">\n",
       "  <thead>\n",
       "    <tr style=\"text-align: right;\">\n",
       "      <th></th>\n",
       "      <th>Unnamed: 0</th>\n",
       "      <th>Date</th>\n",
       "      <th>marketAverage</th>\n",
       "      <th>marketChangeOverTime</th>\n",
       "      <th>marketClose</th>\n",
       "      <th>marketHigh</th>\n",
       "      <th>marketLow</th>\n",
       "      <th>marketNotional</th>\n",
       "      <th>marketNumberOfTrades</th>\n",
       "      <th>marketOpen</th>\n",
       "      <th>marketVolume</th>\n",
       "      <th>return</th>\n",
       "      <th>temp</th>\n",
       "      <th>tempsum</th>\n",
       "      <th>sum</th>\n",
       "      <th>action</th>\n",
       "    </tr>\n",
       "  </thead>\n",
       "  <tbody>\n",
       "    <tr>\n",
       "      <th>10</th>\n",
       "      <td>10</td>\n",
       "      <td>2/1/2019 9:40</td>\n",
       "      <td>1658.925</td>\n",
       "      <td>0.013489</td>\n",
       "      <td>1659.345</td>\n",
       "      <td>1660.459</td>\n",
       "      <td>1656.42</td>\n",
       "      <td>191726982.1</td>\n",
       "      <td>2848</td>\n",
       "      <td>1657.891</td>\n",
       "      <td>115573</td>\n",
       "      <td>1.454</td>\n",
       "      <td>-0.001392</td>\n",
       "      <td>0.0</td>\n",
       "      <td>0.100907</td>\n",
       "      <td>hold</td>\n",
       "    </tr>\n",
       "    <tr>\n",
       "      <th>11</th>\n",
       "      <td>11</td>\n",
       "      <td>2/1/2019 9:41</td>\n",
       "      <td>1662.043</td>\n",
       "      <td>0.015394</td>\n",
       "      <td>1662.950</td>\n",
       "      <td>1664.170</td>\n",
       "      <td>1658.00</td>\n",
       "      <td>154864203.3</td>\n",
       "      <td>2424</td>\n",
       "      <td>1658.897</td>\n",
       "      <td>93177</td>\n",
       "      <td>4.053</td>\n",
       "      <td>-0.003938</td>\n",
       "      <td>0.0</td>\n",
       "      <td>0.082436</td>\n",
       "      <td>hold</td>\n",
       "    </tr>\n",
       "  </tbody>\n",
       "</table>\n",
       "</div>"
      ],
      "text/plain": [
       "    Unnamed: 0           Date  marketAverage  marketChangeOverTime  \\\n",
       "10          10  2/1/2019 9:40       1658.925              0.013489   \n",
       "11          11  2/1/2019 9:41       1662.043              0.015394   \n",
       "\n",
       "    marketClose  marketHigh  marketLow  marketNotional  marketNumberOfTrades  \\\n",
       "10     1659.345    1660.459    1656.42     191726982.1                  2848   \n",
       "11     1662.950    1664.170    1658.00     154864203.3                  2424   \n",
       "\n",
       "    marketOpen  marketVolume  return      temp  tempsum       sum action  \n",
       "10    1657.891        115573   1.454 -0.001392      0.0  0.100907   hold  \n",
       "11    1658.897         93177   4.053 -0.003938      0.0  0.082436   hold  "
      ]
     },
     "execution_count": 89,
     "metadata": {},
     "output_type": "execute_result"
    }
   ],
   "source": [
    "df = read()\n",
    "\n",
    "data = df\n",
    "\n",
    "calc = cal(data,10,.01,.01)\n",
    "\n",
    "calc[10:].head(2)"
   ]
  },
  {
   "cell_type": "code",
   "execution_count": 90,
   "id": "02782f16",
   "metadata": {},
   "outputs": [],
   "source": [
    "def traindata():\n",
    "    data = read()\n",
    "    calc = cal(data,10,.002,.002)\n",
    "    calc.dropna()\n",
    "    return calc\n",
    "    \n"
   ]
  },
  {
   "cell_type": "code",
   "execution_count": 181,
   "id": "725562de",
   "metadata": {},
   "outputs": [],
   "source": [
    "from sklearn.model_selection import train_test_split\n",
    "from sklearn.preprocessing import LabelEncoder\n",
    "    \n",
    "calc = traindata()\n",
    "\n",
    "le = LabelEncoder()\n",
    "le.fit(calc['action'])\n",
    "list(le.classes_)\n",
    "label = le.transform(calc['action'])\n",
    "df1 = calc\n",
    "df1 = df1.drop(['Date','action','temp','tempsum','sum'], axis = 1)\n",
    "X_train, X_test, Y_train, Y_test = train_test_split(df1, label, test_size=0.20, random_state=42)\n",
    "x_train = StandardScaler().fit_transform(X_train)\n",
    "x_test  = StandardScaler().fit_transform(X_test)"
   ]
  },
  {
   "cell_type": "code",
   "execution_count": 182,
   "id": "a65a0ce0",
   "metadata": {},
   "outputs": [],
   "source": [
    "def returncal(X_test,pred):\n",
    "    X_test[\"action\"] = pred\n",
    "    calc = X_test\n",
    "    buy = calc.loc[calc.action == 1, 'marketAverage'].sum()\n",
    "    sell = calc.loc[calc.action == 2, 'marketAverage'].sum() \n",
    "\n",
    "    total = calc.loc[calc.action == 1].count().mean() - calc.loc[calc.action == 2].count().mean()\n",
    "\n",
    "    price = (buy-sell)/total / 10\n",
    "\n",
    "    \n",
    "    print(\"Prediction on Test Data : \\n\")\n",
    "    print('No of shares',(total))\n",
    "    print('Average transaction price ',(price))\n",
    "    \n",
    "    return profit\n",
    "    \n",
    "def confcal(X_test,pred):\n",
    "    cm = metrics.confusion_matrix(Y_test, pred)\n",
    "    import seaborn as sns\n",
    "\n",
    "    ax= plt.subplot()\n",
    "    sns.heatmap(cm, annot=True, fmt='g', ax=ax);  \n",
    "\n",
    "    ax.set_xlabel('Predicted labels');ax.set_ylabel('True labels'); \n",
    "    ax.set_title('Confusion Matrix'); \n",
    "    ax.xaxis.set_ticklabels(['Buy','Hold','Sell']); \n",
    "    ax.yaxis.set_ticklabels(['Buy','Hold','Sell']);\n",
    "    \n",
    "from sklearn.metrics import confusion_matrix\n",
    "from sklearn.metrics import accuracy_score\n",
    "from sklearn.metrics import precision_recall_fscore_support\n",
    "from sklearn.metrics import precision_recall_fscore_support\n",
    "import math\n",
    "from sklearn.metrics import f1_score\n",
    "\n",
    "def metric(pred,true):\n",
    "    \n",
    "    acc = accuracy_score(true, pred)\n",
    "    y = precision_recall_fscore_support(true, pred)\n",
    "    \n",
    "    sen = np.mean(y[2])\n",
    "\n",
    "    spc = np.mean(y[1])\n",
    "    \n",
    "    cal = math.log2(1+acc) + math.log2(1 + ( (sen+spc) /2 ) ) \n",
    "    \n",
    "    D_index = cal \n",
    "    \n",
    "    f1 = f1_score(true, pred, average='weighted')\n",
    "    \n",
    "    print(\"Accuracy :\", acc)\n",
    "    print(\"D Index :\", D_index)\n",
    "    print(\"F1 Score :\", f1)\n",
    "    \n",
    "    return acc, D_index, f1\n",
    "    \n"
   ]
  },
  {
   "cell_type": "code",
   "execution_count": 183,
   "id": "f951953f",
   "metadata": {},
   "outputs": [
    {
     "name": "stdout",
     "output_type": "stream",
     "text": [
      "0.8504273504273504\n"
     ]
    }
   ],
   "source": [
    "from sklearn.neural_network import MLPClassifier\n",
    "from sklearn.neural_network import MLPRegressor\n",
    "from sklearn.datasets import make_regression\n",
    "from sklearn import ensemble, metrics\n",
    "\n",
    "clf= MLPClassifier(solver='lbfgs', alpha=1e-7, hidden_layer_sizes=(10,2), random_state=1, max_iter =1e7)\n",
    "\n",
    "clf.fit( x_train, Y_train)\n",
    "\n",
    "pred = clf.predict(x_test)\n",
    "print(clf.score(x_test, Y_test))"
   ]
  },
  {
   "cell_type": "code",
   "execution_count": 184,
   "id": "e420e7ad",
   "metadata": {},
   "outputs": [
    {
     "name": "stdout",
     "output_type": "stream",
     "text": [
      "              precision    recall  f1-score   support\n",
      "\n",
      "           0       0.00      0.00      0.00        94\n",
      "           1       0.88      0.98      0.93       966\n",
      "           2       0.52      0.40      0.45       110\n",
      "\n",
      "    accuracy                           0.85      1170\n",
      "   macro avg       0.46      0.46      0.46      1170\n",
      "weighted avg       0.77      0.85      0.81      1170\n",
      "\n"
     ]
    },
    {
     "name": "stderr",
     "output_type": "stream",
     "text": [
      "C:\\Users\\chsha\\anaconda3\\lib\\site-packages\\sklearn\\metrics\\_classification.py:1248: UndefinedMetricWarning: Precision and F-score are ill-defined and being set to 0.0 in labels with no predicted samples. Use `zero_division` parameter to control this behavior.\n",
      "  _warn_prf(average, modifier, msg_start, len(result))\n",
      "C:\\Users\\chsha\\anaconda3\\lib\\site-packages\\sklearn\\metrics\\_classification.py:1248: UndefinedMetricWarning: Precision and F-score are ill-defined and being set to 0.0 in labels with no predicted samples. Use `zero_division` parameter to control this behavior.\n",
      "  _warn_prf(average, modifier, msg_start, len(result))\n",
      "C:\\Users\\chsha\\anaconda3\\lib\\site-packages\\sklearn\\metrics\\_classification.py:1248: UndefinedMetricWarning: Precision and F-score are ill-defined and being set to 0.0 in labels with no predicted samples. Use `zero_division` parameter to control this behavior.\n",
      "  _warn_prf(average, modifier, msg_start, len(result))\n"
     ]
    }
   ],
   "source": [
    "from sklearn.metrics import classification_report\n",
    "print(classification_report(Y_test, pred))"
   ]
  },
  {
   "cell_type": "code",
   "execution_count": 70,
   "id": "f1676c6a",
   "metadata": {},
   "outputs": [
    {
     "data": {
      "image/png": "[encoded data removed]",
      "text/plain": [
       "<Figure size 432x288 with 2 Axes>"
      ]
     },
     "metadata": {
      "needs_background": "light"
     },
     "output_type": "display_data"
    }
   ],
   "source": [
    "confcal(Y_test,pred)"
   ]
  },
  {
   "cell_type": "code",
   "execution_count": 71,
   "id": "89ca20c8",
   "metadata": {},
   "outputs": [
    {
     "name": "stdout",
     "output_type": "stream",
     "text": [
      "Accuracy : 0.8606837606837607\n",
      "D Index : 1.6492772048928197\n",
      "F1 Score : 0.8767219366436063\n"
     ]
    }
   ],
   "source": [
    "dacc, ddindx, df1 =  metric(Y_test,pred)"
   ]
  },
  {
   "cell_type": "code",
   "execution_count": 14,
   "id": "c9b5d4aa",
   "metadata": {},
   "outputs": [
    {
     "name": "stdout",
     "output_type": "stream",
     "text": [
      "Prediction on Test Data : \n",
      "\n",
      "No of shares 1036.0\n",
      "Average transaction price  1113.3687664092665\n",
      "Profit $149,404.03\n"
     ]
    }
   ],
   "source": [
    "dpf = returncal(X_test,pred)"
   ]
  },
  {
   "cell_type": "code",
   "execution_count": null,
   "id": "5e3dfe61",
   "metadata": {},
   "outputs": [],
   "source": []
  },
  {
   "cell_type": "code",
   "execution_count": 15,
   "id": "f9c33259",
   "metadata": {},
   "outputs": [
    {
     "data": {
      "text/plain": [
       "(4680, 11)"
      ]
     },
     "execution_count": 15,
     "metadata": {},
     "output_type": "execute_result"
    }
   ],
   "source": [
    "np.shape(x_train)"
   ]
  },
  {
   "cell_type": "code",
   "execution_count": 185,
   "id": "5a0b452c",
   "metadata": {},
   "outputs": [
    {
     "name": "stdout",
     "output_type": "stream",
     "text": [
      "Model: \"sequential_12\"\n",
      "_________________________________________________________________\n",
      " Layer (type)                Output Shape              Param #   \n",
      "=================================================================\n",
      " lstm_8 (LSTM)               (None, 11, 64)            16896     \n",
      "                                                                 \n",
      " dropout_44 (Dropout)        (None, 11, 64)            0         \n",
      "                                                                 \n",
      " lstm_9 (LSTM)               (None, 32)                12416     \n",
      "                                                                 \n",
      " dropout_45 (Dropout)        (None, 32)                0         \n",
      "                                                                 \n",
      " dense_20 (Dense)            (None, 1)                 33        \n",
      "                                                                 \n",
      "=================================================================\n",
      "Total params: 29,345\n",
      "Trainable params: 29,345\n",
      "Non-trainable params: 0\n",
      "_________________________________________________________________\n"
     ]
    }
   ],
   "source": [
    "inn = x_train.shape[1:][0]\n",
    "\n",
    "from keras.layers import Dense, Dropout, LSTM, Embedding\n",
    "from keras.preprocessing.sequence import pad_sequences\n",
    "from keras.models import Sequential\n",
    "import pandas as pd\n",
    "import numpy as np\n",
    "\n",
    "model = Sequential()\n",
    "model.add(LSTM (64, return_sequences = True,input_shape = [inn,1]))\n",
    "model.add(Dropout(0.2))\n",
    "model.add(LSTM (32))\n",
    "model.add(Dropout(0.2))\n",
    "model.add(Dense(1, activation=\"sigmoid\"))\n",
    "\n",
    "\n",
    "model.compile(optimizer='Adam',loss='mse',metrics=('accuracy') )\n",
    "\n",
    "model.summary()\n"
   ]
  },
  {
   "cell_type": "code",
   "execution_count": 186,
   "id": "446a71a5",
   "metadata": {},
   "outputs": [],
   "source": [
    "hist = model.fit(x_train, Y_train, batch_size=32, epochs=50, validation_split = 0.2, verbose = 0)"
   ]
  },
  {
   "cell_type": "code",
   "execution_count": 74,
   "id": "1a2d7c31",
   "metadata": {},
   "outputs": [
    {
     "data": {
      "image/png": "[encoded data removed]",
      "text/plain": [
       "<Figure size 432x288 with 1 Axes>"
      ]
     },
     "metadata": {
      "needs_background": "light"
     },
     "output_type": "display_data"
    }
   ],
   "source": [
    "plt.plot(hist.history['accuracy'])\n",
    "plt.plot(hist.history['val_accuracy'])\n",
    "plt.title('model accuracy')\n",
    "plt.ylabel('accuracy')\n",
    "plt.xlabel('epoch')\n",
    "plt.legend(['train', 'val'], loc='upper left')\n",
    "plt.show()"
   ]
  },
  {
   "cell_type": "code",
   "execution_count": null,
   "id": "c72460db",
   "metadata": {},
   "outputs": [],
   "source": []
  },
  {
   "cell_type": "code",
   "execution_count": 187,
   "id": "5a931afb",
   "metadata": {},
   "outputs": [
    {
     "data": {
      "image/png": "[encoded data removed]",
      "text/plain": [
       "<Figure size 432x288 with 2 Axes>"
      ]
     },
     "metadata": {
      "needs_background": "light"
     },
     "output_type": "display_data"
    }
   ],
   "source": [
    "pred = model.predict(x_test)\n",
    "confcal(Y_test,pred.round())"
   ]
  },
  {
   "cell_type": "code",
   "execution_count": 188,
   "id": "e110a405",
   "metadata": {},
   "outputs": [
    {
     "name": "stdout",
     "output_type": "stream",
     "text": [
      "              precision    recall  f1-score   support\n",
      "\n",
      "           0       1.00      0.15      0.26        94\n",
      "           1       0.84      1.00      0.91       966\n",
      "           2       0.00      0.00      0.00       110\n",
      "\n",
      "    accuracy                           0.84      1170\n",
      "   macro avg       0.61      0.38      0.39      1170\n",
      "weighted avg       0.77      0.84      0.77      1170\n",
      "\n"
     ]
    },
    {
     "name": "stderr",
     "output_type": "stream",
     "text": [
      "C:\\Users\\chsha\\anaconda3\\lib\\site-packages\\sklearn\\metrics\\_classification.py:1248: UndefinedMetricWarning: Precision and F-score are ill-defined and being set to 0.0 in labels with no predicted samples. Use `zero_division` parameter to control this behavior.\n",
      "  _warn_prf(average, modifier, msg_start, len(result))\n",
      "C:\\Users\\chsha\\anaconda3\\lib\\site-packages\\sklearn\\metrics\\_classification.py:1248: UndefinedMetricWarning: Precision and F-score are ill-defined and being set to 0.0 in labels with no predicted samples. Use `zero_division` parameter to control this behavior.\n",
      "  _warn_prf(average, modifier, msg_start, len(result))\n",
      "C:\\Users\\chsha\\anaconda3\\lib\\site-packages\\sklearn\\metrics\\_classification.py:1248: UndefinedMetricWarning: Precision and F-score are ill-defined and being set to 0.0 in labels with no predicted samples. Use `zero_division` parameter to control this behavior.\n",
      "  _warn_prf(average, modifier, msg_start, len(result))\n"
     ]
    }
   ],
   "source": [
    "from sklearn.metrics import classification_report\n",
    "print(classification_report(Y_test, pred.round()))"
   ]
  },
  {
   "cell_type": "code",
   "execution_count": 78,
   "id": "893c57a8",
   "metadata": {},
   "outputs": [
    {
     "name": "stdout",
     "output_type": "stream",
     "text": [
      "Accuracy : 0.8376068376068376\n",
      "D Index : 1.436009904571523\n",
      "F1 Score : 0.8948003247749762\n"
     ]
    },
    {
     "name": "stderr",
     "output_type": "stream",
     "text": [
      "C:\\Users\\chsha\\anaconda3\\lib\\site-packages\\sklearn\\metrics\\_classification.py:1248: UndefinedMetricWarning: Recall and F-score are ill-defined and being set to 0.0 in labels with no true samples. Use `zero_division` parameter to control this behavior.\n",
      "  _warn_prf(average, modifier, msg_start, len(result))\n"
     ]
    }
   ],
   "source": [
    "lacc, ldindx, lf1 =  metric(Y_test,pred.round())"
   ]
  },
  {
   "cell_type": "code",
   "execution_count": 77,
   "id": "b3a53956",
   "metadata": {},
   "outputs": [
    {
     "name": "stdout",
     "output_type": "stream",
     "text": [
      "Prediction on Test Data : \n",
      "\n",
      "No of shares 1138.0\n",
      "Average transaction price  106.71637609841828\n",
      "Profit $3,350.07\n"
     ]
    }
   ],
   "source": [
    "lpf = returncal(X_test,pred.round())"
   ]
  },
  {
   "cell_type": "code",
   "execution_count": null,
   "id": "846bd99f",
   "metadata": {},
   "outputs": [],
   "source": []
  },
  {
   "cell_type": "code",
   "execution_count": 189,
   "id": "9860b839",
   "metadata": {},
   "outputs": [
    {
     "name": "stdout",
     "output_type": "stream",
     "text": [
      "Model: \"sequential_13\"\n",
      "_________________________________________________________________\n",
      " Layer (type)                Output Shape              Param #   \n",
      "=================================================================\n",
      " conv1d_40 (Conv1D)          (None, 9, 16)             64        \n",
      "                                                                 \n",
      " flatten_8 (Flatten)         (None, 144)               0         \n",
      "                                                                 \n",
      " dense_21 (Dense)            (None, 1)                 145       \n",
      "                                                                 \n",
      "=================================================================\n",
      "Total params: 209\n",
      "Trainable params: 209\n",
      "Non-trainable params: 0\n",
      "_________________________________________________________________\n"
     ]
    }
   ],
   "source": [
    "from keras.layers import Conv1D, Flatten\n",
    "\n",
    "model = Sequential()\n",
    "model.add(Conv1D(16, kernel_size=3,  activation='relu', input_shape=(inn,1)))\n",
    "model.add(Flatten())\n",
    "model.add(Dense(1, activation='sigmoid'))\n",
    "model.compile(optimizer='Adam', loss='mse', metrics=['accuracy'])\n",
    "model.summary()"
   ]
  },
  {
   "cell_type": "code",
   "execution_count": 190,
   "id": "ea547537",
   "metadata": {},
   "outputs": [],
   "source": [
    "hist = model.fit(x_train, Y_train, batch_size=32, epochs=50, validation_split = 0.2, verbose = 0)"
   ]
  },
  {
   "cell_type": "code",
   "execution_count": 81,
   "id": "6fa70e4a",
   "metadata": {},
   "outputs": [
    {
     "data": {
      "image/png": "[encoded data removed]",
      "text/plain": [
       "<Figure size 432x288 with 1 Axes>"
      ]
     },
     "metadata": {
      "needs_background": "light"
     },
     "output_type": "display_data"
    }
   ],
   "source": [
    "plt.plot(hist.history['accuracy'])\n",
    "plt.plot(hist.history['val_accuracy'])\n",
    "plt.title('model accuracy')\n",
    "plt.ylabel('accuracy')\n",
    "plt.xlabel('epoch')\n",
    "plt.legend(['train', 'val'], loc='upper left')\n",
    "plt.show()"
   ]
  },
  {
   "cell_type": "code",
   "execution_count": 102,
   "id": "d36f7a2a",
   "metadata": {},
   "outputs": [
    {
     "name": "stdout",
     "output_type": "stream",
     "text": [
      "              precision    recall  f1-score   support\n",
      "\n",
      "           0       0.25      0.24      0.25        79\n",
      "           1       0.86      0.95      0.90       926\n",
      "           2       0.84      0.35      0.49       165\n",
      "\n",
      "    accuracy                           0.82      1170\n",
      "   macro avg       0.65      0.51      0.55      1170\n",
      "weighted avg       0.82      0.82      0.80      1170\n",
      "\n"
     ]
    }
   ],
   "source": []
  },
  {
   "cell_type": "code",
   "execution_count": null,
   "id": "059a8b6a",
   "metadata": {},
   "outputs": [],
   "source": []
  },
  {
   "cell_type": "code",
   "execution_count": 191,
   "id": "4bc0e809",
   "metadata": {},
   "outputs": [
    {
     "data": {
      "image/png": "[encoded data removed]",
      "text/plain": [
       "<Figure size 432x288 with 2 Axes>"
      ]
     },
     "metadata": {
      "needs_background": "light"
     },
     "output_type": "display_data"
    }
   ],
   "source": [
    "pred = model.predict(x_test)\n",
    "confcal(Y_test,pred.round())"
   ]
  },
  {
   "cell_type": "code",
   "execution_count": 192,
   "id": "6ab0af4d",
   "metadata": {},
   "outputs": [
    {
     "name": "stdout",
     "output_type": "stream",
     "text": [
      "              precision    recall  f1-score   support\n",
      "\n",
      "           0       0.68      0.22      0.34        94\n",
      "           1       0.84      0.99      0.91       966\n",
      "           2       0.00      0.00      0.00       110\n",
      "\n",
      "    accuracy                           0.84      1170\n",
      "   macro avg       0.51      0.40      0.41      1170\n",
      "weighted avg       0.75      0.84      0.78      1170\n",
      "\n"
     ]
    },
    {
     "name": "stderr",
     "output_type": "stream",
     "text": [
      "C:\\Users\\chsha\\anaconda3\\lib\\site-packages\\sklearn\\metrics\\_classification.py:1248: UndefinedMetricWarning: Precision and F-score are ill-defined and being set to 0.0 in labels with no predicted samples. Use `zero_division` parameter to control this behavior.\n",
      "  _warn_prf(average, modifier, msg_start, len(result))\n",
      "C:\\Users\\chsha\\anaconda3\\lib\\site-packages\\sklearn\\metrics\\_classification.py:1248: UndefinedMetricWarning: Precision and F-score are ill-defined and being set to 0.0 in labels with no predicted samples. Use `zero_division` parameter to control this behavior.\n",
      "  _warn_prf(average, modifier, msg_start, len(result))\n",
      "C:\\Users\\chsha\\anaconda3\\lib\\site-packages\\sklearn\\metrics\\_classification.py:1248: UndefinedMetricWarning: Precision and F-score are ill-defined and being set to 0.0 in labels with no predicted samples. Use `zero_division` parameter to control this behavior.\n",
      "  _warn_prf(average, modifier, msg_start, len(result))\n"
     ]
    }
   ],
   "source": [
    "from sklearn.metrics import classification_report\n",
    "print(classification_report(Y_test, pred.round()))"
   ]
  },
  {
   "cell_type": "code",
   "execution_count": 83,
   "id": "6d4c2468",
   "metadata": {},
   "outputs": [
    {
     "name": "stdout",
     "output_type": "stream",
     "text": [
      "Accuracy : 0.8350427350427351\n",
      "D Index : 1.4219927115469544\n",
      "F1 Score : 0.8923815583076256\n"
     ]
    },
    {
     "name": "stderr",
     "output_type": "stream",
     "text": [
      "C:\\Users\\chsha\\anaconda3\\lib\\site-packages\\sklearn\\metrics\\_classification.py:1248: UndefinedMetricWarning: Recall and F-score are ill-defined and being set to 0.0 in labels with no true samples. Use `zero_division` parameter to control this behavior.\n",
      "  _warn_prf(average, modifier, msg_start, len(result))\n"
     ]
    }
   ],
   "source": [
    "cacc, cdindx, cf1 =  metric(Y_test,pred.round())"
   ]
  },
  {
   "cell_type": "code",
   "execution_count": 84,
   "id": "86bb1300",
   "metadata": {},
   "outputs": [
    {
     "name": "stdout",
     "output_type": "stream",
     "text": [
      "Prediction on Test Data : \n",
      "\n",
      "No of shares 1137.0\n",
      "Average transaction price  106.68659278803871\n",
      "Profit $3,490.64\n"
     ]
    }
   ],
   "source": [
    "cpf = returncal(X_test,pred.round())"
   ]
  },
  {
   "cell_type": "code",
   "execution_count": 193,
   "id": "554e7d68",
   "metadata": {},
   "outputs": [
    {
     "name": "stdout",
     "output_type": "stream",
     "text": [
      "0.8760683760683761\n"
     ]
    }
   ],
   "source": [
    "from sklearn.ensemble import ExtraTreesClassifier\n",
    "clf =  ExtraTreesClassifier(n_estimators=100, random_state=0).fit( X_train, Y_train)\n",
    "clf.fit( x_train, Y_train)\n",
    "\n",
    "pred = clf.predict(x_test)\n",
    "print(clf.score(x_test, Y_test))"
   ]
  },
  {
   "cell_type": "code",
   "execution_count": 194,
   "id": "fe4e2098",
   "metadata": {},
   "outputs": [
    {
     "name": "stdout",
     "output_type": "stream",
     "text": [
      "              precision    recall  f1-score   support\n",
      "\n",
      "           0       0.73      0.39      0.51        94\n",
      "           1       0.89      0.97      0.93       966\n",
      "           2       0.75      0.45      0.56       110\n",
      "\n",
      "    accuracy                           0.88      1170\n",
      "   macro avg       0.79      0.60      0.67      1170\n",
      "weighted avg       0.86      0.88      0.86      1170\n",
      "\n"
     ]
    }
   ],
   "source": [
    "from sklearn.metrics import classification_report\n",
    "print(classification_report(Y_test, pred))"
   ]
  },
  {
   "cell_type": "code",
   "execution_count": 86,
   "id": "9450c116",
   "metadata": {},
   "outputs": [
    {
     "data": {
      "image/png": "[encoded data removed]",
      "text/plain": [
       "<Figure size 432x288 with 2 Axes>"
      ]
     },
     "metadata": {
      "needs_background": "light"
     },
     "output_type": "display_data"
    }
   ],
   "source": [
    "confcal(Y_test,pred)"
   ]
  },
  {
   "cell_type": "code",
   "execution_count": 88,
   "id": "8f1084dd",
   "metadata": {},
   "outputs": [
    {
     "name": "stdout",
     "output_type": "stream",
     "text": [
      "Accuracy : 0.8760683760683761\n",
      "D Index : 1.6971322938160072\n",
      "F1 Score : 0.8908842024786034\n"
     ]
    }
   ],
   "source": [
    "eacc, edindx, ef1 =  metric(Y_test,pred)"
   ]
  },
  {
   "cell_type": "code",
   "execution_count": 89,
   "id": "ef809d4e",
   "metadata": {},
   "outputs": [
    {
     "name": "stdout",
     "output_type": "stream",
     "text": [
      "Prediction on Test Data : \n",
      "\n",
      "No of shares 989.0\n",
      "Average transaction price  107.06158442871586\n",
      "Profit $18,909.39\n"
     ]
    }
   ],
   "source": [
    "epf = returncal(X_test,pred)"
   ]
  },
  {
   "cell_type": "code",
   "execution_count": 195,
   "id": "f494d99d",
   "metadata": {},
   "outputs": [
    {
     "name": "stderr",
     "output_type": "stream",
     "text": [
      "C:\\Users\\chsha\\anaconda3\\lib\\site-packages\\pandas\\core\\indexing.py:1732: SettingWithCopyWarning: \n",
      "A value is trying to be set on a copy of a slice from a DataFrame\n",
      "\n",
      "See the caveats in the documentation: https://pandas.pydata.org/pandas-docs/stable/user_guide/indexing.html#returning-a-view-versus-a-copy\n",
      "  self._setitem_single_block(indexer, value, name)\n"
     ]
    }
   ],
   "source": [
    "from sklearn.model_selection import train_test_split\n",
    "from sklearn.preprocessing import LabelEncoder\n",
    "    \n",
    "calc = traindata()\n",
    "\n",
    "le = LabelEncoder()\n",
    "le.fit(calc['action'])\n",
    "list(le.classes_)\n",
    "label = le.transform(calc['action'])\n",
    "df1 = calc\n",
    "df1 = df1.drop(['Date','action','temp','tempsum','sum'], axis = 1)\n",
    "X_train, X_test, Y_train, Y_test = train_test_split(df1, label, test_size=0.20, random_state=42)\n",
    "x_train = StandardScaler().fit_transform(X_train)\n",
    "x_test  = StandardScaler().fit_transform(X_test)"
   ]
  },
  {
   "cell_type": "code",
   "execution_count": 196,
   "id": "f5afb6c1",
   "metadata": {},
   "outputs": [],
   "source": [
    "from tensorflow import keras\n",
    "from tensorflow.keras import layers\n",
    "\n",
    "def transformer_encoder(inputs, head_size, num_heads, ff_dim, dropout=0):\n",
    "    # Normalization and Attention\n",
    "    x = layers.LayerNormalization(epsilon=1e-6)(inputs)\n",
    "    x = layers.MultiHeadAttention(\n",
    "        key_dim=head_size, num_heads=num_heads, dropout=dropout\n",
    "    )(x, x)\n",
    "    x = layers.Dropout(dropout)(x)\n",
    "    res = x + inputs\n",
    "\n",
    "    # Feed Forward Part\n",
    "    x = layers.LayerNormalization(epsilon=1e-6)(res)\n",
    "    x = layers.Conv1D(filters=ff_dim, kernel_size=1, activation=\"relu\")(x)\n",
    "    x = layers.Dropout(dropout)(x)\n",
    "    x = layers.Conv1D(filters=inputs.shape[-1], kernel_size=1)(x)\n",
    "    return x + res\n",
    "\n",
    "\n",
    "def build_model(\n",
    "    input_shape,\n",
    "    head_size,\n",
    "    num_heads,\n",
    "    ff_dim,\n",
    "    num_transformer_blocks,\n",
    "    mlp_units,\n",
    "    dropout=0,\n",
    "    mlp_dropout=0,\n",
    "):\n",
    "    inputs = keras.Input(shape=input_shape)\n",
    "    x = inputs\n",
    "    for _ in range(num_transformer_blocks):\n",
    "        x = transformer_encoder(x, head_size, num_heads, ff_dim, dropout)\n",
    "\n",
    "    x = layers.GlobalAveragePooling1D(data_format=\"channels_first\")(x)\n",
    "    for dim in mlp_units:\n",
    "        x = layers.Dense(dim, activation=\"relu\")(x)\n",
    "        x = layers.Dropout(mlp_dropout)(x)\n",
    "    outputs = layers.Dense(1, activation=\"sigmoid\")(x)\n",
    "    return keras.Model(inputs, outputs)"
   ]
  },
  {
   "cell_type": "code",
   "execution_count": 197,
   "id": "f3a05e0f",
   "metadata": {},
   "outputs": [
    {
     "data": {
      "text/plain": [
       "(1170, 11, 1)"
      ]
     },
     "execution_count": 197,
     "metadata": {},
     "output_type": "execute_result"
    }
   ],
   "source": [
    "x_train = np.array(x_train)\n",
    "x_test = np.array(x_test)\n",
    "x_train = x_train.reshape(x_train.shape[0],x_train.shape[1],1)\n",
    "x_test = x_test.reshape(x_test.shape[0],x_test.shape[1],1)\n",
    "np.shape(x_test)"
   ]
  },
  {
   "cell_type": "code",
   "execution_count": 198,
   "id": "3ca27eb3",
   "metadata": {},
   "outputs": [
    {
     "name": "stdout",
     "output_type": "stream",
     "text": [
      "Epoch 1/8\n",
      "59/59 [==============================] - 42s 480ms/step - loss: 0.2423 - accuracy: 0.7829 - val_loss: 0.1602 - val_accuracy: 0.8397\n",
      "Epoch 2/8\n",
      "59/59 [==============================] - 25s 419ms/step - loss: 0.1829 - accuracy: 0.8170 - val_loss: 0.1602 - val_accuracy: 0.8397\n",
      "Epoch 3/8\n",
      "59/59 [==============================] - 25s 417ms/step - loss: 0.1829 - accuracy: 0.8170 - val_loss: 0.1602 - val_accuracy: 0.8397\n",
      "Epoch 4/8\n",
      "59/59 [==============================] - 25s 427ms/step - loss: 0.1830 - accuracy: 0.8170 - val_loss: 0.1602 - val_accuracy: 0.8397\n",
      "Epoch 5/8\n",
      "59/59 [==============================] - 26s 438ms/step - loss: 0.1830 - accuracy: 0.8170 - val_loss: 0.1602 - val_accuracy: 0.8397\n",
      "Epoch 6/8\n",
      "59/59 [==============================] - 25s 429ms/step - loss: 0.1829 - accuracy: 0.8170 - val_loss: 0.1602 - val_accuracy: 0.8397\n",
      "Epoch 7/8\n",
      "59/59 [==============================] - 24s 400ms/step - loss: 0.1828 - accuracy: 0.8170 - val_loss: 0.1602 - val_accuracy: 0.8397\n",
      "Epoch 8/8\n",
      "59/59 [==============================] - 24s 404ms/step - loss: 0.1830 - accuracy: 0.8170 - val_loss: 0.1602 - val_accuracy: 0.8397\n"
     ]
    }
   ],
   "source": [
    "input_shape = x_train.shape[1:]\n",
    "\n",
    "model = build_model(\n",
    "    input_shape,\n",
    "    head_size=256,\n",
    "    num_heads=4,\n",
    "    ff_dim=4,\n",
    "    num_transformer_blocks=4,\n",
    "    mlp_units=[128],\n",
    "    mlp_dropout=0.4,\n",
    "    dropout=0.25,\n",
    ")\n",
    "\n",
    "model.compile(\n",
    "    loss=\"mse\",\n",
    "    optimizer='Adam',\n",
    "    metrics=['accuracy'],\n",
    ")\n",
    "callbacks = [keras.callbacks.EarlyStopping(patience=10, restore_best_weights=True)]\n",
    "\n",
    "hist = model.fit(\n",
    "    x_train,\n",
    "    Y_train,\n",
    "    validation_split=0.2,\n",
    "    epochs=8,\n",
    "    batch_size=64,\n",
    "    callbacks=callbacks,\n",
    ")\n"
   ]
  },
  {
   "cell_type": "code",
   "execution_count": 68,
   "id": "71c81af9",
   "metadata": {},
   "outputs": [
    {
     "name": "stdout",
     "output_type": "stream",
     "text": [
      "              precision    recall  f1-score   support\n",
      "\n",
      "           0       0.78      0.64      0.70       115\n",
      "           1       0.89      0.98      0.93       948\n",
      "           2       0.76      0.21      0.32       107\n",
      "\n",
      "    accuracy                           0.88      1170\n",
      "   macro avg       0.81      0.61      0.65      1170\n",
      "weighted avg       0.86      0.88      0.85      1170\n",
      "\n"
     ]
    }
   ],
   "source": []
  },
  {
   "cell_type": "code",
   "execution_count": 94,
   "id": "7f846e74",
   "metadata": {},
   "outputs": [
    {
     "data": {
      "image/png": "[encoded data removed]",
      "text/plain": [
       "<Figure size 432x288 with 1 Axes>"
      ]
     },
     "metadata": {
      "needs_background": "light"
     },
     "output_type": "display_data"
    }
   ],
   "source": [
    "plt.plot(hist.history['accuracy'])\n",
    "plt.plot(hist.history['val_accuracy'])\n",
    "plt.title('model accuracy')\n",
    "plt.ylabel('accuracy')\n",
    "plt.xlabel('epoch')\n",
    "plt.legend(['train', 'val'], loc='upper left')\n",
    "plt.show()"
   ]
  },
  {
   "cell_type": "code",
   "execution_count": 199,
   "id": "ec047fa1",
   "metadata": {},
   "outputs": [
    {
     "data": {
      "image/png": "[encoded data removed]",
      "text/plain": [
       "<Figure size 432x288 with 2 Axes>"
      ]
     },
     "metadata": {
      "needs_background": "light"
     },
     "output_type": "display_data"
    }
   ],
   "source": [
    "pred = model.predict(x_test)\n",
    "confcal(Y_test,pred.round())"
   ]
  },
  {
   "cell_type": "code",
   "execution_count": 73,
   "id": "56e28445",
   "metadata": {},
   "outputs": [
    {
     "name": "stdout",
     "output_type": "stream",
     "text": [
      "Accuracy : 0.8393162393162393\n",
      "D Index : 1.4959462447517007\n",
      "F1 Score : 0.8966127624567125\n"
     ]
    },
    {
     "name": "stderr",
     "output_type": "stream",
     "text": [
      "C:\\Users\\chsha\\anaconda3\\lib\\site-packages\\sklearn\\metrics\\_classification.py:1248: UndefinedMetricWarning: Recall and F-score are ill-defined and being set to 0.0 in labels with no true samples. Use `zero_division` parameter to control this behavior.\n",
      "  _warn_prf(average, modifier, msg_start, len(result))\n"
     ]
    }
   ],
   "source": [
    "tacc, tdindx, tf1 =  metric(Y_test,pred.round())"
   ]
  },
  {
   "cell_type": "code",
   "execution_count": 200,
   "id": "71608b82",
   "metadata": {},
   "outputs": [
    {
     "name": "stdout",
     "output_type": "stream",
     "text": [
      "              precision    recall  f1-score   support\n",
      "\n",
      "           0       0.00      0.00      0.00        94\n",
      "           1       0.83      1.00      0.90       966\n",
      "           2       0.00      0.00      0.00       110\n",
      "\n",
      "    accuracy                           0.83      1170\n",
      "   macro avg       0.28      0.33      0.30      1170\n",
      "weighted avg       0.68      0.83      0.75      1170\n",
      "\n"
     ]
    },
    {
     "name": "stderr",
     "output_type": "stream",
     "text": [
      "C:\\Users\\chsha\\anaconda3\\lib\\site-packages\\sklearn\\metrics\\_classification.py:1248: UndefinedMetricWarning: Precision and F-score are ill-defined and being set to 0.0 in labels with no predicted samples. Use `zero_division` parameter to control this behavior.\n",
      "  _warn_prf(average, modifier, msg_start, len(result))\n",
      "C:\\Users\\chsha\\anaconda3\\lib\\site-packages\\sklearn\\metrics\\_classification.py:1248: UndefinedMetricWarning: Precision and F-score are ill-defined and being set to 0.0 in labels with no predicted samples. Use `zero_division` parameter to control this behavior.\n",
      "  _warn_prf(average, modifier, msg_start, len(result))\n",
      "C:\\Users\\chsha\\anaconda3\\lib\\site-packages\\sklearn\\metrics\\_classification.py:1248: UndefinedMetricWarning: Precision and F-score are ill-defined and being set to 0.0 in labels with no predicted samples. Use `zero_division` parameter to control this behavior.\n",
      "  _warn_prf(average, modifier, msg_start, len(result))\n"
     ]
    }
   ],
   "source": [
    "from sklearn.metrics import classification_report\n",
    "print(classification_report(Y_test, pred.round()))"
   ]
  },
  {
   "cell_type": "code",
   "execution_count": 97,
   "id": "8492f3c4",
   "metadata": {},
   "outputs": [
    {
     "name": "stdout",
     "output_type": "stream",
     "text": [
      "Prediction on Test Data : \n",
      "\n",
      "No of shares 1170.0\n",
      "Average transaction price  106.66094102564102\n",
      "Profit $0.00\n"
     ]
    },
    {
     "name": "stderr",
     "output_type": "stream",
     "text": [
      "C:\\Users\\chsha\\AppData\\Local\\Temp/ipykernel_15180/1937535649.py:2: SettingWithCopyWarning: \n",
      "A value is trying to be set on a copy of a slice from a DataFrame.\n",
      "Try using .loc[row_indexer,col_indexer] = value instead\n",
      "\n",
      "See the caveats in the documentation: https://pandas.pydata.org/pandas-docs/stable/user_guide/indexing.html#returning-a-view-versus-a-copy\n",
      "  X_test[\"action\"] = pred\n"
     ]
    }
   ],
   "source": [
    "tpf = returncal(X_test,pred.round())"
   ]
  },
  {
   "cell_type": "code",
   "execution_count": 206,
   "id": "41bc3c73",
   "metadata": {},
   "outputs": [
    {
     "name": "stderr",
     "output_type": "stream",
     "text": [
      "C:\\Users\\chsha\\anaconda3\\lib\\site-packages\\sklearn\\utils\\validation.py:70: FutureWarning: Pass classes=[0 1 2], y=[1 1 1 ... 1 1 1] as keyword args. From version 1.0 (renaming of 0.25) passing these as positional arguments will result in an error\n",
      "  warnings.warn(f\"Pass {args_msg} as keyword args. From version \"\n"
     ]
    },
    {
     "data": {
      "text/plain": [
       "array([3.92947103, 0.40572172, 3.56164384])"
      ]
     },
     "execution_count": 206,
     "metadata": {},
     "output_type": "execute_result"
    }
   ],
   "source": [
    "from sklearn.utils import class_weight\n",
    "c = class_weight.compute_class_weight('balanced', np.unique(Y_train),Y_train)\n",
    "c"
   ]
  },
  {
   "cell_type": "code",
   "execution_count": 207,
   "id": "e505a1bf",
   "metadata": {},
   "outputs": [
    {
     "data": {
      "text/plain": [
       "{0: 1.9822893413287557, 1: 0.6369628847232424, 2: 1.8872317917035095}"
      ]
     },
     "execution_count": 207,
     "metadata": {},
     "output_type": "execute_result"
    }
   ],
   "source": [
    "class_weight = {0: sqrt(c[0]),\n",
    "                1: sqrt(c[1]),\n",
    "                2: sqrt(c[2])}\n",
    "class_weight"
   ]
  },
  {
   "cell_type": "code",
   "execution_count": null,
   "id": "1e1fcdf5",
   "metadata": {},
   "outputs": [],
   "source": [
    "model = Sequential()\n",
    "model.add(Conv1D(16, kernel_size=3,  activation='relu', input_shape=(inn,1)))\n",
    "model.add(Flatten())\n",
    "model.add(Dense(1, activation='sigmoid'))\n",
    "model.compile(optimizer='Adam', loss='mse', metrics=['accuracy'])\n",
    "hist = model.fit(x_train, Y_train, batch_size=32,epochs=50,validation_split = 0.2, verbose = 0,class_weight=class_weight)"
   ]
  },
  {
   "cell_type": "code",
   "execution_count": 101,
   "id": "fefd84d8",
   "metadata": {},
   "outputs": [
    {
     "data": {
      "image/png": "[encoded data removed]",
      "text/plain": [
       "<Figure size 432x288 with 1 Axes>"
      ]
     },
     "metadata": {
      "needs_background": "light"
     },
     "output_type": "display_data"
    }
   ],
   "source": [
    "plt.plot(hist.history['accuracy'])\n",
    "plt.plot(hist.history['val_accuracy'])\n",
    "plt.title('model accuracy')\n",
    "plt.ylabel('accuracy')\n",
    "plt.xlabel('epoch')\n",
    "plt.legend(['train', 'val'], loc='upper left')\n",
    "plt.show()"
   ]
  },
  {
   "cell_type": "code",
   "execution_count": null,
   "id": "ad9b9d2c",
   "metadata": {},
   "outputs": [],
   "source": []
  },
  {
   "cell_type": "code",
   "execution_count": null,
   "id": "fba00ca2",
   "metadata": {},
   "outputs": [],
   "source": [
    "pred = model.predict(x_test)\n",
    "confcal(Y_test,pred.round())"
   ]
  },
  {
   "cell_type": "code",
   "execution_count": 205,
   "id": "14fd3d0d",
   "metadata": {},
   "outputs": [
    {
     "name": "stdout",
     "output_type": "stream",
     "text": [
      "              precision    recall  f1-score   support\n",
      "\n",
      "           0       0.61      0.30      0.40        94\n",
      "           1       0.84      0.98      0.91       966\n",
      "           2       0.00      0.00      0.00       110\n",
      "\n",
      "    accuracy                           0.84      1170\n",
      "   macro avg       0.48      0.43      0.44      1170\n",
      "weighted avg       0.75      0.84      0.78      1170\n",
      "\n"
     ]
    },
    {
     "name": "stderr",
     "output_type": "stream",
     "text": [
      "C:\\Users\\chsha\\anaconda3\\lib\\site-packages\\sklearn\\metrics\\_classification.py:1248: UndefinedMetricWarning: Precision and F-score are ill-defined and being set to 0.0 in labels with no predicted samples. Use `zero_division` parameter to control this behavior.\n",
      "  _warn_prf(average, modifier, msg_start, len(result))\n",
      "C:\\Users\\chsha\\anaconda3\\lib\\site-packages\\sklearn\\metrics\\_classification.py:1248: UndefinedMetricWarning: Precision and F-score are ill-defined and being set to 0.0 in labels with no predicted samples. Use `zero_division` parameter to control this behavior.\n",
      "  _warn_prf(average, modifier, msg_start, len(result))\n",
      "C:\\Users\\chsha\\anaconda3\\lib\\site-packages\\sklearn\\metrics\\_classification.py:1248: UndefinedMetricWarning: Precision and F-score are ill-defined and being set to 0.0 in labels with no predicted samples. Use `zero_division` parameter to control this behavior.\n",
      "  _warn_prf(average, modifier, msg_start, len(result))\n"
     ]
    }
   ],
   "source": [
    "from sklearn.metrics import classification_report\n",
    "print(classification_report(Y_test, pred.round()))"
   ]
  },
  {
   "cell_type": "code",
   "execution_count": null,
   "id": "6fe2be4a",
   "metadata": {},
   "outputs": [],
   "source": []
  },
  {
   "cell_type": "code",
   "execution_count": 103,
   "id": "aeed7b80",
   "metadata": {},
   "outputs": [
    {
     "name": "stdout",
     "output_type": "stream",
     "text": [
      "Accuracy : 0.8358974358974359\n",
      "D Index : 1.426726161172717\n",
      "F1 Score : 0.8880057467872143\n"
     ]
    },
    {
     "name": "stderr",
     "output_type": "stream",
     "text": [
      "C:\\Users\\chsha\\anaconda3\\lib\\site-packages\\sklearn\\metrics\\_classification.py:1248: UndefinedMetricWarning: Recall and F-score are ill-defined and being set to 0.0 in labels with no true samples. Use `zero_division` parameter to control this behavior.\n",
      "  _warn_prf(average, modifier, msg_start, len(result))\n"
     ]
    }
   ],
   "source": [
    "wacc, wdindx, wf1 =  metric(Y_test,pred.round())"
   ]
  },
  {
   "cell_type": "code",
   "execution_count": 104,
   "id": "16611523",
   "metadata": {},
   "outputs": [
    {
     "name": "stdout",
     "output_type": "stream",
     "text": [
      "Prediction on Test Data : \n",
      "\n",
      "No of shares 1121.0\n",
      "Average transaction price  106.69318198037467\n",
      "Profit $5,190.24\n"
     ]
    },
    {
     "name": "stderr",
     "output_type": "stream",
     "text": [
      "C:\\Users\\chsha\\AppData\\Local\\Temp/ipykernel_15180/1937535649.py:2: SettingWithCopyWarning: \n",
      "A value is trying to be set on a copy of a slice from a DataFrame.\n",
      "Try using .loc[row_indexer,col_indexer] = value instead\n",
      "\n",
      "See the caveats in the documentation: https://pandas.pydata.org/pandas-docs/stable/user_guide/indexing.html#returning-a-view-versus-a-copy\n",
      "  X_test[\"action\"] = pred\n"
     ]
    }
   ],
   "source": [
    "wpf = returncal(X_test,pred.round())"
   ]
  },
  {
   "cell_type": "code",
   "execution_count": null,
   "id": "677852fd",
   "metadata": {},
   "outputs": [],
   "source": []
  },
  {
   "cell_type": "code",
   "execution_count": 105,
   "id": "7ee582a5",
   "metadata": {},
   "outputs": [
    {
     "data": {
      "image/png": "[encoded data removed]",
      "text/plain": [
       "<Figure size 432x288 with 1 Axes>"
      ]
     },
     "metadata": {
      "needs_background": "light"
     },
     "output_type": "display_data"
    }
   ],
   "source": [
    "fig=plt.figure(figsize=(6,4))\n",
    "bar1 = plt.bar(\"DNN\", ddindx, color= 'r',width = .2)\n",
    "bar2 = plt.bar(\"LSTM\", ldindx, color= 'c', width = .2)\n",
    "bar3 = plt.bar(\"CNN\", cdindx, color= 'b',width = .2)\n",
    "bar4 = plt.bar(\"Extra Tree\", edindx, color= 'y', width = .2)\n",
    "bar5 = plt.bar(\"Transformer\", tdindx, color= 'g',width = .2)\n",
    "bar6 = plt.bar(\"CNN Weights\", wdindx, color= 'k', width = .2)\n",
    "    \n",
    "plt.legend( (bar1,bar2,bar3,bar4,bar5,bar6), (\"DNN\",\"LSTM\",\"CNN\",\"Extra Tree\",\"Transformer\",\"CNN Weights\") )\n",
    "plt.ylabel(\"D Index\")\n",
    "plt.show()"
   ]
  },
  {
   "cell_type": "code",
   "execution_count": null,
   "id": "626edd54",
   "metadata": {},
   "outputs": [],
   "source": []
  },
  {
   "cell_type": "code",
   "execution_count": 157,
   "id": "dd77afbc",
   "metadata": {},
   "outputs": [
    {
     "data": {
      "text/plain": [
       "array([0, 0, 0, ..., 1, 1, 1])"
      ]
     },
     "execution_count": 157,
     "metadata": {},
     "output_type": "execute_result"
    }
   ],
   "source": []
  },
  {
   "cell_type": "code",
   "execution_count": null,
   "id": "c211b83a",
   "metadata": {},
   "outputs": [],
   "source": []
  },
  {
   "cell_type": "code",
   "execution_count": null,
   "id": "e05ec158",
   "metadata": {},
   "outputs": [],
   "source": []
  },
  {
   "cell_type": "code",
   "execution_count": null,
   "id": "f0644d2e",
   "metadata": {},
   "outputs": [],
   "source": []
  },
  {
   "cell_type": "code",
   "execution_count": null,
   "id": "34b87ddb",
   "metadata": {},
   "outputs": [],
   "source": []
  },
  {
   "cell_type": "code",
   "execution_count": null,
   "id": "1075cfa7",
   "metadata": {},
   "outputs": [],
   "source": []
  },
  {
   "cell_type": "code",
   "execution_count": null,
   "id": "4e24fe47",
   "metadata": {},
   "outputs": [],
   "source": []
  },
  {
   "cell_type": "code",
   "execution_count": null,
   "id": "42dae801",
   "metadata": {},
   "outputs": [],
   "source": []
  }
 ],
 "metadata": {
  "kernelspec": {
   "display_name": "Python 3 (ipykernel)",
   "language": "python",
   "name": "python3"
  },
  "language_info": {
   "codemirror_mode": {
    "name": "ipython",
    "version": 3
   },
   "file_extension": ".py",
   "mimetype": "text/x-python",
   "name": "python",
   "nbconvert_exporter": "python",
   "pygments_lexer": "ipython3",
   "version": "3.9.7"
  }
 },
 "nbformat": 4,
 "nbformat_minor": 5
}
