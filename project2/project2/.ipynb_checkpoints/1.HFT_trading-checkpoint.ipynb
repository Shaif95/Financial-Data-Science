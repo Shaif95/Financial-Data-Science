{
 "cells": [
  {
   "cell_type": "code",
   "execution_count": 1,
   "id": "e165c7f6",
   "metadata": {},
   "outputs": [],
   "source": [
    "import numpy as np\n",
    "import matplotlib.pyplot as plt\n",
    "import pandas as pd\n",
    "from sklearn.decomposition import PCA\n",
    "from sklearn import svm\n",
    "import seaborn as sns\n",
    "from matplotlib.colors import ListedColormap\n",
    "from sklearn import neighbors\n",
    "import matplotlib.pyplot as plt\n",
    "from pandas.plotting import parallel_coordinates\n",
    "from sklearn.preprocessing import StandardScaler\n",
    "from sklearn import decomposition\n",
    "import scipy\n",
    "from sklearn.manifold import TSNE\n",
    "from pandas.plotting import parallel_coordinates\n",
    "from sklearn import decomposition\n",
    "import numpy as np\n",
    "import matplotlib.pyplot as plt\n",
    "import pandas as pd\n",
    "from sklearn.decomposition import PCA\n",
    "from sklearn import svm\n",
    "import seaborn as sns\n",
    "from matplotlib.colors import ListedColormap\n",
    "from sklearn import neighbors\n",
    "import matplotlib.pyplot as plt\n",
    "from pandas.plotting import parallel_coordinates\n",
    "from sklearn.preprocessing import StandardScaler\n",
    "from sklearn import decomposition\n",
    "import scipy\n",
    "from math import  pi, exp,log, sqrt\n",
    "from scipy.stats import norm\n",
    "from sklearn.manifold import TSNE\n",
    "import seaborn as sn\n",
    "from sklearn.datasets import make_friedman1\n",
    "from sklearn.decomposition import SparsePCA\n",
    "from dask import dataframe as dd\n",
    "from numpy import abs\n",
    "from math import fabs"
   ]
  },
  {
   "cell_type": "code",
   "execution_count": 4,
   "id": "7b2db8ce",
   "metadata": {},
   "outputs": [
    {
     "data": {
      "text/html": [
       "<div>\n",
       "<style scoped>\n",
       "    .dataframe tbody tr th:only-of-type {\n",
       "        vertical-align: middle;\n",
       "    }\n",
       "\n",
       "    .dataframe tbody tr th {\n",
       "        vertical-align: top;\n",
       "    }\n",
       "\n",
       "    .dataframe thead th {\n",
       "        text-align: right;\n",
       "    }\n",
       "</style>\n",
       "<table border=\"1\" class=\"dataframe\">\n",
       "  <thead>\n",
       "    <tr style=\"text-align: right;\">\n",
       "      <th></th>\n",
       "      <th>Date</th>\n",
       "      <th>marketAverage</th>\n",
       "      <th>marketChangeOverTime</th>\n",
       "      <th>marketClose</th>\n",
       "      <th>marketHigh</th>\n",
       "      <th>marketLow</th>\n",
       "      <th>marketNotional</th>\n",
       "      <th>marketNumberOfTrades</th>\n",
       "      <th>marketOpen</th>\n",
       "      <th>marketVolume</th>\n",
       "    </tr>\n",
       "  </thead>\n",
       "  <tbody>\n",
       "    <tr>\n",
       "      <th>0</th>\n",
       "      <td>2019/5/17 9:30</td>\n",
       "      <td>184.809</td>\n",
       "      <td>0.000000</td>\n",
       "      <td>184.395</td>\n",
       "      <td>184.990</td>\n",
       "      <td>184.28</td>\n",
       "      <td>1.204521e+08</td>\n",
       "      <td>437</td>\n",
       "      <td>184.84</td>\n",
       "      <td>651767</td>\n",
       "    </tr>\n",
       "    <tr>\n",
       "      <th>1</th>\n",
       "      <td>2019/5/17 9:31</td>\n",
       "      <td>184.812</td>\n",
       "      <td>0.000016</td>\n",
       "      <td>184.995</td>\n",
       "      <td>185.125</td>\n",
       "      <td>184.43</td>\n",
       "      <td>1.156055e+07</td>\n",
       "      <td>337</td>\n",
       "      <td>184.43</td>\n",
       "      <td>62553</td>\n",
       "    </tr>\n",
       "    <tr>\n",
       "      <th>2</th>\n",
       "      <td>2019/5/17 9:32</td>\n",
       "      <td>185.186</td>\n",
       "      <td>0.002040</td>\n",
       "      <td>185.185</td>\n",
       "      <td>185.350</td>\n",
       "      <td>184.97</td>\n",
       "      <td>8.485802e+06</td>\n",
       "      <td>221</td>\n",
       "      <td>184.97</td>\n",
       "      <td>45823</td>\n",
       "    </tr>\n",
       "  </tbody>\n",
       "</table>\n",
       "</div>"
      ],
      "text/plain": [
       "             Date  marketAverage  marketChangeOverTime  marketClose  \\\n",
       "0  2019/5/17 9:30        184.809              0.000000      184.395   \n",
       "1  2019/5/17 9:31        184.812              0.000016      184.995   \n",
       "2  2019/5/17 9:32        185.186              0.002040      185.185   \n",
       "\n",
       "   marketHigh  marketLow  marketNotional  marketNumberOfTrades  marketOpen  \\\n",
       "0     184.990     184.28    1.204521e+08                   437      184.84   \n",
       "1     185.125     184.43    1.156055e+07                   337      184.43   \n",
       "2     185.350     184.97    8.485802e+06                   221      184.97   \n",
       "\n",
       "   marketVolume  \n",
       "0        651767  \n",
       "1         62553  \n",
       "2         45823  "
      ]
     },
     "execution_count": 4,
     "metadata": {},
     "output_type": "execute_result"
    }
   ],
   "source": [
    "path = 'dataset/FB_n.csv'\n",
    "df = pd.read_csv(path)\n",
    "df.head(3)"
   ]
  },
  {
   "cell_type": "code",
   "execution_count": 6,
   "id": "fec402bd",
   "metadata": {},
   "outputs": [],
   "source": [
    "def read():\n",
    "    df = pd.read_csv(path)\n",
    "    df[\"return\"] =  df[\"marketClose\"] - df[\"marketOpen\"] \n",
    "    return df"
   ]
  },
  {
   "cell_type": "code",
   "execution_count": 8,
   "id": "f33eb493",
   "metadata": {},
   "outputs": [
    {
     "data": {
      "text/html": [
       "<div>\n",
       "<style scoped>\n",
       "    .dataframe tbody tr th:only-of-type {\n",
       "        vertical-align: middle;\n",
       "    }\n",
       "\n",
       "    .dataframe tbody tr th {\n",
       "        vertical-align: top;\n",
       "    }\n",
       "\n",
       "    .dataframe thead th {\n",
       "        text-align: right;\n",
       "    }\n",
       "</style>\n",
       "<table border=\"1\" class=\"dataframe\">\n",
       "  <thead>\n",
       "    <tr style=\"text-align: right;\">\n",
       "      <th></th>\n",
       "      <th>Date</th>\n",
       "      <th>marketAverage</th>\n",
       "      <th>marketChangeOverTime</th>\n",
       "      <th>marketClose</th>\n",
       "      <th>marketHigh</th>\n",
       "      <th>marketLow</th>\n",
       "      <th>marketNotional</th>\n",
       "      <th>marketNumberOfTrades</th>\n",
       "      <th>marketOpen</th>\n",
       "      <th>marketVolume</th>\n",
       "      <th>return</th>\n",
       "    </tr>\n",
       "  </thead>\n",
       "  <tbody>\n",
       "    <tr>\n",
       "      <th>5847</th>\n",
       "      <td>2019/4/29 15:57</td>\n",
       "      <td>194.997</td>\n",
       "      <td>0.021371</td>\n",
       "      <td>194.97</td>\n",
       "      <td>195.040</td>\n",
       "      <td>194.93</td>\n",
       "      <td>15194376.73</td>\n",
       "      <td>417</td>\n",
       "      <td>195.000</td>\n",
       "      <td>77921</td>\n",
       "      <td>-0.030</td>\n",
       "    </tr>\n",
       "    <tr>\n",
       "      <th>5848</th>\n",
       "      <td>2019/4/29 15:58</td>\n",
       "      <td>195.035</td>\n",
       "      <td>0.021570</td>\n",
       "      <td>195.07</td>\n",
       "      <td>195.120</td>\n",
       "      <td>194.96</td>\n",
       "      <td>24692928.07</td>\n",
       "      <td>676</td>\n",
       "      <td>194.965</td>\n",
       "      <td>126608</td>\n",
       "      <td>0.105</td>\n",
       "    </tr>\n",
       "    <tr>\n",
       "      <th>5849</th>\n",
       "      <td>2019/4/29 15:59</td>\n",
       "      <td>194.880</td>\n",
       "      <td>0.020758</td>\n",
       "      <td>194.78</td>\n",
       "      <td>195.075</td>\n",
       "      <td>194.76</td>\n",
       "      <td>33953375.88</td>\n",
       "      <td>1103</td>\n",
       "      <td>195.070</td>\n",
       "      <td>174227</td>\n",
       "      <td>-0.290</td>\n",
       "    </tr>\n",
       "  </tbody>\n",
       "</table>\n",
       "</div>"
      ],
      "text/plain": [
       "                 Date  marketAverage  marketChangeOverTime  marketClose  \\\n",
       "5847  2019/4/29 15:57        194.997              0.021371       194.97   \n",
       "5848  2019/4/29 15:58        195.035              0.021570       195.07   \n",
       "5849  2019/4/29 15:59        194.880              0.020758       194.78   \n",
       "\n",
       "      marketHigh  marketLow  marketNotional  marketNumberOfTrades  marketOpen  \\\n",
       "5847     195.040     194.93     15194376.73                   417     195.000   \n",
       "5848     195.120     194.96     24692928.07                   676     194.965   \n",
       "5849     195.075     194.76     33953375.88                  1103     195.070   \n",
       "\n",
       "      marketVolume  return  \n",
       "5847         77921  -0.030  \n",
       "5848        126608   0.105  \n",
       "5849        174227  -0.290  "
      ]
     },
     "execution_count": 8,
     "metadata": {},
     "output_type": "execute_result"
    }
   ],
   "source": [
    "df[\"return\"] =  df[\"marketClose\"] - df[\"marketOpen\"] \n",
    "df[-3:].head(3)"
   ]
  },
  {
   "cell_type": "code",
   "execution_count": 9,
   "id": "143043c1",
   "metadata": {},
   "outputs": [
    {
     "data": {
      "text/plain": [
       "array([<AxesSubplot:>, <AxesSubplot:>], dtype=object)"
      ]
     },
     "execution_count": 9,
     "metadata": {},
     "output_type": "execute_result"
    },
    {
     "data": {
      "image/png": "[encoded data removed]",
      "text/plain": [
       "<Figure size 576x432 with 2 Axes>"
      ]
     },
     "metadata": {
      "needs_background": "light"
     },
     "output_type": "display_data"
    }
   ],
   "source": [
    "df[['marketClose','return']].plot(subplots = True,color = 'blue',figsize=(8,6))"
   ]
  },
  {
   "cell_type": "code",
   "execution_count": 10,
   "id": "ff58b8b0",
   "metadata": {},
   "outputs": [],
   "source": [
    "def cal(data,k,p,t):\n",
    "    \n",
    "    df = data\n",
    "    df['temp'] = 0\n",
    "    df['tempsum'] = 0\n",
    "    df['sum'] = 0\n",
    "    df['action'] = 'hold'\n",
    "    \n",
    "    for i in range(1, k + 1):\n",
    "        \n",
    "        df['temp'] = (df['marketAverage'].shift(-i) - df['marketClose']) / df['marketClose']\n",
    "    \n",
    "    df['tempsum'].loc[(abs (df['temp']) > p)] = abs(df['temp'])\n",
    "    \n",
    "    df['sum'] = df.tempsum.rolling(window=k).sum()\n",
    "    \n",
    "    df['action'].loc[(df['temp'] >= t)] = 'buy'\n",
    "    df['action'].loc[(df['temp'] <= -t)] = 'sell'\n",
    "    \n",
    "    return df"
   ]
  },
  {
   "cell_type": "code",
   "execution_count": 11,
   "id": "ac233cdd",
   "metadata": {},
   "outputs": [
    {
     "name": "stderr",
     "output_type": "stream",
     "text": [
      "C:\\Users\\chsha\\anaconda3\\lib\\site-packages\\pandas\\core\\indexing.py:1732: SettingWithCopyWarning: \n",
      "A value is trying to be set on a copy of a slice from a DataFrame\n",
      "\n",
      "See the caveats in the documentation: https://pandas.pydata.org/pandas-docs/stable/user_guide/indexing.html#returning-a-view-versus-a-copy\n",
      "  self._setitem_single_block(indexer, value, name)\n"
     ]
    },
    {
     "data": {
      "text/html": [
       "<div>\n",
       "<style scoped>\n",
       "    .dataframe tbody tr th:only-of-type {\n",
       "        vertical-align: middle;\n",
       "    }\n",
       "\n",
       "    .dataframe tbody tr th {\n",
       "        vertical-align: top;\n",
       "    }\n",
       "\n",
       "    .dataframe thead th {\n",
       "        text-align: right;\n",
       "    }\n",
       "</style>\n",
       "<table border=\"1\" class=\"dataframe\">\n",
       "  <thead>\n",
       "    <tr style=\"text-align: right;\">\n",
       "      <th></th>\n",
       "      <th>Date</th>\n",
       "      <th>marketAverage</th>\n",
       "      <th>marketChangeOverTime</th>\n",
       "      <th>marketClose</th>\n",
       "      <th>marketHigh</th>\n",
       "      <th>marketLow</th>\n",
       "      <th>marketNotional</th>\n",
       "      <th>marketNumberOfTrades</th>\n",
       "      <th>marketOpen</th>\n",
       "      <th>marketVolume</th>\n",
       "      <th>return</th>\n",
       "      <th>temp</th>\n",
       "      <th>tempsum</th>\n",
       "      <th>sum</th>\n",
       "      <th>action</th>\n",
       "    </tr>\n",
       "  </thead>\n",
       "  <tbody>\n",
       "    <tr>\n",
       "      <th>10</th>\n",
       "      <td>2019/5/17 9:40</td>\n",
       "      <td>185.351</td>\n",
       "      <td>0.002933</td>\n",
       "      <td>185.425</td>\n",
       "      <td>185.43</td>\n",
       "      <td>185.240</td>\n",
       "      <td>5.038210e+06</td>\n",
       "      <td>190</td>\n",
       "      <td>185.33</td>\n",
       "      <td>27182</td>\n",
       "      <td>0.095</td>\n",
       "      <td>0.004865</td>\n",
       "      <td>0.0</td>\n",
       "      <td>0.0</td>\n",
       "      <td>hold</td>\n",
       "    </tr>\n",
       "    <tr>\n",
       "      <th>11</th>\n",
       "      <td>2019/5/17 9:41</td>\n",
       "      <td>185.533</td>\n",
       "      <td>0.003918</td>\n",
       "      <td>185.635</td>\n",
       "      <td>185.64</td>\n",
       "      <td>185.415</td>\n",
       "      <td>1.416656e+07</td>\n",
       "      <td>258</td>\n",
       "      <td>185.42</td>\n",
       "      <td>76356</td>\n",
       "      <td>0.215</td>\n",
       "      <td>0.001562</td>\n",
       "      <td>0.0</td>\n",
       "      <td>0.0</td>\n",
       "      <td>hold</td>\n",
       "    </tr>\n",
       "  </tbody>\n",
       "</table>\n",
       "</div>"
      ],
      "text/plain": [
       "              Date  marketAverage  marketChangeOverTime  marketClose  \\\n",
       "10  2019/5/17 9:40        185.351              0.002933      185.425   \n",
       "11  2019/5/17 9:41        185.533              0.003918      185.635   \n",
       "\n",
       "    marketHigh  marketLow  marketNotional  marketNumberOfTrades  marketOpen  \\\n",
       "10      185.43    185.240    5.038210e+06                   190      185.33   \n",
       "11      185.64    185.415    1.416656e+07                   258      185.42   \n",
       "\n",
       "    marketVolume  return      temp  tempsum  sum action  \n",
       "10         27182   0.095  0.004865      0.0  0.0   hold  \n",
       "11         76356   0.215  0.001562      0.0  0.0   hold  "
      ]
     },
     "execution_count": 11,
     "metadata": {},
     "output_type": "execute_result"
    }
   ],
   "source": [
    "df = read()\n",
    "\n",
    "data = df\n",
    "\n",
    "calc = cal(data,10,.01,.01)\n",
    "\n",
    "calc[10:].head(2)"
   ]
  },
  {
   "cell_type": "code",
   "execution_count": 24,
   "id": "02782f16",
   "metadata": {},
   "outputs": [
    {
     "name": "stdout",
     "output_type": "stream",
     "text": [
      "No of shares 40.39999999999998\n",
      "Average transaction price  170.97616336633817\n",
      "Profit $1,101,615.58\n"
     ]
    },
    {
     "name": "stderr",
     "output_type": "stream",
     "text": [
      "C:\\Users\\chsha\\anaconda3\\lib\\site-packages\\pandas\\core\\indexing.py:1732: SettingWithCopyWarning: \n",
      "A value is trying to be set on a copy of a slice from a DataFrame\n",
      "\n",
      "See the caveats in the documentation: https://pandas.pydata.org/pandas-docs/stable/user_guide/indexing.html#returning-a-view-versus-a-copy\n",
      "  self._setitem_single_block(indexer, value, name)\n"
     ]
    }
   ],
   "source": [
    "def traindata():\n",
    "    data = read()\n",
    "    calc = cal(data,10,.002,.002)\n",
    "    calc.dropna()\n",
    "    return calc\n",
    "    \n",
    "calc = traindata()\n",
    "\n",
    "buy = calc.loc[calc.action == 'buy', 'marketAverage'].sum() * 10\n",
    "sell = calc.loc[calc.action == 'sell', 'marketAverage'].sum() * 10\n",
    "\n",
    "total = calc.loc[calc.action == 'buy'].count().mean() - calc.loc[calc.action == 'sell'].count().mean()\n",
    "\n",
    "price = (buy-sell)/total / 10\n",
    "\n",
    "profit = (calc[ 'marketAverage'].sum() - (price* total )  )\n",
    "\n",
    "print('No of shares',(total))\n",
    "print('Average transaction price ',(price))\n",
    "print('Profit ${:,.2f}'.format(profit))"
   ]
  },
  {
   "cell_type": "code",
   "execution_count": 25,
   "id": "725562de",
   "metadata": {},
   "outputs": [],
   "source": [
    "from sklearn.model_selection import train_test_split\n",
    "from sklearn.preprocessing import LabelEncoder\n",
    "    \n",
    "calc = traindata()\n",
    "\n",
    "le = LabelEncoder()\n",
    "le.fit(calc['action'])\n",
    "list(le.classes_)\n",
    "label = le.transform(calc['action'])\n",
    "df1 = calc\n",
    "df1 = df1.drop(['Date','action','temp','tempsum','sum'], axis = 1)\n",
    "X_train, X_test, Y_train, Y_test = train_test_split(df1, label, test_size=0.20, random_state=42)\n",
    "x_train = StandardScaler().fit_transform(X_train)\n",
    "x_test  = StandardScaler().fit_transform(X_test)"
   ]
  },
  {
   "cell_type": "code",
   "execution_count": 14,
   "id": "a65a0ce0",
   "metadata": {},
   "outputs": [],
   "source": [
    "def returncal(X_test,pred):\n",
    "    X_test[\"action\"] = pred\n",
    "    calc = X_test\n",
    "    buy = calc.loc[calc.action == 1, 'marketAverage'].sum() * 10\n",
    "    sell = calc.loc[calc.action == 2, 'marketAverage'].sum() * 10\n",
    "\n",
    "    total = calc.loc[calc.action == 1].count().mean() - calc.loc[calc.action == 2].count().mean()\n",
    "\n",
    "    price = (buy-sell)/total / 10\n",
    "\n",
    "    profit = (calc[ 'marketAverage'].sum() - (price* total )  )\n",
    "    \n",
    "    print(\"Prediction on Test Data : \\n\")\n",
    "    print('No of shares',(total))\n",
    "    print('Average transaction price ',(price))\n",
    "    print('Profit ${:,.2f}'.format(profit))\n",
    "    \n",
    "    return profit\n",
    "    \n",
    "def confcal(X_test,pred):\n",
    "    cm = metrics.confusion_matrix(Y_test, pred)\n",
    "    import seaborn as sns\n",
    "\n",
    "    ax= plt.subplot()\n",
    "    sns.heatmap(cm, annot=True, fmt='g', ax=ax);  \n",
    "\n",
    "    ax.set_xlabel('Predicted labels');ax.set_ylabel('True labels'); \n",
    "    ax.set_title('Confusion Matrix'); \n",
    "    ax.xaxis.set_ticklabels(['Buy','Hold','Sell']); \n",
    "    ax.yaxis.set_ticklabels(['Buy','Hold','Sell']);\n",
    "    \n",
    "from sklearn.metrics import confusion_matrix\n",
    "from sklearn.metrics import accuracy_score\n",
    "from sklearn.metrics import precision_recall_fscore_support\n",
    "from sklearn.metrics import precision_recall_fscore_support\n",
    "import math\n",
    "from sklearn.metrics import f1_score\n",
    "\n",
    "def metric(pred,true):\n",
    "    \n",
    "    acc = accuracy_score(true, pred)\n",
    "    y = precision_recall_fscore_support(true, pred)\n",
    "    \n",
    "    sen = np.mean(y[2])\n",
    "\n",
    "    spc = np.mean(y[1])\n",
    "    \n",
    "    cal = math.log2(1+acc) + math.log2(1 + ( (sen+spc) /2 ) ) \n",
    "    \n",
    "    D_index = cal \n",
    "    \n",
    "    f1 = f1_score(true, pred, average='weighted')\n",
    "    \n",
    "    print(\"Accuracy :\", acc)\n",
    "    print(\"D Index :\", D_index)\n",
    "    print(\"F1 Score :\", f1)\n",
    "    \n",
    "    return acc, D_index, f1\n",
    "    \n"
   ]
  },
  {
   "cell_type": "code",
   "execution_count": 15,
   "id": "f951953f",
   "metadata": {},
   "outputs": [
    {
     "name": "stdout",
     "output_type": "stream",
     "text": [
      "0.7145299145299145\n"
     ]
    }
   ],
   "source": [
    "from sklearn.neural_network import MLPClassifier\n",
    "from sklearn.neural_network import MLPRegressor\n",
    "from sklearn.datasets import make_regression\n",
    "from sklearn import ensemble, metrics\n",
    "\n",
    "clf= MLPClassifier(solver='lbfgs', alpha=1e-7, hidden_layer_sizes=(10,), random_state=1, max_iter =1e7)\n",
    "\n",
    "clf.fit( x_train, Y_train)\n",
    "\n",
    "pred = clf.predict(x_test)\n",
    "print(clf.score(x_test, Y_test))"
   ]
  },
  {
   "cell_type": "code",
   "execution_count": 17,
   "id": "f1676c6a",
   "metadata": {},
   "outputs": [
    {
     "data": {
      "image/png": "[encoded data removed]",
      "text/plain": [
       "<Figure size 432x288 with 2 Axes>"
      ]
     },
     "metadata": {
      "needs_background": "light"
     },
     "output_type": "display_data"
    }
   ],
   "source": [
    "confcal(Y_test,pred)"
   ]
  },
  {
   "cell_type": "code",
   "execution_count": 18,
   "id": "89ca20c8",
   "metadata": {},
   "outputs": [
    {
     "name": "stdout",
     "output_type": "stream",
     "text": [
      "Accuracy : 0.7145299145299145\n",
      "D Index : 1.3296700998583684\n",
      "F1 Score : 0.7921884614433445\n"
     ]
    }
   ],
   "source": [
    "dacc, ddindx, df1 =  metric(Y_test,pred)"
   ]
  },
  {
   "cell_type": "code",
   "execution_count": 20,
   "id": "c9b5d4aa",
   "metadata": {},
   "outputs": [
    {
     "name": "stdout",
     "output_type": "stream",
     "text": [
      "Prediction on Test Data : \n",
      "\n",
      "No of shares 1084.0\n",
      "Average transaction price  189.60765867158673\n",
      "Profit $16,095.34\n"
     ]
    }
   ],
   "source": [
    "dpf = returncal(X_test,pred)"
   ]
  },
  {
   "cell_type": "code",
   "execution_count": null,
   "id": "5e3dfe61",
   "metadata": {},
   "outputs": [],
   "source": []
  },
  {
   "cell_type": "code",
   "execution_count": 27,
   "id": "f9c33259",
   "metadata": {},
   "outputs": [
    {
     "data": {
      "text/plain": [
       "(4680, 10)"
      ]
     },
     "execution_count": 27,
     "metadata": {},
     "output_type": "execute_result"
    }
   ],
   "source": [
    "np.shape(x_train)"
   ]
  },
  {
   "cell_type": "code",
   "execution_count": 28,
   "id": "5a0b452c",
   "metadata": {},
   "outputs": [
    {
     "name": "stdout",
     "output_type": "stream",
     "text": [
      "Model: \"sequential_1\"\n",
      "_________________________________________________________________\n",
      " Layer (type)                Output Shape              Param #   \n",
      "=================================================================\n",
      " lstm_2 (LSTM)               (None, 10, 64)            16896     \n",
      "                                                                 \n",
      " dropout_2 (Dropout)         (None, 10, 64)            0         \n",
      "                                                                 \n",
      " lstm_3 (LSTM)               (None, 32)                12416     \n",
      "                                                                 \n",
      " dropout_3 (Dropout)         (None, 32)                0         \n",
      "                                                                 \n",
      " dense_1 (Dense)             (None, 1)                 33        \n",
      "                                                                 \n",
      "=================================================================\n",
      "Total params: 29,345\n",
      "Trainable params: 29,345\n",
      "Non-trainable params: 0\n",
      "_________________________________________________________________\n"
     ]
    }
   ],
   "source": [
    "\n",
    "from keras.layers import Dense, Dropout, LSTM, Embedding\n",
    "from keras.preprocessing.sequence import pad_sequences\n",
    "from keras.models import Sequential\n",
    "import pandas as pd\n",
    "import numpy as np\n",
    "\n",
    "model = Sequential()\n",
    "model.add(LSTM (64, return_sequences = True,input_shape = [10,1]))\n",
    "model.add(Dropout(0.2))\n",
    "model.add(LSTM (32))\n",
    "model.add(Dropout(0.2))\n",
    "model.add(Dense(1, activation=\"sigmoid\"))\n",
    "\n",
    "\n",
    "model.compile(optimizer='Adam',loss='mse',metrics=('accuracy') )\n",
    "\n",
    "model.summary()\n"
   ]
  },
  {
   "cell_type": "code",
   "execution_count": 29,
   "id": "446a71a5",
   "metadata": {},
   "outputs": [],
   "source": [
    "hist = model.fit(x_train, Y_train, batch_size=32, epochs=50, validation_split = 0.2, verbose = 0)"
   ]
  },
  {
   "cell_type": "code",
   "execution_count": 30,
   "id": "1a2d7c31",
   "metadata": {},
   "outputs": [
    {
     "data": {
      "image/png": "[encoded data removed]",
      "text/plain": [
       "<Figure size 432x288 with 1 Axes>"
      ]
     },
     "metadata": {
      "needs_background": "light"
     },
     "output_type": "display_data"
    }
   ],
   "source": [
    "plt.plot(hist.history['accuracy'])\n",
    "plt.plot(hist.history['val_accuracy'])\n",
    "plt.title('model accuracy')\n",
    "plt.ylabel('accuracy')\n",
    "plt.xlabel('epoch')\n",
    "plt.legend(['train', 'val'], loc='upper left')\n",
    "plt.show()"
   ]
  },
  {
   "cell_type": "code",
   "execution_count": 31,
   "id": "5a931afb",
   "metadata": {},
   "outputs": [
    {
     "data": {
      "image/png": "[encoded data removed]",
      "text/plain": [
       "<Figure size 432x288 with 2 Axes>"
      ]
     },
     "metadata": {
      "needs_background": "light"
     },
     "output_type": "display_data"
    }
   ],
   "source": [
    "pred = model.predict(x_test)\n",
    "confcal(Y_test,pred.round())"
   ]
  },
  {
   "cell_type": "code",
   "execution_count": 32,
   "id": "893c57a8",
   "metadata": {},
   "outputs": [
    {
     "name": "stdout",
     "output_type": "stream",
     "text": [
      "Accuracy : 0.7205128205128205\n",
      "D Index : 1.247788234748619\n",
      "F1 Score : 0.8192564641163821\n"
     ]
    },
    {
     "name": "stderr",
     "output_type": "stream",
     "text": [
      "C:\\Users\\chsha\\anaconda3\\lib\\site-packages\\sklearn\\metrics\\_classification.py:1248: UndefinedMetricWarning: Recall and F-score are ill-defined and being set to 0.0 in labels with no true samples. Use `zero_division` parameter to control this behavior.\n",
      "  _warn_prf(average, modifier, msg_start, len(result))\n"
     ]
    }
   ],
   "source": [
    "lacc, ldindx, lf1 =  metric(Y_test,pred.round())"
   ]
  },
  {
   "cell_type": "code",
   "execution_count": 34,
   "id": "b3a53956",
   "metadata": {},
   "outputs": [
    {
     "name": "stdout",
     "output_type": "stream",
     "text": [
      "Prediction on Test Data : \n",
      "\n",
      "No of shares 1141.0\n",
      "Average transaction price  189.5662541630149\n",
      "Profit $5,334.95\n"
     ]
    },
    {
     "name": "stderr",
     "output_type": "stream",
     "text": [
      "C:\\Users\\chsha\\AppData\\Local\\Temp/ipykernel_10900/1937535649.py:2: SettingWithCopyWarning: \n",
      "A value is trying to be set on a copy of a slice from a DataFrame.\n",
      "Try using .loc[row_indexer,col_indexer] = value instead\n",
      "\n",
      "See the caveats in the documentation: https://pandas.pydata.org/pandas-docs/stable/user_guide/indexing.html#returning-a-view-versus-a-copy\n",
      "  X_test[\"action\"] = pred\n"
     ]
    }
   ],
   "source": [
    "lpf = returncal(X_test,pred.round())"
   ]
  },
  {
   "cell_type": "code",
   "execution_count": null,
   "id": "846bd99f",
   "metadata": {},
   "outputs": [],
   "source": []
  },
  {
   "cell_type": "code",
   "execution_count": 35,
   "id": "9860b839",
   "metadata": {},
   "outputs": [
    {
     "name": "stdout",
     "output_type": "stream",
     "text": [
      "Model: \"sequential_2\"\n",
      "_________________________________________________________________\n",
      " Layer (type)                Output Shape              Param #   \n",
      "=================================================================\n",
      " conv1d (Conv1D)             (None, 8, 16)             64        \n",
      "                                                                 \n",
      " flatten (Flatten)           (None, 128)               0         \n",
      "                                                                 \n",
      " dense_2 (Dense)             (None, 1)                 129       \n",
      "                                                                 \n",
      "=================================================================\n",
      "Total params: 193\n",
      "Trainable params: 193\n",
      "Non-trainable params: 0\n",
      "_________________________________________________________________\n"
     ]
    }
   ],
   "source": [
    "from keras.layers import Conv1D, Flatten\n",
    "\n",
    "model = Sequential()\n",
    "model.add(Conv1D(16, kernel_size=3,  activation='relu', input_shape=(10,1)))\n",
    "model.add(Flatten())\n",
    "model.add(Dense(1, activation='sigmoid'))\n",
    "model.compile(optimizer='Adam', loss='mse', metrics=['accuracy'])\n",
    "model.summary()"
   ]
  },
  {
   "cell_type": "code",
   "execution_count": 36,
   "id": "ea547537",
   "metadata": {},
   "outputs": [],
   "source": [
    "hist = model.fit(x_train, Y_train, batch_size=32, epochs=50, validation_split = 0.2, verbose = 0)"
   ]
  },
  {
   "cell_type": "code",
   "execution_count": 37,
   "id": "6fa70e4a",
   "metadata": {},
   "outputs": [
    {
     "data": {
      "image/png": "[encoded data removed]",
      "text/plain": [
       "<Figure size 432x288 with 1 Axes>"
      ]
     },
     "metadata": {
      "needs_background": "light"
     },
     "output_type": "display_data"
    }
   ],
   "source": [
    "plt.plot(hist.history['accuracy'])\n",
    "plt.plot(hist.history['val_accuracy'])\n",
    "plt.title('model accuracy')\n",
    "plt.ylabel('accuracy')\n",
    "plt.xlabel('epoch')\n",
    "plt.legend(['train', 'val'], loc='upper left')\n",
    "plt.show()"
   ]
  },
  {
   "cell_type": "code",
   "execution_count": 39,
   "id": "4bc0e809",
   "metadata": {},
   "outputs": [
    {
     "data": {
      "image/png": "[encoded data removed]",
      "text/plain": [
       "<Figure size 432x288 with 2 Axes>"
      ]
     },
     "metadata": {
      "needs_background": "light"
     },
     "output_type": "display_data"
    }
   ],
   "source": [
    "pred = model.predict(x_test)\n",
    "confcal(Y_test,pred.round())"
   ]
  },
  {
   "cell_type": "code",
   "execution_count": 40,
   "id": "6d4c2468",
   "metadata": {},
   "outputs": [
    {
     "name": "stdout",
     "output_type": "stream",
     "text": [
      "Accuracy : 0.7153846153846154\n",
      "D Index : 1.1869530980077896\n",
      "F1 Score : 0.8268478341043329\n"
     ]
    },
    {
     "name": "stderr",
     "output_type": "stream",
     "text": [
      "C:\\Users\\chsha\\anaconda3\\lib\\site-packages\\sklearn\\metrics\\_classification.py:1248: UndefinedMetricWarning: Recall and F-score are ill-defined and being set to 0.0 in labels with no true samples. Use `zero_division` parameter to control this behavior.\n",
      "  _warn_prf(average, modifier, msg_start, len(result))\n"
     ]
    }
   ],
   "source": [
    "cacc, cdindx, cf1 =  metric(Y_test,pred.round())"
   ]
  },
  {
   "cell_type": "code",
   "execution_count": 41,
   "id": "86bb1300",
   "metadata": {},
   "outputs": [
    {
     "name": "stdout",
     "output_type": "stream",
     "text": [
      "Prediction on Test Data : \n",
      "\n",
      "No of shares 1159.0\n",
      "Average transaction price  189.4805772217429\n",
      "Profit $2,022.06\n"
     ]
    },
    {
     "name": "stderr",
     "output_type": "stream",
     "text": [
      "C:\\Users\\chsha\\AppData\\Local\\Temp/ipykernel_10900/1937535649.py:2: SettingWithCopyWarning: \n",
      "A value is trying to be set on a copy of a slice from a DataFrame.\n",
      "Try using .loc[row_indexer,col_indexer] = value instead\n",
      "\n",
      "See the caveats in the documentation: https://pandas.pydata.org/pandas-docs/stable/user_guide/indexing.html#returning-a-view-versus-a-copy\n",
      "  X_test[\"action\"] = pred\n"
     ]
    }
   ],
   "source": [
    "cpf = returncal(X_test,pred.round())"
   ]
  },
  {
   "cell_type": "code",
   "execution_count": 42,
   "id": "554e7d68",
   "metadata": {},
   "outputs": [
    {
     "name": "stdout",
     "output_type": "stream",
     "text": [
      "0.7196581196581197\n"
     ]
    }
   ],
   "source": [
    "from sklearn.ensemble import ExtraTreesClassifier\n",
    "clf =  ExtraTreesClassifier(n_estimators=100, random_state=0).fit( X_train, Y_train)\n",
    "clf.fit( x_train, Y_train)\n",
    "\n",
    "pred = clf.predict(x_test)\n",
    "print(clf.score(x_test, Y_test))"
   ]
  },
  {
   "cell_type": "code",
   "execution_count": 43,
   "id": "9450c116",
   "metadata": {},
   "outputs": [
    {
     "data": {
      "image/png": "[encoded data removed]",
      "text/plain": [
       "<Figure size 432x288 with 2 Axes>"
      ]
     },
     "metadata": {
      "needs_background": "light"
     },
     "output_type": "display_data"
    }
   ],
   "source": [
    "confcal(Y_test,pred)"
   ]
  },
  {
   "cell_type": "code",
   "execution_count": 44,
   "id": "8f1084dd",
   "metadata": {},
   "outputs": [
    {
     "name": "stdout",
     "output_type": "stream",
     "text": [
      "Accuracy : 0.7196581196581197\n",
      "D Index : 1.3858397576863264\n",
      "F1 Score : 0.7588916954770614\n"
     ]
    }
   ],
   "source": [
    "eacc, edindx, ef1 =  metric(Y_test,pred)"
   ]
  },
  {
   "cell_type": "code",
   "execution_count": 45,
   "id": "ef809d4e",
   "metadata": {},
   "outputs": [
    {
     "name": "stdout",
     "output_type": "stream",
     "text": [
      "Prediction on Test Data : \n",
      "\n",
      "No of shares 936.0\n",
      "Average transaction price  189.88705341880342\n",
      "Profit $43,895.76\n"
     ]
    },
    {
     "name": "stderr",
     "output_type": "stream",
     "text": [
      "C:\\Users\\chsha\\AppData\\Local\\Temp/ipykernel_10900/1937535649.py:2: SettingWithCopyWarning: \n",
      "A value is trying to be set on a copy of a slice from a DataFrame.\n",
      "Try using .loc[row_indexer,col_indexer] = value instead\n",
      "\n",
      "See the caveats in the documentation: https://pandas.pydata.org/pandas-docs/stable/user_guide/indexing.html#returning-a-view-versus-a-copy\n",
      "  X_test[\"action\"] = pred\n"
     ]
    }
   ],
   "source": [
    "epf = returncal(X_test,pred)"
   ]
  },
  {
   "cell_type": "code",
   "execution_count": 46,
   "id": "f494d99d",
   "metadata": {},
   "outputs": [
    {
     "name": "stderr",
     "output_type": "stream",
     "text": [
      "C:\\Users\\chsha\\anaconda3\\lib\\site-packages\\pandas\\core\\indexing.py:1732: SettingWithCopyWarning: \n",
      "A value is trying to be set on a copy of a slice from a DataFrame\n",
      "\n",
      "See the caveats in the documentation: https://pandas.pydata.org/pandas-docs/stable/user_guide/indexing.html#returning-a-view-versus-a-copy\n",
      "  self._setitem_single_block(indexer, value, name)\n"
     ]
    }
   ],
   "source": [
    "from sklearn.model_selection import train_test_split\n",
    "from sklearn.preprocessing import LabelEncoder\n",
    "    \n",
    "calc = traindata()\n",
    "\n",
    "le = LabelEncoder()\n",
    "le.fit(calc['action'])\n",
    "list(le.classes_)\n",
    "label = le.transform(calc['action'])\n",
    "df1 = calc\n",
    "df1 = df1.drop(['Date','action','temp','tempsum','sum'], axis = 1)\n",
    "X_train, X_test, Y_train, Y_test = train_test_split(df1, label, test_size=0.20, random_state=42)\n",
    "x_train = StandardScaler().fit_transform(X_train)\n",
    "x_test  = StandardScaler().fit_transform(X_test)"
   ]
  },
  {
   "cell_type": "code",
   "execution_count": 47,
   "id": "f5afb6c1",
   "metadata": {},
   "outputs": [],
   "source": [
    "from tensorflow import keras\n",
    "from tensorflow.keras import layers\n",
    "\n",
    "def transformer_encoder(inputs, head_size, num_heads, ff_dim, dropout=0):\n",
    "    # Normalization and Attention\n",
    "    x = layers.LayerNormalization(epsilon=1e-6)(inputs)\n",
    "    x = layers.MultiHeadAttention(\n",
    "        key_dim=head_size, num_heads=num_heads, dropout=dropout\n",
    "    )(x, x)\n",
    "    x = layers.Dropout(dropout)(x)\n",
    "    res = x + inputs\n",
    "\n",
    "    # Feed Forward Part\n",
    "    x = layers.LayerNormalization(epsilon=1e-6)(res)\n",
    "    x = layers.Conv1D(filters=ff_dim, kernel_size=1, activation=\"relu\")(x)\n",
    "    x = layers.Dropout(dropout)(x)\n",
    "    x = layers.Conv1D(filters=inputs.shape[-1], kernel_size=1)(x)\n",
    "    return x + res\n",
    "\n",
    "\n",
    "def build_model(\n",
    "    input_shape,\n",
    "    head_size,\n",
    "    num_heads,\n",
    "    ff_dim,\n",
    "    num_transformer_blocks,\n",
    "    mlp_units,\n",
    "    dropout=0,\n",
    "    mlp_dropout=0,\n",
    "):\n",
    "    inputs = keras.Input(shape=input_shape)\n",
    "    x = inputs\n",
    "    for _ in range(num_transformer_blocks):\n",
    "        x = transformer_encoder(x, head_size, num_heads, ff_dim, dropout)\n",
    "\n",
    "    x = layers.GlobalAveragePooling1D(data_format=\"channels_first\")(x)\n",
    "    for dim in mlp_units:\n",
    "        x = layers.Dense(dim, activation=\"relu\")(x)\n",
    "        x = layers.Dropout(mlp_dropout)(x)\n",
    "    outputs = layers.Dense(1, activation=\"sigmoid\")(x)\n",
    "    return keras.Model(inputs, outputs)"
   ]
  },
  {
   "cell_type": "code",
   "execution_count": 48,
   "id": "f3a05e0f",
   "metadata": {},
   "outputs": [
    {
     "data": {
      "text/plain": [
       "(1170, 10, 1)"
      ]
     },
     "execution_count": 48,
     "metadata": {},
     "output_type": "execute_result"
    }
   ],
   "source": [
    "x_train = np.array(x_train)\n",
    "x_test = np.array(x_test)\n",
    "x_train = x_train.reshape(x_train.shape[0],x_train.shape[1],1)\n",
    "x_test = x_test.reshape(x_test.shape[0],x_test.shape[1],1)\n",
    "np.shape(x_test)"
   ]
  },
  {
   "cell_type": "code",
   "execution_count": 49,
   "id": "3ca27eb3",
   "metadata": {},
   "outputs": [
    {
     "name": "stdout",
     "output_type": "stream",
     "text": [
      "Epoch 1/8\n",
      "59/59 [==============================] - 15s 182ms/step - loss: 0.3142 - accuracy: 0.7003 - val_loss: 0.3055 - val_accuracy: 0.6944\n",
      "Epoch 2/8\n",
      "59/59 [==============================] - 10s 168ms/step - loss: 0.2892 - accuracy: 0.7107 - val_loss: 0.3055 - val_accuracy: 0.6944\n",
      "Epoch 3/8\n",
      "59/59 [==============================] - 9s 160ms/step - loss: 0.2892 - accuracy: 0.7107 - val_loss: 0.3056 - val_accuracy: 0.6944\n",
      "Epoch 4/8\n",
      "59/59 [==============================] - 9s 155ms/step - loss: 0.2893 - accuracy: 0.7107 - val_loss: 0.3056 - val_accuracy: 0.6944\n",
      "Epoch 5/8\n",
      "59/59 [==============================] - 9s 160ms/step - loss: 0.2893 - accuracy: 0.7107 - val_loss: 0.3055 - val_accuracy: 0.6944\n",
      "Epoch 6/8\n",
      "59/59 [==============================] - 11s 185ms/step - loss: 0.2892 - accuracy: 0.7107 - val_loss: 0.3056 - val_accuracy: 0.6944\n",
      "Epoch 7/8\n",
      "59/59 [==============================] - 11s 180ms/step - loss: 0.2893 - accuracy: 0.7107 - val_loss: 0.3056 - val_accuracy: 0.6944\n",
      "Epoch 8/8\n",
      "59/59 [==============================] - 10s 176ms/step - loss: 0.2892 - accuracy: 0.7107 - val_loss: 0.3056 - val_accuracy: 0.6944\n"
     ]
    }
   ],
   "source": [
    "input_shape = x_train.shape[1:]\n",
    "\n",
    "model = build_model(\n",
    "    input_shape,\n",
    "    head_size=256,\n",
    "    num_heads=4,\n",
    "    ff_dim=4,\n",
    "    num_transformer_blocks=4,\n",
    "    mlp_units=[128],\n",
    "    mlp_dropout=0.4,\n",
    "    dropout=0.25,\n",
    ")\n",
    "\n",
    "model.compile(\n",
    "    loss=\"mse\",\n",
    "    optimizer='Adam',\n",
    "    metrics=['accuracy'],\n",
    ")\n",
    "callbacks = [keras.callbacks.EarlyStopping(patience=10, restore_best_weights=True)]\n",
    "\n",
    "hist = model.fit(\n",
    "    x_train,\n",
    "    Y_train,\n",
    "    validation_split=0.2,\n",
    "    epochs=8,\n",
    "    batch_size=64,\n",
    "    callbacks=callbacks,\n",
    ")\n"
   ]
  },
  {
   "cell_type": "code",
   "execution_count": 130,
   "id": "71c81af9",
   "metadata": {},
   "outputs": [
    {
     "name": "stdout",
     "output_type": "stream",
     "text": [
      "Model: \"model_3\"\n",
      "__________________________________________________________________________________________________\n",
      " Layer (type)                   Output Shape         Param #     Connected to                     \n",
      "==================================================================================================\n",
      " input_4 (InputLayer)           [(None, 11, 1)]      0           []                               \n",
      "                                                                                                  \n",
      " layer_normalization_24 (LayerN  (None, 11, 1)       2           ['input_4[0][0]']                \n",
      " ormalization)                                                                                    \n",
      "                                                                                                  \n",
      " multi_head_attention_12 (Multi  (None, 11, 1)       7169        ['layer_normalization_24[0][0]', \n",
      " HeadAttention)                                                   'layer_normalization_24[0][0]'] \n",
      "                                                                                                  \n",
      " dropout_49 (Dropout)           (None, 11, 1)        0           ['multi_head_attention_12[0][0]']\n",
      "                                                                                                  \n",
      " tf.__operators__.add_24 (TFOpL  (None, 11, 1)       0           ['dropout_49[0][0]',             \n",
      " ambda)                                                           'input_4[0][0]']                \n",
      "                                                                                                  \n",
      " layer_normalization_25 (LayerN  (None, 11, 1)       2           ['tf.__operators__.add_24[0][0]']\n",
      " ormalization)                                                                                    \n",
      "                                                                                                  \n",
      " conv1d_26 (Conv1D)             (None, 11, 4)        8           ['layer_normalization_25[0][0]'] \n",
      "                                                                                                  \n",
      " dropout_50 (Dropout)           (None, 11, 4)        0           ['conv1d_26[0][0]']              \n",
      "                                                                                                  \n",
      " conv1d_27 (Conv1D)             (None, 11, 1)        5           ['dropout_50[0][0]']             \n",
      "                                                                                                  \n",
      " tf.__operators__.add_25 (TFOpL  (None, 11, 1)       0           ['conv1d_27[0][0]',              \n",
      " ambda)                                                           'tf.__operators__.add_24[0][0]']\n",
      "                                                                                                  \n",
      " layer_normalization_26 (LayerN  (None, 11, 1)       2           ['tf.__operators__.add_25[0][0]']\n",
      " ormalization)                                                                                    \n",
      "                                                                                                  \n",
      " multi_head_attention_13 (Multi  (None, 11, 1)       7169        ['layer_normalization_26[0][0]', \n",
      " HeadAttention)                                                   'layer_normalization_26[0][0]'] \n",
      "                                                                                                  \n",
      " dropout_51 (Dropout)           (None, 11, 1)        0           ['multi_head_attention_13[0][0]']\n",
      "                                                                                                  \n",
      " tf.__operators__.add_26 (TFOpL  (None, 11, 1)       0           ['dropout_51[0][0]',             \n",
      " ambda)                                                           'tf.__operators__.add_25[0][0]']\n",
      "                                                                                                  \n",
      " layer_normalization_27 (LayerN  (None, 11, 1)       2           ['tf.__operators__.add_26[0][0]']\n",
      " ormalization)                                                                                    \n",
      "                                                                                                  \n",
      " conv1d_28 (Conv1D)             (None, 11, 4)        8           ['layer_normalization_27[0][0]'] \n",
      "                                                                                                  \n",
      " dropout_52 (Dropout)           (None, 11, 4)        0           ['conv1d_28[0][0]']              \n",
      "                                                                                                  \n",
      " conv1d_29 (Conv1D)             (None, 11, 1)        5           ['dropout_52[0][0]']             \n",
      "                                                                                                  \n",
      " tf.__operators__.add_27 (TFOpL  (None, 11, 1)       0           ['conv1d_29[0][0]',              \n",
      " ambda)                                                           'tf.__operators__.add_26[0][0]']\n",
      "                                                                                                  \n",
      " layer_normalization_28 (LayerN  (None, 11, 1)       2           ['tf.__operators__.add_27[0][0]']\n",
      " ormalization)                                                                                    \n",
      "                                                                                                  \n",
      " multi_head_attention_14 (Multi  (None, 11, 1)       7169        ['layer_normalization_28[0][0]', \n",
      " HeadAttention)                                                   'layer_normalization_28[0][0]'] \n",
      "                                                                                                  \n",
      " dropout_53 (Dropout)           (None, 11, 1)        0           ['multi_head_attention_14[0][0]']\n",
      "                                                                                                  \n",
      " tf.__operators__.add_28 (TFOpL  (None, 11, 1)       0           ['dropout_53[0][0]',             \n",
      " ambda)                                                           'tf.__operators__.add_27[0][0]']\n",
      "                                                                                                  \n",
      " layer_normalization_29 (LayerN  (None, 11, 1)       2           ['tf.__operators__.add_28[0][0]']\n",
      " ormalization)                                                                                    \n",
      "                                                                                                  \n",
      " conv1d_30 (Conv1D)             (None, 11, 4)        8           ['layer_normalization_29[0][0]'] \n",
      "                                                                                                  \n",
      " dropout_54 (Dropout)           (None, 11, 4)        0           ['conv1d_30[0][0]']              \n",
      "                                                                                                  \n",
      " conv1d_31 (Conv1D)             (None, 11, 1)        5           ['dropout_54[0][0]']             \n",
      "                                                                                                  \n",
      " tf.__operators__.add_29 (TFOpL  (None, 11, 1)       0           ['conv1d_31[0][0]',              \n",
      " ambda)                                                           'tf.__operators__.add_28[0][0]']\n",
      "                                                                                                  \n",
      " layer_normalization_30 (LayerN  (None, 11, 1)       2           ['tf.__operators__.add_29[0][0]']\n",
      " ormalization)                                                                                    \n",
      "                                                                                                  \n",
      " multi_head_attention_15 (Multi  (None, 11, 1)       7169        ['layer_normalization_30[0][0]', \n",
      " HeadAttention)                                                   'layer_normalization_30[0][0]'] \n",
      "                                                                                                  \n",
      " dropout_55 (Dropout)           (None, 11, 1)        0           ['multi_head_attention_15[0][0]']\n",
      "                                                                                                  \n",
      " tf.__operators__.add_30 (TFOpL  (None, 11, 1)       0           ['dropout_55[0][0]',             \n"
     ]
    },
    {
     "name": "stdout",
     "output_type": "stream",
     "text": [
      " ambda)                                                           'tf.__operators__.add_29[0][0]']\n",
      "                                                                                                  \n",
      " layer_normalization_31 (LayerN  (None, 11, 1)       2           ['tf.__operators__.add_30[0][0]']\n",
      " ormalization)                                                                                    \n",
      "                                                                                                  \n",
      " conv1d_32 (Conv1D)             (None, 11, 4)        8           ['layer_normalization_31[0][0]'] \n",
      "                                                                                                  \n",
      " dropout_56 (Dropout)           (None, 11, 4)        0           ['conv1d_32[0][0]']              \n",
      "                                                                                                  \n",
      " conv1d_33 (Conv1D)             (None, 11, 1)        5           ['dropout_56[0][0]']             \n",
      "                                                                                                  \n",
      " tf.__operators__.add_31 (TFOpL  (None, 11, 1)       0           ['conv1d_33[0][0]',              \n",
      " ambda)                                                           'tf.__operators__.add_30[0][0]']\n",
      "                                                                                                  \n",
      " global_average_pooling1d_3 (Gl  (None, 11)          0           ['tf.__operators__.add_31[0][0]']\n",
      " obalAveragePooling1D)                                                                            \n",
      "                                                                                                  \n",
      " dense_25 (Dense)               (None, 128)          1536        ['global_average_pooling1d_3[0][0\n",
      "                                                                 ]']                              \n",
      "                                                                                                  \n",
      " dropout_57 (Dropout)           (None, 128)          0           ['dense_25[0][0]']               \n",
      "                                                                                                  \n",
      " dense_26 (Dense)               (None, 1)            129         ['dropout_57[0][0]']             \n",
      "                                                                                                  \n",
      "==================================================================================================\n",
      "Total params: 30,409\n",
      "Trainable params: 30,409\n",
      "Non-trainable params: 0\n",
      "__________________________________________________________________________________________________\n"
     ]
    }
   ],
   "source": [
    "model.summary()"
   ]
  },
  {
   "cell_type": "code",
   "execution_count": 50,
   "id": "7f846e74",
   "metadata": {},
   "outputs": [
    {
     "data": {
      "image/png": "[encoded data removed]",
      "text/plain": [
       "<Figure size 432x288 with 1 Axes>"
      ]
     },
     "metadata": {
      "needs_background": "light"
     },
     "output_type": "display_data"
    }
   ],
   "source": [
    "plt.plot(hist.history['accuracy'])\n",
    "plt.plot(hist.history['val_accuracy'])\n",
    "plt.title('model accuracy')\n",
    "plt.ylabel('accuracy')\n",
    "plt.xlabel('epoch')\n",
    "plt.legend(['train', 'val'], loc='upper left')\n",
    "plt.show()"
   ]
  },
  {
   "cell_type": "code",
   "execution_count": 51,
   "id": "ec047fa1",
   "metadata": {},
   "outputs": [
    {
     "data": {
      "image/png": "[encoded data removed]",
      "text/plain": [
       "<Figure size 432x288 with 2 Axes>"
      ]
     },
     "metadata": {
      "needs_background": "light"
     },
     "output_type": "display_data"
    }
   ],
   "source": [
    "pred = model.predict(x_test)\n",
    "confcal(Y_test,pred.round())"
   ]
  },
  {
   "cell_type": "code",
   "execution_count": 52,
   "id": "56e28445",
   "metadata": {},
   "outputs": [
    {
     "name": "stdout",
     "output_type": "stream",
     "text": [
      "Accuracy : 0.7162393162393162\n",
      "D Index : 1.1109369780082305\n",
      "F1 Score : 0.8346613545816732\n"
     ]
    },
    {
     "name": "stderr",
     "output_type": "stream",
     "text": [
      "C:\\Users\\chsha\\anaconda3\\lib\\site-packages\\sklearn\\metrics\\_classification.py:1248: UndefinedMetricWarning: Recall and F-score are ill-defined and being set to 0.0 in labels with no true samples. Use `zero_division` parameter to control this behavior.\n",
      "  _warn_prf(average, modifier, msg_start, len(result))\n"
     ]
    }
   ],
   "source": [
    "tacc, tdindx, tf1 =  metric(Y_test,pred.round())"
   ]
  },
  {
   "cell_type": "code",
   "execution_count": 53,
   "id": "8492f3c4",
   "metadata": {},
   "outputs": [
    {
     "name": "stdout",
     "output_type": "stream",
     "text": [
      "Prediction on Test Data : \n",
      "\n",
      "No of shares 1170.0\n",
      "Average transaction price  189.42739059829057\n",
      "Profit $0.00\n"
     ]
    },
    {
     "name": "stderr",
     "output_type": "stream",
     "text": [
      "C:\\Users\\chsha\\AppData\\Local\\Temp/ipykernel_10900/1937535649.py:2: SettingWithCopyWarning: \n",
      "A value is trying to be set on a copy of a slice from a DataFrame.\n",
      "Try using .loc[row_indexer,col_indexer] = value instead\n",
      "\n",
      "See the caveats in the documentation: https://pandas.pydata.org/pandas-docs/stable/user_guide/indexing.html#returning-a-view-versus-a-copy\n",
      "  X_test[\"action\"] = pred\n"
     ]
    }
   ],
   "source": [
    "tpf = returncal(X_test,pred.round())"
   ]
  },
  {
   "cell_type": "code",
   "execution_count": 54,
   "id": "41bc3c73",
   "metadata": {},
   "outputs": [
    {
     "name": "stderr",
     "output_type": "stream",
     "text": [
      "C:\\Users\\chsha\\anaconda3\\lib\\site-packages\\sklearn\\utils\\validation.py:70: FutureWarning: Pass classes=[0 1 2], y=[2 1 1 ... 0 2 2] as keyword args. From version 1.0 (renaming of 0.25) passing these as positional arguments will result in an error\n",
      "  warnings.warn(f\"Pass {args_msg} as keyword args. From version \"\n"
     ]
    },
    {
     "data": {
      "text/plain": [
       "array([2.19409283, 0.47115675, 2.37082067])"
      ]
     },
     "execution_count": 54,
     "metadata": {},
     "output_type": "execute_result"
    }
   ],
   "source": [
    "from sklearn.utils import class_weight\n",
    "c = class_weight.compute_class_weight('balanced', np.unique(Y_train),Y_train)\n",
    "c"
   ]
  },
  {
   "cell_type": "code",
   "execution_count": 55,
   "id": "e505a1bf",
   "metadata": {},
   "outputs": [
    {
     "data": {
      "text/plain": [
       "{0: 1.4812470513065061, 1: 0.6864085883979874, 2: 1.5397469495644436}"
      ]
     },
     "execution_count": 55,
     "metadata": {},
     "output_type": "execute_result"
    }
   ],
   "source": [
    "class_weight = {0: sqrt(c[0]),\n",
    "                1: sqrt(c[1]),\n",
    "                2: sqrt(c[2])}\n",
    "class_weight"
   ]
  },
  {
   "cell_type": "code",
   "execution_count": 57,
   "id": "1e1fcdf5",
   "metadata": {},
   "outputs": [],
   "source": [
    "model = Sequential()\n",
    "model.add(Conv1D(16, kernel_size=3,  activation='relu', input_shape=(10,1)))\n",
    "model.add(Flatten())\n",
    "model.add(Dense(1, activation='sigmoid'))\n",
    "model.compile(optimizer='Adam', loss='mse', metrics=['accuracy'])\n",
    "hist = model.fit(x_train, Y_train, batch_size=32,epochs=50,validation_split = 0.2, verbose = 0,class_weight=class_weight)"
   ]
  },
  {
   "cell_type": "code",
   "execution_count": 58,
   "id": "fefd84d8",
   "metadata": {},
   "outputs": [
    {
     "data": {
      "image/png": "[encoded data removed]",
      "text/plain": [
       "<Figure size 432x288 with 1 Axes>"
      ]
     },
     "metadata": {
      "needs_background": "light"
     },
     "output_type": "display_data"
    }
   ],
   "source": [
    "plt.plot(hist.history['accuracy'])\n",
    "plt.plot(hist.history['val_accuracy'])\n",
    "plt.title('model accuracy')\n",
    "plt.ylabel('accuracy')\n",
    "plt.xlabel('epoch')\n",
    "plt.legend(['train', 'val'], loc='upper left')\n",
    "plt.show()"
   ]
  },
  {
   "cell_type": "code",
   "execution_count": 59,
   "id": "fba00ca2",
   "metadata": {},
   "outputs": [
    {
     "data": {
      "image/png": "[encoded data removed]",
      "text/plain": [
       "<Figure size 432x288 with 2 Axes>"
      ]
     },
     "metadata": {
      "needs_background": "light"
     },
     "output_type": "display_data"
    }
   ],
   "source": [
    "pred = model.predict(x_test)\n",
    "confcal(Y_test,pred.round())"
   ]
  },
  {
   "cell_type": "code",
   "execution_count": 60,
   "id": "aeed7b80",
   "metadata": {},
   "outputs": [
    {
     "name": "stdout",
     "output_type": "stream",
     "text": [
      "Accuracy : 0.7136752136752137\n",
      "D Index : 1.180662584227746\n",
      "F1 Score : 0.8211365393683788\n"
     ]
    },
    {
     "name": "stderr",
     "output_type": "stream",
     "text": [
      "C:\\Users\\chsha\\anaconda3\\lib\\site-packages\\sklearn\\metrics\\_classification.py:1248: UndefinedMetricWarning: Recall and F-score are ill-defined and being set to 0.0 in labels with no true samples. Use `zero_division` parameter to control this behavior.\n",
      "  _warn_prf(average, modifier, msg_start, len(result))\n"
     ]
    }
   ],
   "source": [
    "wacc, wdindx, wf1 =  metric(Y_test,pred.round())"
   ]
  },
  {
   "cell_type": "code",
   "execution_count": 61,
   "id": "16611523",
   "metadata": {},
   "outputs": [
    {
     "name": "stdout",
     "output_type": "stream",
     "text": [
      "Prediction on Test Data : \n",
      "\n",
      "No of shares 1151.0\n",
      "Average transaction price  189.54331885317112\n",
      "Profit $3,465.69\n"
     ]
    },
    {
     "name": "stderr",
     "output_type": "stream",
     "text": [
      "C:\\Users\\chsha\\AppData\\Local\\Temp/ipykernel_10900/1937535649.py:2: SettingWithCopyWarning: \n",
      "A value is trying to be set on a copy of a slice from a DataFrame.\n",
      "Try using .loc[row_indexer,col_indexer] = value instead\n",
      "\n",
      "See the caveats in the documentation: https://pandas.pydata.org/pandas-docs/stable/user_guide/indexing.html#returning-a-view-versus-a-copy\n",
      "  X_test[\"action\"] = pred\n"
     ]
    }
   ],
   "source": [
    "wpf = returncal(X_test,pred.round())"
   ]
  },
  {
   "cell_type": "code",
   "execution_count": null,
   "id": "677852fd",
   "metadata": {},
   "outputs": [],
   "source": []
  },
  {
   "cell_type": "code",
   "execution_count": 62,
   "id": "7ee582a5",
   "metadata": {},
   "outputs": [
    {
     "data": {
      "image/png": "[encoded data removed]",
      "text/plain": [
       "<Figure size 432x288 with 1 Axes>"
      ]
     },
     "metadata": {
      "needs_background": "light"
     },
     "output_type": "display_data"
    }
   ],
   "source": [
    "fig=plt.figure(figsize=(6,4))\n",
    "bar1 = plt.bar(\"DNN\", ddindx, color= 'r',width = .2)\n",
    "bar2 = plt.bar(\"LSTM\", ldindx, color= 'c', width = .2)\n",
    "bar3 = plt.bar(\"CNN\", cdindx, color= 'b',width = .2)\n",
    "bar4 = plt.bar(\"Extra Tree\", edindx, color= 'y', width = .2)\n",
    "bar5 = plt.bar(\"Transformer\", tdindx, color= 'g',width = .2)\n",
    "bar6 = plt.bar(\"CNN Weights\", wdindx, color= 'k', width = .2)\n",
    "    \n",
    "plt.legend( (bar1,bar2,bar3,bar4,bar5,bar6), (\"DNN\",\"LSTM\",\"CNN\",\"Extra Tree\",\"Transformer\",\"CNN Weights\") )\n",
    "plt.ylabel(\"D Index\")\n",
    "plt.show()"
   ]
  },
  {
   "cell_type": "code",
   "execution_count": 64,
   "id": "626edd54",
   "metadata": {},
   "outputs": [
    {
     "data": {
      "image/png": "[encoded data removed]",
      "text/plain": [
       "<Figure size 432x288 with 1 Axes>"
      ]
     },
     "metadata": {
      "needs_background": "light"
     },
     "output_type": "display_data"
    }
   ],
   "source": [
    "fig=plt.figure(figsize=(6,4))\n",
    "bar1 = plt.bar(\"DNN\", dpf, color= 'r',width = .2)\n",
    "bar2 = plt.bar(\"LSTM\", lpf, color= 'k', width = .2)\n",
    "bar3 = plt.bar(\"CNN\", cpf, color= 'y',width = .2)\n",
    "bar4 = plt.bar(\"Extra Tree\", epf, color= 'g', width = .2)\n",
    "bar5 = plt.bar(\"Transformer\", tpf, color= 'b',width = .2)\n",
    "bar6 = plt.bar(\"CNN Weights\", wpf, color= 'c', width = .2)\n",
    "    \n",
    "plt.legend( (bar1,bar2,bar3,bar4,bar5,bar6), (\"DNN\",\"LSTM\",\"CNN\",\"Extra Tree\",\"Transformer\",\"CNN Weights\") )\n",
    "plt.ylabel(\"Profit\")\n",
    "plt.show()"
   ]
  },
  {
   "cell_type": "code",
   "execution_count": 157,
   "id": "dd77afbc",
   "metadata": {},
   "outputs": [
    {
     "data": {
      "text/plain": [
       "array([0, 0, 0, ..., 1, 1, 1])"
      ]
     },
     "execution_count": 157,
     "metadata": {},
     "output_type": "execute_result"
    }
   ],
   "source": []
  },
  {
   "cell_type": "code",
   "execution_count": null,
   "id": "c211b83a",
   "metadata": {},
   "outputs": [],
   "source": []
  },
  {
   "cell_type": "code",
   "execution_count": null,
   "id": "e05ec158",
   "metadata": {},
   "outputs": [],
   "source": []
  },
  {
   "cell_type": "code",
   "execution_count": null,
   "id": "f0644d2e",
   "metadata": {},
   "outputs": [],
   "source": []
  },
  {
   "cell_type": "code",
   "execution_count": null,
   "id": "34b87ddb",
   "metadata": {},
   "outputs": [],
   "source": []
  },
  {
   "cell_type": "code",
   "execution_count": null,
   "id": "1075cfa7",
   "metadata": {},
   "outputs": [],
   "source": []
  },
  {
   "cell_type": "code",
   "execution_count": null,
   "id": "4e24fe47",
   "metadata": {},
   "outputs": [],
   "source": []
  },
  {
   "cell_type": "code",
   "execution_count": null,
   "id": "42dae801",
   "metadata": {},
   "outputs": [],
   "source": []
  }
 ],
 "metadata": {
  "kernelspec": {
   "display_name": "Python 3 (ipykernel)",
   "language": "python",
   "name": "python3"
  },
  "language_info": {
   "codemirror_mode": {
    "name": "ipython",
    "version": 3
   },
   "file_extension": ".py",
   "mimetype": "text/x-python",
   "name": "python",
   "nbconvert_exporter": "python",
   "pygments_lexer": "ipython3",
   "version": "3.9.7"
  }
 },
 "nbformat": 4,
 "nbformat_minor": 5
}
