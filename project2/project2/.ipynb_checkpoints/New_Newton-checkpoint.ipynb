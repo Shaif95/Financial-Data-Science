{
 "cells": [
  {
   "cell_type": "code",
   "execution_count": 1,
   "id": "409170a6",
   "metadata": {},
   "outputs": [],
   "source": [
    "import numpy as np\n",
    "import matplotlib.pyplot as plt\n",
    "import pandas as pd\n",
    "from sklearn.decomposition import PCA\n",
    "from sklearn import svm\n",
    "import seaborn as sns\n",
    "from matplotlib.colors import ListedColormap\n",
    "from sklearn import neighbors\n",
    "import matplotlib.pyplot as plt\n",
    "from pandas.plotting import parallel_coordinates\n",
    "from sklearn.preprocessing import StandardScaler\n",
    "from sklearn import decomposition\n",
    "import scipy\n",
    "from sklearn.manifold import TSNE\n",
    "from pandas.plotting import parallel_coordinates\n",
    "from sklearn import decomposition\n",
    "import numpy as np\n",
    "import matplotlib.pyplot as plt\n",
    "import pandas as pd\n",
    "from sklearn.decomposition import PCA\n",
    "from sklearn import svm\n",
    "import seaborn as sns\n",
    "from matplotlib.colors import ListedColormap\n",
    "from sklearn import neighbors\n",
    "import matplotlib.pyplot as plt\n",
    "from pandas.plotting import parallel_coordinates\n",
    "from sklearn.preprocessing import StandardScaler\n",
    "from sklearn import decomposition\n",
    "import scipy\n",
    "from math import  pi, exp,log, sqrt\n",
    "from scipy.stats import norm\n",
    "from sklearn.manifold import TSNE\n",
    "import seaborn as sn\n",
    "from sklearn.datasets import make_friedman1\n",
    "from sklearn.decomposition import SparsePCA\n",
    "from dask import dataframe as dd"
   ]
  },
  {
   "cell_type": "code",
   "execution_count": 2,
   "id": "783174ab",
   "metadata": {},
   "outputs": [
    {
     "data": {
      "text/html": [
       "<div>\n",
       "<style scoped>\n",
       "    .dataframe tbody tr th:only-of-type {\n",
       "        vertical-align: middle;\n",
       "    }\n",
       "\n",
       "    .dataframe tbody tr th {\n",
       "        vertical-align: top;\n",
       "    }\n",
       "\n",
       "    .dataframe thead th {\n",
       "        text-align: right;\n",
       "    }\n",
       "</style>\n",
       "<table border=\"1\" class=\"dataframe\">\n",
       "  <thead>\n",
       "    <tr style=\"text-align: right;\">\n",
       "      <th></th>\n",
       "      <th>Unnamed: 0</th>\n",
       "      <th>currentDate</th>\n",
       "      <th>ExpDate</th>\n",
       "      <th>StrikePrice</th>\n",
       "      <th>Ticker</th>\n",
       "      <th>Type</th>\n",
       "      <th>Last</th>\n",
       "      <th>Implied volatility</th>\n",
       "      <th>Underlaying asset price</th>\n",
       "      <th>Expiration time</th>\n",
       "    </tr>\n",
       "  </thead>\n",
       "  <tbody>\n",
       "    <tr>\n",
       "      <th>0</th>\n",
       "      <td>0</td>\n",
       "      <td>2/17/17</td>\n",
       "      <td>7/21/17</td>\n",
       "      <td>34.799999</td>\n",
       "      <td>TBNK</td>\n",
       "      <td>Call</td>\n",
       "      <td>1.06</td>\n",
       "      <td>0.13250</td>\n",
       "      <td>33.549999</td>\n",
       "      <td>0.421629</td>\n",
       "    </tr>\n",
       "    <tr>\n",
       "      <th>1</th>\n",
       "      <td>1</td>\n",
       "      <td>2/17/17</td>\n",
       "      <td>3/17/17</td>\n",
       "      <td>20.000000</td>\n",
       "      <td>ARR</td>\n",
       "      <td>Call</td>\n",
       "      <td>1.70</td>\n",
       "      <td>0.02022</td>\n",
       "      <td>21.709999</td>\n",
       "      <td>0.076660</td>\n",
       "    </tr>\n",
       "    <tr>\n",
       "      <th>2</th>\n",
       "      <td>3</td>\n",
       "      <td>2/17/17</td>\n",
       "      <td>3/17/17</td>\n",
       "      <td>20.000000</td>\n",
       "      <td>ARR</td>\n",
       "      <td>Put</td>\n",
       "      <td>0.20</td>\n",
       "      <td>0.32783</td>\n",
       "      <td>21.709999</td>\n",
       "      <td>0.076660</td>\n",
       "    </tr>\n",
       "  </tbody>\n",
       "</table>\n",
       "</div>"
      ],
      "text/plain": [
       "   Unnamed: 0 currentDate  ExpDate  StrikePrice Ticker  Type  Last  \\\n",
       "0           0     2/17/17  7/21/17    34.799999   TBNK  Call  1.06   \n",
       "1           1     2/17/17  3/17/17    20.000000    ARR  Call  1.70   \n",
       "2           3     2/17/17  3/17/17    20.000000    ARR   Put  0.20   \n",
       "\n",
       "   Implied volatility  Underlaying asset price  Expiration time  \n",
       "0             0.13250                33.549999         0.421629  \n",
       "1             0.02022                21.709999         0.076660  \n",
       "2             0.32783                21.709999         0.076660  "
      ]
     },
     "execution_count": 2,
     "metadata": {},
     "output_type": "execute_result"
    }
   ],
   "source": [
    "OP_df = pd.read_csv('EuropeanOption2017.csv')\n",
    "OP_df = OP_df.dropna()\n",
    "OP_df.head(3)"
   ]
  },
  {
   "cell_type": "code",
   "execution_count": null,
   "id": "92de454f",
   "metadata": {},
   "outputs": [],
   "source": []
  },
  {
   "cell_type": "code",
   "execution_count": 3,
   "id": "26268467",
   "metadata": {},
   "outputs": [],
   "source": [
    "def d1(S,K,T,r,sigma):\n",
    "    \n",
    "    x = ( log (S/K) + ( ( r + ((sigma**2)/2) )* T  )  ) / ( sigma * ( sqrt ( T ) ) )\n",
    "    return x \n",
    "\n",
    "def d2(S,K,T,r,sigma):\n",
    "    \n",
    "    x = ( log (S/K) + ( ( r - ((sigma**2)/2) )* T  )  ) / ( sigma * ( sqrt ( T ) ) )\n",
    "    return x"
   ]
  },
  {
   "cell_type": "code",
   "execution_count": 4,
   "id": "eec2afd9",
   "metadata": {},
   "outputs": [],
   "source": [
    "def call(S,K,T,r,sigma):\n",
    "\n",
    "    return S  * norm.cdf( d1(S,K,T,r,sigma) ) - K * (exp(- (r*T) ) ) * norm.cdf( d2(S,K,T,r,sigma) )\n",
    "\n",
    "def put(S,K,T,r,sigma):\n",
    "\n",
    "    return   -norm.cdf(- d1(S,K,T,r,sigma)) * S + norm.cdf(-d2(S,K,T,r,sigma)) * K * np.exp(-r * T)"
   ]
  },
  {
   "cell_type": "code",
   "execution_count": 7,
   "id": "c285c75c",
   "metadata": {},
   "outputs": [],
   "source": []
  },
  {
   "cell_type": "code",
   "execution_count": 5,
   "id": "dade3e09",
   "metadata": {},
   "outputs": [],
   "source": [
    "\n",
    "def vega(S, K, T, r, sigma):\n",
    "\n",
    "    d11 = d1(S,K,T,r,sigma)\n",
    "\n",
    "    \n",
    "    vega = S  * np.sqrt(T) * norm.pdf(d11)\n",
    "    return vega"
   ]
  },
  {
   "cell_type": "code",
   "execution_count": 11,
   "id": "85c24806",
   "metadata": {},
   "outputs": [],
   "source": [
    "from scipy import optimize\n",
    "import scipy.stats as si\n",
    "\n",
    "def newcall(C, S, K,r, T ):\n",
    "    def brentt(sigma):\n",
    "        d11 = d1(S,K,T,r,sigma)\n",
    "        d22 = d2(S,K,T,r,sigma)\n",
    "        Brent = call(S,K,T,r,sigma)\n",
    "        fx = Brent - C\n",
    "        return fx\n",
    "    tol=0.000000000001\n",
    "    max_iter=100\n",
    "    sigma = optimize.brentq(brentt,0.1,10,maxiter=100)\n",
    "\n",
    "    for i in range(max_iter):\n",
    "        diff = call(S, K, T, r, sigma) - C\n",
    "\n",
    "        if abs(diff) < tol:\n",
    "            break\n",
    "\n",
    "        ### use newton rapshon to update the estimate\n",
    "        sigma = sigma - diff / vega(S, K, T, r, sigma)\n",
    "\n",
    "    return sigma,i"
   ]
  },
  {
   "cell_type": "code",
   "execution_count": 13,
   "id": "854150ee",
   "metadata": {},
   "outputs": [],
   "source": [
    "def newput(C, S, K,r, T ):\n",
    "    def brentp(sigma):\n",
    "        d11 = d1(S,K,T,r,sigma)\n",
    "        d22 = d2(S,K,T,r,sigma)\n",
    "        Brent = put(S,K,T,r,sigma)\n",
    "        fx = Brent - C\n",
    "        return fx\n",
    "    tol=0.000000000001\n",
    "    max_iter=100\n",
    "    sigma = optimize.brentq(brentp,0.1,10,maxiter=100)\n",
    "\n",
    "    for i in range(max_iter):\n",
    "        diff = put(S, K, T, r, sigma) - C\n",
    "\n",
    "        if abs(diff) < tol:\n",
    "            break\n",
    "\n",
    "        ### use newton rapshon to update the estimate\n",
    "        sigma = sigma - diff / vega(S, K, T, r, sigma)\n",
    "\n",
    "    return sigma,i"
   ]
  },
  {
   "cell_type": "code",
   "execution_count": 12,
   "id": "5378534a",
   "metadata": {},
   "outputs": [
    {
     "data": {
      "text/plain": [
       "0.10570986506318931"
      ]
     },
     "execution_count": 12,
     "metadata": {},
     "output_type": "execute_result"
    }
   ],
   "source": [
    "m,iter = (newcall( 0.30 , 21.709999 , 22.000000 , 0.03, 0.172485 )) \n",
    "m"
   ]
  },
  {
   "cell_type": "code",
   "execution_count": 18,
   "id": "cc79832a",
   "metadata": {},
   "outputs": [
    {
     "data": {
      "text/plain": [
       "0"
      ]
     },
     "execution_count": 18,
     "metadata": {},
     "output_type": "execute_result"
    }
   ],
   "source": [
    "iter"
   ]
  },
  {
   "cell_type": "code",
   "execution_count": 16,
   "id": "d69c6a5b",
   "metadata": {},
   "outputs": [
    {
     "data": {
      "text/plain": [
       "0.10570986506318956"
      ]
     },
     "execution_count": 16,
     "metadata": {},
     "output_type": "execute_result"
    }
   ],
   "source": [
    "m"
   ]
  },
  {
   "cell_type": "code",
   "execution_count": 14,
   "id": "9cb0c036",
   "metadata": {},
   "outputs": [
    {
     "data": {
      "text/html": [
       "<div>\n",
       "<style scoped>\n",
       "    .dataframe tbody tr th:only-of-type {\n",
       "        vertical-align: middle;\n",
       "    }\n",
       "\n",
       "    .dataframe tbody tr th {\n",
       "        vertical-align: top;\n",
       "    }\n",
       "\n",
       "    .dataframe thead th {\n",
       "        text-align: right;\n",
       "    }\n",
       "</style>\n",
       "<table border=\"1\" class=\"dataframe\">\n",
       "  <thead>\n",
       "    <tr style=\"text-align: right;\">\n",
       "      <th></th>\n",
       "      <th>Unnamed: 0</th>\n",
       "      <th>currentDate</th>\n",
       "      <th>ExpDate</th>\n",
       "      <th>StrikePrice</th>\n",
       "      <th>Ticker</th>\n",
       "      <th>Type</th>\n",
       "      <th>Last</th>\n",
       "      <th>Implied volatility</th>\n",
       "      <th>Underlaying asset price</th>\n",
       "      <th>Expiration time</th>\n",
       "    </tr>\n",
       "  </thead>\n",
       "  <tbody>\n",
       "    <tr>\n",
       "      <th>0</th>\n",
       "      <td>0</td>\n",
       "      <td>2/17/17</td>\n",
       "      <td>7/21/17</td>\n",
       "      <td>34.799999</td>\n",
       "      <td>TBNK</td>\n",
       "      <td>Call</td>\n",
       "      <td>1.06</td>\n",
       "      <td>0.13250</td>\n",
       "      <td>33.549999</td>\n",
       "      <td>0.421629</td>\n",
       "    </tr>\n",
       "    <tr>\n",
       "      <th>1</th>\n",
       "      <td>1</td>\n",
       "      <td>2/17/17</td>\n",
       "      <td>3/17/17</td>\n",
       "      <td>20.000000</td>\n",
       "      <td>ARR</td>\n",
       "      <td>Call</td>\n",
       "      <td>1.70</td>\n",
       "      <td>0.02022</td>\n",
       "      <td>21.709999</td>\n",
       "      <td>0.076660</td>\n",
       "    </tr>\n",
       "    <tr>\n",
       "      <th>2</th>\n",
       "      <td>3</td>\n",
       "      <td>2/17/17</td>\n",
       "      <td>3/17/17</td>\n",
       "      <td>20.000000</td>\n",
       "      <td>ARR</td>\n",
       "      <td>Put</td>\n",
       "      <td>0.20</td>\n",
       "      <td>0.32783</td>\n",
       "      <td>21.709999</td>\n",
       "      <td>0.076660</td>\n",
       "    </tr>\n",
       "  </tbody>\n",
       "</table>\n",
       "</div>"
      ],
      "text/plain": [
       "   Unnamed: 0 currentDate  ExpDate  StrikePrice Ticker  Type  Last  \\\n",
       "0           0     2/17/17  7/21/17    34.799999   TBNK  Call  1.06   \n",
       "1           1     2/17/17  3/17/17    20.000000    ARR  Call  1.70   \n",
       "2           3     2/17/17  3/17/17    20.000000    ARR   Put  0.20   \n",
       "\n",
       "   Implied volatility  Underlaying asset price  Expiration time  \n",
       "0             0.13250                33.549999         0.421629  \n",
       "1             0.02022                21.709999         0.076660  \n",
       "2             0.32783                21.709999         0.076660  "
      ]
     },
     "execution_count": 14,
     "metadata": {},
     "output_type": "execute_result"
    }
   ],
   "source": [
    "S = np.array( OP_df[\"Underlaying asset price\"]).astype(\"float\")\n",
    "K = np.array( OP_df[\"StrikePrice\"]).astype(\"float\")\n",
    "r = .03\n",
    "T = np.array( OP_df[\"Expiration time\"]).astype(\"float\")\n",
    "Op = np.array( OP_df[\"Last\"]).astype(\"float\")\n",
    "Type = np.array( OP_df[\"Type\"]).astype(\"str\")\n",
    "OP_df.head(3)"
   ]
  },
  {
   "cell_type": "code",
   "execution_count": 15,
   "id": "73de242c",
   "metadata": {},
   "outputs": [],
   "source": [
    "imp = []\n",
    "iter = []\n",
    "for i in range( 0, len(OP_df) ):\n",
    "    if(Type[i] == \"Call\"):\n",
    "        try:\n",
    "            \n",
    "            m,it = (newcall( Op[i] , S[i] , K[i] , r , T[i] )) \n",
    "            imp.append(m)\n",
    "            iter.append(it)\n",
    "        except:\n",
    "            imp.append(.31)\n",
    "            iter.append(1000)\n",
    "    else:\n",
    "        try:\n",
    "            \n",
    "            m,it = (newput( Op[i] , S[i] , K[i] , r , T[i] )) \n",
    "            imp.append(m)\n",
    "            iter.append(it)\n",
    "        except:\n",
    "            imp.append(.31)\n",
    "            iter.append(1000)"
   ]
  },
  {
   "cell_type": "code",
   "execution_count": 16,
   "id": "662b4806",
   "metadata": {},
   "outputs": [
    {
     "data": {
      "text/html": [
       "<div>\n",
       "<style scoped>\n",
       "    .dataframe tbody tr th:only-of-type {\n",
       "        vertical-align: middle;\n",
       "    }\n",
       "\n",
       "    .dataframe tbody tr th {\n",
       "        vertical-align: top;\n",
       "    }\n",
       "\n",
       "    .dataframe thead th {\n",
       "        text-align: right;\n",
       "    }\n",
       "</style>\n",
       "<table border=\"1\" class=\"dataframe\">\n",
       "  <thead>\n",
       "    <tr style=\"text-align: right;\">\n",
       "      <th></th>\n",
       "      <th>Unnamed: 0</th>\n",
       "      <th>currentDate</th>\n",
       "      <th>ExpDate</th>\n",
       "      <th>StrikePrice</th>\n",
       "      <th>Ticker</th>\n",
       "      <th>Type</th>\n",
       "      <th>Last</th>\n",
       "      <th>Implied volatility</th>\n",
       "      <th>Underlaying asset price</th>\n",
       "      <th>Expiration time</th>\n",
       "      <th>imp</th>\n",
       "      <th>iter</th>\n",
       "    </tr>\n",
       "  </thead>\n",
       "  <tbody>\n",
       "    <tr>\n",
       "      <th>0</th>\n",
       "      <td>0</td>\n",
       "      <td>2/17/17</td>\n",
       "      <td>7/21/17</td>\n",
       "      <td>34.799999</td>\n",
       "      <td>TBNK</td>\n",
       "      <td>Call</td>\n",
       "      <td>1.06</td>\n",
       "      <td>0.13250</td>\n",
       "      <td>33.549999</td>\n",
       "      <td>0.421629</td>\n",
       "      <td>0.162619</td>\n",
       "      <td>0</td>\n",
       "    </tr>\n",
       "    <tr>\n",
       "      <th>1</th>\n",
       "      <td>1</td>\n",
       "      <td>2/17/17</td>\n",
       "      <td>3/17/17</td>\n",
       "      <td>20.000000</td>\n",
       "      <td>ARR</td>\n",
       "      <td>Call</td>\n",
       "      <td>1.70</td>\n",
       "      <td>0.02022</td>\n",
       "      <td>21.709999</td>\n",
       "      <td>0.076660</td>\n",
       "      <td>0.310000</td>\n",
       "      <td>1000</td>\n",
       "    </tr>\n",
       "    <tr>\n",
       "      <th>2</th>\n",
       "      <td>3</td>\n",
       "      <td>2/17/17</td>\n",
       "      <td>3/17/17</td>\n",
       "      <td>20.000000</td>\n",
       "      <td>ARR</td>\n",
       "      <td>Put</td>\n",
       "      <td>0.20</td>\n",
       "      <td>0.32783</td>\n",
       "      <td>21.709999</td>\n",
       "      <td>0.076660</td>\n",
       "      <td>0.341223</td>\n",
       "      <td>0</td>\n",
       "    </tr>\n",
       "  </tbody>\n",
       "</table>\n",
       "</div>"
      ],
      "text/plain": [
       "   Unnamed: 0 currentDate  ExpDate  StrikePrice Ticker  Type  Last  \\\n",
       "0           0     2/17/17  7/21/17    34.799999   TBNK  Call  1.06   \n",
       "1           1     2/17/17  3/17/17    20.000000    ARR  Call  1.70   \n",
       "2           3     2/17/17  3/17/17    20.000000    ARR   Put  0.20   \n",
       "\n",
       "   Implied volatility  Underlaying asset price  Expiration time       imp  \\\n",
       "0             0.13250                33.549999         0.421629  0.162619   \n",
       "1             0.02022                21.709999         0.076660  0.310000   \n",
       "2             0.32783                21.709999         0.076660  0.341223   \n",
       "\n",
       "   iter  \n",
       "0     0  \n",
       "1  1000  \n",
       "2     0  "
      ]
     },
     "execution_count": 16,
     "metadata": {},
     "output_type": "execute_result"
    }
   ],
   "source": [
    "OP_df['imp'] = pd.Series(imp)\n",
    "OP_df['iter'] = pd.Series(iter)\n",
    "OP_df.head(3)"
   ]
  },
  {
   "cell_type": "code",
   "execution_count": 17,
   "id": "82362dc1",
   "metadata": {},
   "outputs": [],
   "source": [
    "OP_df[\"diff\"] = OP_df['Implied volatility'] - OP_df['imp']\n",
    "OP_df['mse'] = OP_df['diff']**2\n",
    "mse = OP_df['mse'].sum()/len(OP_df)\n",
    "iteration = OP_df['iter'].sum()/len(OP_df)"
   ]
  },
  {
   "cell_type": "code",
   "execution_count": 18,
   "id": "7b6e35f6",
   "metadata": {},
   "outputs": [
    {
     "data": {
      "text/plain": [
       "0.03155944038504033"
      ]
     },
     "execution_count": 18,
     "metadata": {},
     "output_type": "execute_result"
    }
   ],
   "source": [
    "mse"
   ]
  },
  {
   "cell_type": "code",
   "execution_count": 19,
   "id": "75c106de",
   "metadata": {},
   "outputs": [
    {
     "data": {
      "text/plain": [
       "54.922764976958526"
      ]
     },
     "execution_count": 19,
     "metadata": {},
     "output_type": "execute_result"
    }
   ],
   "source": [
    "iteration"
   ]
  },
  {
   "cell_type": "code",
   "execution_count": 20,
   "id": "0b3e4650",
   "metadata": {},
   "outputs": [
    {
     "data": {
      "text/plain": [
       "0.24090778881172858"
      ]
     },
     "execution_count": 20,
     "metadata": {},
     "output_type": "execute_result"
    }
   ],
   "source": [
    "n = 1 / ( ( 1 + mse ) * log( 1 + iteration ) )\n",
    "n"
   ]
  },
  {
   "cell_type": "code",
   "execution_count": 31,
   "id": "acc1ba6b",
   "metadata": {},
   "outputs": [],
   "source": [
    "list = []\n",
    "list.append(mse)\n",
    "list.append(iteration)\n",
    "list.append(n)\n"
   ]
  },
  {
   "cell_type": "code",
   "execution_count": 32,
   "id": "fb98e2d9",
   "metadata": {},
   "outputs": [],
   "source": [
    "df = pd.read_csv('result.csv')"
   ]
  },
  {
   "cell_type": "code",
   "execution_count": 33,
   "id": "69924f66",
   "metadata": {},
   "outputs": [
    {
     "data": {
      "text/html": [
       "<div>\n",
       "<style scoped>\n",
       "    .dataframe tbody tr th:only-of-type {\n",
       "        vertical-align: middle;\n",
       "    }\n",
       "\n",
       "    .dataframe tbody tr th {\n",
       "        vertical-align: top;\n",
       "    }\n",
       "\n",
       "    .dataframe thead th {\n",
       "        text-align: right;\n",
       "    }\n",
       "</style>\n",
       "<table border=\"1\" class=\"dataframe\">\n",
       "  <thead>\n",
       "    <tr style=\"text-align: right;\">\n",
       "      <th></th>\n",
       "      <th>bisection</th>\n",
       "      <th>Brent</th>\n",
       "      <th>Newton-Raphson</th>\n",
       "    </tr>\n",
       "  </thead>\n",
       "  <tbody>\n",
       "    <tr>\n",
       "      <th>0</th>\n",
       "      <td>0.030047</td>\n",
       "      <td>0.031006</td>\n",
       "      <td>0.053913</td>\n",
       "    </tr>\n",
       "    <tr>\n",
       "      <th>1</th>\n",
       "      <td>47.105868</td>\n",
       "      <td>48.379539</td>\n",
       "      <td>7.363687</td>\n",
       "    </tr>\n",
       "    <tr>\n",
       "      <th>2</th>\n",
       "      <td>0.250640</td>\n",
       "      <td>0.248729</td>\n",
       "      <td>0.446747</td>\n",
       "    </tr>\n",
       "  </tbody>\n",
       "</table>\n",
       "</div>"
      ],
      "text/plain": [
       "   bisection      Brent  Newton-Raphson\n",
       "0   0.030047   0.031006        0.053913\n",
       "1  47.105868  48.379539        7.363687\n",
       "2   0.250640   0.248729        0.446747"
      ]
     },
     "execution_count": 33,
     "metadata": {},
     "output_type": "execute_result"
    }
   ],
   "source": [
    "df[\"Newton-Raphson\"] = list\n",
    "df.head(3)"
   ]
  },
  {
   "cell_type": "code",
   "execution_count": 34,
   "id": "5716ccec",
   "metadata": {},
   "outputs": [],
   "source": [
    "df.to_csv('result.csv', index=False)"
   ]
  },
  {
   "cell_type": "code",
   "execution_count": null,
   "id": "90f14496",
   "metadata": {},
   "outputs": [],
   "source": []
  },
  {
   "cell_type": "code",
   "execution_count": null,
   "id": "8f3c53a4",
   "metadata": {},
   "outputs": [],
   "source": []
  },
  {
   "cell_type": "code",
   "execution_count": null,
   "id": "3bdc2aa6",
   "metadata": {},
   "outputs": [],
   "source": []
  }
 ],
 "metadata": {
  "kernelspec": {
   "display_name": "Python 3 (ipykernel)",
   "language": "python",
   "name": "python3"
  },
  "language_info": {
   "codemirror_mode": {
    "name": "ipython",
    "version": 3
   },
   "file_extension": ".py",
   "mimetype": "text/x-python",
   "name": "python",
   "nbconvert_exporter": "python",
   "pygments_lexer": "ipython3",
   "version": "3.9.7"
  }
 },
 "nbformat": 4,
 "nbformat_minor": 5
}
