{
 "cells": [
  {
   "cell_type": "code",
   "execution_count": 1,
   "id": "ac980db5",
   "metadata": {},
   "outputs": [],
   "source": [
    "import numpy as np\n",
    "import matplotlib.pyplot as plt\n",
    "import pandas as pd\n",
    "from sklearn.decomposition import PCA\n",
    "from sklearn import svm\n",
    "import seaborn as sns\n",
    "from matplotlib.colors import ListedColormap\n",
    "from sklearn import neighbors\n",
    "import matplotlib.pyplot as plt\n",
    "from pandas.plotting import parallel_coordinates\n",
    "from sklearn.preprocessing import StandardScaler\n",
    "from sklearn import decomposition\n",
    "import scipy\n",
    "from sklearn.manifold import TSNE\n",
    "from pandas.plotting import parallel_coordinates\n",
    "from sklearn import decomposition\n",
    "import numpy as np\n",
    "import matplotlib.pyplot as plt\n",
    "import pandas as pd\n",
    "from sklearn.decomposition import PCA\n",
    "from sklearn import svm\n",
    "import seaborn as sns\n",
    "from matplotlib.colors import ListedColormap\n",
    "from sklearn import neighbors\n",
    "import matplotlib.pyplot as plt\n",
    "from pandas.plotting import parallel_coordinates\n",
    "from sklearn.preprocessing import StandardScaler\n",
    "from sklearn import decomposition\n",
    "import scipy\n",
    "from math import  pi, exp,log, sqrt\n",
    "from scipy.stats import norm\n",
    "from sklearn.manifold import TSNE\n",
    "import seaborn as sn\n",
    "from sklearn.datasets import make_friedman1\n",
    "from sklearn.decomposition import SparsePCA\n",
    "from dask import dataframe as dd\n",
    "from numpy import abs\n",
    "from math import fabs"
   ]
  },
  {
   "cell_type": "code",
   "execution_count": 2,
   "id": "c61440f2",
   "metadata": {},
   "outputs": [
    {
     "data": {
      "text/html": [
       "<div>\n",
       "<style scoped>\n",
       "    .dataframe tbody tr th:only-of-type {\n",
       "        vertical-align: middle;\n",
       "    }\n",
       "\n",
       "    .dataframe tbody tr th {\n",
       "        vertical-align: top;\n",
       "    }\n",
       "\n",
       "    .dataframe thead th {\n",
       "        text-align: right;\n",
       "    }\n",
       "</style>\n",
       "<table border=\"1\" class=\"dataframe\">\n",
       "  <thead>\n",
       "    <tr style=\"text-align: right;\">\n",
       "      <th></th>\n",
       "      <th>bisection</th>\n",
       "      <th>Brent</th>\n",
       "      <th>Newton-Raphson</th>\n",
       "      <th>New-Newton</th>\n",
       "      <th>Muller-Bisection</th>\n",
       "      <th>New-Halley</th>\n",
       "      <th>Halley-Irrational</th>\n",
       "    </tr>\n",
       "  </thead>\n",
       "  <tbody>\n",
       "    <tr>\n",
       "      <th>0</th>\n",
       "      <td>0.031976</td>\n",
       "      <td>0.032722</td>\n",
       "      <td>0.029877</td>\n",
       "      <td>0.029913</td>\n",
       "      <td>0.030416</td>\n",
       "      <td>0.039476</td>\n",
       "      <td>0.039493</td>\n",
       "    </tr>\n",
       "    <tr>\n",
       "      <th>1</th>\n",
       "      <td>41.053819</td>\n",
       "      <td>16.120337</td>\n",
       "      <td>3.642949</td>\n",
       "      <td>9.617389</td>\n",
       "      <td>26.130753</td>\n",
       "      <td>1.609585</td>\n",
       "      <td>3.351705</td>\n",
       "    </tr>\n",
       "    <tr>\n",
       "      <th>2</th>\n",
       "      <td>0.259168</td>\n",
       "      <td>0.340924</td>\n",
       "      <td>0.632422</td>\n",
       "      <td>0.410988</td>\n",
       "      <td>0.294026</td>\n",
       "      <td>1.002952</td>\n",
       "      <td>0.654174</td>\n",
       "    </tr>\n",
       "  </tbody>\n",
       "</table>\n",
       "</div>"
      ],
      "text/plain": [
       "   bisection      Brent  Newton-Raphson  New-Newton  Muller-Bisection  \\\n",
       "0   0.031976   0.032722        0.029877    0.029913          0.030416   \n",
       "1  41.053819  16.120337        3.642949    9.617389         26.130753   \n",
       "2   0.259168   0.340924        0.632422    0.410988          0.294026   \n",
       "\n",
       "   New-Halley  Halley-Irrational  \n",
       "0    0.039476           0.039493  \n",
       "1    1.609585           3.351705  \n",
       "2    1.002952           0.654174  "
      ]
     },
     "execution_count": 2,
     "metadata": {},
     "output_type": "execute_result"
    }
   ],
   "source": [
    "path = 'result.csv'\n",
    "df = pd.read_csv(path)\n",
    "df.head(3)"
   ]
  },
  {
   "cell_type": "code",
   "execution_count": 29,
   "id": "299eb529",
   "metadata": {},
   "outputs": [],
   "source": [
    "mse = np.array( df.iloc[[0]] )[0]\n",
    "it = np.array(  df.iloc[[1]] )[0]\n",
    "n =  np.array(  df.iloc[[2]] )[0]\n",
    "names = np.array( df.columns )"
   ]
  },
  {
   "cell_type": "code",
   "execution_count": 27,
   "id": "45638ec0",
   "metadata": {},
   "outputs": [
    {
     "data": {
      "image/png": "[encoded data removed]",
      "text/plain": [
       "<Figure size 720x432 with 1 Axes>"
      ]
     },
     "metadata": {
      "needs_background": "light"
     },
     "output_type": "display_data"
    }
   ],
   "source": [
    "fig=plt.figure(figsize=(10,6))\n",
    "bar1 = plt.bar(names[0] , mse[0] , color= 'r',width = .2)\n",
    "bar2 = plt.bar(names[1] , mse[1] , color= 'k', width = .2)\n",
    "bar3 = plt.bar(names[2] , mse[2] , color= 'y',width = .2)\n",
    "bar4 = plt.bar(names[3] , mse[3] , color= 'g', width = .2)\n",
    "bar5 = plt.bar(names[4] , mse[4] , color= 'b',width = .2)\n",
    "bar6 = plt.bar(names[5] , mse[5] , color= 'c', width = .2)\n",
    "bar7 = plt.bar(names[6] , mse[6] , color= 'k', width = .2)\n",
    "    \n",
    "plt.legend( (bar1,bar2,bar3,bar4,bar5,bar6,bar7), (names) )\n",
    "plt.ylabel(\"MSE\")\n",
    "plt.show()"
   ]
  },
  {
   "cell_type": "code",
   "execution_count": 30,
   "id": "400c759d",
   "metadata": {},
   "outputs": [
    {
     "data": {
      "image/png": "[encoded data removed]",
      "text/plain": [
       "<Figure size 720x432 with 1 Axes>"
      ]
     },
     "metadata": {
      "needs_background": "light"
     },
     "output_type": "display_data"
    }
   ],
   "source": [
    "mse = it\n",
    "ig=plt.figure(figsize=(10,6))\n",
    "bar1 = plt.bar(names[0] , mse[0] , color= 'r',width = .2)\n",
    "bar2 = plt.bar(names[1] , mse[1] , color= 'k', width = .2)\n",
    "bar3 = plt.bar(names[2] , mse[2] , color= 'y',width = .2)\n",
    "bar4 = plt.bar(names[3] , mse[3] , color= 'g', width = .2)\n",
    "bar5 = plt.bar(names[4] , mse[4] , color= 'b',width = .2)\n",
    "bar6 = plt.bar(names[5] , mse[5] , color= 'c', width = .2)\n",
    "bar7 = plt.bar(names[6] , mse[6] , color= 'k', width = .2)\n",
    "    \n",
    "plt.legend( (bar1,bar2,bar3,bar4,bar5,bar6,bar7), (names) )\n",
    "plt.ylabel(\"Iter\")\n",
    "plt.show()"
   ]
  },
  {
   "cell_type": "code",
   "execution_count": 31,
   "id": "385f6c80",
   "metadata": {},
   "outputs": [
    {
     "data": {
      "image/png": "[encoded data removed]",
      "text/plain": [
       "<Figure size 720x432 with 1 Axes>"
      ]
     },
     "metadata": {
      "needs_background": "light"
     },
     "output_type": "display_data"
    }
   ],
   "source": [
    "mse = n\n",
    "ig=plt.figure(figsize=(10,6))\n",
    "bar1 = plt.bar(names[0] , mse[0] , color= 'r',width = .2)\n",
    "bar2 = plt.bar(names[1] , mse[1] , color= 'k', width = .2)\n",
    "bar3 = plt.bar(names[2] , mse[2] , color= 'y',width = .2)\n",
    "bar4 = plt.bar(names[3] , mse[3] , color= 'g', width = .2)\n",
    "bar5 = plt.bar(names[4] , mse[4] , color= 'b',width = .2)\n",
    "bar6 = plt.bar(names[5] , mse[5] , color= 'c', width = .2)\n",
    "bar7 = plt.bar(names[6] , mse[6] , color= 'k', width = .2)\n",
    "    \n",
    "plt.legend( (bar1,bar2,bar3,bar4,bar5,bar6,bar7), (names) )\n",
    "plt.ylabel(\"Iter\")\n",
    "plt.show()"
   ]
  },
  {
   "cell_type": "code",
   "execution_count": null,
   "id": "44811d62",
   "metadata": {},
   "outputs": [],
   "source": []
  },
  {
   "cell_type": "code",
   "execution_count": null,
   "id": "0fbc984d",
   "metadata": {},
   "outputs": [],
   "source": []
  },
  {
   "cell_type": "code",
   "execution_count": null,
   "id": "4fcf9960",
   "metadata": {},
   "outputs": [],
   "source": []
  },
  {
   "cell_type": "code",
   "execution_count": null,
   "id": "de853833",
   "metadata": {},
   "outputs": [],
   "source": []
  },
  {
   "cell_type": "code",
   "execution_count": null,
   "id": "5d9a4726",
   "metadata": {},
   "outputs": [],
   "source": []
  },
  {
   "cell_type": "code",
   "execution_count": null,
   "id": "14dbc3ca",
   "metadata": {},
   "outputs": [],
   "source": []
  },
  {
   "cell_type": "code",
   "execution_count": null,
   "id": "de3467dd",
   "metadata": {},
   "outputs": [],
   "source": []
  },
  {
   "cell_type": "code",
   "execution_count": null,
   "id": "7de99d7d",
   "metadata": {},
   "outputs": [],
   "source": []
  },
  {
   "cell_type": "code",
   "execution_count": null,
   "id": "005c080a",
   "metadata": {},
   "outputs": [],
   "source": []
  },
  {
   "cell_type": "code",
   "execution_count": null,
   "id": "d56523bb",
   "metadata": {},
   "outputs": [],
   "source": []
  },
  {
   "cell_type": "code",
   "execution_count": null,
   "id": "27951b43",
   "metadata": {},
   "outputs": [],
   "source": []
  },
  {
   "cell_type": "code",
   "execution_count": null,
   "id": "badf930a",
   "metadata": {},
   "outputs": [],
   "source": []
  }
 ],
 "metadata": {
  "kernelspec": {
   "display_name": "Python 3 (ipykernel)",
   "language": "python",
   "name": "python3"
  },
  "language_info": {
   "codemirror_mode": {
    "name": "ipython",
    "version": 3
   },
   "file_extension": ".py",
   "mimetype": "text/x-python",
   "name": "python",
   "nbconvert_exporter": "python",
   "pygments_lexer": "ipython3",
   "version": "3.9.7"
  }
 },
 "nbformat": 4,
 "nbformat_minor": 5
}
