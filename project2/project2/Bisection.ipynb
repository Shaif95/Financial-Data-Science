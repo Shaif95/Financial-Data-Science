{
 "cells": [
  {
   "cell_type": "code",
   "execution_count": 2,
   "id": "409170a6",
   "metadata": {},
   "outputs": [],
   "source": [
    "import numpy as np\n",
    "import matplotlib.pyplot as plt\n",
    "import pandas as pd\n",
    "from sklearn.decomposition import PCA\n",
    "from sklearn import svm\n",
    "import seaborn as sns\n",
    "from matplotlib.colors import ListedColormap\n",
    "from sklearn import neighbors\n",
    "import matplotlib.pyplot as plt\n",
    "from pandas.plotting import parallel_coordinates\n",
    "from sklearn.preprocessing import StandardScaler\n",
    "from sklearn import decomposition\n",
    "import scipy\n",
    "from sklearn.manifold import TSNE\n",
    "from pandas.plotting import parallel_coordinates\n",
    "from sklearn import decomposition\n",
    "import numpy as np\n",
    "import matplotlib.pyplot as plt\n",
    "import pandas as pd\n",
    "from sklearn.decomposition import PCA\n",
    "from sklearn import svm\n",
    "import seaborn as sns\n",
    "from matplotlib.colors import ListedColormap\n",
    "from sklearn import neighbors\n",
    "import matplotlib.pyplot as plt\n",
    "from pandas.plotting import parallel_coordinates\n",
    "from sklearn.preprocessing import StandardScaler\n",
    "from sklearn import decomposition\n",
    "import scipy\n",
    "from math import  pi, exp,log, sqrt\n",
    "from scipy.stats import norm\n",
    "from sklearn.manifold import TSNE\n",
    "import seaborn as sn\n",
    "from sklearn.datasets import make_friedman1\n",
    "from sklearn.decomposition import SparsePCA\n",
    "from dask import dataframe as dd"
   ]
  },
  {
   "cell_type": "code",
   "execution_count": 17,
   "id": "783174ab",
   "metadata": {},
   "outputs": [
    {
     "data": {
      "text/html": [
       "<div>\n",
       "<style scoped>\n",
       "    .dataframe tbody tr th:only-of-type {\n",
       "        vertical-align: middle;\n",
       "    }\n",
       "\n",
       "    .dataframe tbody tr th {\n",
       "        vertical-align: top;\n",
       "    }\n",
       "\n",
       "    .dataframe thead th {\n",
       "        text-align: right;\n",
       "    }\n",
       "</style>\n",
       "<table border=\"1\" class=\"dataframe\">\n",
       "  <thead>\n",
       "    <tr style=\"text-align: right;\">\n",
       "      <th></th>\n",
       "      <th>Unnamed: 0</th>\n",
       "      <th>currentDate</th>\n",
       "      <th>ExpDate</th>\n",
       "      <th>StrikePrice</th>\n",
       "      <th>Ticker</th>\n",
       "      <th>Type</th>\n",
       "      <th>Last</th>\n",
       "      <th>Implied volatility</th>\n",
       "      <th>Underlaying asset price</th>\n",
       "      <th>Expiration time</th>\n",
       "    </tr>\n",
       "  </thead>\n",
       "  <tbody>\n",
       "    <tr>\n",
       "      <th>0</th>\n",
       "      <td>0</td>\n",
       "      <td>2/17/17</td>\n",
       "      <td>7/21/17</td>\n",
       "      <td>34.799999</td>\n",
       "      <td>TBNK</td>\n",
       "      <td>Call</td>\n",
       "      <td>1.06</td>\n",
       "      <td>0.13250</td>\n",
       "      <td>33.549999</td>\n",
       "      <td>0.421629</td>\n",
       "    </tr>\n",
       "    <tr>\n",
       "      <th>1</th>\n",
       "      <td>1</td>\n",
       "      <td>2/17/17</td>\n",
       "      <td>3/17/17</td>\n",
       "      <td>20.000000</td>\n",
       "      <td>ARR</td>\n",
       "      <td>Call</td>\n",
       "      <td>1.70</td>\n",
       "      <td>0.02022</td>\n",
       "      <td>21.709999</td>\n",
       "      <td>0.076660</td>\n",
       "    </tr>\n",
       "    <tr>\n",
       "      <th>2</th>\n",
       "      <td>2</td>\n",
       "      <td>2/17/17</td>\n",
       "      <td>3/17/17</td>\n",
       "      <td>22.500000</td>\n",
       "      <td>ARR</td>\n",
       "      <td>Call</td>\n",
       "      <td>0.08</td>\n",
       "      <td>0.13956</td>\n",
       "      <td>21.709999</td>\n",
       "      <td>0.076660</td>\n",
       "    </tr>\n",
       "  </tbody>\n",
       "</table>\n",
       "</div>"
      ],
      "text/plain": [
       "   Unnamed: 0 currentDate  ExpDate  StrikePrice Ticker  Type  Last  \\\n",
       "0           0     2/17/17  7/21/17    34.799999   TBNK  Call  1.06   \n",
       "1           1     2/17/17  3/17/17    20.000000    ARR  Call  1.70   \n",
       "2           2     2/17/17  3/17/17    22.500000    ARR  Call  0.08   \n",
       "\n",
       "   Implied volatility  Underlaying asset price  Expiration time  \n",
       "0             0.13250                33.549999         0.421629  \n",
       "1             0.02022                21.709999         0.076660  \n",
       "2             0.13956                21.709999         0.076660  "
      ]
     },
     "execution_count": 17,
     "metadata": {},
     "output_type": "execute_result"
    }
   ],
   "source": [
    "OP_df = pd.read_csv('Option2017_2_clean.csv')\n",
    "OP_df = OP_df.dropna()\n",
    "OP_df.head(3)"
   ]
  },
  {
   "cell_type": "code",
   "execution_count": 4,
   "id": "26268467",
   "metadata": {},
   "outputs": [],
   "source": [
    "def d1(S,K,T,r,sigma):\n",
    "    \n",
    "    x = ( log (S/K) + ( ( r + ((sigma**2)/2) )* T  )  ) / ( sigma * ( sqrt ( T ) ) )\n",
    "    return x \n",
    "\n",
    "def d2(S,K,T,r,sigma):\n",
    "    \n",
    "    x = ( log (S/K) + ( ( r - ((sigma**2)/2) )* T  )  ) / ( sigma * ( sqrt ( T ) ) )\n",
    "    return x"
   ]
  },
  {
   "cell_type": "code",
   "execution_count": null,
   "id": "eec2afd9",
   "metadata": {},
   "outputs": [],
   "source": []
  },
  {
   "cell_type": "code",
   "execution_count": 5,
   "id": "dade3e09",
   "metadata": {},
   "outputs": [],
   "source": [
    "def call(S,K,T,r,sigma):\n",
    "\n",
    "    return S  * norm.cdf( d1(S,K,T,r,sigma) ) - K * (exp(- (r*T) ) ) * norm.cdf( d2(S,K,T,r,sigma) )\n",
    "\n",
    "def put(S,K,T,r,sigma):\n",
    "\n",
    "    return   -norm.cdf(- d1(S,K,T,r,sigma)) * S + norm.cdf(-d2(S,K,T,r,sigma)) * K * np.exp(-r * T)"
   ]
  },
  {
   "cell_type": "code",
   "execution_count": 15,
   "id": "854150ee",
   "metadata": {},
   "outputs": [],
   "source": [
    "def vol(type, last, S, K, r, T):\n",
    "\n",
    "    p = 0.000000000001\n",
    "    b = 5\n",
    "    a = .0001\n",
    "    max = 5\n",
    "    min = .0001\n",
    "    iter = 0    \n",
    "\n",
    "    while (True):\n",
    "        iter +=1 \n",
    "        mid = (b + a)/2.0\n",
    "        \n",
    "        if type == 'c':\n",
    "\n",
    "            price = call(S,K,T,r,mid)\n",
    "            lower = call(S,K,T,r,a)\n",
    "            if (lower - last ) * (price - last ) > 0:\n",
    "                a = mid\n",
    "            else:\n",
    "                b = mid\n",
    "\n",
    "            if abs(price - last ) < p: break\n",
    "\n",
    "            if mid > max - 2 :\n",
    "                mid = 0.31;break\n",
    "\n",
    "        elif type == 'p':\n",
    "\n",
    "            price = put(S,K,T,r,mid)\n",
    "            upper = put(S,K,T,r,b)\n",
    "            if (upper - last ) * (price - last ) > 0:\n",
    "                b = mid\n",
    "\n",
    "            else:\n",
    "                a = mid        \n",
    "\n",
    "            if abs(price - last ) < p: break \n",
    "            if iter > 100: break\n",
    "                \n",
    "    return mid,iter"
   ]
  },
  {
   "cell_type": "code",
   "execution_count": 7,
   "id": "cc79832a",
   "metadata": {},
   "outputs": [
    {
     "name": "stdout",
     "output_type": "stream",
     "text": [
      "Implied Volatility 0.1057098650632825\n",
      "Iteration 43\n"
     ]
    }
   ],
   "source": [
    "m,it = (vol('c', 0.30 , 21.709999 , 22.000000 , 0.03, 0.172485 )) \n",
    "print(\"Implied Volatility\",m)\n",
    "print(\"Iteration\",it)"
   ]
  },
  {
   "cell_type": "code",
   "execution_count": 18,
   "id": "9cb0c036",
   "metadata": {},
   "outputs": [
    {
     "data": {
      "text/html": [
       "<div>\n",
       "<style scoped>\n",
       "    .dataframe tbody tr th:only-of-type {\n",
       "        vertical-align: middle;\n",
       "    }\n",
       "\n",
       "    .dataframe tbody tr th {\n",
       "        vertical-align: top;\n",
       "    }\n",
       "\n",
       "    .dataframe thead th {\n",
       "        text-align: right;\n",
       "    }\n",
       "</style>\n",
       "<table border=\"1\" class=\"dataframe\">\n",
       "  <thead>\n",
       "    <tr style=\"text-align: right;\">\n",
       "      <th></th>\n",
       "      <th>Unnamed: 0</th>\n",
       "      <th>currentDate</th>\n",
       "      <th>ExpDate</th>\n",
       "      <th>StrikePrice</th>\n",
       "      <th>Ticker</th>\n",
       "      <th>Type</th>\n",
       "      <th>Last</th>\n",
       "      <th>Implied volatility</th>\n",
       "      <th>Underlaying asset price</th>\n",
       "      <th>Expiration time</th>\n",
       "    </tr>\n",
       "  </thead>\n",
       "  <tbody>\n",
       "    <tr>\n",
       "      <th>0</th>\n",
       "      <td>0</td>\n",
       "      <td>2/17/17</td>\n",
       "      <td>7/21/17</td>\n",
       "      <td>34.799999</td>\n",
       "      <td>TBNK</td>\n",
       "      <td>Call</td>\n",
       "      <td>1.06</td>\n",
       "      <td>0.13250</td>\n",
       "      <td>33.549999</td>\n",
       "      <td>0.421629</td>\n",
       "    </tr>\n",
       "    <tr>\n",
       "      <th>1</th>\n",
       "      <td>1</td>\n",
       "      <td>2/17/17</td>\n",
       "      <td>3/17/17</td>\n",
       "      <td>20.000000</td>\n",
       "      <td>ARR</td>\n",
       "      <td>Call</td>\n",
       "      <td>1.70</td>\n",
       "      <td>0.02022</td>\n",
       "      <td>21.709999</td>\n",
       "      <td>0.076660</td>\n",
       "    </tr>\n",
       "    <tr>\n",
       "      <th>2</th>\n",
       "      <td>2</td>\n",
       "      <td>2/17/17</td>\n",
       "      <td>3/17/17</td>\n",
       "      <td>22.500000</td>\n",
       "      <td>ARR</td>\n",
       "      <td>Call</td>\n",
       "      <td>0.08</td>\n",
       "      <td>0.13956</td>\n",
       "      <td>21.709999</td>\n",
       "      <td>0.076660</td>\n",
       "    </tr>\n",
       "  </tbody>\n",
       "</table>\n",
       "</div>"
      ],
      "text/plain": [
       "   Unnamed: 0 currentDate  ExpDate  StrikePrice Ticker  Type  Last  \\\n",
       "0           0     2/17/17  7/21/17    34.799999   TBNK  Call  1.06   \n",
       "1           1     2/17/17  3/17/17    20.000000    ARR  Call  1.70   \n",
       "2           2     2/17/17  3/17/17    22.500000    ARR  Call  0.08   \n",
       "\n",
       "   Implied volatility  Underlaying asset price  Expiration time  \n",
       "0             0.13250                33.549999         0.421629  \n",
       "1             0.02022                21.709999         0.076660  \n",
       "2             0.13956                21.709999         0.076660  "
      ]
     },
     "execution_count": 18,
     "metadata": {},
     "output_type": "execute_result"
    }
   ],
   "source": [
    "S = np.array( OP_df[\"Underlaying asset price\"]).astype(\"float\")\n",
    "K = np.array( OP_df[\"StrikePrice\"]).astype(\"float\")\n",
    "r = .03\n",
    "T = np.array( OP_df[\"Expiration time\"]).astype(\"float\")\n",
    "Op = np.array( OP_df[\"Last\"]).astype(\"float\")\n",
    "Type = np.array( OP_df[\"Type\"]).astype(\"str\")\n",
    "OP_df.head(3)"
   ]
  },
  {
   "cell_type": "code",
   "execution_count": 19,
   "id": "73de242c",
   "metadata": {},
   "outputs": [],
   "source": [
    "imp = []\n",
    "iter = []\n",
    "for i in range( 0, len(OP_df) ):\n",
    "    if(Type[i] == \"Call\"):\n",
    "        \n",
    "        m,it = (vol('c', Op[i] , S[i] , K[i] , r , T[i] )) \n",
    "        imp.append(m)\n",
    "        iter.append(it)\n",
    "    else:\n",
    "        m,it = (vol('p', Op[i] , S[i] , K[i] , r , T[i] )) \n",
    "        imp.append(m)\n",
    "        iter.append(it)"
   ]
  },
  {
   "cell_type": "code",
   "execution_count": 20,
   "id": "662b4806",
   "metadata": {},
   "outputs": [
    {
     "data": {
      "text/html": [
       "<div>\n",
       "<style scoped>\n",
       "    .dataframe tbody tr th:only-of-type {\n",
       "        vertical-align: middle;\n",
       "    }\n",
       "\n",
       "    .dataframe tbody tr th {\n",
       "        vertical-align: top;\n",
       "    }\n",
       "\n",
       "    .dataframe thead th {\n",
       "        text-align: right;\n",
       "    }\n",
       "</style>\n",
       "<table border=\"1\" class=\"dataframe\">\n",
       "  <thead>\n",
       "    <tr style=\"text-align: right;\">\n",
       "      <th></th>\n",
       "      <th>Unnamed: 0</th>\n",
       "      <th>currentDate</th>\n",
       "      <th>ExpDate</th>\n",
       "      <th>StrikePrice</th>\n",
       "      <th>Ticker</th>\n",
       "      <th>Type</th>\n",
       "      <th>Last</th>\n",
       "      <th>Implied volatility</th>\n",
       "      <th>Underlaying asset price</th>\n",
       "      <th>Expiration time</th>\n",
       "      <th>imp</th>\n",
       "      <th>iter</th>\n",
       "    </tr>\n",
       "  </thead>\n",
       "  <tbody>\n",
       "    <tr>\n",
       "      <th>0</th>\n",
       "      <td>0</td>\n",
       "      <td>2/17/17</td>\n",
       "      <td>7/21/17</td>\n",
       "      <td>34.799999</td>\n",
       "      <td>TBNK</td>\n",
       "      <td>Call</td>\n",
       "      <td>1.06</td>\n",
       "      <td>0.13250</td>\n",
       "      <td>33.549999</td>\n",
       "      <td>0.421629</td>\n",
       "      <td>0.162619</td>\n",
       "      <td>44</td>\n",
       "    </tr>\n",
       "    <tr>\n",
       "      <th>1</th>\n",
       "      <td>1</td>\n",
       "      <td>2/17/17</td>\n",
       "      <td>3/17/17</td>\n",
       "      <td>20.000000</td>\n",
       "      <td>ARR</td>\n",
       "      <td>Call</td>\n",
       "      <td>1.70</td>\n",
       "      <td>0.02022</td>\n",
       "      <td>21.709999</td>\n",
       "      <td>0.076660</td>\n",
       "      <td>0.310000</td>\n",
       "      <td>2</td>\n",
       "    </tr>\n",
       "    <tr>\n",
       "      <th>2</th>\n",
       "      <td>2</td>\n",
       "      <td>2/17/17</td>\n",
       "      <td>3/17/17</td>\n",
       "      <td>22.500000</td>\n",
       "      <td>ARR</td>\n",
       "      <td>Call</td>\n",
       "      <td>0.08</td>\n",
       "      <td>0.13956</td>\n",
       "      <td>21.709999</td>\n",
       "      <td>0.076660</td>\n",
       "      <td>0.132739</td>\n",
       "      <td>42</td>\n",
       "    </tr>\n",
       "  </tbody>\n",
       "</table>\n",
       "</div>"
      ],
      "text/plain": [
       "   Unnamed: 0 currentDate  ExpDate  StrikePrice Ticker  Type  Last  \\\n",
       "0           0     2/17/17  7/21/17    34.799999   TBNK  Call  1.06   \n",
       "1           1     2/17/17  3/17/17    20.000000    ARR  Call  1.70   \n",
       "2           2     2/17/17  3/17/17    22.500000    ARR  Call  0.08   \n",
       "\n",
       "   Implied volatility  Underlaying asset price  Expiration time       imp  \\\n",
       "0             0.13250                33.549999         0.421629  0.162619   \n",
       "1             0.02022                21.709999         0.076660  0.310000   \n",
       "2             0.13956                21.709999         0.076660  0.132739   \n",
       "\n",
       "   iter  \n",
       "0    44  \n",
       "1     2  \n",
       "2    42  "
      ]
     },
     "execution_count": 20,
     "metadata": {},
     "output_type": "execute_result"
    }
   ],
   "source": [
    "OP_df['imp'] = pd.Series(imp)\n",
    "OP_df['iter'] = pd.Series(iter)\n",
    "OP_df.head(3)"
   ]
  },
  {
   "cell_type": "code",
   "execution_count": 21,
   "id": "82362dc1",
   "metadata": {},
   "outputs": [],
   "source": [
    "OP_df[\"diff\"] = OP_df['Implied volatility'] - OP_df['imp']\n",
    "OP_df['mse'] = OP_df['diff']**2\n",
    "mse = OP_df['mse'].sum()/len(OP_df)\n",
    "iteration = OP_df['iter'].sum()/len(OP_df)"
   ]
  },
  {
   "cell_type": "code",
   "execution_count": 12,
   "id": "7b6e35f6",
   "metadata": {},
   "outputs": [
    {
     "data": {
      "text/plain": [
       "0.03197587598654511"
      ]
     },
     "execution_count": 12,
     "metadata": {},
     "output_type": "execute_result"
    }
   ],
   "source": [
    "mse"
   ]
  },
  {
   "cell_type": "code",
   "execution_count": 13,
   "id": "75c106de",
   "metadata": {},
   "outputs": [
    {
     "data": {
      "text/plain": [
       "47.56330087134803"
      ]
     },
     "execution_count": 13,
     "metadata": {},
     "output_type": "execute_result"
    }
   ],
   "source": [
    "iteration"
   ]
  },
  {
   "cell_type": "code",
   "execution_count": 22,
   "id": "0b3e4650",
   "metadata": {},
   "outputs": [
    {
     "name": "stdout",
     "output_type": "stream",
     "text": [
      "MSE : 0.03197587598654511\n",
      "Average Iteration :  41.053818554587394\n",
      "Average Efficiency 0.2591676406307764\n"
     ]
    }
   ],
   "source": [
    "n = 1 / ( ( 1 + mse ) * log( 1 + iteration ) )\n",
    "print(\"MSE :\",mse)\n",
    "print(\"Average Iteration : \",iteration)\n",
    "print(\"Average Efficiency\",n)"
   ]
  },
  {
   "cell_type": "code",
   "execution_count": 23,
   "id": "acc1ba6b",
   "metadata": {},
   "outputs": [],
   "source": [
    "list = []\n",
    "list.append(mse)\n",
    "list.append(iteration)\n",
    "list.append(n)"
   ]
  },
  {
   "cell_type": "code",
   "execution_count": 24,
   "id": "fb98e2d9",
   "metadata": {},
   "outputs": [
    {
     "data": {
      "text/html": [
       "<div>\n",
       "<style scoped>\n",
       "    .dataframe tbody tr th:only-of-type {\n",
       "        vertical-align: middle;\n",
       "    }\n",
       "\n",
       "    .dataframe tbody tr th {\n",
       "        vertical-align: top;\n",
       "    }\n",
       "\n",
       "    .dataframe thead th {\n",
       "        text-align: right;\n",
       "    }\n",
       "</style>\n",
       "<table border=\"1\" class=\"dataframe\">\n",
       "  <thead>\n",
       "    <tr style=\"text-align: right;\">\n",
       "      <th></th>\n",
       "      <th>bisection</th>\n",
       "      <th>Brent</th>\n",
       "      <th>Newton-Raphson</th>\n",
       "      <th>New-Newton</th>\n",
       "      <th>Muller-Bisection</th>\n",
       "      <th>New-Halley</th>\n",
       "      <th>Halley-Irrational</th>\n",
       "    </tr>\n",
       "  </thead>\n",
       "  <tbody>\n",
       "    <tr>\n",
       "      <th>0</th>\n",
       "      <td>0.031976</td>\n",
       "      <td>0.029913</td>\n",
       "      <td>0.029913</td>\n",
       "      <td>0.029913</td>\n",
       "      <td>0.030416</td>\n",
       "      <td>0.025485</td>\n",
       "      <td>0.039493</td>\n",
       "    </tr>\n",
       "    <tr>\n",
       "      <th>1</th>\n",
       "      <td>41.053819</td>\n",
       "      <td>9.502734</td>\n",
       "      <td>3.640737</td>\n",
       "      <td>9.617389</td>\n",
       "      <td>26.130753</td>\n",
       "      <td>6.207127</td>\n",
       "      <td>4.181198</td>\n",
       "    </tr>\n",
       "    <tr>\n",
       "      <th>2</th>\n",
       "      <td>0.259168</td>\n",
       "      <td>0.412885</td>\n",
       "      <td>0.632597</td>\n",
       "      <td>0.410988</td>\n",
       "      <td>0.294026</td>\n",
       "      <td>0.493729</td>\n",
       "      <td>0.584794</td>\n",
       "    </tr>\n",
       "  </tbody>\n",
       "</table>\n",
       "</div>"
      ],
      "text/plain": [
       "   bisection     Brent  Newton-Raphson  New-Newton  Muller-Bisection  \\\n",
       "0   0.031976  0.029913        0.029913    0.029913          0.030416   \n",
       "1  41.053819  9.502734        3.640737    9.617389         26.130753   \n",
       "2   0.259168  0.412885        0.632597    0.410988          0.294026   \n",
       "\n",
       "   New-Halley  Halley-Irrational  \n",
       "0    0.025485           0.039493  \n",
       "1    6.207127           4.181198  \n",
       "2    0.493729           0.584794  "
      ]
     },
     "execution_count": 24,
     "metadata": {},
     "output_type": "execute_result"
    }
   ],
   "source": [
    "df = pd.read_csv('result.csv')\n",
    "df[\"bisection\"] = list\n",
    "df.head(3)"
   ]
  },
  {
   "cell_type": "code",
   "execution_count": 25,
   "id": "69924f66",
   "metadata": {},
   "outputs": [],
   "source": [
    "df.to_csv('result.csv', index=False)"
   ]
  },
  {
   "cell_type": "code",
   "execution_count": null,
   "id": "5716ccec",
   "metadata": {},
   "outputs": [],
   "source": []
  }
 ],
 "metadata": {
  "kernelspec": {
   "display_name": "Python 3 (ipykernel)",
   "language": "python",
   "name": "python3"
  },
  "language_info": {
   "codemirror_mode": {
    "name": "ipython",
    "version": 3
   },
   "file_extension": ".py",
   "mimetype": "text/x-python",
   "name": "python",
   "nbconvert_exporter": "python",
   "pygments_lexer": "ipython3",
   "version": "3.9.7"
  }
 },
 "nbformat": 4,
 "nbformat_minor": 5
}
